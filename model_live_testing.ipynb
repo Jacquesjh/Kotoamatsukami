{
 "cells": [
  {
   "cell_type": "code",
   "execution_count": 6,
   "metadata": {},
   "outputs": [],
   "source": [
    "import pickle\n",
    "\n",
    "import cv2\n",
    "import numpy as np\n",
    "\n",
    "from kotoamatsukami.src.services.hand_detector.service import HandDetector"
   ]
  },
  {
   "cell_type": "markdown",
   "metadata": {},
   "source": [
    "# Loading the model"
   ]
  },
  {
   "cell_type": "code",
   "execution_count": 13,
   "metadata": {},
   "outputs": [],
   "source": [
    "with open(\"models/logisticregression_model\", \"rb\") as f:\n",
    "    model = pickle.load(f)"
   ]
  },
  {
   "cell_type": "markdown",
   "metadata": {},
   "source": [
    "# Labels"
   ]
  },
  {
   "cell_type": "code",
   "execution_count": 14,
   "metadata": {},
   "outputs": [],
   "source": [
    "labels = {\n",
    "    0: \"click\",\n",
    "    1: \"closed\",\n",
    "    2: \"down\",\n",
    "    3: \"mouse_tracking\",\n",
    "    4: \"negative_closed\",\n",
    "    5: \"negative_mouse_tracking\",\n",
    "    6: \"negative_side\",\n",
    "    7: \"negative_up\",\n",
    "    8: \"side\",\n",
    "    9: \"up\"\n",
    "}"
   ]
  },
  {
   "cell_type": "markdown",
   "metadata": {},
   "source": [
    "# Normalizing landmakrs"
   ]
  },
  {
   "cell_type": "code",
   "execution_count": 15,
   "metadata": {},
   "outputs": [],
   "source": [
    "def normalize(z: float, max: float, min: float) -> float:\n",
    "    norm = (z - min)/(max - min)\n",
    "    round_norm = round(norm, 3)\n",
    "    \n",
    "    return round_norm\n",
    "\n",
    "\n",
    "def normalize_landmark(landmark: list) -> list:\n",
    "    xs = [landmark[i][0] for i in range(len(landmark))]\n",
    "    ys = [landmark[i][1] for i in range(len(landmark))]\n",
    "\n",
    "    xmax = max(xs)\n",
    "    ymax = max(ys)\n",
    "    xmin = min(xs)\n",
    "    ymin = min(ys)\n",
    "\n",
    "    norm_landmark = list()\n",
    "\n",
    "    for x, y in zip(xs, ys):\n",
    "        norm = [normalize(z=x, max=xmax, min=xmin), normalize(z=y, max=ymax, min=ymin)]\n",
    "\n",
    "        norm_landmark.append(norm)\n",
    "\n",
    "    return norm_landmark"
   ]
  },
  {
   "cell_type": "markdown",
   "metadata": {},
   "source": [
    "# Testing live cam"
   ]
  },
  {
   "cell_type": "code",
   "execution_count": 16,
   "metadata": {},
   "outputs": [],
   "source": [
    "stream   = cv2.VideoCapture(0)\n",
    "detector = HandDetector(max_hands = 1, detection_con = 0.8)\n",
    "\n",
    "i = 0\n",
    "\n",
    "while True:\n",
    "\n",
    "    _grabbed, frame = stream.read()\n",
    "\n",
    "    if cv2.waitKey(1) == ord(\"x\"):\n",
    "        break\n",
    "\n",
    "    hands, image = detector.find_hands(frame)\n",
    "\n",
    "    if len(hands) != 0:\n",
    "        for hand in hands:\n",
    "            landmark = hand[\"landmarks\"]\n",
    "\n",
    "            norm_landmark = normalize_landmark(landmark=landmark)\n",
    "            \n",
    "            prediction = model.predict_proba(np.array(norm_landmark).reshape(1, 42))\n",
    "            i += 1\n",
    "\n",
    "            if prediction.max() > 0.99:\n",
    "                print(f\"Catch the {labels.get(prediction.argmax())} gesture - {i}\")\n",
    "\n",
    "    cv2.imshow(\"Video\", image)\n",
    "\n",
    "stream.release()\n",
    "cv2.destroyAllWindows()"
   ]
  },
  {
   "cell_type": "code",
   "execution_count": 18,
   "metadata": {},
   "outputs": [
    {
     "data": {
      "text/plain": [
       "array([1])"
      ]
     },
     "execution_count": 18,
     "metadata": {},
     "output_type": "execute_result"
    }
   ],
   "source": [
    "model.predict(np.array(norm_landmark).reshape(1, 42))"
   ]
  },
  {
   "cell_type": "code",
   "execution_count": 20,
   "metadata": {},
   "outputs": [
    {
     "name": "stdout",
     "output_type": "stream",
     "text": [
      "Catch the closed gesture - 484\n"
     ]
    }
   ],
   "source": [
    "print(f\"Catch the {labels.get(1)} gesture - {i}\")"
   ]
  }
 ],
 "metadata": {
  "kernelspec": {
   "display_name": "Python 3.8.8 ('kotoamatsukami-Hq7iVI3N-py3.8')",
   "language": "python",
   "name": "python3"
  },
  "language_info": {
   "codemirror_mode": {
    "name": "ipython",
    "version": 3
   },
   "file_extension": ".py",
   "mimetype": "text/x-python",
   "name": "python",
   "nbconvert_exporter": "python",
   "pygments_lexer": "ipython3",
   "version": "3.8.8"
  },
  "orig_nbformat": 4,
  "vscode": {
   "interpreter": {
    "hash": "36e694ef7c3cc3ea9fcbe33622def963131e2f8f250b2d91c3914ff84d9031bf"
   }
  }
 },
 "nbformat": 4,
 "nbformat_minor": 2
}

{
 "cells": [
  {
   "cell_type": "markdown",
   "metadata": {},
   "source": [
    "# Importing Libs"
   ]
  },
  {
   "cell_type": "code",
   "execution_count": 1,
   "metadata": {},
   "outputs": [],
   "source": [
    "from IPython.display import clear_output\n",
    "import pickle\n",
    "import random\n",
    "\n",
    "import cv2\n",
    "\n",
    "from kotoamatsukami import HandDetector"
   ]
  },
  {
   "cell_type": "markdown",
   "metadata": {},
   "source": [
    "# Set the Subject and Distance!"
   ]
  },
  {
   "cell_type": "code",
   "execution_count": 2,
   "metadata": {},
   "outputs": [],
   "source": [
    "subject_name = \"teste\"\n",
    "\n",
    "distance = \"50cm\""
   ]
  },
  {
   "cell_type": "markdown",
   "metadata": {},
   "source": [
    "# Gestures Info Handling"
   ]
  },
  {
   "cell_type": "code",
   "execution_count": 4,
   "metadata": {},
   "outputs": [],
   "source": [
    "gestures_names = {\n",
    "\n",
    "    0: \"click\",\n",
    "    1: \"closed\",\n",
    "    2: \"down\",\n",
    "    3: \"mouse_tracking\",\n",
    "    4: \"negative_closed\",\n",
    "    5: \"negative_mouse_tracking\",\n",
    "    6: \"negative_side\",\n",
    "    7: \"negative_up\",\n",
    "    8: \"side\",\n",
    "    9: \"up\"\n",
    "\n",
    "}\n",
    "\n",
    "# gestures_features = {\n",
    "\n",
    "#     0: [],\n",
    "#     1: [],\n",
    "#     2: [],\n",
    "#     3: [],\n",
    "#     4: [],\n",
    "#     5: [],\n",
    "#     6: [],\n",
    "#     7: [],\n",
    "#     8: [],\n",
    "#     9: [],\n",
    "\n",
    "# }"
   ]
  },
  {
   "cell_type": "markdown",
   "metadata": {},
   "source": [
    "# Aux functions"
   ]
  },
  {
   "cell_type": "code",
   "execution_count": 5,
   "metadata": {},
   "outputs": [],
   "source": [
    "def get_gestures_features(subject: str, distance: str, gest_names: dict) -> dict:\n",
    "    gestures_features = dict()\n",
    "\n",
    "    for gesture_id, name in gest_names.items():\n",
    "        try:\n",
    "            with open(f\"data/randomized/{subject}/{distance}/{name}\", \"rb\") as file:\n",
    "                features = pickle.load(file)\n",
    "        \n",
    "        except:\n",
    "            features = []\n",
    "    \n",
    "        gestures_features[gesture_id] = features\n",
    "    \n",
    "    return gestures_features"
   ]
  },
  {
   "cell_type": "code",
   "execution_count": 6,
   "metadata": {},
   "outputs": [],
   "source": [
    "def collection_done(gest_dict: dict, num_features: int) -> bool:\n",
    "    gest_features = list(gest_dict.values())\n",
    "\n",
    "    if all(len(l) == num_features for l in gest_features):\n",
    "        return True\n",
    "\n",
    "    else:\n",
    "        return False"
   ]
  },
  {
   "cell_type": "code",
   "execution_count": 7,
   "metadata": {},
   "outputs": [],
   "source": [
    "def get_random_gesture(gest_dict: dict, num_features: int) -> int:\n",
    "    possible_gestures = []\n",
    "\n",
    "    for gesture_id, gest_features in gest_dict.items():\n",
    "        if len(gest_features) < num_features:\n",
    "            possible_gestures.append(gesture_id)\n",
    "    \n",
    "    if possible_gestures == []:\n",
    "        return None\n",
    "\n",
    "    random_gesture = random.choice(possible_gestures)\n",
    "\n",
    "    return random_gesture"
   ]
  },
  {
   "cell_type": "code",
   "execution_count": 8,
   "metadata": {},
   "outputs": [],
   "source": [
    "def print_percentage_done(gest_features: dict, num_features_per_gesture: int) -> None:\n",
    "    clear_output(wait = True)\n",
    "\n",
    "    total = len(gest_features.keys())*num_features_per_gesture\n",
    "\n",
    "    done = sum([len(value) for value in gest_features.values()])\n",
    "\n",
    "    percentage = round(done/total*100, 2)\n",
    "    \n",
    "    print(f\"-------------   {percentage}%   -------------\", flush = True)"
   ]
  },
  {
   "cell_type": "code",
   "execution_count": 9,
   "metadata": {},
   "outputs": [],
   "source": [
    "def save_features(subject: str, distance: str, gest_dict: dict, gest_names: dict) -> None:\n",
    "    for gesture_id, features in gest_dict.items():\n",
    "        gesture_name = gest_names.get(gesture_id)\n",
    "\n",
    "        with open(f\"data/randomized/{subject}/{distance}/{gesture_name}\", \"wb\") as file:\n",
    "            pickle.dump(features, file)"
   ]
  },
  {
   "cell_type": "markdown",
   "metadata": {},
   "source": [
    "# Main"
   ]
  },
  {
   "cell_type": "code",
   "execution_count": 10,
   "metadata": {},
   "outputs": [],
   "source": [
    "gestures_features = get_gestures_features(subject = subject_name, distance = distance, gest_names = gestures_names)\n",
    "\n",
    "num_frames_per_gesture = 50"
   ]
  },
  {
   "cell_type": "code",
   "execution_count": 12,
   "metadata": {},
   "outputs": [
    {
     "name": "stdout",
     "output_type": "stream",
     "text": [
      "-------------   12.2%   -------------\n"
     ]
    }
   ],
   "source": [
    "stream   = cv2.VideoCapture(0)\n",
    "detector = HandDetector(max_hands = 1, detection_con = 0.95)\n",
    "\n",
    "HARD_STOP = False\n",
    "\n",
    "while not collection_done(gest_dict = gestures_features, num_features = num_frames_per_gesture):\n",
    "    print_percentage_done(gest_features = gestures_features, num_features_per_gesture = num_frames_per_gesture)\n",
    "\n",
    "    if HARD_STOP:\n",
    "        break\n",
    "\n",
    "    gesture = get_random_gesture(gest_dict = gestures_features, num_features = num_frames_per_gesture)\n",
    "\n",
    "    gesture_name  = gestures_names.get(gesture)\n",
    "    gesture_image = cv2.imread(f\"gestures/{gesture_name}.png\", 0)\n",
    "    \n",
    "    while True:\n",
    "        if cv2.waitKey(1) == ord(\"x\"):\n",
    "            break\n",
    "\n",
    "        if cv2.waitKey(1) == ord(\"t\"):\n",
    "            HARD_STOP = True\n",
    "            break\n",
    "        \n",
    "        _grabbed, raw_frame = stream.read()\n",
    "\n",
    "        hands, image = detector.find_hands(image = raw_frame)\n",
    "\n",
    "        if len(hands) != 0:\n",
    "            features = hands[0][\"landmarks\"]\n",
    "\n",
    "        cv2.imshow(\"Video\", image)\n",
    "        cv2.imshow(\"Gesture\", gesture_image)\n",
    "\n",
    "    gestures_features[gesture].append(features)\n",
    "\n",
    "save_features(subject = subject_name, distance = distance, gest_dict = gestures_features, gest_names = gestures_names)\n",
    "\n",
    "stream.release()\n",
    "cv2.destroyAllWindows()\n",
    "    "
   ]
  }
 ],
 "metadata": {
  "kernelspec": {
   "display_name": "Python 3.8.8 ('kotoamatsukami-Hq7iVI3N-py3.8')",
   "language": "python",
   "name": "python3"
  },
  "language_info": {
   "codemirror_mode": {
    "name": "ipython",
    "version": 3
   },
   "file_extension": ".py",
   "mimetype": "text/x-python",
   "name": "python",
   "nbconvert_exporter": "python",
   "pygments_lexer": "ipython3",
   "version": "3.8.8"
  },
  "orig_nbformat": 4,
  "vscode": {
   "interpreter": {
    "hash": "36e694ef7c3cc3ea9fcbe33622def963131e2f8f250b2d91c3914ff84d9031bf"
   }
  }
 },
 "nbformat": 4,
 "nbformat_minor": 2
}

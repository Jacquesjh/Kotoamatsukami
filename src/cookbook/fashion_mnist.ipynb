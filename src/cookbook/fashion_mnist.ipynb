{
 "cells": [
  {
   "cell_type": "code",
   "execution_count": 13,
   "metadata": {},
   "outputs": [],
   "source": [
    "from tensorflow.keras.models import Sequential, Model\n",
    "from tensorflow.keras.layers import Conv2D, Dense, Flatten, MaxPooling2D, Input\n",
    "from tensorflow.math import confusion_matrix\n",
    "from tensorflow.keras.datasets import fashion_mnist\n",
    "from tensorflow.math import confusion_matrix\n",
    "from tensorflow.keras import layers\n",
    "from tensorflow.data import Dataset\n",
    "from tensorflow.keras.backend import clear_session\n",
    "from tensorflow.data import AUTOTUNE\n",
    "from tensorflow.keras.utils import image_dataset_from_directory\n",
    "\n",
    "import numpy as np\n",
    "import plotly.express as px"
   ]
  },
  {
   "cell_type": "markdown",
   "metadata": {},
   "source": [
    "## Modeling the System"
   ]
  },
  {
   "cell_type": "markdown",
   "metadata": {},
   "source": [
    "### Data Processing"
   ]
  },
  {
   "cell_type": "code",
   "execution_count": 14,
   "metadata": {},
   "outputs": [],
   "source": [
    "def rescale() -> Sequential:\n",
    "\n",
    "    rescale_layer = Sequential(layers.Rescaling(1./255))\n",
    "\n",
    "    return rescale_layer"
   ]
  },
  {
   "cell_type": "markdown",
   "metadata": {},
   "source": [
    "### Data Augmentation"
   ]
  },
  {
   "cell_type": "code",
   "execution_count": 15,
   "metadata": {},
   "outputs": [],
   "source": [
    "def data_aug() -> Sequential:\n",
    "\n",
    "    data_augmentation = Sequential(layers.RandomFlip(\"horizontal\"))\n",
    "\n",
    "    return data_augmentation"
   ]
  },
  {
   "cell_type": "markdown",
   "metadata": {},
   "source": [
    "### Model Architecture"
   ]
  },
  {
   "cell_type": "code",
   "execution_count": 29,
   "metadata": {},
   "outputs": [],
   "source": [
    "def architecture() -> Sequential:\n",
    "\n",
    "    num_classes = 10\n",
    "\n",
    "    model = Sequential()\n",
    "\n",
    "    model.add(Conv2D(32, kernel_size = (3, 3), activation = \"relu\"))\n",
    "    model.add(MaxPooling2D(pool_size = (2, 2)))\n",
    "    model.add(Conv2D(32, kernel_size = (3, 3), activation = \"relu\"))\n",
    "    model.add(MaxPooling2D(pool_size = (2, 2)))\n",
    "    model.add(Flatten())\n",
    "    model.add(Dense(128, activation = \"relu\"))\n",
    "    model.add(Dense(128, activation = \"relu\"))\n",
    "    model.add(Dense(128, activation = \"relu\"))\n",
    "    model.add(Dense(num_classes, activation = \"softmax\"))\n",
    "\n",
    "    return model"
   ]
  },
  {
   "cell_type": "markdown",
   "metadata": {},
   "source": [
    "### Unifying the Model"
   ]
  },
  {
   "cell_type": "code",
   "execution_count": 37,
   "metadata": {},
   "outputs": [
    {
     "name": "stdout",
     "output_type": "stream",
     "text": [
      "Model: \"model\"\n",
      "_________________________________________________________________\n",
      " Layer (type)                Output Shape              Param #   \n",
      "=================================================================\n",
      " input_1 (InputLayer)        [(None, 28, 28, 1)]       0         \n",
      "                                                                 \n",
      " sequential_1 (Sequential)   (None, 10)                146410    \n",
      "                                                                 \n",
      "=================================================================\n",
      "Total params: 146,410\n",
      "Trainable params: 146,410\n",
      "Non-trainable params: 0\n",
      "_________________________________________________________________\n"
     ]
    }
   ],
   "source": [
    "def unify_model(architecture: Sequential) -> Sequential:\n",
    "    \n",
    "    input_shape   = (28, 28, 1)\n",
    "    inputs        = Input(shape = input_shape)\n",
    "    outputs       = architecture(inputs)\n",
    "    model         = Model(inputs = inputs, outputs = outputs)\n",
    "\n",
    "    return model\n",
    "\n",
    "model = unify_model(architecture())\n",
    "\n",
    "model.summary()"
   ]
  },
  {
   "cell_type": "code",
   "execution_count": null,
   "metadata": {},
   "outputs": [],
   "source": [
    "def data_pipeline(self, directory: str, subset: str, rescale_layer: Sequential, augment_layer: Sequential) -> Dataset:\n",
    "\n",
    "    batch_size = 128\n",
    "    \n",
    "    ds = image_dataset_from_directory(directory = directory,\n",
    "                                      image_size = (28, 28),\n",
    "                                      batch_size = batch_size,\n",
    "                                      color_mode = \"grayscale\",\n",
    "                                      subset = subset,\n",
    "                                      seed = 1,\n",
    "                                      validation_split = 0.2)\n",
    "        "
   ]
  },
  {
   "cell_type": "markdown",
   "metadata": {},
   "source": [
    "## Loading the data and compiling the model"
   ]
  },
  {
   "cell_type": "code",
   "execution_count": 36,
   "metadata": {},
   "outputs": [
    {
     "name": "stdout",
     "output_type": "stream",
     "text": [
      "Found 60000 files belonging to 10 classes.\n",
      "Using 48000 files for training.\n",
      "Found 60000 files belonging to 10 classes.\n",
      "Using 12000 files for validation.\n"
     ]
    }
   ],
   "source": [
    "clear_session()\n",
    "\n",
    "rescale_layer = rescale()\n",
    "\n",
    "train_ds = image_dataset_from_directory(\"C:/Users/Joao/Kotoamatsukami/Kotoamatsukami/data/fashion_mnist/train\",\n",
    "                                        image_size = (28, 28),\n",
    "                                        batch_size = 128,\n",
    "                                        color_mode = \"grayscale\",\n",
    "                                        subset = \"training\",\n",
    "                                        seed = 1,\n",
    "                                        validation_split = 0.2)\n",
    "\n",
    "train_ds = train_ds.map(lambda x, y: (rescale_layer(x), y), num_parallel_calls = AUTOTUNE)\n",
    "train_ds = train_ds.shuffle(len(train_ds)).prefetch(buffer_size = AUTOTUNE).cache()\n",
    "\n",
    "val_ds = image_dataset_from_directory(\"C:/Users/Joao/Kotoamatsukami/Kotoamatsukami/data/fashion_mnist/train\",\n",
    "                                        image_size = (28, 28),\n",
    "                                        batch_size = 128,\n",
    "                                        color_mode = \"grayscale\",\n",
    "                                        subset = \"validation\",\n",
    "                                        seed = 1,\n",
    "                                        validation_split = 0.2)\n",
    "\n",
    "val_ds = val_ds.map(lambda x, y: (rescale_layer(x), y), num_parallel_calls = AUTOTUNE)\n",
    "val_ds = val_ds.prefetch(buffer_size = AUTOTUNE).cache()\n"
   ]
  },
  {
   "cell_type": "code",
   "execution_count": null,
   "metadata": {},
   "outputs": [],
   "source": [
    "def confusion_matrix(model: Sequential, test_data):\n",
    "    \n",
    "    predictions = model.predict(test_data)\n",
    "    preds = [np.argmax(p) for p in predictions]\n",
    "    confusion = confusion_matrix(labels = test_targets, predictions = preds, num_classes = len(np.unique(test_targets)))\n",
    "    fig = px.imshow(confusion, color_continuous_scale = \"viridis\")\n",
    "    fig.show()"
   ]
  },
  {
   "cell_type": "code",
   "execution_count": 39,
   "metadata": {},
   "outputs": [
    {
     "name": "stdout",
     "output_type": "stream",
     "text": [
      "Epoch 1/10\n",
      "375/375 [==============================] - 11s 27ms/step - loss: 0.1845 - accuracy: 0.9308 - val_loss: 0.2689 - val_accuracy: 0.9038\n",
      "Epoch 2/10\n",
      "375/375 [==============================] - 12s 32ms/step - loss: 0.1717 - accuracy: 0.9359 - val_loss: 0.2877 - val_accuracy: 0.8972\n",
      "Epoch 3/10\n",
      "375/375 [==============================] - 13s 34ms/step - loss: 0.1599 - accuracy: 0.9403 - val_loss: 0.2846 - val_accuracy: 0.9018\n",
      "Epoch 4/10\n",
      "375/375 [==============================] - 12s 31ms/step - loss: 0.1499 - accuracy: 0.9440 - val_loss: 0.2945 - val_accuracy: 0.8995\n",
      "Epoch 5/10\n",
      "375/375 [==============================] - 11s 30ms/step - loss: 0.1393 - accuracy: 0.9482 - val_loss: 0.2778 - val_accuracy: 0.9067\n",
      "Epoch 6/10\n",
      "375/375 [==============================] - 12s 32ms/step - loss: 0.1338 - accuracy: 0.9498 - val_loss: 0.2968 - val_accuracy: 0.9049\n",
      "Epoch 7/10\n",
      "375/375 [==============================] - 13s 36ms/step - loss: 0.1247 - accuracy: 0.9529 - val_loss: 0.3135 - val_accuracy: 0.90380s - loss: 0.1253 - accu\n",
      "Epoch 8/10\n",
      "375/375 [==============================] - 13s 35ms/step - loss: 0.1157 - accuracy: 0.9568 - val_loss: 0.3359 - val_accuracy: 0.9030\n",
      "Epoch 9/10\n",
      "375/375 [==============================] - 10s 27ms/step - loss: 0.1091 - accuracy: 0.9599 - val_loss: 0.3468 - val_accuracy: 0.8995\n",
      "Epoch 10/10\n",
      "375/375 [==============================] - 10s 27ms/step - loss: 0.1016 - accuracy: 0.9610 - val_loss: 0.3658 - val_accuracy: 0.8970\n",
      "94/94 [==============================] - 1s 13ms/step - loss: 0.3658 - accuracy: 0.8970\n"
     ]
    }
   ],
   "source": [
    "model.compile(loss = \"sparse_categorical_crossentropy\", optimizer = \"adam\", metrics = [\"accuracy\"])\n",
    "\n",
    "history = model.fit(train_ds,\n",
    "                    epochs = 10,\n",
    "                    verbose = 1,\n",
    "                    validation_data = val_ds)\n",
    "\n",
    "loss, acc = model.evaluate(val_ds)\n",
    "\n",
    "# predictions = model.predict(test_data)\n",
    "# preds = [np.argmax(p) for p in predictions]\n",
    "# confusion = confusion_matrix(labels = test_targets, predictions = preds, num_classes = len(np.unique(test_targets)))\n",
    "# fig = px.imshow(confusion, color_continuous_scale = \"viridis\")\n",
    "# fig.show()"
   ]
  },
  {
   "cell_type": "code",
   "execution_count": 33,
   "metadata": {},
   "outputs": [
    {
     "name": "stdout",
     "output_type": "stream",
     "text": [
      "94/94 [==============================] - 6s 59ms/step - loss: 2.2236 - accuracy: 0.1339 1s - loss: 2\n"
     ]
    }
   ],
   "source": [
    "predictions = model.evaluate(val_ds)"
   ]
  },
  {
   "cell_type": "code",
   "execution_count": 27,
   "metadata": {},
   "outputs": [
    {
     "ename": "NameError",
     "evalue": "name 'predictions' is not defined",
     "output_type": "error",
     "traceback": [
      "\u001b[1;31m---------------------------------------------------------------------------\u001b[0m",
      "\u001b[1;31mNameError\u001b[0m                                 Traceback (most recent call last)",
      "\u001b[1;32m~\\AppData\\Local\\Temp/ipykernel_5704/2577283064.py\u001b[0m in \u001b[0;36m<module>\u001b[1;34m\u001b[0m\n\u001b[1;32m----> 1\u001b[1;33m \u001b[0mpreds\u001b[0m \u001b[1;33m=\u001b[0m \u001b[1;33m[\u001b[0m\u001b[0mnp\u001b[0m\u001b[1;33m.\u001b[0m\u001b[0margmax\u001b[0m\u001b[1;33m(\u001b[0m\u001b[0mp\u001b[0m\u001b[1;33m)\u001b[0m \u001b[1;32mfor\u001b[0m \u001b[0mp\u001b[0m \u001b[1;32min\u001b[0m \u001b[0mpredictions\u001b[0m\u001b[1;33m]\u001b[0m\u001b[1;33m\u001b[0m\u001b[1;33m\u001b[0m\u001b[0m\n\u001b[0m\u001b[0;32m      2\u001b[0m \u001b[0mconfusion\u001b[0m \u001b[1;33m=\u001b[0m \u001b[0mconfusion_matrix\u001b[0m\u001b[1;33m(\u001b[0m\u001b[0mlabels\u001b[0m \u001b[1;33m=\u001b[0m \u001b[0mtest_targets\u001b[0m\u001b[1;33m,\u001b[0m \u001b[0mpredictions\u001b[0m \u001b[1;33m=\u001b[0m \u001b[0mpreds\u001b[0m\u001b[1;33m,\u001b[0m \u001b[0mnum_classes\u001b[0m \u001b[1;33m=\u001b[0m \u001b[0mlen\u001b[0m\u001b[1;33m(\u001b[0m\u001b[0mnp\u001b[0m\u001b[1;33m.\u001b[0m\u001b[0munique\u001b[0m\u001b[1;33m(\u001b[0m\u001b[0mtest_targets\u001b[0m\u001b[1;33m)\u001b[0m\u001b[1;33m)\u001b[0m\u001b[1;33m)\u001b[0m\u001b[1;33m\u001b[0m\u001b[1;33m\u001b[0m\u001b[0m\n\u001b[0;32m      3\u001b[0m \u001b[0mfig\u001b[0m \u001b[1;33m=\u001b[0m \u001b[0mpx\u001b[0m\u001b[1;33m.\u001b[0m\u001b[0mimshow\u001b[0m\u001b[1;33m(\u001b[0m\u001b[0mconfusion\u001b[0m\u001b[1;33m,\u001b[0m \u001b[0mcolor_continuous_scale\u001b[0m \u001b[1;33m=\u001b[0m \u001b[1;34m\"viridis\"\u001b[0m\u001b[1;33m)\u001b[0m\u001b[1;33m\u001b[0m\u001b[1;33m\u001b[0m\u001b[0m\n\u001b[0;32m      4\u001b[0m \u001b[0mfig\u001b[0m\u001b[1;33m.\u001b[0m\u001b[0mshow\u001b[0m\u001b[1;33m(\u001b[0m\u001b[1;33m)\u001b[0m\u001b[1;33m\u001b[0m\u001b[1;33m\u001b[0m\u001b[0m\n",
      "\u001b[1;31mNameError\u001b[0m: name 'predictions' is not defined"
     ]
    }
   ],
   "source": [
    "preds = [np.argmax(p) for p in predictions]\n",
    "confusion = confusion_matrix(labels = test_targets, predictions = preds, num_classes = len(np.unique(test_targets)))\n",
    "fig = px.imshow(confusion, color_continuous_scale = \"viridis\")\n",
    "fig.show()"
   ]
  },
  {
   "cell_type": "code",
   "execution_count": null,
   "metadata": {},
   "outputs": [],
   "source": []
  }
 ],
 "metadata": {
  "interpreter": {
   "hash": "f4e66aafef2f3209d9e3ca90354c13aab0a3b38be1c0526108d0371eb8e92006"
  },
  "kernelspec": {
   "display_name": "Python 3.8.8 64-bit ('kotoamatsukami-zEZ6_pwn-py3.8': poetry)",
   "language": "python",
   "name": "python3"
  },
  "language_info": {
   "codemirror_mode": {
    "name": "ipython",
    "version": 3
   },
   "file_extension": ".py",
   "mimetype": "text/x-python",
   "name": "python",
   "nbconvert_exporter": "python",
   "pygments_lexer": "ipython3",
   "version": "3.8.8"
  },
  "orig_nbformat": 4
 },
 "nbformat": 4,
 "nbformat_minor": 2
}

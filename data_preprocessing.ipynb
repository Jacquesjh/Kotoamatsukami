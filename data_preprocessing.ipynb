{
 "cells": [
  {
   "cell_type": "markdown",
   "metadata": {},
   "source": [
    "# In this notebook we will load every data from the randomized experiments, normalize then and then separate into training, validation and testing datasets, folowwing 80/10/10 proportion."
   ]
  },
  {
   "cell_type": "code",
   "execution_count": 1,
   "metadata": {},
   "outputs": [],
   "source": [
    "import pickle\n",
    "\n",
    "import numpy as np"
   ]
  },
  {
   "cell_type": "markdown",
   "metadata": {},
   "source": [
    "# Loading the data"
   ]
  },
  {
   "cell_type": "code",
   "execution_count": 2,
   "metadata": {},
   "outputs": [],
   "source": [
    "gesture_names = [\"click\", \"closed\", \"down\", \"mouse_tracking\", \"negative_closed\", \"negative_mouse_tracking\",\n",
    "                 \"negative_side\", \"negative_up\", \"side\", \"up\"]\n",
    "\n",
    "subjects = [f\"Subject{i}\" for i in range(1, 6)]\n",
    "\n",
    "distances = [\"50cm\", \"75cm\", \"100cm\"]"
   ]
  },
  {
   "cell_type": "code",
   "execution_count": 3,
   "metadata": {},
   "outputs": [],
   "source": [
    "features = list()\n",
    "targets  = list()\n",
    "\n",
    "label = 0\n",
    "\n",
    "for gesture_name in gesture_names:\n",
    "    for subject in subjects:\n",
    "        for distance in distances:\n",
    "            with open(f\"data/randomized/{subject}/{distance}/{gesture_name}\", \"rb\") as file:\n",
    "                temp = pickle.load(file)\n",
    "                features += temp\n",
    "\n",
    "                for t in temp:\n",
    "                    targets.append(label)\n",
    "\n",
    "    label += 1"
   ]
  },
  {
   "cell_type": "markdown",
   "metadata": {},
   "source": [
    "# Normalizing the data"
   ]
  },
  {
   "cell_type": "code",
   "execution_count": 4,
   "metadata": {},
   "outputs": [],
   "source": [
    "def normalize(z: float, max: float, min: float) -> float:\n",
    "    norm = (z - min)/(max - min)\n",
    "    round_norm = round(norm, 3)\n",
    "    \n",
    "    return round_norm\n",
    "\n",
    "\n",
    "def normalize_landmarks(landmarks: list) -> list:\n",
    "    norm_landmarks = list()\n",
    "\n",
    "    for landmark in landmarks:\n",
    "        xs = [landmark[i][0] for i in range(len(landmark))]\n",
    "        ys = [landmark[i][1] for i in range(len(landmark))]\n",
    "\n",
    "        xmax = max(xs)\n",
    "        ymax = max(ys)\n",
    "        xmin = min(xs)\n",
    "        ymin = min(ys)\n",
    "\n",
    "        norm_landmark = list()\n",
    "\n",
    "        for x, y in zip(xs, ys):\n",
    "            norm = [normalize(z=x, max=xmax, min=xmin), normalize(z=y, max=ymax, min=ymin)]\n",
    "\n",
    "            norm_landmark.append(norm)\n",
    "\n",
    "        norm_landmarks.append(norm_landmark)\n",
    "\n",
    "    return norm_landmarks"
   ]
  },
  {
   "cell_type": "code",
   "execution_count": 5,
   "metadata": {},
   "outputs": [],
   "source": [
    "norm_features = normalize_landmarks(landmarks=features)"
   ]
  },
  {
   "cell_type": "markdown",
   "metadata": {},
   "source": [
    "# Shuffling the data, note that the targets and norm features are shuffled in the same way"
   ]
  },
  {
   "cell_type": "code",
   "execution_count": 6,
   "metadata": {},
   "outputs": [],
   "source": [
    "aux = list(zip(norm_features, targets))\n",
    "\n",
    "np.random.seed(seed=42)\n",
    "np.random.shuffle(aux)\n",
    "\n",
    "norm_features, targets = zip(*aux)\n",
    "\n",
    "norm_features = list(norm_features)\n",
    "targets       = list(targets)"
   ]
  },
  {
   "cell_type": "markdown",
   "metadata": {},
   "source": [
    "# Splitting the data between training, validation and testing dataset, using 80/10/10"
   ]
  },
  {
   "cell_type": "code",
   "execution_count": 10,
   "metadata": {},
   "outputs": [],
   "source": [
    "num_samples = len(norm_features)\n",
    "percentage = 0.7\n",
    "\n",
    "train_features = norm_features[: int(percentage*num_samples)]\n",
    "train_targets  = targets[: int(percentage*num_samples)]\n",
    "\n",
    "test_features = norm_features[int(percentage*num_samples): ]\n",
    "test_targets  = targets[int(percentage*num_samples): ]\n"
   ]
  },
  {
   "cell_type": "code",
   "execution_count": 11,
   "metadata": {},
   "outputs": [],
   "source": [
    "train_data = [train_features, train_targets]\n",
    "test_data  = [test_features, test_targets]"
   ]
  },
  {
   "cell_type": "markdown",
   "metadata": {},
   "source": [
    "# Saving the data"
   ]
  },
  {
   "cell_type": "code",
   "execution_count": 12,
   "metadata": {},
   "outputs": [],
   "source": [
    "with open(\"data/randomized/train_data\", \"wb\") as f:\n",
    "    pickle.dump(train_data, f)\n",
    "\n",
    "with open(\"data/randomized/test_data\", \"wb\") as f:\n",
    "    pickle.dump(test_data, f)"
   ]
  }
 ],
 "metadata": {
  "kernelspec": {
   "display_name": "Python 3.8.8 ('kotoamatsukami-Hq7iVI3N-py3.8')",
   "language": "python",
   "name": "python3"
  },
  "language_info": {
   "codemirror_mode": {
    "name": "ipython",
    "version": 3
   },
   "file_extension": ".py",
   "mimetype": "text/x-python",
   "name": "python",
   "nbconvert_exporter": "python",
   "pygments_lexer": "ipython3",
   "version": "3.8.8"
  },
  "orig_nbformat": 4,
  "vscode": {
   "interpreter": {
    "hash": "36e694ef7c3cc3ea9fcbe33622def963131e2f8f250b2d91c3914ff84d9031bf"
   }
  }
 },
 "nbformat": 4,
 "nbformat_minor": 2
}

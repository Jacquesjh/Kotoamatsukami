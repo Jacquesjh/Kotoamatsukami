{
 "cells": [
  {
   "cell_type": "code",
   "execution_count": null,
   "metadata": {},
   "outputs": [],
   "source": [
    "import numpy as np\n",
    "import matplotlib.pyplot as plt\n",
    "import pandas as pd\n",
    "import plotly.express as px\n",
    "\n",
    "def sample_data(dataraw,sampling_interval):\n",
    "    data_sampled = []\n",
    "    last_sampled_time = 0\n",
    "\n",
    "    for i in range(0,len(dataraw)):\n",
    "        if ((dataraw[i,0] >= last_sampled_time + sampling_interval) or i==0):\n",
    "            if i!=0:\n",
    "                last_sampled_time = last_sampled_time + sampling_interval # to keep regular intervals\n",
    "\n",
    "            last_sampled_data = dataraw[i,1]\n",
    "            data_sampled.append([last_sampled_time,last_sampled_data])\n",
    "            \n",
    "    data_sampled = np.asarray(data_sampled)\n",
    "    return data_sampled\n",
    "\n",
    "def fft_to_plot(data_sampled,sampling_interval):\n",
    "    N = len(data_sampled)\n",
    "    # the fft itself\n",
    "    fft_data = np.fft.fft(data_sampled)\n",
    "    freq = np.linspace(0, 0.5*1/sampling_interval, N//2)\n",
    "    amplitude = 2/N * np.abs(fft_data[:N//2])\n",
    "    amplitude[0] /=2 # The DC component is not meant to be multiplied by to in the P2 to P1 conversion\n",
    "    return freq, amplitude\n"
   ]
  },
  {
   "cell_type": "code",
   "execution_count": null,
   "metadata": {},
   "outputs": [],
   "source": [
    "df = pd.read_csv('sensor_temperatura.txt', delimiter = '\\t')\n",
    "dataraw = df.to_numpy()\n",
    "\n",
    "sampling_interval = 0.2"
   ]
  },
  {
   "cell_type": "code",
   "execution_count": null,
   "metadata": {},
   "outputs": [],
   "source": [
    "new_df = df.set_index(\"time\")\n",
    "new_df"
   ]
  },
  {
   "cell_type": "markdown",
   "metadata": {},
   "source": [
    "# Sinais de entrada"
   ]
  },
  {
   "cell_type": "code",
   "execution_count": null,
   "metadata": {},
   "outputs": [],
   "source": [
    "columns = [\"V(temp)\"]"
   ]
  },
  {
   "cell_type": "code",
   "execution_count": null,
   "metadata": {},
   "outputs": [],
   "source": [
    "fig = px.line(new_df[columns])\n",
    "fig.update_layout(xaxis_title = \"tempo [s]\", yaxis_title = \"Temperatura [ºC])\")\n",
    "fig.show()"
   ]
  },
  {
   "cell_type": "code",
   "execution_count": null,
   "metadata": {},
   "outputs": [],
   "source": [
    "columns = [\"V(a1)\", \"V(a2)\", \"V(a3)\", \"V(a4)\"]"
   ]
  },
  {
   "cell_type": "code",
   "execution_count": null,
   "metadata": {},
   "outputs": [],
   "source": [
    "fig = px.line(new_df[columns])\n",
    "fig.update_layout(xaxis_title = \"tempo [s]\", yaxis_title = \"Tensão [V])\")\n",
    "fig.show()"
   ]
  },
  {
   "cell_type": "markdown",
   "metadata": {},
   "source": [
    "# Entradas do amplificador de instrumentação"
   ]
  },
  {
   "cell_type": "code",
   "execution_count": null,
   "metadata": {},
   "outputs": [],
   "source": [
    "columns = [\"V(v1)\", \"V(v2)\"]"
   ]
  },
  {
   "cell_type": "code",
   "execution_count": null,
   "metadata": {},
   "outputs": [],
   "source": [
    "fig = px.line(new_df[columns])\n",
    "fig.update_layout(xaxis_title = \"tempo [s]\", yaxis_title = \"Tensão [V])\")\n",
    "fig.show()"
   ]
  },
  {
   "cell_type": "markdown",
   "metadata": {},
   "source": [
    "# Saídas"
   ]
  },
  {
   "cell_type": "code",
   "execution_count": null,
   "metadata": {},
   "outputs": [],
   "source": [
    "columns = [\"V(vout)\", \"V(vouts)\"]"
   ]
  },
  {
   "cell_type": "code",
   "execution_count": null,
   "metadata": {},
   "outputs": [],
   "source": [
    "fig = px.line(new_df[columns])\n",
    "fig.update_layout(xaxis_title = \"tempo [s]\", yaxis_title = \"Tensão [V])\")\n",
    "fig.show()"
   ]
  },
  {
   "cell_type": "markdown",
   "metadata": {},
   "source": [
    "# Sinal Amostrado"
   ]
  },
  {
   "cell_type": "code",
   "execution_count": null,
   "metadata": {},
   "outputs": [],
   "source": [
    "def sample(df, sampling_interval, column):\n",
    "    temp = df.set_index(\"time\")\n",
    "\n",
    "    sampled_values = [temp.iloc[0][column]]\n",
    "    sampled_time   = [temp.index[0]]\n",
    "\n",
    "    last_sampled_time = sampled_time[-1]\n",
    "\n",
    "    for index in temp.index:\n",
    "        if index >= last_sampled_time + sampling_interval:\n",
    "            sampled_time.append(index)\n",
    "            \n",
    "            value = temp.loc[index][column]\n",
    "            sampled_values.append(value)\n",
    "\n",
    "            last_sampled_time = index\n",
    "\n",
    "    return sampled_time, sampled_values"
   ]
  },
  {
   "cell_type": "code",
   "execution_count": null,
   "metadata": {},
   "outputs": [],
   "source": [
    "amostra = pd.DataFrame(filtered_sample_values, index = filtered_sample_time, columns = [\"V(amostrado)\"])"
   ]
  },
  {
   "cell_type": "code",
   "execution_count": null,
   "metadata": {},
   "outputs": [],
   "source": [
    "fig = px.scatter(amostra)\n",
    "fig.update_layout(xaxis_title = \"tempo [s]\", yaxis_title = \"Tensão [V])\")\n",
    "fig.show()"
   ]
  },
  {
   "cell_type": "code",
   "execution_count": null,
   "metadata": {},
   "outputs": [],
   "source": [
    "filtered_sample_time, filtered_sample_values = sample(df, sampling_interval, column = \"V(vout)\")\n",
    "# amp_sample_time, amp_sample_values = sample(df, sampling_interval, column = \"V(vouts2)\")"
   ]
  },
  {
   "cell_type": "code",
   "execution_count": null,
   "metadata": {},
   "outputs": [],
   "source": [
    "plt.figure(figsize = (15, 5))\n",
    "plt.plot(dataraw[:,0],dataraw[:,3],label='original data')\n",
    "plt.scatter(amp_sample_time, amp_sample_values, label='sampled data at each '+str(sampling_interval)+' s', c = 'orange', s = 15)\n",
    "plt.title('Amostragem do Sinal de Tensão Amplificado')\n",
    "plt.xlabel('Time (s)')\n",
    "plt.ylabel('Voltage (V)')\n",
    "plt.grid()\n",
    "plt.legend()\n",
    "plt.show()\n",
    "\n",
    "plt.figure(figsize = (15, 5))\n",
    "plt.plot(dataraw[:,0],dataraw[:,2],label='original data')\n",
    "plt.scatter(filtered_sample_time, filtered_sample_values, label='sampled data at each '+str(sampling_interval)+' s', c = 'orange', s = 15)\n",
    "plt.title('Amostragem do Sinal de Tensão Amplificado e Filtrado')\n",
    "plt.xlabel('Time (s)')\n",
    "plt.ylabel('Voltage (V)')\n",
    "plt.grid()\n",
    "plt.legend()\n",
    "plt.show()\n",
    "\n",
    "freq_amp, amplitude_amp = fft_to_plot(amp_sample_values, sampling_interval)\n",
    "freq_after, amplitude_after = fft_to_plot(filtered_sample_values, sampling_interval)\n",
    "\n",
    "plt.figure(figsize = (15, 5))\n",
    "plt.title('FFT do Sinal de Amostrado de Tensão Amplificado')\n",
    "plt.plot(freq_amp, amplitude_amp)\n",
    "plt.xlabel('Frequency [Hz]')\n",
    "plt.ylabel('Amplitude [V]')\n",
    "plt.grid()\n",
    "plt.legend()\n",
    "plt.show()\n",
    "\n",
    "\n",
    "plt.figure(figsize = (15, 5))\n",
    "plt.title('FFT do Sinal de Amostrado de Tensão Filtrado')\n",
    "plt.plot(freq_after, amplitude_after)\n",
    "plt.xlabel('Frequency [Hz]')\n",
    "plt.ylabel('Amplitude [V]')\n",
    "plt.grid()\n",
    "plt.legend()\n",
    "plt.show()"
   ]
  },
  {
   "cell_type": "code",
   "execution_count": null,
   "metadata": {},
   "outputs": [],
   "source": []
  }
 ],
 "metadata": {
  "interpreter": {
   "hash": "a51161d7ba46dd3dbd9fc8c6bd348fb23b578d1cf3ae09598f24443a1428645a"
  },
  "kernelspec": {
   "display_name": "Python 3.8.8 ('kotoamatsukami-T53X9OZe-py3.8')",
   "language": "python",
   "name": "python3"
  },
  "language_info": {
   "codemirror_mode": {
    "name": "ipython",
    "version": 3
   },
   "file_extension": ".py",
   "mimetype": "text/x-python",
   "name": "python",
   "nbconvert_exporter": "python",
   "pygments_lexer": "ipython3",
   "version": "3.8.8"
  }
 },
 "nbformat": 4,
 "nbformat_minor": 4
}

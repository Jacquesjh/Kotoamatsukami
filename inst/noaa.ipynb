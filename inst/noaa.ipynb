{
 "cells": [
  {
   "cell_type": "code",
   "execution_count": null,
   "metadata": {},
   "outputs": [],
   "source": [
    "import requests\n",
    "import pandas as pd"
   ]
  },
  {
   "cell_type": "markdown",
   "metadata": {},
   "source": [
    "https://stackoverflow.com/questions/56120108/why-does-beautifulsoup-return-nothing-for-this-table\n",
    "\n",
    "https://www.wunderground.com/history/daily/pt/porto/LPPR/date/2019-1-1"
   ]
  },
  {
   "cell_type": "code",
   "execution_count": 51,
   "metadata": {},
   "outputs": [],
   "source": [
    "total_time    = []\n",
    "total_weather = []"
   ]
  },
  {
   "cell_type": "code",
   "execution_count": 83,
   "metadata": {},
   "outputs": [],
   "source": [
    "import requests\n",
    "start = \"20191221\"\n",
    "end   = \"20200120\"\n",
    "url = f\"https://api.weather.com:443/v1/geocode/41.15/-8.61/observations/historical.json?apiKey=6532d6454b8aa370768e63d6ba5a832e&startDate={start}&endDate={end}&units=e\"\n",
    "\n",
    "all_observations = requests.get(url).json()[\"observations\"] # The whole data in the table\n",
    "\n",
    "time    = []\n",
    "weather = []\n",
    "\n",
    "for obs in all_observations:\n",
    "    time.append(datetime.fromtimestamp(obs[\"valid_time_gmt\"]))\n",
    "    weather.append(obs[\"wx_phrase\"])"
   ]
  },
  {
   "cell_type": "code",
   "execution_count": 84,
   "metadata": {},
   "outputs": [],
   "source": [
    "total_time    += time\n",
    "total_weather += weather"
   ]
  },
  {
   "cell_type": "code",
   "execution_count": 85,
   "metadata": {},
   "outputs": [],
   "source": [
    "df = pd.DataFrame(columns = [\"datetime\", \"Conditions\"])"
   ]
  },
  {
   "cell_type": "code",
   "execution_count": 86,
   "metadata": {},
   "outputs": [],
   "source": [
    "df[\"datetime\"]   = total_time\n",
    "df[\"Conditions\"] = total_weather"
   ]
  },
  {
   "cell_type": "code",
   "execution_count": 88,
   "metadata": {},
   "outputs": [],
   "source": [
    "df.to_csv(\"porto_weather_conditions\")"
   ]
  },
  {
   "cell_type": "code",
   "execution_count": 89,
   "metadata": {},
   "outputs": [],
   "source": [
    "import numpy as np"
   ]
  },
  {
   "cell_type": "code",
   "execution_count": 90,
   "metadata": {},
   "outputs": [
    {
     "data": {
      "text/plain": [
       "array(['Cloudy', 'Cloudy / Windy', 'Drizzle', 'Drizzle / Windy',\n",
       "       'Drizzle and Fog', 'Fair', 'Fair / Windy', 'Fog', 'Heavy Rain',\n",
       "       'Heavy Rain / Windy', 'Heavy Rain Shower', 'Heavy T-Storm',\n",
       "       'Light Drizzle', 'Light Drizzle / Windy', 'Light Rain',\n",
       "       'Light Rain / Windy', 'Light Rain Shower',\n",
       "       'Light Rain Shower / Windy', 'Light Rain with Thunder', 'Mist',\n",
       "       'Mostly Cloudy', 'Mostly Cloudy / Windy', 'Partial Fog',\n",
       "       'Partly Cloudy', 'Partly Cloudy / Windy', 'Patches of Fog', 'Rain',\n",
       "       'Rain / Windy', 'Rain Shower', 'Rain Shower / Windy',\n",
       "       'Shallow Fog', 'Showers in the Vicinity', 'Smoke', 'T-Storm',\n",
       "       'Thunder', 'Thunder in the Vicinity'], dtype=object)"
      ]
     },
     "execution_count": 90,
     "metadata": {},
     "output_type": "execute_result"
    }
   ],
   "source": [
    "np.unique(df[\"Conditions\"])"
   ]
  },
  {
   "cell_type": "code",
   "execution_count": 91,
   "metadata": {},
   "outputs": [
    {
     "data": {
      "text/html": [
       "<div>\n",
       "<style scoped>\n",
       "    .dataframe tbody tr th:only-of-type {\n",
       "        vertical-align: middle;\n",
       "    }\n",
       "\n",
       "    .dataframe tbody tr th {\n",
       "        vertical-align: top;\n",
       "    }\n",
       "\n",
       "    .dataframe thead th {\n",
       "        text-align: right;\n",
       "    }\n",
       "</style>\n",
       "<table border=\"1\" class=\"dataframe\">\n",
       "  <thead>\n",
       "    <tr style=\"text-align: right;\">\n",
       "      <th></th>\n",
       "      <th>datetime</th>\n",
       "      <th>Conditions</th>\n",
       "    </tr>\n",
       "  </thead>\n",
       "  <tbody>\n",
       "    <tr>\n",
       "      <th>0</th>\n",
       "      <td>2018-12-30 21:00:00</td>\n",
       "      <td>Fair</td>\n",
       "    </tr>\n",
       "    <tr>\n",
       "      <th>1</th>\n",
       "      <td>2018-12-30 21:30:00</td>\n",
       "      <td>Fair</td>\n",
       "    </tr>\n",
       "    <tr>\n",
       "      <th>2</th>\n",
       "      <td>2018-12-30 22:00:00</td>\n",
       "      <td>Fair</td>\n",
       "    </tr>\n",
       "    <tr>\n",
       "      <th>3</th>\n",
       "      <td>2018-12-30 22:30:00</td>\n",
       "      <td>Fair</td>\n",
       "    </tr>\n",
       "    <tr>\n",
       "      <th>4</th>\n",
       "      <td>2018-12-30 23:00:00</td>\n",
       "      <td>Fair</td>\n",
       "    </tr>\n",
       "    <tr>\n",
       "      <th>...</th>\n",
       "      <td>...</td>\n",
       "      <td>...</td>\n",
       "    </tr>\n",
       "    <tr>\n",
       "      <th>17041</th>\n",
       "      <td>2020-01-20 18:30:00</td>\n",
       "      <td>Fair</td>\n",
       "    </tr>\n",
       "    <tr>\n",
       "      <th>17042</th>\n",
       "      <td>2020-01-20 19:00:00</td>\n",
       "      <td>Fair</td>\n",
       "    </tr>\n",
       "    <tr>\n",
       "      <th>17043</th>\n",
       "      <td>2020-01-20 19:30:00</td>\n",
       "      <td>Fair</td>\n",
       "    </tr>\n",
       "    <tr>\n",
       "      <th>17044</th>\n",
       "      <td>2020-01-20 20:00:00</td>\n",
       "      <td>Fair</td>\n",
       "    </tr>\n",
       "    <tr>\n",
       "      <th>17045</th>\n",
       "      <td>2020-01-20 20:30:00</td>\n",
       "      <td>Fair</td>\n",
       "    </tr>\n",
       "  </tbody>\n",
       "</table>\n",
       "<p>17046 rows × 2 columns</p>\n",
       "</div>"
      ],
      "text/plain": [
       "                 datetime Conditions\n",
       "0     2018-12-30 21:00:00       Fair\n",
       "1     2018-12-30 21:30:00       Fair\n",
       "2     2018-12-30 22:00:00       Fair\n",
       "3     2018-12-30 22:30:00       Fair\n",
       "4     2018-12-30 23:00:00       Fair\n",
       "...                   ...        ...\n",
       "17041 2020-01-20 18:30:00       Fair\n",
       "17042 2020-01-20 19:00:00       Fair\n",
       "17043 2020-01-20 19:30:00       Fair\n",
       "17044 2020-01-20 20:00:00       Fair\n",
       "17045 2020-01-20 20:30:00       Fair\n",
       "\n",
       "[17046 rows x 2 columns]"
      ]
     },
     "execution_count": 91,
     "metadata": {},
     "output_type": "execute_result"
    }
   ],
   "source": [
    "df"
   ]
  },
  {
   "cell_type": "code",
   "execution_count": null,
   "metadata": {},
   "outputs": [],
   "source": []
  }
 ],
 "metadata": {
  "interpreter": {
   "hash": "e3f2ef64853cb8e4cd4f7badb03b7637b6184dbffe732edc3115cca741e62b84"
  },
  "kernelspec": {
   "display_name": "Python 3.8.8 ('kotoamatsukami-T53X9OZe-py3.8')",
   "language": "python",
   "name": "python3"
  },
  "language_info": {
   "codemirror_mode": {
    "name": "ipython",
    "version": 3
   },
   "file_extension": ".py",
   "mimetype": "text/x-python",
   "name": "python",
   "nbconvert_exporter": "python",
   "pygments_lexer": "ipython3",
   "version": "3.8.8"
  },
  "orig_nbformat": 4
 },
 "nbformat": 4,
 "nbformat_minor": 2
}

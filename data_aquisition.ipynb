{
 "cells": [
  {
   "cell_type": "code",
   "execution_count": null,
   "metadata": {},
   "outputs": [],
   "source": [
    "import cv2\n",
    "\n",
    "from kotoamatsukami.src.domain.hand_detector import HandDetector"
   ]
  },
  {
   "cell_type": "markdown",
   "metadata": {},
   "source": [
    "# Gestures and labels"
   ]
  },
  {
   "cell_type": "markdown",
   "metadata": {},
   "source": [
    "# Central data"
   ]
  },
  {
   "cell_type": "code",
   "execution_count": null,
   "metadata": {},
   "outputs": [],
   "source": [
    "features = []\n",
    "targets  = []"
   ]
  },
  {
   "cell_type": "markdown",
   "metadata": {},
   "source": [
    "# Round for collecting data."
   ]
  },
  {
   "cell_type": "code",
   "execution_count": null,
   "metadata": {},
   "outputs": [],
   "source": [
    "# gestures = {\n",
    "#     0: \"Open Hand\",\n",
    "#     1: \"Closed Hand\",\n",
    "#     2: \"Pointing at Camera\",\n",
    "#     3: \"Index\",\n",
    "#     4: \"Index and Middle\",\n",
    "#     5: \"Index, Middle and Ring\",\n",
    "#     6: \"Thumb and Index\",\n",
    "#     7: \"Thumb, Index and Middle\",\n",
    "#     8: \"Thumb, Index, Middle and Ring\",\n",
    "#     9: \"Pointing Hand Down\",\n",
    "#     10: \"Pointing Hand Left\",\n",
    "#     11: \"Folded Hand\"\n",
    "# }"
   ]
  },
  {
   "cell_type": "markdown",
   "metadata": {},
   "source": [
    "## Change the target_label with the one you want. And the amount of frame you want for each gesture."
   ]
  },
  {
   "cell_type": "code",
   "execution_count": null,
   "metadata": {},
   "outputs": [],
   "source": [
    "target_label = 0\n",
    "num_frames   = 1000"
   ]
  },
  {
   "cell_type": "markdown",
   "metadata": {},
   "source": [
    "## Run to collect data"
   ]
  },
  {
   "cell_type": "code",
   "execution_count": null,
   "metadata": {},
   "outputs": [],
   "source": [
    "stream = cv2.VideoCapture(0)\n",
    "detector = HandDetector(max_hands = 1, detection_con = 0.8)\n",
    "\n",
    "round_features = []\n",
    "round_targets  = []\n",
    "\n",
    "while True:\n",
    "    print(len(round_features))\n",
    "\n",
    "    if len(round_features) > num_frames:\n",
    "        break\n",
    "\n",
    "    grabbed, frame = stream.read()\n",
    "\n",
    "    if cv2.waitKey(1) == ord(\"x\"):\n",
    "        break\n",
    "\n",
    "    hands, image = detector.find_hands(frame)\n",
    "\n",
    "    if len(hands) != 0:\n",
    "        for hand in hands:\n",
    "            round_features.append(hand[\"landmarks\"])\n",
    "            round_targets.append(target_label)\n",
    "\n",
    "    cv2.imshow(\"Video\", image)\n",
    "\n",
    "stream.release()\n",
    "cv2.destroyAllWindows()\n",
    "\n",
    "features += round_features\n",
    "targets  += round_targets\n"
   ]
  },
  {
   "cell_type": "code",
   "execution_count": 22,
   "metadata": {},
   "outputs": [],
   "source": [
    "import pickle\n",
    "\n",
    "saving_data = [round_features, round_targets]\n",
    "\n",
    "with open(\"data/pointing_at_camera_data\", \"wb\") as file:\n",
    "    pickle.dump(saving_data, file)"
   ]
  }
 ],
 "metadata": {
  "interpreter": {
   "hash": "36e694ef7c3cc3ea9fcbe33622def963131e2f8f250b2d91c3914ff84d9031bf"
  },
  "kernelspec": {
   "display_name": "Python 3.8.8 ('kotoamatsukami-Hq7iVI3N-py3.8')",
   "language": "python",
   "name": "python3"
  },
  "language_info": {
   "codemirror_mode": {
    "name": "ipython",
    "version": 3
   },
   "file_extension": ".py",
   "mimetype": "text/x-python",
   "name": "python",
   "nbconvert_exporter": "python",
   "pygments_lexer": "ipython3",
   "version": "3.8.8"
  },
  "orig_nbformat": 4
 },
 "nbformat": 4,
 "nbformat_minor": 2
}

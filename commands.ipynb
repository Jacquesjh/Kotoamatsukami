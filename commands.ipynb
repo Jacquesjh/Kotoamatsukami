{
 "cells": [
  {
   "cell_type": "markdown",
   "metadata": {},
   "source": [
    "# Proposed Commands of Control"
   ]
  },
  {
   "cell_type": "markdown",
   "metadata": {},
   "source": [
    "- Left Click;\n",
    "- Middle Click;\n",
    "- Righ Click;\n",
    "- Zoom In;\n",
    "- Zoom Out;\n",
    "- Scrool Up;\n",
    "- Scrool Down;\n",
    "- Back;\n",
    "- Advance;\n",
    "- Crtl+Tab;\n",
    "- Win+L;\n",
    "- Volume Up;\n",
    "- Volume Down;\n",
    "- Mute;\n",
    "- Unmute;"
   ]
  },
  {
   "cell_type": "code",
   "execution_count": null,
   "metadata": {},
   "outputs": [],
   "source": []
  }
 ],
 "metadata": {
  "language_info": {
   "name": "python"
  },
  "orig_nbformat": 4
 },
 "nbformat": 4,
 "nbformat_minor": 2
}

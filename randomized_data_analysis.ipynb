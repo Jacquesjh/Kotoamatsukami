{
 "cells": [
  {
   "cell_type": "code",
   "execution_count": 1,
   "metadata": {},
   "outputs": [],
   "source": [
    "import numpy as np\n",
    "import pandas as pd\n",
    "import pickle\n",
    "import plotly.graph_objects as go\n",
    "import plotly.express as px\n",
    "from scipy import stats\n",
    "\n",
    "import numpy"
   ]
  },
  {
   "cell_type": "markdown",
   "metadata": {},
   "source": [
    "# Loading the data"
   ]
  },
  {
   "cell_type": "markdown",
   "metadata": {},
   "source": [
    "## Specifying gesture"
   ]
  },
  {
   "cell_type": "code",
   "execution_count": 2,
   "metadata": {},
   "outputs": [],
   "source": [
    "gesture_name = \"click\"\n",
    "subjects = [f\"Subject{i}\" for i in range(1, 6)]"
   ]
  },
  {
   "cell_type": "code",
   "execution_count": 3,
   "metadata": {},
   "outputs": [],
   "source": [
    "gesture_name = \"click\"\n",
    "subjects = [f\"Subject{i}\" for i in range(1, 6)]\n",
    "\n",
    "gesture_names = [\"click\", \"closed\", \"down\", \"mouse_tracking\", \"negative_closed\", \"negative_mouse_tracking\",\n",
    "                 \"negative_side\", \"negative_up\", \"side\", \"up\"]\n",
    "\n",
    "diffs = list()\n",
    "\n",
    "for gesture_name in gesture_names:\n",
    "    express = False\n",
    "\n",
    "    if express:\n",
    "        with open(f\"data/express/50cm/{gesture_name}\", \"rb\") as file:\n",
    "            data_50 = pickle.load(file)\n",
    "\n",
    "        with open(f\"data/express/75cm/{gesture_name}\", \"rb\") as file:\n",
    "            data_75 = pickle.load(file)\n",
    "\n",
    "        with open(f\"data/express/100cm/{gesture_name}\", \"rb\") as file:\n",
    "            data_100 = pickle.load(file)\n",
    "\n",
    "    else:\n",
    "        data_50  = list()\n",
    "        data_75  = list()\n",
    "        data_100 = list()\n",
    "        \n",
    "        for subject in subjects:\n",
    "            with open(f\"data/randomized/{subject}/50cm/{gesture_name}\", \"rb\") as file:\n",
    "                temp = pickle.load(file)\n",
    "                data_50 += temp\n",
    "\n",
    "            with open(f\"data/randomized/{subject}/75cm/{gesture_name}\", \"rb\") as file:\n",
    "                temp = pickle.load(file)\n",
    "                data_75 += temp\n",
    "\n",
    "            with open(f\"data/randomized/{subject}/100cm/{gesture_name}\", \"rb\") as file:\n",
    "                temp = pickle.load(file)\n",
    "                data_100 += temp\n",
    "                \n",
    "    def normalize(z: float, max: float, min: float) -> float:\n",
    "        norm = (z - min)/(max - min)\n",
    "        round_norm = round(norm, 3)\n",
    "        \n",
    "        return round_norm\n",
    "    def normalize_landmarks(landmarks: list) -> list:\n",
    "        norm_landmarks = list()\n",
    "\n",
    "        for landmark in landmarks:\n",
    "            xs = [landmark[i][0] for i in range(len(landmark))]\n",
    "            ys = [landmark[i][1] for i in range(len(landmark))]\n",
    "\n",
    "            xmax = max(xs)\n",
    "            ymax = max(ys)\n",
    "            xmin = min(xs)\n",
    "            ymin = min(ys)\n",
    "\n",
    "            norm_landmark = list()\n",
    "\n",
    "            for x, y in zip(xs, ys):\n",
    "                norm = [normalize(z=x, max=xmax, min=xmin), normalize(z=y, max=ymax, min=ymin)]\n",
    "\n",
    "                norm_landmark.append(norm)\n",
    "\n",
    "            norm_landmarks.append(norm_landmark)\n",
    "\n",
    "        return norm_landmarks\n",
    "    norm_50  = normalize_landmarks(landmarks=data_50)\n",
    "    norm_75  = normalize_landmarks(landmarks=data_75)\n",
    "    norm_100 = normalize_landmarks(landmarks=data_100)\n",
    "    def get_mean_gesture(samples: list):\n",
    "        points_x = {}\n",
    "        points_y = {}\n",
    "\n",
    "        for i in range(21):\n",
    "            xs = [sample[i][0] for sample in samples]\n",
    "            ys = [sample[i][1] for sample in samples]\n",
    "\n",
    "            points_x[i] = xs\n",
    "            points_y[i] = ys\n",
    "\n",
    "        mean_gesture = list()\n",
    "\n",
    "        for i in range(21):\n",
    "            x_mean = np.mean(points_x.get(i))\n",
    "            y_mean = np.mean(points_y.get(i))\n",
    "\n",
    "            mean_gesture.append([x_mean, y_mean])\n",
    "\n",
    "        return mean_gesture\n",
    "    mean_gesture_50cm  = get_mean_gesture(samples=norm_50)\n",
    "    mean_gesture_75cm  = get_mean_gesture(samples=norm_75)\n",
    "    mean_gesture_100cm = get_mean_gesture(samples=norm_100)\n",
    "\n",
    "    xs_50 = [mean_gesture_50cm[i][0] for i in range(len(mean_gesture_50cm))]\n",
    "    ys_50 = [mean_gesture_50cm[i][1] for i in range(len(mean_gesture_50cm))]\n",
    "\n",
    "    xs_75 = [mean_gesture_75cm[i][0] for i in range(len(mean_gesture_75cm))]\n",
    "    ys_75 = [mean_gesture_75cm[i][1] for i in range(len(mean_gesture_75cm))]\n",
    "\n",
    "    xs_100 = [mean_gesture_100cm[i][0] for i in range(len(mean_gesture_100cm))]\n",
    "    ys_100 = [mean_gesture_100cm[i][1] for i in range(len(mean_gesture_100cm))]\n",
    "\n",
    "    fig = go.Figure()\n",
    "\n",
    "    fig.add_trace(go.Scatter(x=xs_50, y=ys_50, mode=\"markers\", name=\"50 cm\"))\n",
    "    fig.add_trace(go.Scatter(x=xs_75, y=ys_75, mode=\"markers\", name=\"75 cm\"))\n",
    "    fig.add_trace(go.Scatter(x=xs_100, y=ys_100, mode=\"markers\", name=\"100 cm\"))\n",
    "\n",
    "    fig.update_layout(\n",
    "        xaxis = dict(autorange=\"reversed\"),\n",
    "        yaxis = dict(autorange=\"reversed\"),\n",
    "    )\n",
    "\n",
    "    fig.update_xaxes(visible=False)\n",
    "    fig.update_yaxes(visible=False)\n",
    "\n",
    "    # fig.show()\n",
    "\n",
    "    dif_matrix = pd.DataFrame(columns=[\"50 cm\", \"75 cm\", \"100 cm\"], index=[\"50 cm\", \"75 cm\", \"100 cm\"])\n",
    "\n",
    "    dist_map = {\n",
    "        \"50 cm\": mean_gesture_50cm,\n",
    "        \"75 cm\": mean_gesture_75cm,\n",
    "        \"100 cm\": mean_gesture_100cm\n",
    "    }\n",
    "\n",
    "\n",
    "    for dist, gest in dist_map.items():\n",
    "        for comp_dist, comp in dist_map.items():\n",
    "            if gest == comp:\n",
    "                dif_matrix[dist].loc[comp_dist] = np.NaN\n",
    "\n",
    "            else:\n",
    "                difs = list()\n",
    "\n",
    "                xs_gest = [gest[i][0] for i in range(len(gest))]\n",
    "                ys_gest = [gest[i][1] for i in range(len(gest))]\n",
    "\n",
    "                xs_comp = [comp[i][0] for i in range(len(comp))]\n",
    "                ys_comp = [comp[i][1] for i in range(len(comp))]\n",
    "\n",
    "                for i in range(len(xs_gest)):\n",
    "                    point_difference = pow(pow(xs_comp[i] - xs_gest[i], 2) + pow(ys_comp[i] - ys_gest[i], 2), 0.5)\n",
    "                    difs.append(point_difference)\n",
    "                \n",
    "                mean_dif = np.mean(difs)\n",
    "\n",
    "                dif_matrix[dist].loc[comp_dist] = mean_dif\n",
    "\n",
    "    diffs.append(dif_matrix)\n",
    "    # print(f\"            ----- {gesture_name} -----\")\n",
    "    # print(dif_matrix)x"
   ]
  },
  {
   "cell_type": "code",
   "execution_count": 23,
   "metadata": {},
   "outputs": [
    {
     "data": {
      "application/vnd.plotly.v1+json": {
       "config": {
        "plotlyServerURL": "https://plot.ly"
       },
       "data": [
        {
         "mode": "markers",
         "name": "50 cm",
         "type": "scatter",
         "x": [
          0.4896666666666668,
          0.17997999999999997,
          0.15998666666666667,
          0.4079333333333333,
          0.65112,
          0.0061400000000000005,
          0.16298666666666667,
          0.26853333333333335,
          0.33449333333333336,
          0.31478,
          0.43598666666666663,
          0.5267600000000001,
          0.56616,
          0.6378666666666667,
          0.7081266666666667,
          0.7589400000000001,
          0.7781266666666666,
          0.9486666666666668,
          0.9055133333333333,
          0.8582666666666665,
          0.8551266666666667
         ],
         "y": [
          1,
          0.8312799999999999,
          0.6337333333333334,
          0.5113333333333333,
          0.44672666666666666,
          0.5719933333333334,
          0.30646666666666667,
          0.15836666666666663,
          0.048013333333333325,
          0.5805733333333333,
          0.2917666666666667,
          0.12639333333333333,
          0,
          0.6018333333333333,
          0.3296866666666667,
          0.18742,
          0.07585333333333333,
          0.6407866666666666,
          0.46363999999999994,
          0.46818000000000004,
          0.4977933333333334
         ]
        }
       ],
       "layout": {
        "template": {
         "data": {
          "bar": [
           {
            "error_x": {
             "color": "#2a3f5f"
            },
            "error_y": {
             "color": "#2a3f5f"
            },
            "marker": {
             "line": {
              "color": "#E5ECF6",
              "width": 0.5
             },
             "pattern": {
              "fillmode": "overlay",
              "size": 10,
              "solidity": 0.2
             }
            },
            "type": "bar"
           }
          ],
          "barpolar": [
           {
            "marker": {
             "line": {
              "color": "#E5ECF6",
              "width": 0.5
             },
             "pattern": {
              "fillmode": "overlay",
              "size": 10,
              "solidity": 0.2
             }
            },
            "type": "barpolar"
           }
          ],
          "carpet": [
           {
            "aaxis": {
             "endlinecolor": "#2a3f5f",
             "gridcolor": "white",
             "linecolor": "white",
             "minorgridcolor": "white",
             "startlinecolor": "#2a3f5f"
            },
            "baxis": {
             "endlinecolor": "#2a3f5f",
             "gridcolor": "white",
             "linecolor": "white",
             "minorgridcolor": "white",
             "startlinecolor": "#2a3f5f"
            },
            "type": "carpet"
           }
          ],
          "choropleth": [
           {
            "colorbar": {
             "outlinewidth": 0,
             "ticks": ""
            },
            "type": "choropleth"
           }
          ],
          "contour": [
           {
            "colorbar": {
             "outlinewidth": 0,
             "ticks": ""
            },
            "colorscale": [
             [
              0,
              "#0d0887"
             ],
             [
              0.1111111111111111,
              "#46039f"
             ],
             [
              0.2222222222222222,
              "#7201a8"
             ],
             [
              0.3333333333333333,
              "#9c179e"
             ],
             [
              0.4444444444444444,
              "#bd3786"
             ],
             [
              0.5555555555555556,
              "#d8576b"
             ],
             [
              0.6666666666666666,
              "#ed7953"
             ],
             [
              0.7777777777777778,
              "#fb9f3a"
             ],
             [
              0.8888888888888888,
              "#fdca26"
             ],
             [
              1,
              "#f0f921"
             ]
            ],
            "type": "contour"
           }
          ],
          "contourcarpet": [
           {
            "colorbar": {
             "outlinewidth": 0,
             "ticks": ""
            },
            "type": "contourcarpet"
           }
          ],
          "heatmap": [
           {
            "colorbar": {
             "outlinewidth": 0,
             "ticks": ""
            },
            "colorscale": [
             [
              0,
              "#0d0887"
             ],
             [
              0.1111111111111111,
              "#46039f"
             ],
             [
              0.2222222222222222,
              "#7201a8"
             ],
             [
              0.3333333333333333,
              "#9c179e"
             ],
             [
              0.4444444444444444,
              "#bd3786"
             ],
             [
              0.5555555555555556,
              "#d8576b"
             ],
             [
              0.6666666666666666,
              "#ed7953"
             ],
             [
              0.7777777777777778,
              "#fb9f3a"
             ],
             [
              0.8888888888888888,
              "#fdca26"
             ],
             [
              1,
              "#f0f921"
             ]
            ],
            "type": "heatmap"
           }
          ],
          "heatmapgl": [
           {
            "colorbar": {
             "outlinewidth": 0,
             "ticks": ""
            },
            "colorscale": [
             [
              0,
              "#0d0887"
             ],
             [
              0.1111111111111111,
              "#46039f"
             ],
             [
              0.2222222222222222,
              "#7201a8"
             ],
             [
              0.3333333333333333,
              "#9c179e"
             ],
             [
              0.4444444444444444,
              "#bd3786"
             ],
             [
              0.5555555555555556,
              "#d8576b"
             ],
             [
              0.6666666666666666,
              "#ed7953"
             ],
             [
              0.7777777777777778,
              "#fb9f3a"
             ],
             [
              0.8888888888888888,
              "#fdca26"
             ],
             [
              1,
              "#f0f921"
             ]
            ],
            "type": "heatmapgl"
           }
          ],
          "histogram": [
           {
            "marker": {
             "pattern": {
              "fillmode": "overlay",
              "size": 10,
              "solidity": 0.2
             }
            },
            "type": "histogram"
           }
          ],
          "histogram2d": [
           {
            "colorbar": {
             "outlinewidth": 0,
             "ticks": ""
            },
            "colorscale": [
             [
              0,
              "#0d0887"
             ],
             [
              0.1111111111111111,
              "#46039f"
             ],
             [
              0.2222222222222222,
              "#7201a8"
             ],
             [
              0.3333333333333333,
              "#9c179e"
             ],
             [
              0.4444444444444444,
              "#bd3786"
             ],
             [
              0.5555555555555556,
              "#d8576b"
             ],
             [
              0.6666666666666666,
              "#ed7953"
             ],
             [
              0.7777777777777778,
              "#fb9f3a"
             ],
             [
              0.8888888888888888,
              "#fdca26"
             ],
             [
              1,
              "#f0f921"
             ]
            ],
            "type": "histogram2d"
           }
          ],
          "histogram2dcontour": [
           {
            "colorbar": {
             "outlinewidth": 0,
             "ticks": ""
            },
            "colorscale": [
             [
              0,
              "#0d0887"
             ],
             [
              0.1111111111111111,
              "#46039f"
             ],
             [
              0.2222222222222222,
              "#7201a8"
             ],
             [
              0.3333333333333333,
              "#9c179e"
             ],
             [
              0.4444444444444444,
              "#bd3786"
             ],
             [
              0.5555555555555556,
              "#d8576b"
             ],
             [
              0.6666666666666666,
              "#ed7953"
             ],
             [
              0.7777777777777778,
              "#fb9f3a"
             ],
             [
              0.8888888888888888,
              "#fdca26"
             ],
             [
              1,
              "#f0f921"
             ]
            ],
            "type": "histogram2dcontour"
           }
          ],
          "mesh3d": [
           {
            "colorbar": {
             "outlinewidth": 0,
             "ticks": ""
            },
            "type": "mesh3d"
           }
          ],
          "parcoords": [
           {
            "line": {
             "colorbar": {
              "outlinewidth": 0,
              "ticks": ""
             }
            },
            "type": "parcoords"
           }
          ],
          "pie": [
           {
            "automargin": true,
            "type": "pie"
           }
          ],
          "scatter": [
           {
            "marker": {
             "colorbar": {
              "outlinewidth": 0,
              "ticks": ""
             }
            },
            "type": "scatter"
           }
          ],
          "scatter3d": [
           {
            "line": {
             "colorbar": {
              "outlinewidth": 0,
              "ticks": ""
             }
            },
            "marker": {
             "colorbar": {
              "outlinewidth": 0,
              "ticks": ""
             }
            },
            "type": "scatter3d"
           }
          ],
          "scattercarpet": [
           {
            "marker": {
             "colorbar": {
              "outlinewidth": 0,
              "ticks": ""
             }
            },
            "type": "scattercarpet"
           }
          ],
          "scattergeo": [
           {
            "marker": {
             "colorbar": {
              "outlinewidth": 0,
              "ticks": ""
             }
            },
            "type": "scattergeo"
           }
          ],
          "scattergl": [
           {
            "marker": {
             "colorbar": {
              "outlinewidth": 0,
              "ticks": ""
             }
            },
            "type": "scattergl"
           }
          ],
          "scattermapbox": [
           {
            "marker": {
             "colorbar": {
              "outlinewidth": 0,
              "ticks": ""
             }
            },
            "type": "scattermapbox"
           }
          ],
          "scatterpolar": [
           {
            "marker": {
             "colorbar": {
              "outlinewidth": 0,
              "ticks": ""
             }
            },
            "type": "scatterpolar"
           }
          ],
          "scatterpolargl": [
           {
            "marker": {
             "colorbar": {
              "outlinewidth": 0,
              "ticks": ""
             }
            },
            "type": "scatterpolargl"
           }
          ],
          "scatterternary": [
           {
            "marker": {
             "colorbar": {
              "outlinewidth": 0,
              "ticks": ""
             }
            },
            "type": "scatterternary"
           }
          ],
          "surface": [
           {
            "colorbar": {
             "outlinewidth": 0,
             "ticks": ""
            },
            "colorscale": [
             [
              0,
              "#0d0887"
             ],
             [
              0.1111111111111111,
              "#46039f"
             ],
             [
              0.2222222222222222,
              "#7201a8"
             ],
             [
              0.3333333333333333,
              "#9c179e"
             ],
             [
              0.4444444444444444,
              "#bd3786"
             ],
             [
              0.5555555555555556,
              "#d8576b"
             ],
             [
              0.6666666666666666,
              "#ed7953"
             ],
             [
              0.7777777777777778,
              "#fb9f3a"
             ],
             [
              0.8888888888888888,
              "#fdca26"
             ],
             [
              1,
              "#f0f921"
             ]
            ],
            "type": "surface"
           }
          ],
          "table": [
           {
            "cells": {
             "fill": {
              "color": "#EBF0F8"
             },
             "line": {
              "color": "white"
             }
            },
            "header": {
             "fill": {
              "color": "#C8D4E3"
             },
             "line": {
              "color": "white"
             }
            },
            "type": "table"
           }
          ]
         },
         "layout": {
          "annotationdefaults": {
           "arrowcolor": "#2a3f5f",
           "arrowhead": 0,
           "arrowwidth": 1
          },
          "autotypenumbers": "strict",
          "coloraxis": {
           "colorbar": {
            "outlinewidth": 0,
            "ticks": ""
           }
          },
          "colorscale": {
           "diverging": [
            [
             0,
             "#8e0152"
            ],
            [
             0.1,
             "#c51b7d"
            ],
            [
             0.2,
             "#de77ae"
            ],
            [
             0.3,
             "#f1b6da"
            ],
            [
             0.4,
             "#fde0ef"
            ],
            [
             0.5,
             "#f7f7f7"
            ],
            [
             0.6,
             "#e6f5d0"
            ],
            [
             0.7,
             "#b8e186"
            ],
            [
             0.8,
             "#7fbc41"
            ],
            [
             0.9,
             "#4d9221"
            ],
            [
             1,
             "#276419"
            ]
           ],
           "sequential": [
            [
             0,
             "#0d0887"
            ],
            [
             0.1111111111111111,
             "#46039f"
            ],
            [
             0.2222222222222222,
             "#7201a8"
            ],
            [
             0.3333333333333333,
             "#9c179e"
            ],
            [
             0.4444444444444444,
             "#bd3786"
            ],
            [
             0.5555555555555556,
             "#d8576b"
            ],
            [
             0.6666666666666666,
             "#ed7953"
            ],
            [
             0.7777777777777778,
             "#fb9f3a"
            ],
            [
             0.8888888888888888,
             "#fdca26"
            ],
            [
             1,
             "#f0f921"
            ]
           ],
           "sequentialminus": [
            [
             0,
             "#0d0887"
            ],
            [
             0.1111111111111111,
             "#46039f"
            ],
            [
             0.2222222222222222,
             "#7201a8"
            ],
            [
             0.3333333333333333,
             "#9c179e"
            ],
            [
             0.4444444444444444,
             "#bd3786"
            ],
            [
             0.5555555555555556,
             "#d8576b"
            ],
            [
             0.6666666666666666,
             "#ed7953"
            ],
            [
             0.7777777777777778,
             "#fb9f3a"
            ],
            [
             0.8888888888888888,
             "#fdca26"
            ],
            [
             1,
             "#f0f921"
            ]
           ]
          },
          "colorway": [
           "#636efa",
           "#EF553B",
           "#00cc96",
           "#ab63fa",
           "#FFA15A",
           "#19d3f3",
           "#FF6692",
           "#B6E880",
           "#FF97FF",
           "#FECB52"
          ],
          "font": {
           "color": "#2a3f5f"
          },
          "geo": {
           "bgcolor": "white",
           "lakecolor": "white",
           "landcolor": "#E5ECF6",
           "showlakes": true,
           "showland": true,
           "subunitcolor": "white"
          },
          "hoverlabel": {
           "align": "left"
          },
          "hovermode": "closest",
          "mapbox": {
           "style": "light"
          },
          "paper_bgcolor": "white",
          "plot_bgcolor": "#E5ECF6",
          "polar": {
           "angularaxis": {
            "gridcolor": "white",
            "linecolor": "white",
            "ticks": ""
           },
           "bgcolor": "#E5ECF6",
           "radialaxis": {
            "gridcolor": "white",
            "linecolor": "white",
            "ticks": ""
           }
          },
          "scene": {
           "xaxis": {
            "backgroundcolor": "#E5ECF6",
            "gridcolor": "white",
            "gridwidth": 2,
            "linecolor": "white",
            "showbackground": true,
            "ticks": "",
            "zerolinecolor": "white"
           },
           "yaxis": {
            "backgroundcolor": "#E5ECF6",
            "gridcolor": "white",
            "gridwidth": 2,
            "linecolor": "white",
            "showbackground": true,
            "ticks": "",
            "zerolinecolor": "white"
           },
           "zaxis": {
            "backgroundcolor": "#E5ECF6",
            "gridcolor": "white",
            "gridwidth": 2,
            "linecolor": "white",
            "showbackground": true,
            "ticks": "",
            "zerolinecolor": "white"
           }
          },
          "shapedefaults": {
           "line": {
            "color": "#2a3f5f"
           }
          },
          "ternary": {
           "aaxis": {
            "gridcolor": "white",
            "linecolor": "white",
            "ticks": ""
           },
           "baxis": {
            "gridcolor": "white",
            "linecolor": "white",
            "ticks": ""
           },
           "bgcolor": "#E5ECF6",
           "caxis": {
            "gridcolor": "white",
            "linecolor": "white",
            "ticks": ""
           }
          },
          "title": {
           "x": 0.05
          },
          "xaxis": {
           "automargin": true,
           "gridcolor": "white",
           "linecolor": "white",
           "ticks": "",
           "title": {
            "standoff": 15
           },
           "zerolinecolor": "white",
           "zerolinewidth": 2
          },
          "yaxis": {
           "automargin": true,
           "gridcolor": "white",
           "linecolor": "white",
           "ticks": "",
           "title": {
            "standoff": 15
           },
           "zerolinecolor": "white",
           "zerolinewidth": 2
          }
         }
        },
        "xaxis": {
         "autorange": "reversed",
         "visible": false
        },
        "yaxis": {
         "autorange": "reversed",
         "visible": false
        }
       }
      }
     },
     "metadata": {},
     "output_type": "display_data"
    }
   ],
   "source": [
    "\n",
    "\n",
    "fig = go.Figure()\n",
    "\n",
    "# xss = [norm_50[0][i][0] for i in range(21)]\n",
    "# yss = [norm_50[0][i][1] for i in range(21)]\n",
    "# fig.add_trace(go.Scatter(x=xss, y=yss, mode=\"markers\", name=\"50 cm\"))\n",
    "\n",
    "# xss = [norm_50[1][i][0] for i in range(21)]\n",
    "# yss = [norm_50[1][i][1] for i in range(21)]\n",
    "# fig.add_trace(go.Scatter(x=xss, y=yss, mode=\"markers\", name=\"50 cm\"))\n",
    "\n",
    "# xss = [norm_50[2][i][0] for i in range(21)]\n",
    "# yss = [norm_50[2][i][1] for i in range(21)]\n",
    "# fig.add_trace(go.Scatter(x=xss, y=yss, mode=\"markers\", name=\"50 cm\"))\n",
    "\n",
    "fig.add_trace(go.Scatter(x=xs_50, y=ys_50, mode=\"markers\", name=\"50 cm\"))\n",
    "\n",
    "fig.update_layout(\n",
    "    xaxis = dict(autorange=\"reversed\"),\n",
    "    yaxis = dict(autorange=\"reversed\"),\n",
    ")\n",
    "\n",
    "fig.update_xaxes(visible=False)\n",
    "fig.update_yaxes(visible=False)\n",
    "\n",
    "fig.show()"
   ]
  },
  {
   "cell_type": "code",
   "execution_count": null,
   "metadata": {},
   "outputs": [],
   "source": [
    "all_diffs = list()\n",
    "\n",
    "for df in diffs:\n",
    "    temp = [df.iloc[0, 1], df.iloc[0, 2], df.iloc[1, 2]]\n",
    "\n",
    "    all_diffs += temp\n",
    "\n",
    "blue_difs  = [all_diffs[3*i] for i in range(10)]\n",
    "red_difs   = [all_diffs[3*i + 1] for i in range(10)]\n",
    "green_difs = [all_diffs[3*i + 2] for i in range(10)]\n",
    "\n",
    "# fig = px.scatter(all_diffs, color=[\"blue\", \"green\", \"purple\"]*10, symbol=[\"circle\", \"square\", \"diamond\"]*10)\n",
    "fig = px.bar(all_diffs, color=[\"blue\", \"red\", \"green\"]*10)\n",
    "\n",
    "mean_dif = np.mean(green_difs)\n",
    "fig.add_hline(y=mean_dif, line=dict(color=\"red\", dash=\"dash\"))\n",
    "\n",
    "for x in [-0.5 + 3*i for i in range(11)]:\n",
    "    fig.add_vline(x=x, line=dict(color=\"green\", dash=\"longdashdot\"))\n",
    "\n",
    "fig.update_xaxes(visible=False)\n",
    "fig.update_layout(yaxis_title=\"Diferença geométrica\", legend_title=\"Par de distâncias\")\n",
    "\n",
    "print(mean_dif)\n",
    "fig.show()"
   ]
  },
  {
   "cell_type": "code",
   "execution_count": null,
   "metadata": {},
   "outputs": [],
   "source": [
    "np.std(blue_difs)"
   ]
  },
  {
   "cell_type": "code",
   "execution_count": null,
   "metadata": {},
   "outputs": [],
   "source": [
    "blue_difs  = [all_diffs[3*i] for i in range(10)]\n",
    "red_difs   = [all_diffs[3*i + 1] for i in range(10)]\n",
    "green_difs = [all_diffs[3*i + 2] for i in range(10)]"
   ]
  },
  {
   "cell_type": "code",
   "execution_count": null,
   "metadata": {},
   "outputs": [],
   "source": [
    "fig = px.bar(blue_difs)\n",
    "blue_mean_dif = np.mean(blue_difs)\n",
    "print(blue_mean_dif)\n",
    "fig.add_hline(y=blue_mean_dif, line=dict(color=\"red\", dash=\"dash\"))\n",
    "\n",
    "for x in [-0.5 + i for i in range(11)]:\n",
    "    fig.add_vline(x=x, line=dict(color=\"green\", dash=\"longdashdot\"))\n",
    "\n",
    "fig.update_xaxes(visible=False)\n",
    "fig.update_layout(yaxis_title=\"Diferença geométrica\")\n",
    "fig.show()"
   ]
  },
  {
   "cell_type": "code",
   "execution_count": null,
   "metadata": {},
   "outputs": [],
   "source": [
    "fig = px.scatter(red_difs, color=[\"red\"]*10, symbol=[\"square\"]*10)\n",
    "\n",
    "red_mean_dif = np.mean(red_difs)\n",
    "fig.add_hline(y=red_mean_dif, line=dict(color=\"red\", dash=\"dash\"))\n",
    "\n",
    "for x in [-0.5 + i for i in range(11)]:\n",
    "    fig.add_vline(x=x, line=dict(color=\"green\", dash=\"longdashdot\"))\n",
    "\n",
    "fig.update_xaxes(visible=False)\n",
    "fig.update_layout(yaxis_title=\"Diferença geométrica\")\n",
    "fig.show()"
   ]
  },
  {
   "cell_type": "code",
   "execution_count": null,
   "metadata": {},
   "outputs": [],
   "source": [
    "fig = px.scatter(blue_difs)\n",
    "\n",
    "blue_mean_dif = np.mean(blue_difs)\n",
    "fig.add_hline(y=blue_mean_dif, line=dict(color=\"red\", dash=\"dash\"))\n",
    "\n",
    "for x in [-0.5 + i for i in range(11)]:\n",
    "    fig.add_vline(x=x, line=dict(color=\"green\", dash=\"longdashdot\"))\n",
    "\n",
    "fig.update_xaxes(visible=False)\n",
    "fig.update_layout(yaxis_title=\"Diferença geométrica\")\n",
    "fig.show()"
   ]
  },
  {
   "cell_type": "code",
   "execution_count": null,
   "metadata": {},
   "outputs": [],
   "source": [
    "import plotly.figure_factory as ff\n",
    "\n",
    "hist_data = [all_diffs]\n",
    "group_labels = ['distplot'] # name of the dataset\n",
    "\n",
    "fig = ff.create_distplot(hist_data, group_labels, bin_size=0.03)\n",
    "fig.show()"
   ]
  },
  {
   "cell_type": "markdown",
   "metadata": {},
   "source": [
    "## 50 cm data"
   ]
  },
  {
   "cell_type": "code",
   "execution_count": null,
   "metadata": {},
   "outputs": [],
   "source": [
    "data_50 = list()\n",
    "\n",
    "for subject in subjects:\n",
    "    with open(f\"data/randomized/{subject}/50cm/{gesture_name}\", \"rb\") as file:\n",
    "        temp = pickle.load(file)\n",
    "        data_50 += temp"
   ]
  },
  {
   "cell_type": "markdown",
   "metadata": {},
   "source": [
    "## 75 cm data"
   ]
  },
  {
   "cell_type": "code",
   "execution_count": null,
   "metadata": {},
   "outputs": [],
   "source": [
    "data_75 = list()\n",
    "\n",
    "for subject in subjects:\n",
    "    with open(f\"data/randomized/{subject}/75cm/{gesture_name}\", \"rb\") as file:\n",
    "        temp = pickle.load(file)\n",
    "        data_75 += temp"
   ]
  },
  {
   "cell_type": "markdown",
   "metadata": {},
   "source": [
    "## 100 cm data"
   ]
  },
  {
   "cell_type": "code",
   "execution_count": null,
   "metadata": {},
   "outputs": [],
   "source": [
    "data_100 = list()\n",
    "\n",
    "for subject in subjects:\n",
    "    with open(f\"data/randomized/{subject}/100cm/{gesture_name}\", \"rb\") as file:\n",
    "        temp = pickle.load(file)\n",
    "        data_100 += temp"
   ]
  },
  {
   "cell_type": "markdown",
   "metadata": {},
   "source": [
    "# Normalizing the landmarks using MinMax Scaling"
   ]
  },
  {
   "cell_type": "code",
   "execution_count": null,
   "metadata": {},
   "outputs": [],
   "source": [
    "def normalize(z: float, max: float, min: float) -> float:\n",
    "    norm = (z - min)/(max - min)\n",
    "    round_norm = round(norm, 3)\n",
    "    \n",
    "    return round_norm"
   ]
  },
  {
   "cell_type": "code",
   "execution_count": null,
   "metadata": {},
   "outputs": [],
   "source": [
    "def normalize_landmarks(landmarks: list) -> list:\n",
    "    norm_landmarks = list()\n",
    "\n",
    "    for landmark in landmarks:\n",
    "        xs = [landmark[i][0] for i in range(len(landmark))]\n",
    "        ys = [landmark[i][1] for i in range(len(landmark))]\n",
    "\n",
    "        xmax = max(xs)\n",
    "        ymax = max(ys)\n",
    "        xmin = min(xs)\n",
    "        ymin = min(ys)\n",
    "\n",
    "        norm_landmark = list()\n",
    "\n",
    "        for x, y in zip(xs, ys):\n",
    "            norm = [normalize(z=x, max=xmax, min=xmin), normalize(z=y, max=ymax, min=ymin)]\n",
    "\n",
    "            norm_landmark.append(norm)\n",
    "\n",
    "        norm_landmarks.append(norm_landmark)\n",
    "\n",
    "    return norm_landmarks"
   ]
  },
  {
   "cell_type": "code",
   "execution_count": null,
   "metadata": {},
   "outputs": [],
   "source": [
    "norm_50  = normalize_landmarks(landmarks=data_50)\n",
    "norm_75  = normalize_landmarks(landmarks=data_75)\n",
    "norm_100 = normalize_landmarks(landmarks=data_100)"
   ]
  },
  {
   "cell_type": "code",
   "execution_count": null,
   "metadata": {},
   "outputs": [],
   "source": [
    "xs_1 = [point[0] for point in norm_50[0]]\n",
    "ys_1 = [point[1] for point in norm_50[0]]\n",
    "\n",
    "xs_2 = [point[0] for point in norm_50[1]]\n",
    "ys_2 = [point[1] for point in norm_50[1]]\n",
    "\n",
    "xs_3 = [point[0] for point in norm_50[2]]\n",
    "ys_3 = [point[1] for point in norm_50[2]]\n",
    "\n",
    "xs_4 = [point[0] for point in norm_50[3]]\n",
    "ys_4 = [point[1] for point in norm_50[3]]"
   ]
  },
  {
   "cell_type": "code",
   "execution_count": null,
   "metadata": {},
   "outputs": [],
   "source": [
    "fig = go.Figure()\n",
    "\n",
    "fig.add_trace(go.Scatter(x=xs_1, y=xs_1, mode=\"markers\", name=\"Sample X\"))\n",
    "fig.add_trace(go.Scatter(x=xs_1, y=ys_1, mode=\"markers+text\", name=\"Sample 1\", opacity=1, text=[f\"Point {i}\" for i in range(len(norm_50[0]))], textposition=\"bottom center\"))\n",
    "fig.add_trace(go.Scatter(x=xs_2, y=ys_2, mode=\"markers+text\", name=\"Sample 2\", opacity=0.5, text=[f\"Point {i}\" for i in range(len(norm_50[0]))], textposition=\"top center\"))\n",
    "fig.add_trace(go.Scatter(x=xs_3, y=ys_3, mode=\"markers+text\", name=\"Sample 3\", opacity=0.1, text=[f\"Point {i}\" for i in range(len(norm_50[0]))], textposition=\"bottom right\"))\n",
    "# fig.add_trace(go.Scatter(x=xs_4, y=ys_4, mode=\"markers+text\", name=\"Sample 4\", opacity=0.25, text=[f\"Point {i}\" for i in range(len(norm_50[0]))]))\n",
    "\n",
    "fig.update_layout(\n",
    "    xaxis=dict(autorange=\"reversed\"),\n",
    "    yaxis=dict(autorange=\"reversed\"),\n",
    ")\n",
    "\n",
    "fig.update_xaxes(visible=False)\n",
    "fig.update_yaxes(visible=False)\n",
    "\n",
    "fig.show()"
   ]
  },
  {
   "cell_type": "markdown",
   "metadata": {},
   "source": [
    "# Checking the \"mean\" gesture for each gesture"
   ]
  },
  {
   "cell_type": "code",
   "execution_count": null,
   "metadata": {},
   "outputs": [],
   "source": [
    "def get_mean_gesture(samples: list):\n",
    "    points_x = {}\n",
    "    points_y = {}\n",
    "\n",
    "    for i in range(21):\n",
    "        xs = [sample[i][0] for sample in samples]\n",
    "        ys = [sample[i][1] for sample in samples]\n",
    "\n",
    "        points_x[i] = xs\n",
    "        points_y[i] = ys\n",
    "\n",
    "    mean_gesture = list()\n",
    "\n",
    "    for i in range(21):\n",
    "        x_mean = np.mean(points_x.get(i))\n",
    "        y_mean = np.mean(points_y.get(i))\n",
    "\n",
    "        mean_gesture.append([x_mean, y_mean])\n",
    "\n",
    "    return mean_gesture"
   ]
  },
  {
   "cell_type": "code",
   "execution_count": null,
   "metadata": {},
   "outputs": [],
   "source": [
    "mean_gesture_50cm  = get_mean_gesture(samples=norm_50)\n",
    "mean_gesture_75cm  = get_mean_gesture(samples=norm_75)\n",
    "mean_gesture_100cm = get_mean_gesture(samples=norm_100)\n",
    "\n",
    "xs_50 = [mean_gesture_50cm[i][0] for i in range(len(mean_gesture_50cm))]\n",
    "ys_50 = [mean_gesture_50cm[i][1] for i in range(len(mean_gesture_50cm))]\n",
    "\n",
    "xs_75 = [mean_gesture_75cm[i][0] for i in range(len(mean_gesture_75cm))]\n",
    "ys_75 = [mean_gesture_75cm[i][1] for i in range(len(mean_gesture_75cm))]\n",
    "\n",
    "xs_100 = [mean_gesture_100cm[i][0] for i in range(len(mean_gesture_100cm))]\n",
    "ys_100 = [mean_gesture_100cm[i][1] for i in range(len(mean_gesture_100cm))]\n",
    "\n",
    "fig = go.Figure()\n",
    "\n",
    "fig.add_trace(go.Scatter(x=xs_50, y=ys_50, mode=\"markers\", name=\"50 cm\"))\n",
    "fig.add_trace(go.Scatter(x=xs_75, y=ys_75, mode=\"markers\", name=\"75 cm\"))\n",
    "fig.add_trace(go.Scatter(x=xs_100, y=ys_100, mode=\"markers\", name=\"100 cm\"))\n",
    "\n",
    "fig.update_layout(\n",
    "    xaxis = dict(autorange=\"reversed\"),\n",
    "    yaxis = dict(autorange=\"reversed\"),\n",
    ")\n",
    "\n",
    "fig.update_xaxes(visible=False)\n",
    "fig.update_yaxes(visible=False)\n",
    "\n",
    "fig.show()"
   ]
  },
  {
   "cell_type": "markdown",
   "metadata": {},
   "source": [
    "# Calculating the distances of each point to the center"
   ]
  },
  {
   "cell_type": "code",
   "execution_count": null,
   "metadata": {},
   "outputs": [],
   "source": [
    "def get_distance_of_points_to_center(landmark: list) -> list:\n",
    "    distances = list()\n",
    "\n",
    "    xs = [landmark[i][0] for i in range(len(landmark))]\n",
    "    ys = [landmark[i][1] for i in range(len(landmark))]\n",
    "\n",
    "    xmean = np.mean(xs)\n",
    "    ymean = np.mean(ys)\n",
    "\n",
    "    for point in landmark:\n",
    "        x = point[0]\n",
    "        y = point[1]\n",
    "\n",
    "        distance = pow(pow(x - xmean, 2) + pow(y - ymean, 2), 0.5)\n",
    "\n",
    "        distances.append(distance)\n",
    "    \n",
    "    return distances"
   ]
  },
  {
   "cell_type": "code",
   "execution_count": null,
   "metadata": {},
   "outputs": [],
   "source": [
    "def get_landmarks_distances(landmarks: list) -> list:\n",
    "    distances = list()\n",
    "\n",
    "    for landmark in landmarks:\n",
    "        lm_distances = get_distance_of_points_to_center(landmark=landmark)\n",
    "\n",
    "        distances.append(lm_distances)\n",
    "\n",
    "    return distances"
   ]
  },
  {
   "cell_type": "code",
   "execution_count": null,
   "metadata": {},
   "outputs": [],
   "source": [
    "def get_mean_distances_for_subset(landmarks: list) -> float:\n",
    "    distances = get_landmarks_distances(landmarks=landmarks)\n",
    "\n",
    "    mean_distances = [np.mean(dist) for dist in distances]\n",
    "\n",
    "    return mean_distances\n",
    "\n",
    "def get_mean_var_for_subset(landmarks: list) -> float:\n",
    "    distances = get_landmarks_distances(landmarks=landmarks)\n",
    "\n",
    "    mean_distances = [np.var(dist) for dist in distances]\n",
    "\n",
    "    return mean_distances"
   ]
  },
  {
   "cell_type": "code",
   "execution_count": null,
   "metadata": {},
   "outputs": [],
   "source": [
    "means_50 = get_mean_distances_for_subset(landmarks=norm_50)\n",
    "vars_50  = get_mean_var_for_subset(landmarks=norm_50)\n",
    "\n",
    "means_75 = get_mean_distances_for_subset(landmarks=norm_75)\n",
    "vars_75  = get_mean_var_for_subset(landmarks=norm_75)\n",
    "\n",
    "means_100 = get_mean_distances_for_subset(landmarks=norm_100)\n",
    "vars_100  = get_mean_var_for_subset(landmarks=norm_100)"
   ]
  },
  {
   "cell_type": "code",
   "execution_count": null,
   "metadata": {},
   "outputs": [],
   "source": [
    "means_df = pd.DataFrame([means_50, means_75, means_100]).T\n",
    "vars_df  = pd.DataFrame([vars_50, vars_75, vars_100]).T"
   ]
  },
  {
   "cell_type": "code",
   "execution_count": null,
   "metadata": {},
   "outputs": [],
   "source": [
    "px.scatter(means_df)"
   ]
  },
  {
   "cell_type": "markdown",
   "metadata": {},
   "source": [
    "# Hypothesis testing. First we check if the three variances follow a normal distribution. If all of them do, we perfom an ANOVA One Way test, if one is not normal, we perfom a Kruskal test. Both tests test a null hypothesis that the variances are similar. If a p-value is found to be less than 0.05, we can reject this hypothesis. We can test the normality of the variances using a Shapiro Wick test. It's null hypothesis is that the data is drown from a normal distribution."
   ]
  },
  {
   "cell_type": "code",
   "execution_count": null,
   "metadata": {},
   "outputs": [],
   "source": [
    "shapiro_results = {\n",
    "    \"50cm\": stats.shapiro(vars_50),\n",
    "    \"75cm\": stats.shapiro(vars_75),\n",
    "    \"100cm\": stats.shapiro(vars_100)\n",
    "}\n",
    "\n",
    "p_values = [results.pvalue for results in shapiro_results.values()]\n",
    "\n",
    "significant_pvalues = [p_value > 0.05 for p_value in p_values]\n",
    "\n",
    "is_normal = all(significant_pvalues)\n",
    "\n",
    "if is_normal:\n",
    "    print(\"All variances are drown from a normal distribution! Their p-values ares:\")\n",
    "    print(f\"    50cm: {p_values[0]}    75cm: {p_values[1]}    100cm: {p_values[2]}\\n\")\n",
    "\n",
    "    print(\"Using the ANOVA One Way test...\\n\")\n",
    "\n",
    "    result = stats.f_oneway(means_50, means_75, means_100)\n",
    "\n",
    "else:\n",
    "    print(\"One or more of the variances is NOT drown from a normal distribution. Their p-values are:\")\n",
    "    print(f\"    50cm: {p_values[0]}    75cm: {p_values[1]}    100cm: {p_values[2]}\\n\")\n",
    "\n",
    "    print(\"Using the Kruskal test...\\n\")\n",
    "\n",
    "    result = stats.kruskal(vars_50, vars_75, vars_100)\n",
    "\n",
    "print(f\"The test p-value is: {result.pvalue}\\n\")\n",
    "\n",
    "if result.pvalue > 0.05:\n",
    "    print(\"They are the same!\")\n",
    "\n",
    "else:\n",
    "    print(\"They are NOT the same!\")"
   ]
  },
  {
   "cell_type": "code",
   "execution_count": null,
   "metadata": {},
   "outputs": [],
   "source": [
    "vars = {\n",
    "    \"50cm\": vars_50,\n",
    "    \"75cm\": vars_75,\n",
    "    \"100cm\": vars_100\n",
    "}"
   ]
  },
  {
   "cell_type": "code",
   "execution_count": null,
   "metadata": {},
   "outputs": [],
   "source": [
    "def u_test_dataframe(vars: dict) -> pd.DataFrame:\n",
    "    df = pd.DataFrame(columns=list(vars.keys()), index=list(vars.keys()))\n",
    "\n",
    "    for var in list(vars.keys()):\n",
    "        for pair in list(vars.keys()):\n",
    "            if var == pair:\n",
    "                result = 1\n",
    "            \n",
    "            else:\n",
    "                result = stats.mannwhitneyu(vars.get(var), vars.get(pair))\n",
    "                result = result.pvalue\n",
    "            df[var].loc[pair] = result\n",
    "\n",
    "    return df"
   ]
  },
  {
   "cell_type": "code",
   "execution_count": null,
   "metadata": {},
   "outputs": [],
   "source": [
    "import plotly.figure_factory as ff"
   ]
  },
  {
   "cell_type": "code",
   "execution_count": null,
   "metadata": {},
   "outputs": [],
   "source": [
    "fig = ff.create_distplot([vars_50, vars_75, vars_100], [\"50cm\", \"75cm\", \"100cm\"])\n",
    "fig.show()"
   ]
  },
  {
   "cell_type": "code",
   "execution_count": null,
   "metadata": {},
   "outputs": [],
   "source": [
    "def main(gesture_name: str) -> None:\n",
    "    print(f\"------------- Gesture: {gesture_name} -------------\\n\")\n",
    "\n",
    "    data_50 = list()\n",
    "    \n",
    "    subjects = [f\"Subject{i}\" for i in range(1, 6)]\n",
    "\n",
    "    for subject in subjects:\n",
    "        with open(f\"data/randomized/{subject}/50cm/{gesture_name}\", \"rb\") as file:\n",
    "            temp = pickle.load(file)\n",
    "            data_50 += temp\n",
    "\n",
    "    data_75 = list()\n",
    "\n",
    "    for subject in subjects:\n",
    "        with open(f\"data/randomized/{subject}/75cm/{gesture_name}\", \"rb\") as file:\n",
    "            temp = pickle.load(file)\n",
    "            data_75 += temp\n",
    "\n",
    "    data_100 = list()\n",
    "\n",
    "    for subject in subjects:\n",
    "        with open(f\"data/randomized/{subject}/100cm/{gesture_name}\", \"rb\") as file:\n",
    "            temp = pickle.load(file)\n",
    "            data_100 += temp\n",
    "\n",
    "\n",
    "    norm_50  = normalize_landmarks(landmarks=data_50)\n",
    "    norm_75  = normalize_landmarks(landmarks=data_75)\n",
    "    norm_100 = normalize_landmarks(landmarks=data_100)\n",
    "\n",
    "\n",
    "    means_50 = get_mean_distances_for_subset(landmarks=norm_50)\n",
    "    vars_50  = get_mean_var_for_subset(landmarks=norm_50)\n",
    "\n",
    "    means_75 = get_mean_distances_for_subset(landmarks=norm_75)\n",
    "    vars_75  = get_mean_var_for_subset(landmarks=norm_75)\n",
    "\n",
    "    means_100 = get_mean_distances_for_subset(landmarks=norm_100)\n",
    "    vars_100  = get_mean_var_for_subset(landmarks=norm_100)\n",
    "\n",
    "    shapiro_results = {\n",
    "        \"50cm\": stats.shapiro(vars_50),\n",
    "        \"75cm\": stats.shapiro(vars_75),\n",
    "        \"100cm\": stats.shapiro(vars_100)\n",
    "    }\n",
    "\n",
    "    p_values = [results.pvalue for results in shapiro_results.values()]\n",
    "\n",
    "    significant_pvalues = [p_value > 0.05 for p_value in p_values]\n",
    "\n",
    "    is_normal = all(significant_pvalues)\n",
    "\n",
    "    if is_normal:\n",
    "        print(\"All variances are drown from a normal distribution! Their p-values ares:\")\n",
    "        print(f\"    50cm: {p_values[0]}    75cm: {p_values[1]}    100cm: {p_values[2]}\\n\")\n",
    "\n",
    "        print(\"Using the ANOVA One Way test...\\n\")\n",
    "\n",
    "        result = stats.f_oneway(vars_50, vars_75, vars_100)\n",
    "        # result = stats.f_oneway(means_50, means_75, means_100)\n",
    "        \n",
    "        print(f\"The test p-value is: {result.pvalue}\\n\")\n",
    "\n",
    "        if result.pvalue > 0.05:\n",
    "            print(\"They are the same!\\n\")\n",
    "\n",
    "        else:\n",
    "            print(\"They are NOT the same!\\n\")\n",
    "\n",
    "    else:\n",
    "        kruskal = True\n",
    "\n",
    "        if kruskal:\n",
    "            print(\"One or more of the variances is NOT drown from a normal distribution. Their p-values are:\")\n",
    "            print(f\"    50cm: {p_values[0]}    75cm: {p_values[1]}    100cm: {p_values[2]}\\n\")\n",
    "\n",
    "            print(\"Using the Kruskal test...\\n\")\n",
    "\n",
    "            result = stats.kruskal(vars_50, vars_75, vars_100)\n",
    "            # result = stats.kruskal(means_50, means_75, means_100)\n",
    "\n",
    "            print(f\"The test p-value is: {result.pvalue}\\n\")\n",
    "\n",
    "            if result.pvalue > 0.05:\n",
    "                print(\"They are the same!\\n\")\n",
    "\n",
    "            else:\n",
    "                print(\"They are NOT the same!\\n\")\n",
    "\n",
    "        else:\n",
    "            vars = {\n",
    "                \"50cm\": vars_50,\n",
    "                \"75cm\": vars_75,\n",
    "                \"100cm\": vars_100\n",
    "            }\n",
    "\n",
    "            u_test_df = u_test_dataframe(vars=vars)\n",
    "            print(u_test_df)"
   ]
  },
  {
   "cell_type": "code",
   "execution_count": null,
   "metadata": {},
   "outputs": [],
   "source": [
    "gesture_names = [\"click\", \"closed\", \"down\", \"mouse_tracking\", \"negative_closed\", \"negative_mouse_tracking\",\n",
    "                 \"negative_side\", \"negative_up\", \"side\", \"up\"]\n",
    "\n",
    "for gesture_name in gesture_names:\n",
    "    main(gesture_name=gesture_name)"
   ]
  }
 ],
 "metadata": {
  "kernelspec": {
   "display_name": "Python 3.8.8 ('kotoamatsukami-T53X9OZe-py3.8')",
   "language": "python",
   "name": "python3"
  },
  "language_info": {
   "codemirror_mode": {
    "name": "ipython",
    "version": 3
   },
   "file_extension": ".py",
   "mimetype": "text/x-python",
   "name": "python",
   "nbconvert_exporter": "python",
   "pygments_lexer": "ipython3",
   "version": "3.8.8"
  },
  "orig_nbformat": 4,
  "vscode": {
   "interpreter": {
    "hash": "a51161d7ba46dd3dbd9fc8c6bd348fb23b578d1cf3ae09598f24443a1428645a"
   }
  }
 },
 "nbformat": 4,
 "nbformat_minor": 2
}

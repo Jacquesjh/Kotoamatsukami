{
 "cells": [
  {
   "cell_type": "code",
   "execution_count": 1,
   "metadata": {},
   "outputs": [],
   "source": [
    "import numpy as np\n",
    "import pandas as pd\n",
    "import pickle\n",
    "import plotly.graph_objects as go\n",
    "import plotly.express as px\n",
    "from scipy import stats\n",
    "\n",
    "import numpy"
   ]
  },
  {
   "cell_type": "markdown",
   "metadata": {},
   "source": [
    "# Loading the data"
   ]
  },
  {
   "cell_type": "markdown",
   "metadata": {},
   "source": [
    "## Specifying gesture"
   ]
  },
  {
   "cell_type": "code",
   "execution_count": 2,
   "metadata": {},
   "outputs": [],
   "source": [
    "gesture_name = \"click\"\n",
    "subjects = [f\"Subject{i}\" for i in range(1, 6)]"
   ]
  },
  {
   "cell_type": "code",
   "execution_count": 5,
   "metadata": {},
   "outputs": [],
   "source": [
    "gesture_name = \"click\"\n",
    "subjects = [f\"Subject{i}\" for i in range(1, 6)]\n",
    "\n",
    "gesture_names = [\"click\", \"closed\", \"down\", \"mouse_tracking\", \"negative_closed\", \"negative_mouse_tracking\",\n",
    "                 \"negative_side\", \"negative_up\", \"side\", \"up\"]\n",
    "\n",
    "diffs = list()\n",
    "\n",
    "for gesture_name in gesture_names:\n",
    "    express = False\n",
    "\n",
    "    if express:\n",
    "        with open(f\"data/express/50cm/{gesture_name}\", \"rb\") as file:\n",
    "            data_50 = pickle.load(file)\n",
    "\n",
    "        with open(f\"data/express/75cm/{gesture_name}\", \"rb\") as file:\n",
    "            data_75 = pickle.load(file)\n",
    "\n",
    "        with open(f\"data/express/100cm/{gesture_name}\", \"rb\") as file:\n",
    "            data_100 = pickle.load(file)\n",
    "\n",
    "    else:\n",
    "        data_50  = list()\n",
    "        data_75  = list()\n",
    "        data_100 = list()\n",
    "        \n",
    "        for subject in subjects:\n",
    "            with open(f\"data/randomized/{subject}/50cm/{gesture_name}\", \"rb\") as file:\n",
    "                temp = pickle.load(file)\n",
    "                data_50 += temp\n",
    "\n",
    "            with open(f\"data/randomized/{subject}/75cm/{gesture_name}\", \"rb\") as file:\n",
    "                temp = pickle.load(file)\n",
    "                data_75 += temp\n",
    "\n",
    "            with open(f\"data/randomized/{subject}/100cm/{gesture_name}\", \"rb\") as file:\n",
    "                temp = pickle.load(file)\n",
    "                data_100 += temp\n",
    "                \n",
    "    def normalize(z: float, max: float, min: float) -> float:\n",
    "        norm = (z - min)/(max - min)\n",
    "        round_norm = round(norm, 3)\n",
    "        \n",
    "        return round_norm\n",
    "    def normalize_landmarks(landmarks: list) -> list:\n",
    "        norm_landmarks = list()\n",
    "\n",
    "        for landmark in landmarks:\n",
    "            xs = [landmark[i][0] for i in range(len(landmark))]\n",
    "            ys = [landmark[i][1] for i in range(len(landmark))]\n",
    "\n",
    "            xmax = max(xs)\n",
    "            ymax = max(ys)\n",
    "            xmin = min(xs)\n",
    "            ymin = min(ys)\n",
    "\n",
    "            norm_landmark = list()\n",
    "\n",
    "            for x, y in zip(xs, ys):\n",
    "                norm = [normalize(z=x, max=xmax, min=xmin), normalize(z=y, max=ymax, min=ymin)]\n",
    "\n",
    "                norm_landmark.append(norm)\n",
    "\n",
    "            norm_landmarks.append(norm_landmark)\n",
    "\n",
    "        return norm_landmarks\n",
    "    norm_50  = normalize_landmarks(landmarks=data_50)\n",
    "    norm_75  = normalize_landmarks(landmarks=data_75)\n",
    "    norm_100 = normalize_landmarks(landmarks=data_100)\n",
    "    def get_mean_gesture(samples: list):\n",
    "        points_x = {}\n",
    "        points_y = {}\n",
    "\n",
    "        for i in range(21):\n",
    "            xs = [sample[i][0] for sample in samples]\n",
    "            ys = [sample[i][1] for sample in samples]\n",
    "\n",
    "            points_x[i] = xs\n",
    "            points_y[i] = ys\n",
    "\n",
    "        mean_gesture = list()\n",
    "\n",
    "        for i in range(21):\n",
    "            x_mean = np.mean(points_x.get(i))\n",
    "            y_mean = np.mean(points_y.get(i))\n",
    "\n",
    "            mean_gesture.append([x_mean, y_mean])\n",
    "\n",
    "        return mean_gesture\n",
    "    mean_gesture_50cm  = get_mean_gesture(samples=norm_50)\n",
    "    mean_gesture_75cm  = get_mean_gesture(samples=norm_75)\n",
    "    mean_gesture_100cm = get_mean_gesture(samples=norm_100)\n",
    "\n",
    "    xs_50 = [mean_gesture_50cm[i][0] for i in range(len(mean_gesture_50cm))]\n",
    "    ys_50 = [mean_gesture_50cm[i][1] for i in range(len(mean_gesture_50cm))]\n",
    "\n",
    "    xs_75 = [mean_gesture_75cm[i][0] for i in range(len(mean_gesture_75cm))]\n",
    "    ys_75 = [mean_gesture_75cm[i][1] for i in range(len(mean_gesture_75cm))]\n",
    "\n",
    "    xs_100 = [mean_gesture_100cm[i][0] for i in range(len(mean_gesture_100cm))]\n",
    "    ys_100 = [mean_gesture_100cm[i][1] for i in range(len(mean_gesture_100cm))]\n",
    "\n",
    "    fig = go.Figure()\n",
    "\n",
    "    fig.add_trace(go.Scatter(x=xs_50, y=ys_50, mode=\"markers\", name=\"50 cm\"))\n",
    "    fig.add_trace(go.Scatter(x=xs_75, y=ys_75, mode=\"markers\", name=\"75 cm\"))\n",
    "    fig.add_trace(go.Scatter(x=xs_100, y=ys_100, mode=\"markers\", name=\"100 cm\"))\n",
    "\n",
    "    fig.update_layout(\n",
    "        xaxis = dict(autorange=\"reversed\"),\n",
    "        yaxis = dict(autorange=\"reversed\"),\n",
    "    )\n",
    "\n",
    "    fig.update_xaxes(visible=False)\n",
    "    fig.update_yaxes(visible=False)\n",
    "\n",
    "    # fig.show()\n",
    "\n",
    "    dif_matrix = pd.DataFrame(columns=[\"50 cm\", \"75 cm\", \"100 cm\"], index=[\"50 cm\", \"75 cm\", \"100 cm\"])\n",
    "\n",
    "    dist_map = {\n",
    "        \"50 cm\": mean_gesture_50cm,\n",
    "        \"75 cm\": mean_gesture_75cm,\n",
    "        \"100 cm\": mean_gesture_100cm\n",
    "    }\n",
    "\n",
    "\n",
    "    for dist, gest in dist_map.items():\n",
    "        for comp_dist, comp in dist_map.items():\n",
    "            if gest == comp:\n",
    "                dif_matrix[dist].loc[comp_dist] = np.NaN\n",
    "\n",
    "            else:\n",
    "                difs = list()\n",
    "\n",
    "                xs_gest = [gest[i][0] for i in range(len(gest))]\n",
    "                ys_gest = [gest[i][1] for i in range(len(gest))]\n",
    "\n",
    "                xs_comp = [comp[i][0] for i in range(len(comp))]\n",
    "                ys_comp = [comp[i][1] for i in range(len(comp))]\n",
    "\n",
    "                for i in range(len(xs_gest)):\n",
    "                    point_difference = pow(pow(xs_comp[i] - xs_gest[i], 2) + pow(ys_comp[i] - ys_gest[i], 2), 0.5)\n",
    "                    difs.append(point_difference)\n",
    "                \n",
    "                mean_dif = np.mean(difs)\n",
    "\n",
    "                dif_matrix[dist].loc[comp_dist] = mean_dif\n",
    "\n",
    "    diffs.append(dif_matrix)\n",
    "    # print(f\"            ----- {gesture_name} -----\")\n",
    "    # print(dif_matrix)"
   ]
  },
  {
   "cell_type": "code",
   "execution_count": 6,
   "metadata": {},
   "outputs": [
    {
     "name": "stdout",
     "output_type": "stream",
     "text": [
      "0.026310999115700028\n"
     ]
    },
    {
     "data": {
      "application/vnd.plotly.v1+json": {
       "config": {
        "plotlyServerURL": "https://plot.ly"
       },
       "data": [
        {
         "alignmentgroup": "True",
         "hovertemplate": "color=blue<br>index=%{x}<br>value=%{y}<extra></extra>",
         "legendgroup": "blue",
         "marker": {
          "color": "#636efa",
          "pattern": {
           "shape": ""
          }
         },
         "name": "blue",
         "offsetgroup": "blue",
         "orientation": "v",
         "showlegend": true,
         "textposition": "auto",
         "type": "bar",
         "x": [
          0,
          3,
          6,
          9,
          12,
          15,
          18,
          21,
          24,
          27
         ],
         "xaxis": "x",
         "y": [
          0.021768363218459867,
          0.017812284007374488,
          0.023008016723587748,
          0.027909982132109306,
          0.013996546473438292,
          0.009300649508362794,
          0.007945270263850394,
          0.023952926409375092,
          0.024142778854939345,
          0.010066438187499437
         ],
         "yaxis": "y"
        },
        {
         "alignmentgroup": "True",
         "hovertemplate": "color=red<br>index=%{x}<br>value=%{y}<extra></extra>",
         "legendgroup": "red",
         "marker": {
          "color": "#EF553B",
          "pattern": {
           "shape": ""
          }
         },
         "name": "red",
         "offsetgroup": "red",
         "orientation": "v",
         "showlegend": true,
         "textposition": "auto",
         "type": "bar",
         "x": [
          1,
          4,
          7,
          10,
          13,
          16,
          19,
          22,
          25,
          28
         ],
         "xaxis": "x",
         "y": [
          0.015945407017912465,
          0.017869368234688852,
          0.041347013564577366,
          0.018905608695091065,
          0.03349116959255318,
          0.03802511775109547,
          0.019075122022177145,
          0.016779385115391798,
          0.028838382470294004,
          0.043707844987399526
         ],
         "yaxis": "y"
        },
        {
         "alignmentgroup": "True",
         "hovertemplate": "color=green<br>index=%{x}<br>value=%{y}<extra></extra>",
         "legendgroup": "green",
         "marker": {
          "color": "#00cc96",
          "pattern": {
           "shape": ""
          }
         },
         "name": "green",
         "offsetgroup": "green",
         "orientation": "v",
         "showlegend": true,
         "textposition": "auto",
         "type": "bar",
         "x": [
          2,
          5,
          8,
          11,
          14,
          17,
          20,
          23,
          26,
          29
         ],
         "xaxis": "x",
         "y": [
          0.019329813775730034,
          0.021943582299108415,
          0.02831530300092002,
          0.028808248917890706,
          0.02793739687210441,
          0.03964898758095836,
          0.014364242522092216,
          0.019839170756452123,
          0.017680951491923873,
          0.045242293939820113
         ],
         "yaxis": "y"
        }
       ],
       "layout": {
        "barmode": "relative",
        "legend": {
         "title": {
          "text": "Par de distâncias"
         },
         "tracegroupgap": 0
        },
        "margin": {
         "t": 60
        },
        "shapes": [
         {
          "line": {
           "color": "red",
           "dash": "dash"
          },
          "type": "line",
          "x0": 0,
          "x1": 1,
          "xref": "x domain",
          "y0": 0.026310999115700028,
          "y1": 0.026310999115700028,
          "yref": "y"
         },
         {
          "line": {
           "color": "green",
           "dash": "longdashdot"
          },
          "type": "line",
          "x0": -0.5,
          "x1": -0.5,
          "xref": "x",
          "y0": 0,
          "y1": 1,
          "yref": "y domain"
         },
         {
          "line": {
           "color": "green",
           "dash": "longdashdot"
          },
          "type": "line",
          "x0": 2.5,
          "x1": 2.5,
          "xref": "x",
          "y0": 0,
          "y1": 1,
          "yref": "y domain"
         },
         {
          "line": {
           "color": "green",
           "dash": "longdashdot"
          },
          "type": "line",
          "x0": 5.5,
          "x1": 5.5,
          "xref": "x",
          "y0": 0,
          "y1": 1,
          "yref": "y domain"
         },
         {
          "line": {
           "color": "green",
           "dash": "longdashdot"
          },
          "type": "line",
          "x0": 8.5,
          "x1": 8.5,
          "xref": "x",
          "y0": 0,
          "y1": 1,
          "yref": "y domain"
         },
         {
          "line": {
           "color": "green",
           "dash": "longdashdot"
          },
          "type": "line",
          "x0": 11.5,
          "x1": 11.5,
          "xref": "x",
          "y0": 0,
          "y1": 1,
          "yref": "y domain"
         },
         {
          "line": {
           "color": "green",
           "dash": "longdashdot"
          },
          "type": "line",
          "x0": 14.5,
          "x1": 14.5,
          "xref": "x",
          "y0": 0,
          "y1": 1,
          "yref": "y domain"
         },
         {
          "line": {
           "color": "green",
           "dash": "longdashdot"
          },
          "type": "line",
          "x0": 17.5,
          "x1": 17.5,
          "xref": "x",
          "y0": 0,
          "y1": 1,
          "yref": "y domain"
         },
         {
          "line": {
           "color": "green",
           "dash": "longdashdot"
          },
          "type": "line",
          "x0": 20.5,
          "x1": 20.5,
          "xref": "x",
          "y0": 0,
          "y1": 1,
          "yref": "y domain"
         },
         {
          "line": {
           "color": "green",
           "dash": "longdashdot"
          },
          "type": "line",
          "x0": 23.5,
          "x1": 23.5,
          "xref": "x",
          "y0": 0,
          "y1": 1,
          "yref": "y domain"
         },
         {
          "line": {
           "color": "green",
           "dash": "longdashdot"
          },
          "type": "line",
          "x0": 26.5,
          "x1": 26.5,
          "xref": "x",
          "y0": 0,
          "y1": 1,
          "yref": "y domain"
         },
         {
          "line": {
           "color": "green",
           "dash": "longdashdot"
          },
          "type": "line",
          "x0": 29.5,
          "x1": 29.5,
          "xref": "x",
          "y0": 0,
          "y1": 1,
          "yref": "y domain"
         }
        ],
        "template": {
         "data": {
          "bar": [
           {
            "error_x": {
             "color": "#2a3f5f"
            },
            "error_y": {
             "color": "#2a3f5f"
            },
            "marker": {
             "line": {
              "color": "#E5ECF6",
              "width": 0.5
             },
             "pattern": {
              "fillmode": "overlay",
              "size": 10,
              "solidity": 0.2
             }
            },
            "type": "bar"
           }
          ],
          "barpolar": [
           {
            "marker": {
             "line": {
              "color": "#E5ECF6",
              "width": 0.5
             },
             "pattern": {
              "fillmode": "overlay",
              "size": 10,
              "solidity": 0.2
             }
            },
            "type": "barpolar"
           }
          ],
          "carpet": [
           {
            "aaxis": {
             "endlinecolor": "#2a3f5f",
             "gridcolor": "white",
             "linecolor": "white",
             "minorgridcolor": "white",
             "startlinecolor": "#2a3f5f"
            },
            "baxis": {
             "endlinecolor": "#2a3f5f",
             "gridcolor": "white",
             "linecolor": "white",
             "minorgridcolor": "white",
             "startlinecolor": "#2a3f5f"
            },
            "type": "carpet"
           }
          ],
          "choropleth": [
           {
            "colorbar": {
             "outlinewidth": 0,
             "ticks": ""
            },
            "type": "choropleth"
           }
          ],
          "contour": [
           {
            "colorbar": {
             "outlinewidth": 0,
             "ticks": ""
            },
            "colorscale": [
             [
              0,
              "#0d0887"
             ],
             [
              0.1111111111111111,
              "#46039f"
             ],
             [
              0.2222222222222222,
              "#7201a8"
             ],
             [
              0.3333333333333333,
              "#9c179e"
             ],
             [
              0.4444444444444444,
              "#bd3786"
             ],
             [
              0.5555555555555556,
              "#d8576b"
             ],
             [
              0.6666666666666666,
              "#ed7953"
             ],
             [
              0.7777777777777778,
              "#fb9f3a"
             ],
             [
              0.8888888888888888,
              "#fdca26"
             ],
             [
              1,
              "#f0f921"
             ]
            ],
            "type": "contour"
           }
          ],
          "contourcarpet": [
           {
            "colorbar": {
             "outlinewidth": 0,
             "ticks": ""
            },
            "type": "contourcarpet"
           }
          ],
          "heatmap": [
           {
            "colorbar": {
             "outlinewidth": 0,
             "ticks": ""
            },
            "colorscale": [
             [
              0,
              "#0d0887"
             ],
             [
              0.1111111111111111,
              "#46039f"
             ],
             [
              0.2222222222222222,
              "#7201a8"
             ],
             [
              0.3333333333333333,
              "#9c179e"
             ],
             [
              0.4444444444444444,
              "#bd3786"
             ],
             [
              0.5555555555555556,
              "#d8576b"
             ],
             [
              0.6666666666666666,
              "#ed7953"
             ],
             [
              0.7777777777777778,
              "#fb9f3a"
             ],
             [
              0.8888888888888888,
              "#fdca26"
             ],
             [
              1,
              "#f0f921"
             ]
            ],
            "type": "heatmap"
           }
          ],
          "heatmapgl": [
           {
            "colorbar": {
             "outlinewidth": 0,
             "ticks": ""
            },
            "colorscale": [
             [
              0,
              "#0d0887"
             ],
             [
              0.1111111111111111,
              "#46039f"
             ],
             [
              0.2222222222222222,
              "#7201a8"
             ],
             [
              0.3333333333333333,
              "#9c179e"
             ],
             [
              0.4444444444444444,
              "#bd3786"
             ],
             [
              0.5555555555555556,
              "#d8576b"
             ],
             [
              0.6666666666666666,
              "#ed7953"
             ],
             [
              0.7777777777777778,
              "#fb9f3a"
             ],
             [
              0.8888888888888888,
              "#fdca26"
             ],
             [
              1,
              "#f0f921"
             ]
            ],
            "type": "heatmapgl"
           }
          ],
          "histogram": [
           {
            "marker": {
             "pattern": {
              "fillmode": "overlay",
              "size": 10,
              "solidity": 0.2
             }
            },
            "type": "histogram"
           }
          ],
          "histogram2d": [
           {
            "colorbar": {
             "outlinewidth": 0,
             "ticks": ""
            },
            "colorscale": [
             [
              0,
              "#0d0887"
             ],
             [
              0.1111111111111111,
              "#46039f"
             ],
             [
              0.2222222222222222,
              "#7201a8"
             ],
             [
              0.3333333333333333,
              "#9c179e"
             ],
             [
              0.4444444444444444,
              "#bd3786"
             ],
             [
              0.5555555555555556,
              "#d8576b"
             ],
             [
              0.6666666666666666,
              "#ed7953"
             ],
             [
              0.7777777777777778,
              "#fb9f3a"
             ],
             [
              0.8888888888888888,
              "#fdca26"
             ],
             [
              1,
              "#f0f921"
             ]
            ],
            "type": "histogram2d"
           }
          ],
          "histogram2dcontour": [
           {
            "colorbar": {
             "outlinewidth": 0,
             "ticks": ""
            },
            "colorscale": [
             [
              0,
              "#0d0887"
             ],
             [
              0.1111111111111111,
              "#46039f"
             ],
             [
              0.2222222222222222,
              "#7201a8"
             ],
             [
              0.3333333333333333,
              "#9c179e"
             ],
             [
              0.4444444444444444,
              "#bd3786"
             ],
             [
              0.5555555555555556,
              "#d8576b"
             ],
             [
              0.6666666666666666,
              "#ed7953"
             ],
             [
              0.7777777777777778,
              "#fb9f3a"
             ],
             [
              0.8888888888888888,
              "#fdca26"
             ],
             [
              1,
              "#f0f921"
             ]
            ],
            "type": "histogram2dcontour"
           }
          ],
          "mesh3d": [
           {
            "colorbar": {
             "outlinewidth": 0,
             "ticks": ""
            },
            "type": "mesh3d"
           }
          ],
          "parcoords": [
           {
            "line": {
             "colorbar": {
              "outlinewidth": 0,
              "ticks": ""
             }
            },
            "type": "parcoords"
           }
          ],
          "pie": [
           {
            "automargin": true,
            "type": "pie"
           }
          ],
          "scatter": [
           {
            "marker": {
             "colorbar": {
              "outlinewidth": 0,
              "ticks": ""
             }
            },
            "type": "scatter"
           }
          ],
          "scatter3d": [
           {
            "line": {
             "colorbar": {
              "outlinewidth": 0,
              "ticks": ""
             }
            },
            "marker": {
             "colorbar": {
              "outlinewidth": 0,
              "ticks": ""
             }
            },
            "type": "scatter3d"
           }
          ],
          "scattercarpet": [
           {
            "marker": {
             "colorbar": {
              "outlinewidth": 0,
              "ticks": ""
             }
            },
            "type": "scattercarpet"
           }
          ],
          "scattergeo": [
           {
            "marker": {
             "colorbar": {
              "outlinewidth": 0,
              "ticks": ""
             }
            },
            "type": "scattergeo"
           }
          ],
          "scattergl": [
           {
            "marker": {
             "colorbar": {
              "outlinewidth": 0,
              "ticks": ""
             }
            },
            "type": "scattergl"
           }
          ],
          "scattermapbox": [
           {
            "marker": {
             "colorbar": {
              "outlinewidth": 0,
              "ticks": ""
             }
            },
            "type": "scattermapbox"
           }
          ],
          "scatterpolar": [
           {
            "marker": {
             "colorbar": {
              "outlinewidth": 0,
              "ticks": ""
             }
            },
            "type": "scatterpolar"
           }
          ],
          "scatterpolargl": [
           {
            "marker": {
             "colorbar": {
              "outlinewidth": 0,
              "ticks": ""
             }
            },
            "type": "scatterpolargl"
           }
          ],
          "scatterternary": [
           {
            "marker": {
             "colorbar": {
              "outlinewidth": 0,
              "ticks": ""
             }
            },
            "type": "scatterternary"
           }
          ],
          "surface": [
           {
            "colorbar": {
             "outlinewidth": 0,
             "ticks": ""
            },
            "colorscale": [
             [
              0,
              "#0d0887"
             ],
             [
              0.1111111111111111,
              "#46039f"
             ],
             [
              0.2222222222222222,
              "#7201a8"
             ],
             [
              0.3333333333333333,
              "#9c179e"
             ],
             [
              0.4444444444444444,
              "#bd3786"
             ],
             [
              0.5555555555555556,
              "#d8576b"
             ],
             [
              0.6666666666666666,
              "#ed7953"
             ],
             [
              0.7777777777777778,
              "#fb9f3a"
             ],
             [
              0.8888888888888888,
              "#fdca26"
             ],
             [
              1,
              "#f0f921"
             ]
            ],
            "type": "surface"
           }
          ],
          "table": [
           {
            "cells": {
             "fill": {
              "color": "#EBF0F8"
             },
             "line": {
              "color": "white"
             }
            },
            "header": {
             "fill": {
              "color": "#C8D4E3"
             },
             "line": {
              "color": "white"
             }
            },
            "type": "table"
           }
          ]
         },
         "layout": {
          "annotationdefaults": {
           "arrowcolor": "#2a3f5f",
           "arrowhead": 0,
           "arrowwidth": 1
          },
          "autotypenumbers": "strict",
          "coloraxis": {
           "colorbar": {
            "outlinewidth": 0,
            "ticks": ""
           }
          },
          "colorscale": {
           "diverging": [
            [
             0,
             "#8e0152"
            ],
            [
             0.1,
             "#c51b7d"
            ],
            [
             0.2,
             "#de77ae"
            ],
            [
             0.3,
             "#f1b6da"
            ],
            [
             0.4,
             "#fde0ef"
            ],
            [
             0.5,
             "#f7f7f7"
            ],
            [
             0.6,
             "#e6f5d0"
            ],
            [
             0.7,
             "#b8e186"
            ],
            [
             0.8,
             "#7fbc41"
            ],
            [
             0.9,
             "#4d9221"
            ],
            [
             1,
             "#276419"
            ]
           ],
           "sequential": [
            [
             0,
             "#0d0887"
            ],
            [
             0.1111111111111111,
             "#46039f"
            ],
            [
             0.2222222222222222,
             "#7201a8"
            ],
            [
             0.3333333333333333,
             "#9c179e"
            ],
            [
             0.4444444444444444,
             "#bd3786"
            ],
            [
             0.5555555555555556,
             "#d8576b"
            ],
            [
             0.6666666666666666,
             "#ed7953"
            ],
            [
             0.7777777777777778,
             "#fb9f3a"
            ],
            [
             0.8888888888888888,
             "#fdca26"
            ],
            [
             1,
             "#f0f921"
            ]
           ],
           "sequentialminus": [
            [
             0,
             "#0d0887"
            ],
            [
             0.1111111111111111,
             "#46039f"
            ],
            [
             0.2222222222222222,
             "#7201a8"
            ],
            [
             0.3333333333333333,
             "#9c179e"
            ],
            [
             0.4444444444444444,
             "#bd3786"
            ],
            [
             0.5555555555555556,
             "#d8576b"
            ],
            [
             0.6666666666666666,
             "#ed7953"
            ],
            [
             0.7777777777777778,
             "#fb9f3a"
            ],
            [
             0.8888888888888888,
             "#fdca26"
            ],
            [
             1,
             "#f0f921"
            ]
           ]
          },
          "colorway": [
           "#636efa",
           "#EF553B",
           "#00cc96",
           "#ab63fa",
           "#FFA15A",
           "#19d3f3",
           "#FF6692",
           "#B6E880",
           "#FF97FF",
           "#FECB52"
          ],
          "font": {
           "color": "#2a3f5f"
          },
          "geo": {
           "bgcolor": "white",
           "lakecolor": "white",
           "landcolor": "#E5ECF6",
           "showlakes": true,
           "showland": true,
           "subunitcolor": "white"
          },
          "hoverlabel": {
           "align": "left"
          },
          "hovermode": "closest",
          "mapbox": {
           "style": "light"
          },
          "paper_bgcolor": "white",
          "plot_bgcolor": "#E5ECF6",
          "polar": {
           "angularaxis": {
            "gridcolor": "white",
            "linecolor": "white",
            "ticks": ""
           },
           "bgcolor": "#E5ECF6",
           "radialaxis": {
            "gridcolor": "white",
            "linecolor": "white",
            "ticks": ""
           }
          },
          "scene": {
           "xaxis": {
            "backgroundcolor": "#E5ECF6",
            "gridcolor": "white",
            "gridwidth": 2,
            "linecolor": "white",
            "showbackground": true,
            "ticks": "",
            "zerolinecolor": "white"
           },
           "yaxis": {
            "backgroundcolor": "#E5ECF6",
            "gridcolor": "white",
            "gridwidth": 2,
            "linecolor": "white",
            "showbackground": true,
            "ticks": "",
            "zerolinecolor": "white"
           },
           "zaxis": {
            "backgroundcolor": "#E5ECF6",
            "gridcolor": "white",
            "gridwidth": 2,
            "linecolor": "white",
            "showbackground": true,
            "ticks": "",
            "zerolinecolor": "white"
           }
          },
          "shapedefaults": {
           "line": {
            "color": "#2a3f5f"
           }
          },
          "ternary": {
           "aaxis": {
            "gridcolor": "white",
            "linecolor": "white",
            "ticks": ""
           },
           "baxis": {
            "gridcolor": "white",
            "linecolor": "white",
            "ticks": ""
           },
           "bgcolor": "#E5ECF6",
           "caxis": {
            "gridcolor": "white",
            "linecolor": "white",
            "ticks": ""
           }
          },
          "title": {
           "x": 0.05
          },
          "xaxis": {
           "automargin": true,
           "gridcolor": "white",
           "linecolor": "white",
           "ticks": "",
           "title": {
            "standoff": 15
           },
           "zerolinecolor": "white",
           "zerolinewidth": 2
          },
          "yaxis": {
           "automargin": true,
           "gridcolor": "white",
           "linecolor": "white",
           "ticks": "",
           "title": {
            "standoff": 15
           },
           "zerolinecolor": "white",
           "zerolinewidth": 2
          }
         }
        },
        "xaxis": {
         "anchor": "y",
         "domain": [
          0,
          1
         ],
         "title": {
          "text": "index"
         },
         "visible": false
        },
        "yaxis": {
         "anchor": "x",
         "domain": [
          0,
          1
         ],
         "title": {
          "text": "Diferença geométrica"
         }
        }
       }
      }
     },
     "metadata": {},
     "output_type": "display_data"
    }
   ],
   "source": [
    "all_diffs = list()\n",
    "\n",
    "for df in diffs:\n",
    "    temp = [df.iloc[0, 1], df.iloc[0, 2], df.iloc[1, 2]]\n",
    "\n",
    "    all_diffs += temp\n",
    "\n",
    "blue_difs  = [all_diffs[3*i] for i in range(10)]\n",
    "red_difs   = [all_diffs[3*i + 1] for i in range(10)]\n",
    "green_difs = [all_diffs[3*i + 2] for i in range(10)]\n",
    "\n",
    "# fig = px.scatter(all_diffs, color=[\"blue\", \"green\", \"purple\"]*10, symbol=[\"circle\", \"square\", \"diamond\"]*10)\n",
    "fig = px.bar(all_diffs, color=[\"blue\", \"red\", \"green\"]*10)\n",
    "\n",
    "mean_dif = np.mean(green_difs)\n",
    "fig.add_hline(y=mean_dif, line=dict(color=\"red\", dash=\"dash\"))\n",
    "\n",
    "for x in [-0.5 + 3*i for i in range(11)]:\n",
    "    fig.add_vline(x=x, line=dict(color=\"green\", dash=\"longdashdot\"))\n",
    "\n",
    "fig.update_xaxes(visible=False)\n",
    "fig.update_layout(yaxis_title=\"Diferença geométrica\", legend_title=\"Par de distâncias\")\n",
    "\n",
    "print(mean_dif)\n",
    "fig.show()"
   ]
  },
  {
   "cell_type": "code",
   "execution_count": 4,
   "metadata": {},
   "outputs": [
    {
     "data": {
      "text/plain": [
       "0.03023500672975066"
      ]
     },
     "execution_count": 4,
     "metadata": {},
     "output_type": "execute_result"
    }
   ],
   "source": [
    "np.std(blue_difs)"
   ]
  },
  {
   "cell_type": "code",
   "execution_count": 92,
   "metadata": {},
   "outputs": [],
   "source": [
    "blue_difs  = [all_diffs[3*i] for i in range(10)]\n",
    "red_difs   = [all_diffs[3*i + 1] for i in range(10)]\n",
    "green_difs = [all_diffs[3*i + 2] for i in range(10)]"
   ]
  },
  {
   "cell_type": "code",
   "execution_count": 123,
   "metadata": {},
   "outputs": [
    {
     "name": "stdout",
     "output_type": "stream",
     "text": [
      "0.06225010970673047\n"
     ]
    },
    {
     "data": {
      "application/vnd.plotly.v1+json": {
       "config": {
        "plotlyServerURL": "https://plot.ly"
       },
       "data": [
        {
         "alignmentgroup": "True",
         "hovertemplate": "variable=0<br>index=%{x}<br>value=%{y}<extra></extra>",
         "legendgroup": "0",
         "marker": {
          "color": "#636efa",
          "pattern": {
           "shape": ""
          }
         },
         "name": "0",
         "offsetgroup": "0",
         "orientation": "v",
         "showlegend": true,
         "textposition": "auto",
         "type": "bar",
         "x": [
          0,
          1,
          2,
          3,
          4,
          5,
          6,
          7,
          8,
          9
         ],
         "xaxis": "x",
         "y": [
          0.08553878949455743,
          0.05323770517523334,
          0.04000828173806639,
          0.022817016368081422,
          0.13434292530021605,
          0.06475374693851578,
          0.05377901744393129,
          0.0817312205411463,
          0.036686002986567934,
          0.04960639108098889
         ],
         "yaxis": "y"
        }
       ],
       "layout": {
        "barmode": "relative",
        "legend": {
         "title": {
          "text": "variable"
         },
         "tracegroupgap": 0
        },
        "margin": {
         "t": 60
        },
        "shapes": [
         {
          "line": {
           "color": "red",
           "dash": "dash"
          },
          "type": "line",
          "x0": 0,
          "x1": 1,
          "xref": "x domain",
          "y0": 0.06225010970673047,
          "y1": 0.06225010970673047,
          "yref": "y"
         },
         {
          "line": {
           "color": "green",
           "dash": "longdashdot"
          },
          "type": "line",
          "x0": -0.5,
          "x1": -0.5,
          "xref": "x",
          "y0": 0,
          "y1": 1,
          "yref": "y domain"
         },
         {
          "line": {
           "color": "green",
           "dash": "longdashdot"
          },
          "type": "line",
          "x0": 0.5,
          "x1": 0.5,
          "xref": "x",
          "y0": 0,
          "y1": 1,
          "yref": "y domain"
         },
         {
          "line": {
           "color": "green",
           "dash": "longdashdot"
          },
          "type": "line",
          "x0": 1.5,
          "x1": 1.5,
          "xref": "x",
          "y0": 0,
          "y1": 1,
          "yref": "y domain"
         },
         {
          "line": {
           "color": "green",
           "dash": "longdashdot"
          },
          "type": "line",
          "x0": 2.5,
          "x1": 2.5,
          "xref": "x",
          "y0": 0,
          "y1": 1,
          "yref": "y domain"
         },
         {
          "line": {
           "color": "green",
           "dash": "longdashdot"
          },
          "type": "line",
          "x0": 3.5,
          "x1": 3.5,
          "xref": "x",
          "y0": 0,
          "y1": 1,
          "yref": "y domain"
         },
         {
          "line": {
           "color": "green",
           "dash": "longdashdot"
          },
          "type": "line",
          "x0": 4.5,
          "x1": 4.5,
          "xref": "x",
          "y0": 0,
          "y1": 1,
          "yref": "y domain"
         },
         {
          "line": {
           "color": "green",
           "dash": "longdashdot"
          },
          "type": "line",
          "x0": 5.5,
          "x1": 5.5,
          "xref": "x",
          "y0": 0,
          "y1": 1,
          "yref": "y domain"
         },
         {
          "line": {
           "color": "green",
           "dash": "longdashdot"
          },
          "type": "line",
          "x0": 6.5,
          "x1": 6.5,
          "xref": "x",
          "y0": 0,
          "y1": 1,
          "yref": "y domain"
         },
         {
          "line": {
           "color": "green",
           "dash": "longdashdot"
          },
          "type": "line",
          "x0": 7.5,
          "x1": 7.5,
          "xref": "x",
          "y0": 0,
          "y1": 1,
          "yref": "y domain"
         },
         {
          "line": {
           "color": "green",
           "dash": "longdashdot"
          },
          "type": "line",
          "x0": 8.5,
          "x1": 8.5,
          "xref": "x",
          "y0": 0,
          "y1": 1,
          "yref": "y domain"
         },
         {
          "line": {
           "color": "green",
           "dash": "longdashdot"
          },
          "type": "line",
          "x0": 9.5,
          "x1": 9.5,
          "xref": "x",
          "y0": 0,
          "y1": 1,
          "yref": "y domain"
         }
        ],
        "template": {
         "data": {
          "bar": [
           {
            "error_x": {
             "color": "#2a3f5f"
            },
            "error_y": {
             "color": "#2a3f5f"
            },
            "marker": {
             "line": {
              "color": "#E5ECF6",
              "width": 0.5
             },
             "pattern": {
              "fillmode": "overlay",
              "size": 10,
              "solidity": 0.2
             }
            },
            "type": "bar"
           }
          ],
          "barpolar": [
           {
            "marker": {
             "line": {
              "color": "#E5ECF6",
              "width": 0.5
             },
             "pattern": {
              "fillmode": "overlay",
              "size": 10,
              "solidity": 0.2
             }
            },
            "type": "barpolar"
           }
          ],
          "carpet": [
           {
            "aaxis": {
             "endlinecolor": "#2a3f5f",
             "gridcolor": "white",
             "linecolor": "white",
             "minorgridcolor": "white",
             "startlinecolor": "#2a3f5f"
            },
            "baxis": {
             "endlinecolor": "#2a3f5f",
             "gridcolor": "white",
             "linecolor": "white",
             "minorgridcolor": "white",
             "startlinecolor": "#2a3f5f"
            },
            "type": "carpet"
           }
          ],
          "choropleth": [
           {
            "colorbar": {
             "outlinewidth": 0,
             "ticks": ""
            },
            "type": "choropleth"
           }
          ],
          "contour": [
           {
            "colorbar": {
             "outlinewidth": 0,
             "ticks": ""
            },
            "colorscale": [
             [
              0,
              "#0d0887"
             ],
             [
              0.1111111111111111,
              "#46039f"
             ],
             [
              0.2222222222222222,
              "#7201a8"
             ],
             [
              0.3333333333333333,
              "#9c179e"
             ],
             [
              0.4444444444444444,
              "#bd3786"
             ],
             [
              0.5555555555555556,
              "#d8576b"
             ],
             [
              0.6666666666666666,
              "#ed7953"
             ],
             [
              0.7777777777777778,
              "#fb9f3a"
             ],
             [
              0.8888888888888888,
              "#fdca26"
             ],
             [
              1,
              "#f0f921"
             ]
            ],
            "type": "contour"
           }
          ],
          "contourcarpet": [
           {
            "colorbar": {
             "outlinewidth": 0,
             "ticks": ""
            },
            "type": "contourcarpet"
           }
          ],
          "heatmap": [
           {
            "colorbar": {
             "outlinewidth": 0,
             "ticks": ""
            },
            "colorscale": [
             [
              0,
              "#0d0887"
             ],
             [
              0.1111111111111111,
              "#46039f"
             ],
             [
              0.2222222222222222,
              "#7201a8"
             ],
             [
              0.3333333333333333,
              "#9c179e"
             ],
             [
              0.4444444444444444,
              "#bd3786"
             ],
             [
              0.5555555555555556,
              "#d8576b"
             ],
             [
              0.6666666666666666,
              "#ed7953"
             ],
             [
              0.7777777777777778,
              "#fb9f3a"
             ],
             [
              0.8888888888888888,
              "#fdca26"
             ],
             [
              1,
              "#f0f921"
             ]
            ],
            "type": "heatmap"
           }
          ],
          "heatmapgl": [
           {
            "colorbar": {
             "outlinewidth": 0,
             "ticks": ""
            },
            "colorscale": [
             [
              0,
              "#0d0887"
             ],
             [
              0.1111111111111111,
              "#46039f"
             ],
             [
              0.2222222222222222,
              "#7201a8"
             ],
             [
              0.3333333333333333,
              "#9c179e"
             ],
             [
              0.4444444444444444,
              "#bd3786"
             ],
             [
              0.5555555555555556,
              "#d8576b"
             ],
             [
              0.6666666666666666,
              "#ed7953"
             ],
             [
              0.7777777777777778,
              "#fb9f3a"
             ],
             [
              0.8888888888888888,
              "#fdca26"
             ],
             [
              1,
              "#f0f921"
             ]
            ],
            "type": "heatmapgl"
           }
          ],
          "histogram": [
           {
            "marker": {
             "pattern": {
              "fillmode": "overlay",
              "size": 10,
              "solidity": 0.2
             }
            },
            "type": "histogram"
           }
          ],
          "histogram2d": [
           {
            "colorbar": {
             "outlinewidth": 0,
             "ticks": ""
            },
            "colorscale": [
             [
              0,
              "#0d0887"
             ],
             [
              0.1111111111111111,
              "#46039f"
             ],
             [
              0.2222222222222222,
              "#7201a8"
             ],
             [
              0.3333333333333333,
              "#9c179e"
             ],
             [
              0.4444444444444444,
              "#bd3786"
             ],
             [
              0.5555555555555556,
              "#d8576b"
             ],
             [
              0.6666666666666666,
              "#ed7953"
             ],
             [
              0.7777777777777778,
              "#fb9f3a"
             ],
             [
              0.8888888888888888,
              "#fdca26"
             ],
             [
              1,
              "#f0f921"
             ]
            ],
            "type": "histogram2d"
           }
          ],
          "histogram2dcontour": [
           {
            "colorbar": {
             "outlinewidth": 0,
             "ticks": ""
            },
            "colorscale": [
             [
              0,
              "#0d0887"
             ],
             [
              0.1111111111111111,
              "#46039f"
             ],
             [
              0.2222222222222222,
              "#7201a8"
             ],
             [
              0.3333333333333333,
              "#9c179e"
             ],
             [
              0.4444444444444444,
              "#bd3786"
             ],
             [
              0.5555555555555556,
              "#d8576b"
             ],
             [
              0.6666666666666666,
              "#ed7953"
             ],
             [
              0.7777777777777778,
              "#fb9f3a"
             ],
             [
              0.8888888888888888,
              "#fdca26"
             ],
             [
              1,
              "#f0f921"
             ]
            ],
            "type": "histogram2dcontour"
           }
          ],
          "mesh3d": [
           {
            "colorbar": {
             "outlinewidth": 0,
             "ticks": ""
            },
            "type": "mesh3d"
           }
          ],
          "parcoords": [
           {
            "line": {
             "colorbar": {
              "outlinewidth": 0,
              "ticks": ""
             }
            },
            "type": "parcoords"
           }
          ],
          "pie": [
           {
            "automargin": true,
            "type": "pie"
           }
          ],
          "scatter": [
           {
            "marker": {
             "colorbar": {
              "outlinewidth": 0,
              "ticks": ""
             }
            },
            "type": "scatter"
           }
          ],
          "scatter3d": [
           {
            "line": {
             "colorbar": {
              "outlinewidth": 0,
              "ticks": ""
             }
            },
            "marker": {
             "colorbar": {
              "outlinewidth": 0,
              "ticks": ""
             }
            },
            "type": "scatter3d"
           }
          ],
          "scattercarpet": [
           {
            "marker": {
             "colorbar": {
              "outlinewidth": 0,
              "ticks": ""
             }
            },
            "type": "scattercarpet"
           }
          ],
          "scattergeo": [
           {
            "marker": {
             "colorbar": {
              "outlinewidth": 0,
              "ticks": ""
             }
            },
            "type": "scattergeo"
           }
          ],
          "scattergl": [
           {
            "marker": {
             "colorbar": {
              "outlinewidth": 0,
              "ticks": ""
             }
            },
            "type": "scattergl"
           }
          ],
          "scattermapbox": [
           {
            "marker": {
             "colorbar": {
              "outlinewidth": 0,
              "ticks": ""
             }
            },
            "type": "scattermapbox"
           }
          ],
          "scatterpolar": [
           {
            "marker": {
             "colorbar": {
              "outlinewidth": 0,
              "ticks": ""
             }
            },
            "type": "scatterpolar"
           }
          ],
          "scatterpolargl": [
           {
            "marker": {
             "colorbar": {
              "outlinewidth": 0,
              "ticks": ""
             }
            },
            "type": "scatterpolargl"
           }
          ],
          "scatterternary": [
           {
            "marker": {
             "colorbar": {
              "outlinewidth": 0,
              "ticks": ""
             }
            },
            "type": "scatterternary"
           }
          ],
          "surface": [
           {
            "colorbar": {
             "outlinewidth": 0,
             "ticks": ""
            },
            "colorscale": [
             [
              0,
              "#0d0887"
             ],
             [
              0.1111111111111111,
              "#46039f"
             ],
             [
              0.2222222222222222,
              "#7201a8"
             ],
             [
              0.3333333333333333,
              "#9c179e"
             ],
             [
              0.4444444444444444,
              "#bd3786"
             ],
             [
              0.5555555555555556,
              "#d8576b"
             ],
             [
              0.6666666666666666,
              "#ed7953"
             ],
             [
              0.7777777777777778,
              "#fb9f3a"
             ],
             [
              0.8888888888888888,
              "#fdca26"
             ],
             [
              1,
              "#f0f921"
             ]
            ],
            "type": "surface"
           }
          ],
          "table": [
           {
            "cells": {
             "fill": {
              "color": "#EBF0F8"
             },
             "line": {
              "color": "white"
             }
            },
            "header": {
             "fill": {
              "color": "#C8D4E3"
             },
             "line": {
              "color": "white"
             }
            },
            "type": "table"
           }
          ]
         },
         "layout": {
          "annotationdefaults": {
           "arrowcolor": "#2a3f5f",
           "arrowhead": 0,
           "arrowwidth": 1
          },
          "autotypenumbers": "strict",
          "coloraxis": {
           "colorbar": {
            "outlinewidth": 0,
            "ticks": ""
           }
          },
          "colorscale": {
           "diverging": [
            [
             0,
             "#8e0152"
            ],
            [
             0.1,
             "#c51b7d"
            ],
            [
             0.2,
             "#de77ae"
            ],
            [
             0.3,
             "#f1b6da"
            ],
            [
             0.4,
             "#fde0ef"
            ],
            [
             0.5,
             "#f7f7f7"
            ],
            [
             0.6,
             "#e6f5d0"
            ],
            [
             0.7,
             "#b8e186"
            ],
            [
             0.8,
             "#7fbc41"
            ],
            [
             0.9,
             "#4d9221"
            ],
            [
             1,
             "#276419"
            ]
           ],
           "sequential": [
            [
             0,
             "#0d0887"
            ],
            [
             0.1111111111111111,
             "#46039f"
            ],
            [
             0.2222222222222222,
             "#7201a8"
            ],
            [
             0.3333333333333333,
             "#9c179e"
            ],
            [
             0.4444444444444444,
             "#bd3786"
            ],
            [
             0.5555555555555556,
             "#d8576b"
            ],
            [
             0.6666666666666666,
             "#ed7953"
            ],
            [
             0.7777777777777778,
             "#fb9f3a"
            ],
            [
             0.8888888888888888,
             "#fdca26"
            ],
            [
             1,
             "#f0f921"
            ]
           ],
           "sequentialminus": [
            [
             0,
             "#0d0887"
            ],
            [
             0.1111111111111111,
             "#46039f"
            ],
            [
             0.2222222222222222,
             "#7201a8"
            ],
            [
             0.3333333333333333,
             "#9c179e"
            ],
            [
             0.4444444444444444,
             "#bd3786"
            ],
            [
             0.5555555555555556,
             "#d8576b"
            ],
            [
             0.6666666666666666,
             "#ed7953"
            ],
            [
             0.7777777777777778,
             "#fb9f3a"
            ],
            [
             0.8888888888888888,
             "#fdca26"
            ],
            [
             1,
             "#f0f921"
            ]
           ]
          },
          "colorway": [
           "#636efa",
           "#EF553B",
           "#00cc96",
           "#ab63fa",
           "#FFA15A",
           "#19d3f3",
           "#FF6692",
           "#B6E880",
           "#FF97FF",
           "#FECB52"
          ],
          "font": {
           "color": "#2a3f5f"
          },
          "geo": {
           "bgcolor": "white",
           "lakecolor": "white",
           "landcolor": "#E5ECF6",
           "showlakes": true,
           "showland": true,
           "subunitcolor": "white"
          },
          "hoverlabel": {
           "align": "left"
          },
          "hovermode": "closest",
          "mapbox": {
           "style": "light"
          },
          "paper_bgcolor": "white",
          "plot_bgcolor": "#E5ECF6",
          "polar": {
           "angularaxis": {
            "gridcolor": "white",
            "linecolor": "white",
            "ticks": ""
           },
           "bgcolor": "#E5ECF6",
           "radialaxis": {
            "gridcolor": "white",
            "linecolor": "white",
            "ticks": ""
           }
          },
          "scene": {
           "xaxis": {
            "backgroundcolor": "#E5ECF6",
            "gridcolor": "white",
            "gridwidth": 2,
            "linecolor": "white",
            "showbackground": true,
            "ticks": "",
            "zerolinecolor": "white"
           },
           "yaxis": {
            "backgroundcolor": "#E5ECF6",
            "gridcolor": "white",
            "gridwidth": 2,
            "linecolor": "white",
            "showbackground": true,
            "ticks": "",
            "zerolinecolor": "white"
           },
           "zaxis": {
            "backgroundcolor": "#E5ECF6",
            "gridcolor": "white",
            "gridwidth": 2,
            "linecolor": "white",
            "showbackground": true,
            "ticks": "",
            "zerolinecolor": "white"
           }
          },
          "shapedefaults": {
           "line": {
            "color": "#2a3f5f"
           }
          },
          "ternary": {
           "aaxis": {
            "gridcolor": "white",
            "linecolor": "white",
            "ticks": ""
           },
           "baxis": {
            "gridcolor": "white",
            "linecolor": "white",
            "ticks": ""
           },
           "bgcolor": "#E5ECF6",
           "caxis": {
            "gridcolor": "white",
            "linecolor": "white",
            "ticks": ""
           }
          },
          "title": {
           "x": 0.05
          },
          "xaxis": {
           "automargin": true,
           "gridcolor": "white",
           "linecolor": "white",
           "ticks": "",
           "title": {
            "standoff": 15
           },
           "zerolinecolor": "white",
           "zerolinewidth": 2
          },
          "yaxis": {
           "automargin": true,
           "gridcolor": "white",
           "linecolor": "white",
           "ticks": "",
           "title": {
            "standoff": 15
           },
           "zerolinecolor": "white",
           "zerolinewidth": 2
          }
         }
        },
        "xaxis": {
         "anchor": "y",
         "domain": [
          0,
          1
         ],
         "title": {
          "text": "index"
         },
         "visible": false
        },
        "yaxis": {
         "anchor": "x",
         "domain": [
          0,
          1
         ],
         "title": {
          "text": "Diferença geométrica"
         }
        }
       }
      }
     },
     "metadata": {},
     "output_type": "display_data"
    }
   ],
   "source": [
    "fig = px.bar(blue_difs)\n",
    "blue_mean_dif = np.mean(blue_difs)\n",
    "print(blue_mean_dif)\n",
    "fig.add_hline(y=blue_mean_dif, line=dict(color=\"red\", dash=\"dash\"))\n",
    "\n",
    "for x in [-0.5 + i for i in range(11)]:\n",
    "    fig.add_vline(x=x, line=dict(color=\"green\", dash=\"longdashdot\"))\n",
    "\n",
    "fig.update_xaxes(visible=False)\n",
    "fig.update_layout(yaxis_title=\"Diferença geométrica\")\n",
    "fig.show()"
   ]
  },
  {
   "cell_type": "code",
   "execution_count": 106,
   "metadata": {},
   "outputs": [
    {
     "data": {
      "application/vnd.plotly.v1+json": {
       "config": {
        "plotlyServerURL": "https://plot.ly"
       },
       "data": [
        {
         "hovertemplate": "color=red<br>symbol=square<br>index=%{x}<br>value=%{y}<extra></extra>",
         "legendgroup": "red, square",
         "marker": {
          "color": "#636efa",
          "symbol": "circle"
         },
         "mode": "markers",
         "name": "red, square",
         "orientation": "v",
         "showlegend": true,
         "type": "scatter",
         "x": [
          0,
          1,
          2,
          3,
          4,
          5,
          6,
          7,
          8,
          9
         ],
         "xaxis": "x",
         "y": [
          0.015945407017912465,
          0.017869368234688852,
          0.041347013564577366,
          0.018905608695091065,
          0.03349116959255318,
          0.03802511775109547,
          0.019075122022177145,
          0.016779385115391798,
          0.028838382470294004,
          0.043707844987399526
         ],
         "yaxis": "y"
        }
       ],
       "layout": {
        "legend": {
         "title": {
          "text": "color, symbol"
         },
         "tracegroupgap": 0
        },
        "margin": {
         "t": 60
        },
        "shapes": [
         {
          "line": {
           "color": "red",
           "dash": "dash"
          },
          "type": "line",
          "x0": 0,
          "x1": 1,
          "xref": "x domain",
          "y0": 0.027398441945118084,
          "y1": 0.027398441945118084,
          "yref": "y"
         },
         {
          "line": {
           "color": "green",
           "dash": "longdashdot"
          },
          "type": "line",
          "x0": -0.5,
          "x1": -0.5,
          "xref": "x",
          "y0": 0,
          "y1": 1,
          "yref": "y domain"
         },
         {
          "line": {
           "color": "green",
           "dash": "longdashdot"
          },
          "type": "line",
          "x0": 0.5,
          "x1": 0.5,
          "xref": "x",
          "y0": 0,
          "y1": 1,
          "yref": "y domain"
         },
         {
          "line": {
           "color": "green",
           "dash": "longdashdot"
          },
          "type": "line",
          "x0": 1.5,
          "x1": 1.5,
          "xref": "x",
          "y0": 0,
          "y1": 1,
          "yref": "y domain"
         },
         {
          "line": {
           "color": "green",
           "dash": "longdashdot"
          },
          "type": "line",
          "x0": 2.5,
          "x1": 2.5,
          "xref": "x",
          "y0": 0,
          "y1": 1,
          "yref": "y domain"
         },
         {
          "line": {
           "color": "green",
           "dash": "longdashdot"
          },
          "type": "line",
          "x0": 3.5,
          "x1": 3.5,
          "xref": "x",
          "y0": 0,
          "y1": 1,
          "yref": "y domain"
         },
         {
          "line": {
           "color": "green",
           "dash": "longdashdot"
          },
          "type": "line",
          "x0": 4.5,
          "x1": 4.5,
          "xref": "x",
          "y0": 0,
          "y1": 1,
          "yref": "y domain"
         },
         {
          "line": {
           "color": "green",
           "dash": "longdashdot"
          },
          "type": "line",
          "x0": 5.5,
          "x1": 5.5,
          "xref": "x",
          "y0": 0,
          "y1": 1,
          "yref": "y domain"
         },
         {
          "line": {
           "color": "green",
           "dash": "longdashdot"
          },
          "type": "line",
          "x0": 6.5,
          "x1": 6.5,
          "xref": "x",
          "y0": 0,
          "y1": 1,
          "yref": "y domain"
         },
         {
          "line": {
           "color": "green",
           "dash": "longdashdot"
          },
          "type": "line",
          "x0": 7.5,
          "x1": 7.5,
          "xref": "x",
          "y0": 0,
          "y1": 1,
          "yref": "y domain"
         },
         {
          "line": {
           "color": "green",
           "dash": "longdashdot"
          },
          "type": "line",
          "x0": 8.5,
          "x1": 8.5,
          "xref": "x",
          "y0": 0,
          "y1": 1,
          "yref": "y domain"
         },
         {
          "line": {
           "color": "green",
           "dash": "longdashdot"
          },
          "type": "line",
          "x0": 9.5,
          "x1": 9.5,
          "xref": "x",
          "y0": 0,
          "y1": 1,
          "yref": "y domain"
         }
        ],
        "template": {
         "data": {
          "bar": [
           {
            "error_x": {
             "color": "#2a3f5f"
            },
            "error_y": {
             "color": "#2a3f5f"
            },
            "marker": {
             "line": {
              "color": "#E5ECF6",
              "width": 0.5
             },
             "pattern": {
              "fillmode": "overlay",
              "size": 10,
              "solidity": 0.2
             }
            },
            "type": "bar"
           }
          ],
          "barpolar": [
           {
            "marker": {
             "line": {
              "color": "#E5ECF6",
              "width": 0.5
             },
             "pattern": {
              "fillmode": "overlay",
              "size": 10,
              "solidity": 0.2
             }
            },
            "type": "barpolar"
           }
          ],
          "carpet": [
           {
            "aaxis": {
             "endlinecolor": "#2a3f5f",
             "gridcolor": "white",
             "linecolor": "white",
             "minorgridcolor": "white",
             "startlinecolor": "#2a3f5f"
            },
            "baxis": {
             "endlinecolor": "#2a3f5f",
             "gridcolor": "white",
             "linecolor": "white",
             "minorgridcolor": "white",
             "startlinecolor": "#2a3f5f"
            },
            "type": "carpet"
           }
          ],
          "choropleth": [
           {
            "colorbar": {
             "outlinewidth": 0,
             "ticks": ""
            },
            "type": "choropleth"
           }
          ],
          "contour": [
           {
            "colorbar": {
             "outlinewidth": 0,
             "ticks": ""
            },
            "colorscale": [
             [
              0,
              "#0d0887"
             ],
             [
              0.1111111111111111,
              "#46039f"
             ],
             [
              0.2222222222222222,
              "#7201a8"
             ],
             [
              0.3333333333333333,
              "#9c179e"
             ],
             [
              0.4444444444444444,
              "#bd3786"
             ],
             [
              0.5555555555555556,
              "#d8576b"
             ],
             [
              0.6666666666666666,
              "#ed7953"
             ],
             [
              0.7777777777777778,
              "#fb9f3a"
             ],
             [
              0.8888888888888888,
              "#fdca26"
             ],
             [
              1,
              "#f0f921"
             ]
            ],
            "type": "contour"
           }
          ],
          "contourcarpet": [
           {
            "colorbar": {
             "outlinewidth": 0,
             "ticks": ""
            },
            "type": "contourcarpet"
           }
          ],
          "heatmap": [
           {
            "colorbar": {
             "outlinewidth": 0,
             "ticks": ""
            },
            "colorscale": [
             [
              0,
              "#0d0887"
             ],
             [
              0.1111111111111111,
              "#46039f"
             ],
             [
              0.2222222222222222,
              "#7201a8"
             ],
             [
              0.3333333333333333,
              "#9c179e"
             ],
             [
              0.4444444444444444,
              "#bd3786"
             ],
             [
              0.5555555555555556,
              "#d8576b"
             ],
             [
              0.6666666666666666,
              "#ed7953"
             ],
             [
              0.7777777777777778,
              "#fb9f3a"
             ],
             [
              0.8888888888888888,
              "#fdca26"
             ],
             [
              1,
              "#f0f921"
             ]
            ],
            "type": "heatmap"
           }
          ],
          "heatmapgl": [
           {
            "colorbar": {
             "outlinewidth": 0,
             "ticks": ""
            },
            "colorscale": [
             [
              0,
              "#0d0887"
             ],
             [
              0.1111111111111111,
              "#46039f"
             ],
             [
              0.2222222222222222,
              "#7201a8"
             ],
             [
              0.3333333333333333,
              "#9c179e"
             ],
             [
              0.4444444444444444,
              "#bd3786"
             ],
             [
              0.5555555555555556,
              "#d8576b"
             ],
             [
              0.6666666666666666,
              "#ed7953"
             ],
             [
              0.7777777777777778,
              "#fb9f3a"
             ],
             [
              0.8888888888888888,
              "#fdca26"
             ],
             [
              1,
              "#f0f921"
             ]
            ],
            "type": "heatmapgl"
           }
          ],
          "histogram": [
           {
            "marker": {
             "pattern": {
              "fillmode": "overlay",
              "size": 10,
              "solidity": 0.2
             }
            },
            "type": "histogram"
           }
          ],
          "histogram2d": [
           {
            "colorbar": {
             "outlinewidth": 0,
             "ticks": ""
            },
            "colorscale": [
             [
              0,
              "#0d0887"
             ],
             [
              0.1111111111111111,
              "#46039f"
             ],
             [
              0.2222222222222222,
              "#7201a8"
             ],
             [
              0.3333333333333333,
              "#9c179e"
             ],
             [
              0.4444444444444444,
              "#bd3786"
             ],
             [
              0.5555555555555556,
              "#d8576b"
             ],
             [
              0.6666666666666666,
              "#ed7953"
             ],
             [
              0.7777777777777778,
              "#fb9f3a"
             ],
             [
              0.8888888888888888,
              "#fdca26"
             ],
             [
              1,
              "#f0f921"
             ]
            ],
            "type": "histogram2d"
           }
          ],
          "histogram2dcontour": [
           {
            "colorbar": {
             "outlinewidth": 0,
             "ticks": ""
            },
            "colorscale": [
             [
              0,
              "#0d0887"
             ],
             [
              0.1111111111111111,
              "#46039f"
             ],
             [
              0.2222222222222222,
              "#7201a8"
             ],
             [
              0.3333333333333333,
              "#9c179e"
             ],
             [
              0.4444444444444444,
              "#bd3786"
             ],
             [
              0.5555555555555556,
              "#d8576b"
             ],
             [
              0.6666666666666666,
              "#ed7953"
             ],
             [
              0.7777777777777778,
              "#fb9f3a"
             ],
             [
              0.8888888888888888,
              "#fdca26"
             ],
             [
              1,
              "#f0f921"
             ]
            ],
            "type": "histogram2dcontour"
           }
          ],
          "mesh3d": [
           {
            "colorbar": {
             "outlinewidth": 0,
             "ticks": ""
            },
            "type": "mesh3d"
           }
          ],
          "parcoords": [
           {
            "line": {
             "colorbar": {
              "outlinewidth": 0,
              "ticks": ""
             }
            },
            "type": "parcoords"
           }
          ],
          "pie": [
           {
            "automargin": true,
            "type": "pie"
           }
          ],
          "scatter": [
           {
            "marker": {
             "colorbar": {
              "outlinewidth": 0,
              "ticks": ""
             }
            },
            "type": "scatter"
           }
          ],
          "scatter3d": [
           {
            "line": {
             "colorbar": {
              "outlinewidth": 0,
              "ticks": ""
             }
            },
            "marker": {
             "colorbar": {
              "outlinewidth": 0,
              "ticks": ""
             }
            },
            "type": "scatter3d"
           }
          ],
          "scattercarpet": [
           {
            "marker": {
             "colorbar": {
              "outlinewidth": 0,
              "ticks": ""
             }
            },
            "type": "scattercarpet"
           }
          ],
          "scattergeo": [
           {
            "marker": {
             "colorbar": {
              "outlinewidth": 0,
              "ticks": ""
             }
            },
            "type": "scattergeo"
           }
          ],
          "scattergl": [
           {
            "marker": {
             "colorbar": {
              "outlinewidth": 0,
              "ticks": ""
             }
            },
            "type": "scattergl"
           }
          ],
          "scattermapbox": [
           {
            "marker": {
             "colorbar": {
              "outlinewidth": 0,
              "ticks": ""
             }
            },
            "type": "scattermapbox"
           }
          ],
          "scatterpolar": [
           {
            "marker": {
             "colorbar": {
              "outlinewidth": 0,
              "ticks": ""
             }
            },
            "type": "scatterpolar"
           }
          ],
          "scatterpolargl": [
           {
            "marker": {
             "colorbar": {
              "outlinewidth": 0,
              "ticks": ""
             }
            },
            "type": "scatterpolargl"
           }
          ],
          "scatterternary": [
           {
            "marker": {
             "colorbar": {
              "outlinewidth": 0,
              "ticks": ""
             }
            },
            "type": "scatterternary"
           }
          ],
          "surface": [
           {
            "colorbar": {
             "outlinewidth": 0,
             "ticks": ""
            },
            "colorscale": [
             [
              0,
              "#0d0887"
             ],
             [
              0.1111111111111111,
              "#46039f"
             ],
             [
              0.2222222222222222,
              "#7201a8"
             ],
             [
              0.3333333333333333,
              "#9c179e"
             ],
             [
              0.4444444444444444,
              "#bd3786"
             ],
             [
              0.5555555555555556,
              "#d8576b"
             ],
             [
              0.6666666666666666,
              "#ed7953"
             ],
             [
              0.7777777777777778,
              "#fb9f3a"
             ],
             [
              0.8888888888888888,
              "#fdca26"
             ],
             [
              1,
              "#f0f921"
             ]
            ],
            "type": "surface"
           }
          ],
          "table": [
           {
            "cells": {
             "fill": {
              "color": "#EBF0F8"
             },
             "line": {
              "color": "white"
             }
            },
            "header": {
             "fill": {
              "color": "#C8D4E3"
             },
             "line": {
              "color": "white"
             }
            },
            "type": "table"
           }
          ]
         },
         "layout": {
          "annotationdefaults": {
           "arrowcolor": "#2a3f5f",
           "arrowhead": 0,
           "arrowwidth": 1
          },
          "autotypenumbers": "strict",
          "coloraxis": {
           "colorbar": {
            "outlinewidth": 0,
            "ticks": ""
           }
          },
          "colorscale": {
           "diverging": [
            [
             0,
             "#8e0152"
            ],
            [
             0.1,
             "#c51b7d"
            ],
            [
             0.2,
             "#de77ae"
            ],
            [
             0.3,
             "#f1b6da"
            ],
            [
             0.4,
             "#fde0ef"
            ],
            [
             0.5,
             "#f7f7f7"
            ],
            [
             0.6,
             "#e6f5d0"
            ],
            [
             0.7,
             "#b8e186"
            ],
            [
             0.8,
             "#7fbc41"
            ],
            [
             0.9,
             "#4d9221"
            ],
            [
             1,
             "#276419"
            ]
           ],
           "sequential": [
            [
             0,
             "#0d0887"
            ],
            [
             0.1111111111111111,
             "#46039f"
            ],
            [
             0.2222222222222222,
             "#7201a8"
            ],
            [
             0.3333333333333333,
             "#9c179e"
            ],
            [
             0.4444444444444444,
             "#bd3786"
            ],
            [
             0.5555555555555556,
             "#d8576b"
            ],
            [
             0.6666666666666666,
             "#ed7953"
            ],
            [
             0.7777777777777778,
             "#fb9f3a"
            ],
            [
             0.8888888888888888,
             "#fdca26"
            ],
            [
             1,
             "#f0f921"
            ]
           ],
           "sequentialminus": [
            [
             0,
             "#0d0887"
            ],
            [
             0.1111111111111111,
             "#46039f"
            ],
            [
             0.2222222222222222,
             "#7201a8"
            ],
            [
             0.3333333333333333,
             "#9c179e"
            ],
            [
             0.4444444444444444,
             "#bd3786"
            ],
            [
             0.5555555555555556,
             "#d8576b"
            ],
            [
             0.6666666666666666,
             "#ed7953"
            ],
            [
             0.7777777777777778,
             "#fb9f3a"
            ],
            [
             0.8888888888888888,
             "#fdca26"
            ],
            [
             1,
             "#f0f921"
            ]
           ]
          },
          "colorway": [
           "#636efa",
           "#EF553B",
           "#00cc96",
           "#ab63fa",
           "#FFA15A",
           "#19d3f3",
           "#FF6692",
           "#B6E880",
           "#FF97FF",
           "#FECB52"
          ],
          "font": {
           "color": "#2a3f5f"
          },
          "geo": {
           "bgcolor": "white",
           "lakecolor": "white",
           "landcolor": "#E5ECF6",
           "showlakes": true,
           "showland": true,
           "subunitcolor": "white"
          },
          "hoverlabel": {
           "align": "left"
          },
          "hovermode": "closest",
          "mapbox": {
           "style": "light"
          },
          "paper_bgcolor": "white",
          "plot_bgcolor": "#E5ECF6",
          "polar": {
           "angularaxis": {
            "gridcolor": "white",
            "linecolor": "white",
            "ticks": ""
           },
           "bgcolor": "#E5ECF6",
           "radialaxis": {
            "gridcolor": "white",
            "linecolor": "white",
            "ticks": ""
           }
          },
          "scene": {
           "xaxis": {
            "backgroundcolor": "#E5ECF6",
            "gridcolor": "white",
            "gridwidth": 2,
            "linecolor": "white",
            "showbackground": true,
            "ticks": "",
            "zerolinecolor": "white"
           },
           "yaxis": {
            "backgroundcolor": "#E5ECF6",
            "gridcolor": "white",
            "gridwidth": 2,
            "linecolor": "white",
            "showbackground": true,
            "ticks": "",
            "zerolinecolor": "white"
           },
           "zaxis": {
            "backgroundcolor": "#E5ECF6",
            "gridcolor": "white",
            "gridwidth": 2,
            "linecolor": "white",
            "showbackground": true,
            "ticks": "",
            "zerolinecolor": "white"
           }
          },
          "shapedefaults": {
           "line": {
            "color": "#2a3f5f"
           }
          },
          "ternary": {
           "aaxis": {
            "gridcolor": "white",
            "linecolor": "white",
            "ticks": ""
           },
           "baxis": {
            "gridcolor": "white",
            "linecolor": "white",
            "ticks": ""
           },
           "bgcolor": "#E5ECF6",
           "caxis": {
            "gridcolor": "white",
            "linecolor": "white",
            "ticks": ""
           }
          },
          "title": {
           "x": 0.05
          },
          "xaxis": {
           "automargin": true,
           "gridcolor": "white",
           "linecolor": "white",
           "ticks": "",
           "title": {
            "standoff": 15
           },
           "zerolinecolor": "white",
           "zerolinewidth": 2
          },
          "yaxis": {
           "automargin": true,
           "gridcolor": "white",
           "linecolor": "white",
           "ticks": "",
           "title": {
            "standoff": 15
           },
           "zerolinecolor": "white",
           "zerolinewidth": 2
          }
         }
        },
        "xaxis": {
         "anchor": "y",
         "domain": [
          0,
          1
         ],
         "title": {
          "text": "index"
         },
         "visible": false
        },
        "yaxis": {
         "anchor": "x",
         "domain": [
          0,
          1
         ],
         "title": {
          "text": "Diferença geométrica"
         }
        }
       }
      }
     },
     "metadata": {},
     "output_type": "display_data"
    }
   ],
   "source": [
    "fig = px.scatter(red_difs, color=[\"red\"]*10, symbol=[\"square\"]*10)\n",
    "\n",
    "red_mean_dif = np.mean(red_difs)\n",
    "fig.add_hline(y=red_mean_dif, line=dict(color=\"red\", dash=\"dash\"))\n",
    "\n",
    "for x in [-0.5 + i for i in range(11)]:\n",
    "    fig.add_vline(x=x, line=dict(color=\"green\", dash=\"longdashdot\"))\n",
    "\n",
    "fig.update_xaxes(visible=False)\n",
    "fig.update_layout(yaxis_title=\"Diferença geométrica\")\n",
    "fig.show()"
   ]
  },
  {
   "cell_type": "code",
   "execution_count": 86,
   "metadata": {},
   "outputs": [
    {
     "data": {
      "text/plain": [
       "0.009934989897651408"
      ]
     },
     "execution_count": 86,
     "metadata": {},
     "output_type": "execute_result"
    }
   ],
   "source": [
    "fig = px.scatter(blue_difs)\n",
    "\n",
    "blue_mean_dif = np.mean(blue_difs)\n",
    "fig.add_hline(y=blue_mean_dif, line=dict(color=\"red\", dash=\"dash\"))\n",
    "\n",
    "for x in [-0.5 + i for i in range(11)]:\n",
    "    fig.add_vline(x=x, line=dict(color=\"green\", dash=\"longdashdot\"))\n",
    "\n",
    "fig.update_xaxes(visible=False)\n",
    "fig.update_layout(yaxis_title=\"Diferença geométrica\")\n",
    "fig.show()"
   ]
  },
  {
   "cell_type": "code",
   "execution_count": 43,
   "metadata": {},
   "outputs": [
    {
     "data": {
      "application/vnd.plotly.v1+json": {
       "config": {
        "plotlyServerURL": "https://plot.ly"
       },
       "data": [
        {
         "autobinx": false,
         "histnorm": "probability density",
         "legendgroup": "distplot",
         "marker": {
          "color": "rgb(31, 119, 180)"
         },
         "name": "distplot",
         "opacity": 0.7,
         "type": "histogram",
         "x": [
          0.021768363218459867,
          0.015945407017912465,
          0.019329813775730034,
          0.017812284007374488,
          0.017869368234688852,
          0.021943582299108415,
          0.023008016723587748,
          0.041347013564577366,
          0.02831530300092002,
          0.027909982132109306,
          0.018905608695091065,
          0.028808248917890706,
          0.013996546473438292,
          0.03349116959255318,
          0.02793739687210441,
          0.009300649508362794,
          0.03802511775109547,
          0.03964898758095836,
          0.007945270263850394,
          0.019075122022177145,
          0.014364242522092216,
          0.023952926409375092,
          0.016779385115391798,
          0.019839170756452123,
          0.024142778854939345,
          0.028838382470294004,
          0.017680951491923873,
          0.010066438187499437,
          0.043707844987399526,
          0.045242293939820113
         ],
         "xaxis": "x",
         "xbins": {
          "end": 0.045242293939820113,
          "size": 0.03,
          "start": 0.007945270263850394
         },
         "yaxis": "y"
        },
        {
         "legendgroup": "distplot",
         "marker": {
          "color": "rgb(31, 119, 180)"
         },
         "mode": "lines",
         "name": "distplot",
         "showlegend": false,
         "type": "scatter",
         "x": [
          0.007945270263850394,
          0.008019864311202333,
          0.008094458358554272,
          0.008169052405906213,
          0.008243646453258152,
          0.008318240500610091,
          0.00839283454796203,
          0.00846742859531397,
          0.00854202264266591,
          0.008616616690017849,
          0.008691210737369788,
          0.008765804784721727,
          0.008840398832073666,
          0.008914992879425607,
          0.008989586926777546,
          0.009064180974129485,
          0.009138775021481424,
          0.009213369068833365,
          0.009287963116185304,
          0.009362557163537243,
          0.009437151210889182,
          0.009511745258241121,
          0.009586339305593062,
          0.009660933352945001,
          0.00973552740029694,
          0.00981012144764888,
          0.009884715495000819,
          0.00995930954235276,
          0.010033903589704699,
          0.010108497637056638,
          0.010183091684408577,
          0.010257685731760516,
          0.010332279779112457,
          0.010406873826464396,
          0.010481467873816335,
          0.010556061921168274,
          0.010630655968520215,
          0.010705250015872154,
          0.010779844063224093,
          0.010854438110576032,
          0.010929032157927971,
          0.01100362620527991,
          0.011078220252631851,
          0.01115281429998379,
          0.011227408347335729,
          0.01130200239468767,
          0.011376596442039609,
          0.011451190489391548,
          0.011525784536743487,
          0.011600378584095426,
          0.011674972631447365,
          0.011749566678799304,
          0.011824160726151245,
          0.011898754773503184,
          0.011973348820855125,
          0.012047942868207064,
          0.012122536915559003,
          0.012197130962910942,
          0.012271725010262882,
          0.01234631905761482,
          0.01242091310496676,
          0.012495507152318699,
          0.01257010119967064,
          0.012644695247022579,
          0.01271928929437452,
          0.012793883341726459,
          0.012868477389078398,
          0.012943071436430337,
          0.013017665483782276,
          0.013092259531134215,
          0.013166853578486154,
          0.013241447625838093,
          0.013316041673190034,
          0.013390635720541973,
          0.013465229767893914,
          0.013539823815245853,
          0.013614417862597792,
          0.013689011909949731,
          0.01376360595730167,
          0.01383820000465361,
          0.013912794052005548,
          0.013987388099357487,
          0.014061982146709428,
          0.014136576194061367,
          0.014211170241413308,
          0.014285764288765247,
          0.014360358336117186,
          0.014434952383469125,
          0.014509546430821064,
          0.014584140478173004,
          0.014658734525524944,
          0.014733328572876882,
          0.014807922620228823,
          0.014882516667580762,
          0.014957110714932702,
          0.015031704762284642,
          0.01510629880963658,
          0.01518089285698852,
          0.015255486904340459,
          0.015330080951692398,
          0.015404674999044339,
          0.015479269046396278,
          0.015553863093748217,
          0.015628457141100158,
          0.015703051188452097,
          0.015777645235804036,
          0.015852239283155975,
          0.015926833330507914,
          0.016001427377859853,
          0.016076021425211792,
          0.01615061547256373,
          0.01622520951991567,
          0.016299803567267613,
          0.01637439761461955,
          0.01644899166197149,
          0.01652358570932343,
          0.016598179756675373,
          0.01667277380402731,
          0.016747367851379247,
          0.01682196189873119,
          0.01689655594608313,
          0.016971149993435068,
          0.017045744040787007,
          0.017120338088138946,
          0.017194932135490885,
          0.017269526182842825,
          0.017344120230194764,
          0.017418714277546703,
          0.017493308324898642,
          0.01756790237225058,
          0.01764249641960252,
          0.01771709046695446,
          0.0177916845143064,
          0.017866278561658337,
          0.01794087260901028,
          0.01801546665636222,
          0.01809006070371416,
          0.018164654751066097,
          0.01823924879841804,
          0.01831384284576998,
          0.018388436893121918,
          0.018463030940473857,
          0.018537624987825796,
          0.018612219035177735,
          0.018686813082529674,
          0.018761407129881613,
          0.018836001177233552,
          0.01891059522458549,
          0.01898518927193743,
          0.01905978331928937,
          0.01913437736664131,
          0.019208971413993248,
          0.01928356546134519,
          0.019358159508697126,
          0.01943275355604907,
          0.019507347603401008,
          0.01958194165075295,
          0.01965653569810489,
          0.019731129745456828,
          0.019805723792808767,
          0.019880317840160706,
          0.019954911887512645,
          0.020029505934864585,
          0.020104099982216524,
          0.020178694029568463,
          0.020253288076920402,
          0.02032788212427234,
          0.02040247617162428,
          0.02047707021897622,
          0.02055166426632816,
          0.020626258313680097,
          0.020700852361032036,
          0.02077544640838398,
          0.020850040455735918,
          0.020924634503087857,
          0.020999228550439796,
          0.02107382259779174,
          0.021148416645143678,
          0.021223010692495617,
          0.021297604739847556,
          0.021372198787199495,
          0.021446792834551434,
          0.021521386881903373,
          0.021595980929255312,
          0.02167057497660725,
          0.02174516902395919,
          0.02181976307131113,
          0.02189435711866307,
          0.021968951166015008,
          0.02204354521336695,
          0.022118139260718886,
          0.02219273330807083,
          0.022267327355422768,
          0.022341921402774707,
          0.022416515450126646,
          0.022491109497478585,
          0.022565703544830527,
          0.022640297592182466,
          0.022714891639534406,
          0.022789485686886345,
          0.022864079734238284,
          0.022938673781590223,
          0.023013267828942162,
          0.0230878618762941,
          0.02316245592364604,
          0.02323704997099798,
          0.023311644018349918,
          0.023386238065701857,
          0.023460832113053796,
          0.02353542616040574,
          0.023610020207757678,
          0.023684614255109617,
          0.023759208302461556,
          0.023833802349813495,
          0.023908396397165434,
          0.023982990444517373,
          0.024057584491869316,
          0.024132178539221255,
          0.02420677258657319,
          0.024281366633925133,
          0.024355960681277072,
          0.02443055472862901,
          0.02450514877598095,
          0.02457974282333289,
          0.024654336870684832,
          0.024728930918036768,
          0.024803524965388707,
          0.02487811901274065,
          0.02495271306009259,
          0.025027307107444524,
          0.025101901154796467,
          0.025176495202148406,
          0.02525108924950035,
          0.025325683296852284,
          0.025400277344204223,
          0.025474871391556166,
          0.0255494654389081,
          0.02562405948626004,
          0.025698653533611983,
          0.025773247580963922,
          0.02584784162831586,
          0.0259224356756678,
          0.02599702972301974,
          0.026071623770371682,
          0.026146217817723617,
          0.026220811865075556,
          0.0262954059124275,
          0.026369999959779435,
          0.026444594007131377,
          0.026519188054483316,
          0.026593782101835255,
          0.026668376149187194,
          0.026742970196539134,
          0.026817564243891073,
          0.026892158291243015,
          0.02696675233859495,
          0.027041346385946893,
          0.027115940433298832,
          0.027190534480650768,
          0.02726512852800271,
          0.02733972257535465,
          0.027414316622706592,
          0.027488910670058528,
          0.027563504717410467,
          0.02763809876476241,
          0.02771269281211435,
          0.027787286859466284,
          0.027861880906818227,
          0.027936474954170166,
          0.028011069001522105,
          0.028085663048874044,
          0.028160257096225983,
          0.028234851143577926,
          0.02830944519092986,
          0.0283840392382818,
          0.028458633285633743,
          0.028533227332985682,
          0.02860782138033762,
          0.02868241542768956,
          0.0287570094750415,
          0.02883160352239344,
          0.028906197569745377,
          0.028980791617097316,
          0.02905538566444926,
          0.029129979711801195,
          0.029204573759153137,
          0.029279167806505076,
          0.029353761853857015,
          0.029428355901208954,
          0.029502949948560894,
          0.029577543995912833,
          0.02965213804326477,
          0.02972673209061671,
          0.029801326137968653,
          0.029875920185320592,
          0.029950514232672528,
          0.03002510828002447,
          0.03009970232737641,
          0.03017429637472835,
          0.030248890422080288,
          0.030323484469432227,
          0.03039807851678417,
          0.030472672564136105,
          0.030547266611488044,
          0.030621860658839987,
          0.030696454706191926,
          0.03077104875354386,
          0.030845642800895804,
          0.030920236848247743,
          0.030994830895599686,
          0.03106942494295162,
          0.03114401899030356,
          0.031218613037655503,
          0.031293207085007435,
          0.03136780113235938,
          0.03144239517971132,
          0.03151698922706326,
          0.0315915832744152,
          0.03166617732176714,
          0.03174077136911908,
          0.031815365416471016,
          0.031889959463822955,
          0.0319645535111749,
          0.03203914755852684,
          0.03211374160587877,
          0.03218833565323072,
          0.03226292970058266,
          0.032337523747934596,
          0.032412117795286535,
          0.032486711842638474,
          0.03256130588999041,
          0.03263589993734235,
          0.03271049398469429,
          0.03278508803204623,
          0.03285968207939817,
          0.03293427612675011,
          0.03300887017410205,
          0.03308346422145399,
          0.033158058268805926,
          0.033232652316157865,
          0.033307246363509804,
          0.03338184041086174,
          0.03345643445821368,
          0.03353102850556562,
          0.03360562255291756,
          0.0336802166002695,
          0.03375481064762144,
          0.03382940469497338,
          0.03390399874232532,
          0.03397859278967726,
          0.034053186837029195,
          0.034127780884381134,
          0.03420237493173308,
          0.03427696897908501,
          0.03435156302643696,
          0.0344261570737889,
          0.03450075112114084,
          0.034575345168492776,
          0.034649939215844715,
          0.03472453326319666,
          0.0347991273105486,
          0.03487372135790053,
          0.03494831540525248,
          0.03502290945260442,
          0.03509750349995635,
          0.035172097547308295,
          0.035246691594660234,
          0.03532128564201217,
          0.03539587968936411,
          0.03547047373671605,
          0.03554506778406799,
          0.03561966183141993,
          0.03569425587877187,
          0.03576884992612381,
          0.03584344397347575,
          0.035918038020827686,
          0.035992632068179625,
          0.036067226115531564,
          0.0361418201628835,
          0.03621641421023544,
          0.03629100825758738,
          0.03636560230493932,
          0.03644019635229126,
          0.0365147903996432,
          0.03658938444699514,
          0.03666397849434708,
          0.036738572541699016,
          0.036813166589050955,
          0.036887760636402894,
          0.03696235468375484,
          0.03703694873110677,
          0.03711154277845872,
          0.03718613682581066,
          0.0372607308731626,
          0.037335324920514536,
          0.037409918967866475,
          0.037484513015218414,
          0.03755910706257035,
          0.03763370110992229,
          0.03770829515727424,
          0.03778288920462618,
          0.03785748325197811,
          0.037932077299330055,
          0.038006671346681994,
          0.038081265394033934,
          0.03815585944138587,
          0.03823045348873781,
          0.03830504753608975,
          0.03837964158344169,
          0.03845423563079363,
          0.03852882967814557,
          0.03860342372549751,
          0.038678017772849446,
          0.038752611820201385,
          0.038827205867553324,
          0.03890179991490526,
          0.0389763939622572,
          0.03905098800960914,
          0.03912558205696108,
          0.03920017610431302,
          0.03927477015166496,
          0.0393493641990169,
          0.03942395824636884,
          0.039498552293720776,
          0.039573146341072715,
          0.039647740388424654,
          0.03972233443577659,
          0.03979692848312853,
          0.03987152253048047,
          0.03994611657783241,
          0.04002071062518435,
          0.0400953046725363,
          0.04016989871988824,
          0.04024449276724017,
          0.04031908681459212,
          0.04039368086194406,
          0.040468274909295984,
          0.04054286895664794,
          0.040617463003999876,
          0.0406920570513518,
          0.040766651098703754,
          0.040841245146055694,
          0.04091583919340763,
          0.04099043324075957,
          0.04106502728811151,
          0.04113962133546345,
          0.04121421538281539,
          0.04128880943016733,
          0.04136340347751927,
          0.041437997524871206,
          0.041512591572223145,
          0.041587185619575084,
          0.041661779666927024,
          0.04173637371427896,
          0.0418109677616309,
          0.04188556180898284,
          0.04196015585633478,
          0.04203474990368672,
          0.04210934395103866,
          0.0421839379983906,
          0.042258532045742536,
          0.042333126093094475,
          0.042407720140446414,
          0.04248231418779835,
          0.042556908235150306,
          0.04263150228250223,
          0.04270609632985417,
          0.042780690377206124,
          0.04285528442455805,
          0.04292987847190999,
          0.04300447251926194,
          0.043079066566613866,
          0.043153660613965805,
          0.04322825466131776,
          0.04330284870866968,
          0.043377442756021636,
          0.043452036803373575,
          0.043526630850725515,
          0.043601224898077454,
          0.04367581894542939,
          0.04375041299278133,
          0.04382500704013327,
          0.04389960108748521,
          0.04397419513483715,
          0.04404878918218909,
          0.04412338322954103,
          0.044197977276892966,
          0.044272571324244905,
          0.044347165371596844,
          0.044421759418948784,
          0.04449635346630072,
          0.04457094751365266,
          0.0446455415610046,
          0.04472013560835654,
          0.04479472965570848,
          0.04486932370306042,
          0.04494391775041236,
          0.045018511797764296,
          0.045093105845116235,
          0.045167699892468174
         ],
         "xaxis": "x",
         "y": [
          13.650451434082823,
          13.823004107818045,
          13.996578252178761,
          14.171169183378154,
          14.34677210332145,
          14.523382086927397,
          14.700994068901347,
          14.879602829975772,
          15.059202982635053,
          15.239788956343485,
          15.421354982296217,
          15.603895077714869,
          15.787403029710562,
          15.971872378738766,
          16.157296401671534,
          16.34366809451426,
          16.530980154795003,
          16.719224963656213,
          16.908394567679338,
          17.098480660474433,
          17.289474564067735,
          17.481367210121284,
          17.674149121019763,
          17.867810390860637,
          18.062340666384557,
          18.257729127883785,
          18.453964470127264,
          18.65103488334162,
          18.848928034287912,
          19.04763104747464,
          19.247130486547928,
          19.447412335900115,
          19.648461982538578,
          19.85026419825647,
          20.052803122147527,
          20.25606224350709,
          20.460024385161343,
          20.664671687266782,
          20.86998559162187,
          21.075946826532277,
          21.282535392271,
          21.489730547174016,
          21.6975107944118,
          21.90585386947617,
          22.11473672842145,
          22.324135536897973,
          22.534025660015125,
          22.74438165307019,
          22.955177253178135,
          23.166385371836423,
          23.377978088457645,
          23.589926644901453,
          23.802201441036168,
          24.014772031358323,
          24.227607122697847,
          24.440674573034077,
          24.65394139144672,
          24.867373739223794,
          25.080936932147182,
          25.294595443974078,
          25.508312911131096,
          25.722052138635792,
          25.93577510725816,
          26.149442981932534,
          26.36301612142899,
          26.57645408928985,
          26.789715666036177,
          27.002758862645763,
          27.215540935302798,
          27.428018401416473,
          27.640147056903874,
          27.851881994730274,
          28.06317762469738,
          28.27398769446808,
          28.484265311813804,
          28.69396296806835,
          28.903032562769877,
          29.11142542947017,
          29.319092362688682,
          29.52598364598586,
          29.732049081128764,
          29.93723801831948,
          30.141499387454758,
          30.344781730383307,
          30.54703323412528,
          30.748201765016134,
          30.94823490373563,
          31.147079981180486,
          31.34468411513759,
          31.540994247712998,
          31.73595718347021,
          31.929519628229606,
          32.12162822847959,
          32.31222961134834,
          32.501270425084044,
          32.68869737998998,
          32.87445728975969,
          33.05849711315677,
          33.24076399598228,
          33.42120531327239,
          33.599768711667984,
          33.77640215189711,
          33.95105395131085,
          34.12367282641267,
          34.29420793532088,
          34.462608920103676,
          34.62882594892617,
          34.79280975794855,
          34.95451169291517,
          35.11388375037372,
          35.27087861846488,
          35.425449717222506,
          35.57755123832548,
          35.72713818424275,
          35.87416640671376,
          36.01859264450761,
          36.16037456040507,
          36.29947077734859,
          36.435840913706826,
          36.569445617601225,
          36.700246600243844,
          36.828206668236845,
          36.953289754785736,
          37.07546094978005,
          37.19468652869705,
          37.31093398028563,
          37.4241720329896,
          37.53437068007151,
          37.64150120340036,
          37.74553619586835,
          37.84644958240418,
          37.94421663955307,
          38.03881401359488,
          38.13021973717548,
          38.21841324442771,
          38.30337538456149,
          38.38508843390488,
          38.46353610638014,
          38.53870356240202,
          38.61057741618754,
          38.679145741469256,
          38.74439807560688,
          38.80632542209449,
          38.86492025146301,
          38.920176500580986,
          38.972089570358506,
          39.02065632186218,
          39.06587507085164,
          39.10774558075045,
          39.146269054067076,
          39.18144812228402,
          39.21328683423565,
          39.24179064299775,
          39.26696639131422,
          39.288822295589014,
          39.307367928472814,
          39.322614200077766,
          39.33457333785386,
          39.34325886516435,
          39.34868557859874,
          39.35086952406395,
          39.34982797169674,
          39.345579389641195,
          39.33814341673827,
          39.327540834174656,
          39.313793536140814,
          39.29692449954884,
          39.276957752862536,
          39.253918344093464,
          39.22783230801731,
          39.198726632666855,
          39.16662922515789,
          39.13156887690618,
          39.09357522829356,
          39.052678732842324,
          39.008910620957614,
          38.96230286329759,
          38.91288813383198,
          38.86069977264932,
          38.805771748573704,
          38.74813862165142,
          38.68783550556819,
          38.624898030056876,
          38.55936230335604,
          38.491264874778075,
          38.4206426974463,
          38.34753309125892,
          38.27197370613692,
          38.19400248561287,
          38.113657630815716,
          38.0309775649058,
          37.94600089801366,
          37.8587663927342,
          37.76931293022659,
          37.67767947696924,
          37.58390505221701,
          37.48802869620658,
          37.39008943915396,
          37.29012627108665,
          37.18817811255049,
          37.084283786230046,
          36.97848198951869,
          36.87081126807306,
          36.761309990383886,
          36.65001632339344,
          36.53696820918762,
          36.42220334278788,
          36.30575915106681,
          36.18767277280796,
          36.06798103992866,
          35.94672045988212,
          35.823927199252324,
          35.69963706855358,
          35.57388550824302,
          35.44670757595318,
          35.31813793494815,
          35.18821084380528,
          35.056960147321455,
          34.92441926864062,
          34.79062120259713,
          34.65559851026655,
          34.51938331471398,
          34.382007297926734,
          34.24350169891686,
          34.10389731297582,
          33.96322449206241,
          33.821513146301925,
          33.678792746573315,
          33.535092328158385,
          33.39044049542547,
          33.24486542751815,
          33.09839488501756,
          32.95105621754495,
          32.80287637227008,
          32.65388190328854,
          32.504098981830445,
          32.35355340726075,
          32.20227061883047,
          32.050275708137086,
          31.897593432250428,
          31.744248227460055,
          31.590264223598695,
          31.435665258895664,
          31.280474895313194,
          31.12471643431802,
          30.968412933039954,
          30.811587220768743,
          30.654261915739948,
          30.496459442160457,
          30.33820204742412,
          30.179511819467486,
          30.020410704216324,
          29.860920523073023,
          29.701062990395666,
          29.540859730919802,
          29.380332297074087,
          29.219502186141767,
          29.058390857220694,
          28.897019747934603,
          28.735410290850258,
          28.573583929554783,
          28.41156213434932,
          28.249366417516054,
          28.087018348116086,
          27.92453956627829,
          27.761951796938867,
          27.599276862994138,
          27.43653669782971,
          27.273753357190888,
          27.110949030361017,
          26.948146050615584,
          26.78536690492219,
          26.622634242857597,
          26.4599708847156,
          26.297399828780538,
          26.134944257743797,
          25.972627544242076,
          25.81047325549865,
          25.648505157050195,
          25.486747215544415,
          25.32522360059534,
          25.163958685685266,
          25.002977048104473,
          24.84230346792177,
          24.681962925981274,
          24.52198060092233,
          24.362381865222464,
          24.2031922802641,
          24.044437590429116,
          23.88614371622623,
          23.728336746459018,
          23.57104292944375,
          23.414288663288666,
          23.258100485247873,
          23.102505060165235,
          22.947529168024992,
          22.79319969062844,
          22.639543597416882,
          22.4865879304632,
          22.334359788656457,
          22.182886311104443,
          22.032194659781823,
          21.8823120014522,
          21.73326548889412,
          21.585082241462597,
          21.43778932501851,
          21.29141373125988,
          21.14598235649005,
          21.001521979858843,
          20.858059241113637,
          20.715620617898526,
          20.5742324026402,
          20.433920679060307,
          20.29471129835456,
          20.15662985507908,
          20.019701662786233,
          19.883951729450708,
          19.74940473272893,
          19.616084995093836,
          19.484016458887922,
          19.35322266133705,
          19.223726709568343,
          19.09555125567446,
          18.968718471867447,
          18.843250025764082,
          18.719167055845485,
          18.59649014713265,
          18.47523930711925,
          18.355433942002758,
          18.237092833254483,
          18.120234114567953,
          18.00487524922504,
          17.891033007917905,
          17.778723447064458,
          17.667961887653753,
          17.558762894657136,
          17.451140257039675,
          17.34510696840567,
          17.240675208310474,
          17.137856324270324,
          17.036660814500053,
          16.937098311407702,
          16.839177565873808,
          16.74290643234144,
          16.648291854742183,
          16.55533985328152,
          16.46405551210589,
          16.374442967872046,
          16.28650539923813,
          16.200245017294222,
          16.115663056948534,
          16.03275976928433,
          15.95153441490051,
          15.871985258247996,
          15.794109562971604,
          15.717903588266728,
          15.643362586257282,
          15.570480800401077,
          15.499251464926308,
          15.429666805301911,
          15.361718039742755,
          15.295395381749122,
          15.230688043678672,
          15.167584241347445,
          15.106071199654892,
          15.046135159226838,
          14.987761384068667,
          14.930934170219507,
          14.875636855397264,
          14.82185182962258,
          14.769560546808867,
          14.71874353730411,
          14.669380421368942,
          14.621449923574495,
          14.574929888102055,
          14.529797294925876,
          14.48602827685902,
          14.443598137441406,
          14.40248136964807,
          14.362651675394838,
          14.324081985817607,
          14.286744482300707,
          14.2506106182289,
          14.215651141436922,
          14.181836117329713,
          14.149134952645806,
          14.117516419835827,
          14.086948682027337,
          14.05739931854691,
          14.028835350969679,
          14.001223269666388,
          13.974529060817298,
          13.948718233862358,
          13.923755849356334,
          13.899606547197765,
          13.876234575200051,
          13.85360381797313,
          13.831677826083874,
          13.810419845463425,
          13.789792847029513,
          13.76975955649204,
          13.750282484310006,
          13.731323955768172,
          13.71284614114193,
          13.694811085918936,
          13.677180741046435,
          13.659916993173262,
          13.642981694856081,
          13.62633669469938,
          13.609943867399348,
          13.593765143662123,
          13.577762539967154,
          13.561898188147023,
          13.546134364755508,
          13.530433520196091,
          13.514758307583692,
          13.499071611312992,
          13.483336575307181,
          13.467516630921688,
          13.45157552447785,
          13.435477344402402,
          13.419186547949014,
          13.402667987479033,
          13.385886936278965,
          13.368809113893382,
          13.35140071095205,
          13.333628413471333,
          13.31545942661039,
          13.29686149786343,
          13.277802939670106,
          13.258252651426915,
          13.238180140883049,
          13.217555544905279,
          13.196349649596732,
          13.174533909755674,
          13.152080467660952,
          13.128962171171434,
          13.105152591127913,
          13.08062603804641,
          13.055357578092735,
          13.029323048328866,
          13.002499071222772,
          12.97486306841352,
          12.94639327372499,
          12.917068745421679,
          12.886869377701252,
          12.855775911419032,
          12.823769944040542,
          12.790833938818775,
          12.75695123319386,
          12.722106046413284,
          12.686283486371744,
          12.649469555670297,
          12.611651156895324,
          12.57281609711836,
          12.532953091618726,
          12.492051766831414,
          12.450102662523493,
          12.407097233202833,
          12.363027848763751,
          12.317887794374691,
          12.27167126961378,
          12.224373386858609,
          12.175990168937389,
          12.126518546048981,
          12.07595635196015,
          12.02430231948862,
          11.971556075281566,
          11.917718133899221,
          11.862789891213929,
          11.806773617135981,
          11.749672447677314,
          11.691490376364996,
          11.632232245017349,
          11.57190373389512,
          11.510511351241142,
          11.448062422222614,
          11.38456507728958,
          11.320028239964774,
          11.25446161407947,
          11.18787567047081,
          11.120281633156402,
          11.051691465002133,
          10.982117852899673,
          10.911574192470379,
          10.840074572312606,
          10.767633757809723,
          10.694267174516378,
          10.619990891140857,
          10.544821602141559,
          10.468776609955858,
          10.391873806879815,
          10.314131656617377,
          10.235569175517893,
          10.156205913520909,
          10.07606193482729,
          9.995157798315969,
          9.913514537725526,
          9.83115364162007,
          9.74809703315883
         ],
         "yaxis": "y"
        },
        {
         "legendgroup": "distplot",
         "marker": {
          "color": "rgb(31, 119, 180)",
          "symbol": "line-ns-open"
         },
         "mode": "markers",
         "name": "distplot",
         "showlegend": false,
         "type": "scatter",
         "x": [
          0.021768363218459867,
          0.015945407017912465,
          0.019329813775730034,
          0.017812284007374488,
          0.017869368234688852,
          0.021943582299108415,
          0.023008016723587748,
          0.041347013564577366,
          0.02831530300092002,
          0.027909982132109306,
          0.018905608695091065,
          0.028808248917890706,
          0.013996546473438292,
          0.03349116959255318,
          0.02793739687210441,
          0.009300649508362794,
          0.03802511775109547,
          0.03964898758095836,
          0.007945270263850394,
          0.019075122022177145,
          0.014364242522092216,
          0.023952926409375092,
          0.016779385115391798,
          0.019839170756452123,
          0.024142778854939345,
          0.028838382470294004,
          0.017680951491923873,
          0.010066438187499437,
          0.043707844987399526,
          0.045242293939820113
         ],
         "xaxis": "x",
         "y": [
          "distplot",
          "distplot",
          "distplot",
          "distplot",
          "distplot",
          "distplot",
          "distplot",
          "distplot",
          "distplot",
          "distplot",
          "distplot",
          "distplot",
          "distplot",
          "distplot",
          "distplot",
          "distplot",
          "distplot",
          "distplot",
          "distplot",
          "distplot",
          "distplot",
          "distplot",
          "distplot",
          "distplot",
          "distplot",
          "distplot",
          "distplot",
          "distplot",
          "distplot",
          "distplot"
         ],
         "yaxis": "y2"
        }
       ],
       "layout": {
        "barmode": "overlay",
        "hovermode": "closest",
        "legend": {
         "traceorder": "reversed"
        },
        "template": {
         "data": {
          "bar": [
           {
            "error_x": {
             "color": "#2a3f5f"
            },
            "error_y": {
             "color": "#2a3f5f"
            },
            "marker": {
             "line": {
              "color": "#E5ECF6",
              "width": 0.5
             },
             "pattern": {
              "fillmode": "overlay",
              "size": 10,
              "solidity": 0.2
             }
            },
            "type": "bar"
           }
          ],
          "barpolar": [
           {
            "marker": {
             "line": {
              "color": "#E5ECF6",
              "width": 0.5
             },
             "pattern": {
              "fillmode": "overlay",
              "size": 10,
              "solidity": 0.2
             }
            },
            "type": "barpolar"
           }
          ],
          "carpet": [
           {
            "aaxis": {
             "endlinecolor": "#2a3f5f",
             "gridcolor": "white",
             "linecolor": "white",
             "minorgridcolor": "white",
             "startlinecolor": "#2a3f5f"
            },
            "baxis": {
             "endlinecolor": "#2a3f5f",
             "gridcolor": "white",
             "linecolor": "white",
             "minorgridcolor": "white",
             "startlinecolor": "#2a3f5f"
            },
            "type": "carpet"
           }
          ],
          "choropleth": [
           {
            "colorbar": {
             "outlinewidth": 0,
             "ticks": ""
            },
            "type": "choropleth"
           }
          ],
          "contour": [
           {
            "colorbar": {
             "outlinewidth": 0,
             "ticks": ""
            },
            "colorscale": [
             [
              0,
              "#0d0887"
             ],
             [
              0.1111111111111111,
              "#46039f"
             ],
             [
              0.2222222222222222,
              "#7201a8"
             ],
             [
              0.3333333333333333,
              "#9c179e"
             ],
             [
              0.4444444444444444,
              "#bd3786"
             ],
             [
              0.5555555555555556,
              "#d8576b"
             ],
             [
              0.6666666666666666,
              "#ed7953"
             ],
             [
              0.7777777777777778,
              "#fb9f3a"
             ],
             [
              0.8888888888888888,
              "#fdca26"
             ],
             [
              1,
              "#f0f921"
             ]
            ],
            "type": "contour"
           }
          ],
          "contourcarpet": [
           {
            "colorbar": {
             "outlinewidth": 0,
             "ticks": ""
            },
            "type": "contourcarpet"
           }
          ],
          "heatmap": [
           {
            "colorbar": {
             "outlinewidth": 0,
             "ticks": ""
            },
            "colorscale": [
             [
              0,
              "#0d0887"
             ],
             [
              0.1111111111111111,
              "#46039f"
             ],
             [
              0.2222222222222222,
              "#7201a8"
             ],
             [
              0.3333333333333333,
              "#9c179e"
             ],
             [
              0.4444444444444444,
              "#bd3786"
             ],
             [
              0.5555555555555556,
              "#d8576b"
             ],
             [
              0.6666666666666666,
              "#ed7953"
             ],
             [
              0.7777777777777778,
              "#fb9f3a"
             ],
             [
              0.8888888888888888,
              "#fdca26"
             ],
             [
              1,
              "#f0f921"
             ]
            ],
            "type": "heatmap"
           }
          ],
          "heatmapgl": [
           {
            "colorbar": {
             "outlinewidth": 0,
             "ticks": ""
            },
            "colorscale": [
             [
              0,
              "#0d0887"
             ],
             [
              0.1111111111111111,
              "#46039f"
             ],
             [
              0.2222222222222222,
              "#7201a8"
             ],
             [
              0.3333333333333333,
              "#9c179e"
             ],
             [
              0.4444444444444444,
              "#bd3786"
             ],
             [
              0.5555555555555556,
              "#d8576b"
             ],
             [
              0.6666666666666666,
              "#ed7953"
             ],
             [
              0.7777777777777778,
              "#fb9f3a"
             ],
             [
              0.8888888888888888,
              "#fdca26"
             ],
             [
              1,
              "#f0f921"
             ]
            ],
            "type": "heatmapgl"
           }
          ],
          "histogram": [
           {
            "marker": {
             "pattern": {
              "fillmode": "overlay",
              "size": 10,
              "solidity": 0.2
             }
            },
            "type": "histogram"
           }
          ],
          "histogram2d": [
           {
            "colorbar": {
             "outlinewidth": 0,
             "ticks": ""
            },
            "colorscale": [
             [
              0,
              "#0d0887"
             ],
             [
              0.1111111111111111,
              "#46039f"
             ],
             [
              0.2222222222222222,
              "#7201a8"
             ],
             [
              0.3333333333333333,
              "#9c179e"
             ],
             [
              0.4444444444444444,
              "#bd3786"
             ],
             [
              0.5555555555555556,
              "#d8576b"
             ],
             [
              0.6666666666666666,
              "#ed7953"
             ],
             [
              0.7777777777777778,
              "#fb9f3a"
             ],
             [
              0.8888888888888888,
              "#fdca26"
             ],
             [
              1,
              "#f0f921"
             ]
            ],
            "type": "histogram2d"
           }
          ],
          "histogram2dcontour": [
           {
            "colorbar": {
             "outlinewidth": 0,
             "ticks": ""
            },
            "colorscale": [
             [
              0,
              "#0d0887"
             ],
             [
              0.1111111111111111,
              "#46039f"
             ],
             [
              0.2222222222222222,
              "#7201a8"
             ],
             [
              0.3333333333333333,
              "#9c179e"
             ],
             [
              0.4444444444444444,
              "#bd3786"
             ],
             [
              0.5555555555555556,
              "#d8576b"
             ],
             [
              0.6666666666666666,
              "#ed7953"
             ],
             [
              0.7777777777777778,
              "#fb9f3a"
             ],
             [
              0.8888888888888888,
              "#fdca26"
             ],
             [
              1,
              "#f0f921"
             ]
            ],
            "type": "histogram2dcontour"
           }
          ],
          "mesh3d": [
           {
            "colorbar": {
             "outlinewidth": 0,
             "ticks": ""
            },
            "type": "mesh3d"
           }
          ],
          "parcoords": [
           {
            "line": {
             "colorbar": {
              "outlinewidth": 0,
              "ticks": ""
             }
            },
            "type": "parcoords"
           }
          ],
          "pie": [
           {
            "automargin": true,
            "type": "pie"
           }
          ],
          "scatter": [
           {
            "marker": {
             "colorbar": {
              "outlinewidth": 0,
              "ticks": ""
             }
            },
            "type": "scatter"
           }
          ],
          "scatter3d": [
           {
            "line": {
             "colorbar": {
              "outlinewidth": 0,
              "ticks": ""
             }
            },
            "marker": {
             "colorbar": {
              "outlinewidth": 0,
              "ticks": ""
             }
            },
            "type": "scatter3d"
           }
          ],
          "scattercarpet": [
           {
            "marker": {
             "colorbar": {
              "outlinewidth": 0,
              "ticks": ""
             }
            },
            "type": "scattercarpet"
           }
          ],
          "scattergeo": [
           {
            "marker": {
             "colorbar": {
              "outlinewidth": 0,
              "ticks": ""
             }
            },
            "type": "scattergeo"
           }
          ],
          "scattergl": [
           {
            "marker": {
             "colorbar": {
              "outlinewidth": 0,
              "ticks": ""
             }
            },
            "type": "scattergl"
           }
          ],
          "scattermapbox": [
           {
            "marker": {
             "colorbar": {
              "outlinewidth": 0,
              "ticks": ""
             }
            },
            "type": "scattermapbox"
           }
          ],
          "scatterpolar": [
           {
            "marker": {
             "colorbar": {
              "outlinewidth": 0,
              "ticks": ""
             }
            },
            "type": "scatterpolar"
           }
          ],
          "scatterpolargl": [
           {
            "marker": {
             "colorbar": {
              "outlinewidth": 0,
              "ticks": ""
             }
            },
            "type": "scatterpolargl"
           }
          ],
          "scatterternary": [
           {
            "marker": {
             "colorbar": {
              "outlinewidth": 0,
              "ticks": ""
             }
            },
            "type": "scatterternary"
           }
          ],
          "surface": [
           {
            "colorbar": {
             "outlinewidth": 0,
             "ticks": ""
            },
            "colorscale": [
             [
              0,
              "#0d0887"
             ],
             [
              0.1111111111111111,
              "#46039f"
             ],
             [
              0.2222222222222222,
              "#7201a8"
             ],
             [
              0.3333333333333333,
              "#9c179e"
             ],
             [
              0.4444444444444444,
              "#bd3786"
             ],
             [
              0.5555555555555556,
              "#d8576b"
             ],
             [
              0.6666666666666666,
              "#ed7953"
             ],
             [
              0.7777777777777778,
              "#fb9f3a"
             ],
             [
              0.8888888888888888,
              "#fdca26"
             ],
             [
              1,
              "#f0f921"
             ]
            ],
            "type": "surface"
           }
          ],
          "table": [
           {
            "cells": {
             "fill": {
              "color": "#EBF0F8"
             },
             "line": {
              "color": "white"
             }
            },
            "header": {
             "fill": {
              "color": "#C8D4E3"
             },
             "line": {
              "color": "white"
             }
            },
            "type": "table"
           }
          ]
         },
         "layout": {
          "annotationdefaults": {
           "arrowcolor": "#2a3f5f",
           "arrowhead": 0,
           "arrowwidth": 1
          },
          "autotypenumbers": "strict",
          "coloraxis": {
           "colorbar": {
            "outlinewidth": 0,
            "ticks": ""
           }
          },
          "colorscale": {
           "diverging": [
            [
             0,
             "#8e0152"
            ],
            [
             0.1,
             "#c51b7d"
            ],
            [
             0.2,
             "#de77ae"
            ],
            [
             0.3,
             "#f1b6da"
            ],
            [
             0.4,
             "#fde0ef"
            ],
            [
             0.5,
             "#f7f7f7"
            ],
            [
             0.6,
             "#e6f5d0"
            ],
            [
             0.7,
             "#b8e186"
            ],
            [
             0.8,
             "#7fbc41"
            ],
            [
             0.9,
             "#4d9221"
            ],
            [
             1,
             "#276419"
            ]
           ],
           "sequential": [
            [
             0,
             "#0d0887"
            ],
            [
             0.1111111111111111,
             "#46039f"
            ],
            [
             0.2222222222222222,
             "#7201a8"
            ],
            [
             0.3333333333333333,
             "#9c179e"
            ],
            [
             0.4444444444444444,
             "#bd3786"
            ],
            [
             0.5555555555555556,
             "#d8576b"
            ],
            [
             0.6666666666666666,
             "#ed7953"
            ],
            [
             0.7777777777777778,
             "#fb9f3a"
            ],
            [
             0.8888888888888888,
             "#fdca26"
            ],
            [
             1,
             "#f0f921"
            ]
           ],
           "sequentialminus": [
            [
             0,
             "#0d0887"
            ],
            [
             0.1111111111111111,
             "#46039f"
            ],
            [
             0.2222222222222222,
             "#7201a8"
            ],
            [
             0.3333333333333333,
             "#9c179e"
            ],
            [
             0.4444444444444444,
             "#bd3786"
            ],
            [
             0.5555555555555556,
             "#d8576b"
            ],
            [
             0.6666666666666666,
             "#ed7953"
            ],
            [
             0.7777777777777778,
             "#fb9f3a"
            ],
            [
             0.8888888888888888,
             "#fdca26"
            ],
            [
             1,
             "#f0f921"
            ]
           ]
          },
          "colorway": [
           "#636efa",
           "#EF553B",
           "#00cc96",
           "#ab63fa",
           "#FFA15A",
           "#19d3f3",
           "#FF6692",
           "#B6E880",
           "#FF97FF",
           "#FECB52"
          ],
          "font": {
           "color": "#2a3f5f"
          },
          "geo": {
           "bgcolor": "white",
           "lakecolor": "white",
           "landcolor": "#E5ECF6",
           "showlakes": true,
           "showland": true,
           "subunitcolor": "white"
          },
          "hoverlabel": {
           "align": "left"
          },
          "hovermode": "closest",
          "mapbox": {
           "style": "light"
          },
          "paper_bgcolor": "white",
          "plot_bgcolor": "#E5ECF6",
          "polar": {
           "angularaxis": {
            "gridcolor": "white",
            "linecolor": "white",
            "ticks": ""
           },
           "bgcolor": "#E5ECF6",
           "radialaxis": {
            "gridcolor": "white",
            "linecolor": "white",
            "ticks": ""
           }
          },
          "scene": {
           "xaxis": {
            "backgroundcolor": "#E5ECF6",
            "gridcolor": "white",
            "gridwidth": 2,
            "linecolor": "white",
            "showbackground": true,
            "ticks": "",
            "zerolinecolor": "white"
           },
           "yaxis": {
            "backgroundcolor": "#E5ECF6",
            "gridcolor": "white",
            "gridwidth": 2,
            "linecolor": "white",
            "showbackground": true,
            "ticks": "",
            "zerolinecolor": "white"
           },
           "zaxis": {
            "backgroundcolor": "#E5ECF6",
            "gridcolor": "white",
            "gridwidth": 2,
            "linecolor": "white",
            "showbackground": true,
            "ticks": "",
            "zerolinecolor": "white"
           }
          },
          "shapedefaults": {
           "line": {
            "color": "#2a3f5f"
           }
          },
          "ternary": {
           "aaxis": {
            "gridcolor": "white",
            "linecolor": "white",
            "ticks": ""
           },
           "baxis": {
            "gridcolor": "white",
            "linecolor": "white",
            "ticks": ""
           },
           "bgcolor": "#E5ECF6",
           "caxis": {
            "gridcolor": "white",
            "linecolor": "white",
            "ticks": ""
           }
          },
          "title": {
           "x": 0.05
          },
          "xaxis": {
           "automargin": true,
           "gridcolor": "white",
           "linecolor": "white",
           "ticks": "",
           "title": {
            "standoff": 15
           },
           "zerolinecolor": "white",
           "zerolinewidth": 2
          },
          "yaxis": {
           "automargin": true,
           "gridcolor": "white",
           "linecolor": "white",
           "ticks": "",
           "title": {
            "standoff": 15
           },
           "zerolinecolor": "white",
           "zerolinewidth": 2
          }
         }
        },
        "xaxis": {
         "anchor": "y2",
         "domain": [
          0,
          1
         ],
         "zeroline": false
        },
        "yaxis": {
         "anchor": "free",
         "domain": [
          0.35,
          1
         ],
         "position": 0
        },
        "yaxis2": {
         "anchor": "x",
         "domain": [
          0,
          0.25
         ],
         "dtick": 1,
         "showticklabels": false
        }
       }
      }
     },
     "metadata": {},
     "output_type": "display_data"
    }
   ],
   "source": [
    "import plotly.figure_factory as ff\n",
    "\n",
    "hist_data = [all_diffs]\n",
    "group_labels = ['distplot'] # name of the dataset\n",
    "\n",
    "fig = ff.create_distplot(hist_data, group_labels, bin_size=0.03)\n",
    "fig.show()"
   ]
  },
  {
   "cell_type": "markdown",
   "metadata": {},
   "source": [
    "## 50 cm data"
   ]
  },
  {
   "cell_type": "code",
   "execution_count": null,
   "metadata": {},
   "outputs": [],
   "source": [
    "data_50 = list()\n",
    "\n",
    "for subject in subjects:\n",
    "    with open(f\"data/randomized/{subject}/50cm/{gesture_name}\", \"rb\") as file:\n",
    "        temp = pickle.load(file)\n",
    "        data_50 += temp"
   ]
  },
  {
   "cell_type": "markdown",
   "metadata": {},
   "source": [
    "## 75 cm data"
   ]
  },
  {
   "cell_type": "code",
   "execution_count": null,
   "metadata": {},
   "outputs": [],
   "source": [
    "data_75 = list()\n",
    "\n",
    "for subject in subjects:\n",
    "    with open(f\"data/randomized/{subject}/75cm/{gesture_name}\", \"rb\") as file:\n",
    "        temp = pickle.load(file)\n",
    "        data_75 += temp"
   ]
  },
  {
   "cell_type": "markdown",
   "metadata": {},
   "source": [
    "## 100 cm data"
   ]
  },
  {
   "cell_type": "code",
   "execution_count": null,
   "metadata": {},
   "outputs": [],
   "source": [
    "data_100 = list()\n",
    "\n",
    "for subject in subjects:\n",
    "    with open(f\"data/randomized/{subject}/100cm/{gesture_name}\", \"rb\") as file:\n",
    "        temp = pickle.load(file)\n",
    "        data_100 += temp"
   ]
  },
  {
   "cell_type": "markdown",
   "metadata": {},
   "source": [
    "# Normalizing the landmarks using MinMax Scaling"
   ]
  },
  {
   "cell_type": "code",
   "execution_count": null,
   "metadata": {},
   "outputs": [],
   "source": [
    "def normalize(z: float, max: float, min: float) -> float:\n",
    "    norm = (z - min)/(max - min)\n",
    "    round_norm = round(norm, 3)\n",
    "    \n",
    "    return round_norm"
   ]
  },
  {
   "cell_type": "code",
   "execution_count": null,
   "metadata": {},
   "outputs": [],
   "source": [
    "def normalize_landmarks(landmarks: list) -> list:\n",
    "    norm_landmarks = list()\n",
    "\n",
    "    for landmark in landmarks:\n",
    "        xs = [landmark[i][0] for i in range(len(landmark))]\n",
    "        ys = [landmark[i][1] for i in range(len(landmark))]\n",
    "\n",
    "        xmax = max(xs)\n",
    "        ymax = max(ys)\n",
    "        xmin = min(xs)\n",
    "        ymin = min(ys)\n",
    "\n",
    "        norm_landmark = list()\n",
    "\n",
    "        for x, y in zip(xs, ys):\n",
    "            norm = [normalize(z=x, max=xmax, min=xmin), normalize(z=y, max=ymax, min=ymin)]\n",
    "\n",
    "            norm_landmark.append(norm)\n",
    "\n",
    "        norm_landmarks.append(norm_landmark)\n",
    "\n",
    "    return norm_landmarks"
   ]
  },
  {
   "cell_type": "code",
   "execution_count": null,
   "metadata": {},
   "outputs": [],
   "source": [
    "norm_50  = normalize_landmarks(landmarks=data_50)\n",
    "norm_75  = normalize_landmarks(landmarks=data_75)\n",
    "norm_100 = normalize_landmarks(landmarks=data_100)"
   ]
  },
  {
   "cell_type": "code",
   "execution_count": null,
   "metadata": {},
   "outputs": [],
   "source": [
    "xs_1 = [point[0] for point in norm_50[0]]\n",
    "ys_1 = [point[1] for point in norm_50[0]]\n",
    "\n",
    "xs_2 = [point[0] for point in norm_50[1]]\n",
    "ys_2 = [point[1] for point in norm_50[1]]\n",
    "\n",
    "xs_3 = [point[0] for point in norm_50[2]]\n",
    "ys_3 = [point[1] for point in norm_50[2]]\n",
    "\n",
    "xs_4 = [point[0] for point in norm_50[3]]\n",
    "ys_4 = [point[1] for point in norm_50[3]]"
   ]
  },
  {
   "cell_type": "code",
   "execution_count": null,
   "metadata": {},
   "outputs": [],
   "source": [
    "fig = go.Figure()\n",
    "\n",
    "fig.add_trace(go.Scatter(x=xs_1, y=xs_1, mode=\"markers\", name=\"Sample X\"))\n",
    "fig.add_trace(go.Scatter(x=xs_1, y=ys_1, mode=\"markers+text\", name=\"Sample 1\", opacity=1, text=[f\"Point {i}\" for i in range(len(norm_50[0]))], textposition=\"bottom center\"))\n",
    "fig.add_trace(go.Scatter(x=xs_2, y=ys_2, mode=\"markers+text\", name=\"Sample 2\", opacity=0.5, text=[f\"Point {i}\" for i in range(len(norm_50[0]))], textposition=\"top center\"))\n",
    "fig.add_trace(go.Scatter(x=xs_3, y=ys_3, mode=\"markers+text\", name=\"Sample 3\", opacity=0.1, text=[f\"Point {i}\" for i in range(len(norm_50[0]))], textposition=\"bottom right\"))\n",
    "# fig.add_trace(go.Scatter(x=xs_4, y=ys_4, mode=\"markers+text\", name=\"Sample 4\", opacity=0.25, text=[f\"Point {i}\" for i in range(len(norm_50[0]))]))\n",
    "\n",
    "fig.update_layout(\n",
    "    xaxis=dict(autorange=\"reversed\"),\n",
    "    yaxis=dict(autorange=\"reversed\"),\n",
    ")\n",
    "\n",
    "fig.update_xaxes(visible=False)\n",
    "fig.update_yaxes(visible=False)\n",
    "\n",
    "fig.show()"
   ]
  },
  {
   "cell_type": "markdown",
   "metadata": {},
   "source": [
    "# Checking the \"mean\" gesture for each gesture"
   ]
  },
  {
   "cell_type": "code",
   "execution_count": null,
   "metadata": {},
   "outputs": [],
   "source": [
    "def get_mean_gesture(samples: list):\n",
    "    points_x = {}\n",
    "    points_y = {}\n",
    "\n",
    "    for i in range(21):\n",
    "        xs = [sample[i][0] for sample in samples]\n",
    "        ys = [sample[i][1] for sample in samples]\n",
    "\n",
    "        points_x[i] = xs\n",
    "        points_y[i] = ys\n",
    "\n",
    "    mean_gesture = list()\n",
    "\n",
    "    for i in range(21):\n",
    "        x_mean = np.mean(points_x.get(i))\n",
    "        y_mean = np.mean(points_y.get(i))\n",
    "\n",
    "        mean_gesture.append([x_mean, y_mean])\n",
    "\n",
    "    return mean_gesture"
   ]
  },
  {
   "cell_type": "code",
   "execution_count": null,
   "metadata": {},
   "outputs": [],
   "source": [
    "mean_gesture_50cm  = get_mean_gesture(samples=norm_50)\n",
    "mean_gesture_75cm  = get_mean_gesture(samples=norm_75)\n",
    "mean_gesture_100cm = get_mean_gesture(samples=norm_100)\n",
    "\n",
    "xs_50 = [mean_gesture_50cm[i][0] for i in range(len(mean_gesture_50cm))]\n",
    "ys_50 = [mean_gesture_50cm[i][1] for i in range(len(mean_gesture_50cm))]\n",
    "\n",
    "xs_75 = [mean_gesture_75cm[i][0] for i in range(len(mean_gesture_75cm))]\n",
    "ys_75 = [mean_gesture_75cm[i][1] for i in range(len(mean_gesture_75cm))]\n",
    "\n",
    "xs_100 = [mean_gesture_100cm[i][0] for i in range(len(mean_gesture_100cm))]\n",
    "ys_100 = [mean_gesture_100cm[i][1] for i in range(len(mean_gesture_100cm))]\n",
    "\n",
    "fig = go.Figure()\n",
    "\n",
    "fig.add_trace(go.Scatter(x=xs_50, y=ys_50, mode=\"markers\", name=\"50 cm\"))\n",
    "fig.add_trace(go.Scatter(x=xs_75, y=ys_75, mode=\"markers\", name=\"75 cm\"))\n",
    "fig.add_trace(go.Scatter(x=xs_100, y=ys_100, mode=\"markers\", name=\"100 cm\"))\n",
    "\n",
    "fig.update_layout(\n",
    "    xaxis = dict(autorange=\"reversed\"),\n",
    "    yaxis = dict(autorange=\"reversed\"),\n",
    ")\n",
    "\n",
    "fig.update_xaxes(visible=False)\n",
    "fig.update_yaxes(visible=False)\n",
    "\n",
    "fig.show()"
   ]
  },
  {
   "cell_type": "markdown",
   "metadata": {},
   "source": [
    "# Calculating the distances of each point to the center"
   ]
  },
  {
   "cell_type": "code",
   "execution_count": null,
   "metadata": {},
   "outputs": [],
   "source": [
    "def get_distance_of_points_to_center(landmark: list) -> list:\n",
    "    distances = list()\n",
    "\n",
    "    xs = [landmark[i][0] for i in range(len(landmark))]\n",
    "    ys = [landmark[i][1] for i in range(len(landmark))]\n",
    "\n",
    "    xmean = np.mean(xs)\n",
    "    ymean = np.mean(ys)\n",
    "\n",
    "    for point in landmark:\n",
    "        x = point[0]\n",
    "        y = point[1]\n",
    "\n",
    "        distance = pow(pow(x - xmean, 2) + pow(y - ymean, 2), 0.5)\n",
    "\n",
    "        distances.append(distance)\n",
    "    \n",
    "    return distances"
   ]
  },
  {
   "cell_type": "code",
   "execution_count": null,
   "metadata": {},
   "outputs": [],
   "source": [
    "def get_landmarks_distances(landmarks: list) -> list:\n",
    "    distances = list()\n",
    "\n",
    "    for landmark in landmarks:\n",
    "        lm_distances = get_distance_of_points_to_center(landmark=landmark)\n",
    "\n",
    "        distances.append(lm_distances)\n",
    "\n",
    "    return distances"
   ]
  },
  {
   "cell_type": "code",
   "execution_count": null,
   "metadata": {},
   "outputs": [],
   "source": [
    "def get_mean_distances_for_subset(landmarks: list) -> float:\n",
    "    distances = get_landmarks_distances(landmarks=landmarks)\n",
    "\n",
    "    mean_distances = [np.mean(dist) for dist in distances]\n",
    "\n",
    "    return mean_distances\n",
    "\n",
    "def get_mean_var_for_subset(landmarks: list) -> float:\n",
    "    distances = get_landmarks_distances(landmarks=landmarks)\n",
    "\n",
    "    mean_distances = [np.var(dist) for dist in distances]\n",
    "\n",
    "    return mean_distances"
   ]
  },
  {
   "cell_type": "code",
   "execution_count": null,
   "metadata": {},
   "outputs": [],
   "source": [
    "means_50 = get_mean_distances_for_subset(landmarks=norm_50)\n",
    "vars_50  = get_mean_var_for_subset(landmarks=norm_50)\n",
    "\n",
    "means_75 = get_mean_distances_for_subset(landmarks=norm_75)\n",
    "vars_75  = get_mean_var_for_subset(landmarks=norm_75)\n",
    "\n",
    "means_100 = get_mean_distances_for_subset(landmarks=norm_100)\n",
    "vars_100  = get_mean_var_for_subset(landmarks=norm_100)"
   ]
  },
  {
   "cell_type": "code",
   "execution_count": null,
   "metadata": {},
   "outputs": [],
   "source": [
    "means_df = pd.DataFrame([means_50, means_75, means_100]).T\n",
    "vars_df  = pd.DataFrame([vars_50, vars_75, vars_100]).T"
   ]
  },
  {
   "cell_type": "code",
   "execution_count": null,
   "metadata": {},
   "outputs": [],
   "source": [
    "px.scatter(means_df)"
   ]
  },
  {
   "cell_type": "markdown",
   "metadata": {},
   "source": [
    "# Hypothesis testing. First we check if the three variances follow a normal distribution. If all of them do, we perfom an ANOVA One Way test, if one is not normal, we perfom a Kruskal test. Both tests test a null hypothesis that the variances are similar. If a p-value is found to be less than 0.05, we can reject this hypothesis. We can test the normality of the variances using a Shapiro Wick test. It's null hypothesis is that the data is drown from a normal distribution."
   ]
  },
  {
   "cell_type": "code",
   "execution_count": null,
   "metadata": {},
   "outputs": [],
   "source": [
    "shapiro_results = {\n",
    "    \"50cm\": stats.shapiro(vars_50),\n",
    "    \"75cm\": stats.shapiro(vars_75),\n",
    "    \"100cm\": stats.shapiro(vars_100)\n",
    "}\n",
    "\n",
    "p_values = [results.pvalue for results in shapiro_results.values()]\n",
    "\n",
    "significant_pvalues = [p_value > 0.05 for p_value in p_values]\n",
    "\n",
    "is_normal = all(significant_pvalues)\n",
    "\n",
    "if is_normal:\n",
    "    print(\"All variances are drown from a normal distribution! Their p-values ares:\")\n",
    "    print(f\"    50cm: {p_values[0]}    75cm: {p_values[1]}    100cm: {p_values[2]}\\n\")\n",
    "\n",
    "    print(\"Using the ANOVA One Way test...\\n\")\n",
    "\n",
    "    result = stats.f_oneway(means_50, means_75, means_100)\n",
    "\n",
    "else:\n",
    "    print(\"One or more of the variances is NOT drown from a normal distribution. Their p-values are:\")\n",
    "    print(f\"    50cm: {p_values[0]}    75cm: {p_values[1]}    100cm: {p_values[2]}\\n\")\n",
    "\n",
    "    print(\"Using the Kruskal test...\\n\")\n",
    "\n",
    "    result = stats.kruskal(vars_50, vars_75, vars_100)\n",
    "\n",
    "print(f\"The test p-value is: {result.pvalue}\\n\")\n",
    "\n",
    "if result.pvalue > 0.05:\n",
    "    print(\"They are the same!\")\n",
    "\n",
    "else:\n",
    "    print(\"They are NOT the same!\")"
   ]
  },
  {
   "cell_type": "code",
   "execution_count": null,
   "metadata": {},
   "outputs": [],
   "source": [
    "vars = {\n",
    "    \"50cm\": vars_50,\n",
    "    \"75cm\": vars_75,\n",
    "    \"100cm\": vars_100\n",
    "}"
   ]
  },
  {
   "cell_type": "code",
   "execution_count": null,
   "metadata": {},
   "outputs": [],
   "source": [
    "def u_test_dataframe(vars: dict) -> pd.DataFrame:\n",
    "    df = pd.DataFrame(columns=list(vars.keys()), index=list(vars.keys()))\n",
    "\n",
    "    for var in list(vars.keys()):\n",
    "        for pair in list(vars.keys()):\n",
    "            if var == pair:\n",
    "                result = 1\n",
    "            \n",
    "            else:\n",
    "                result = stats.mannwhitneyu(vars.get(var), vars.get(pair))\n",
    "                result = result.pvalue\n",
    "            df[var].loc[pair] = result\n",
    "\n",
    "    return df"
   ]
  },
  {
   "cell_type": "code",
   "execution_count": null,
   "metadata": {},
   "outputs": [],
   "source": [
    "import plotly.figure_factory as ff"
   ]
  },
  {
   "cell_type": "code",
   "execution_count": null,
   "metadata": {},
   "outputs": [],
   "source": [
    "fig = ff.create_distplot([vars_50, vars_75, vars_100], [\"50cm\", \"75cm\", \"100cm\"])\n",
    "fig.show()"
   ]
  },
  {
   "cell_type": "code",
   "execution_count": null,
   "metadata": {},
   "outputs": [],
   "source": [
    "def main(gesture_name: str) -> None:\n",
    "    print(f\"------------- Gesture: {gesture_name} -------------\\n\")\n",
    "\n",
    "    data_50 = list()\n",
    "    \n",
    "    subjects = [f\"Subject{i}\" for i in range(1, 6)]\n",
    "\n",
    "    for subject in subjects:\n",
    "        with open(f\"data/randomized/{subject}/50cm/{gesture_name}\", \"rb\") as file:\n",
    "            temp = pickle.load(file)\n",
    "            data_50 += temp\n",
    "\n",
    "    data_75 = list()\n",
    "\n",
    "    for subject in subjects:\n",
    "        with open(f\"data/randomized/{subject}/75cm/{gesture_name}\", \"rb\") as file:\n",
    "            temp = pickle.load(file)\n",
    "            data_75 += temp\n",
    "\n",
    "    data_100 = list()\n",
    "\n",
    "    for subject in subjects:\n",
    "        with open(f\"data/randomized/{subject}/100cm/{gesture_name}\", \"rb\") as file:\n",
    "            temp = pickle.load(file)\n",
    "            data_100 += temp\n",
    "\n",
    "\n",
    "    norm_50  = normalize_landmarks(landmarks=data_50)\n",
    "    norm_75  = normalize_landmarks(landmarks=data_75)\n",
    "    norm_100 = normalize_landmarks(landmarks=data_100)\n",
    "\n",
    "\n",
    "    means_50 = get_mean_distances_for_subset(landmarks=norm_50)\n",
    "    vars_50  = get_mean_var_for_subset(landmarks=norm_50)\n",
    "\n",
    "    means_75 = get_mean_distances_for_subset(landmarks=norm_75)\n",
    "    vars_75  = get_mean_var_for_subset(landmarks=norm_75)\n",
    "\n",
    "    means_100 = get_mean_distances_for_subset(landmarks=norm_100)\n",
    "    vars_100  = get_mean_var_for_subset(landmarks=norm_100)\n",
    "\n",
    "    shapiro_results = {\n",
    "        \"50cm\": stats.shapiro(vars_50),\n",
    "        \"75cm\": stats.shapiro(vars_75),\n",
    "        \"100cm\": stats.shapiro(vars_100)\n",
    "    }\n",
    "\n",
    "    p_values = [results.pvalue for results in shapiro_results.values()]\n",
    "\n",
    "    significant_pvalues = [p_value > 0.05 for p_value in p_values]\n",
    "\n",
    "    is_normal = all(significant_pvalues)\n",
    "\n",
    "    if is_normal:\n",
    "        print(\"All variances are drown from a normal distribution! Their p-values ares:\")\n",
    "        print(f\"    50cm: {p_values[0]}    75cm: {p_values[1]}    100cm: {p_values[2]}\\n\")\n",
    "\n",
    "        print(\"Using the ANOVA One Way test...\\n\")\n",
    "\n",
    "        result = stats.f_oneway(vars_50, vars_75, vars_100)\n",
    "        # result = stats.f_oneway(means_50, means_75, means_100)\n",
    "        \n",
    "        print(f\"The test p-value is: {result.pvalue}\\n\")\n",
    "\n",
    "        if result.pvalue > 0.05:\n",
    "            print(\"They are the same!\\n\")\n",
    "\n",
    "        else:\n",
    "            print(\"They are NOT the same!\\n\")\n",
    "\n",
    "    else:\n",
    "        kruskal = True\n",
    "\n",
    "        if kruskal:\n",
    "            print(\"One or more of the variances is NOT drown from a normal distribution. Their p-values are:\")\n",
    "            print(f\"    50cm: {p_values[0]}    75cm: {p_values[1]}    100cm: {p_values[2]}\\n\")\n",
    "\n",
    "            print(\"Using the Kruskal test...\\n\")\n",
    "\n",
    "            result = stats.kruskal(vars_50, vars_75, vars_100)\n",
    "            # result = stats.kruskal(means_50, means_75, means_100)\n",
    "\n",
    "            print(f\"The test p-value is: {result.pvalue}\\n\")\n",
    "\n",
    "            if result.pvalue > 0.05:\n",
    "                print(\"They are the same!\\n\")\n",
    "\n",
    "            else:\n",
    "                print(\"They are NOT the same!\\n\")\n",
    "\n",
    "        else:\n",
    "            vars = {\n",
    "                \"50cm\": vars_50,\n",
    "                \"75cm\": vars_75,\n",
    "                \"100cm\": vars_100\n",
    "            }\n",
    "\n",
    "            u_test_df = u_test_dataframe(vars=vars)\n",
    "            print(u_test_df)"
   ]
  },
  {
   "cell_type": "code",
   "execution_count": null,
   "metadata": {},
   "outputs": [],
   "source": [
    "gesture_names = [\"click\", \"closed\", \"down\", \"mouse_tracking\", \"negative_closed\", \"negative_mouse_tracking\",\n",
    "                 \"negative_side\", \"negative_up\", \"side\", \"up\"]\n",
    "\n",
    "for gesture_name in gesture_names:\n",
    "    main(gesture_name=gesture_name)"
   ]
  }
 ],
 "metadata": {
  "kernelspec": {
   "display_name": "Python 3.8.8 ('kotoamatsukami-T53X9OZe-py3.8')",
   "language": "python",
   "name": "python3"
  },
  "language_info": {
   "codemirror_mode": {
    "name": "ipython",
    "version": 3
   },
   "file_extension": ".py",
   "mimetype": "text/x-python",
   "name": "python",
   "nbconvert_exporter": "python",
   "pygments_lexer": "ipython3",
   "version": "3.8.8"
  },
  "orig_nbformat": 4,
  "vscode": {
   "interpreter": {
    "hash": "a51161d7ba46dd3dbd9fc8c6bd348fb23b578d1cf3ae09598f24443a1428645a"
   }
  }
 },
 "nbformat": 4,
 "nbformat_minor": 2
}

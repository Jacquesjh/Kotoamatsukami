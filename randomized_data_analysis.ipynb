{
 "cells": [
  {
   "cell_type": "code",
   "execution_count": 3,
   "metadata": {},
   "outputs": [],
   "source": [
    "import numpy as np\n",
    "import pandas as pd\n",
    "import pickle\n",
    "import plotly.graph_objects as go\n",
    "import plotly.express as px\n",
    "from scipy import stats\n",
    "\n",
    "import numpy"
   ]
  },
  {
   "cell_type": "markdown",
   "metadata": {},
   "source": [
    "# Loading the data"
   ]
  },
  {
   "cell_type": "markdown",
   "metadata": {},
   "source": [
    "## Specifying gesture"
   ]
  },
  {
   "cell_type": "code",
   "execution_count": 4,
   "metadata": {},
   "outputs": [],
   "source": [
    "gesture_name = \"negative_click\"\n",
    "subjects = [f\"Subject{i}\" for i in range(1, 6)]"
   ]
  },
  {
   "cell_type": "code",
   "execution_count": 29,
   "metadata": {},
   "outputs": [
    {
     "data": {
      "application/vnd.plotly.v1+json": {
       "config": {
        "plotlyServerURL": "https://plot.ly"
       },
       "data": [
        {
         "mode": "markers",
         "name": "50 cm",
         "type": "scatter",
         "x": [
          0.5251758827448367,
          0.17135443037974682,
          0.19771685542971354,
          0.5210493004663558,
          0.787143237841439,
          0.018800133244503664,
          0.06800199866755496,
          0.1095076615589607,
          0.13049966688874085,
          0.3679167221852098,
          0.40063224516988677,
          0.4391025982678215,
          0.4534943371085943,
          0.7026009327115256,
          0.7249180546302466,
          0.7324536975349767,
          0.7382504996668887,
          0.9934503664223849,
          0.8331319120586276,
          0.705850766155896,
          0.6749393737508328
         ],
         "y": [
          1,
          0.836956029313791,
          0.6340293137908062,
          0.5172524983344438,
          0.46485409726848775,
          0.5851558960692871,
          0.32455629580279816,
          0.17241105929380413,
          0.05632311792138575,
          0.5745549633577615,
          0.29586942038640907,
          0.12846102598267822,
          0.0005229846768820786,
          0.5823810792804796,
          0.3157168554297135,
          0.1641985343104597,
          0.05258494337108595,
          0.6058867421718854,
          0.47251365756162556,
          0.5038714190539639,
          0.558603597601599
         ]
        },
        {
         "mode": "markers",
         "name": "75 cm",
         "type": "scatter",
         "x": [
          0.5007481678880746,
          0.1082864756828781,
          0.1003057961359094,
          0.40491272485009994,
          0.6797215189873418,
          0.019955363091272486,
          0.07004996668887409,
          0.11768954030646235,
          0.15552831445702864,
          0.3912085276482345,
          0.41307461692205194,
          0.4299467021985343,
          0.43122118587608255,
          0.7269327115256498,
          0.7069367088607595,
          0.6723051299133912,
          0.6369653564290473,
          0.9933904063957362,
          0.8057521652231845,
          0.6517175216522318,
          0.5686962025316457
         ],
         "y": [
          0.9999786808794138,
          0.8258987341772152,
          0.622385742838108,
          0.5012351765489674,
          0.44630179880079957,
          0.5813864090606262,
          0.32234910059960026,
          0.17064490339773486,
          0.05446235842771485,
          0.5758494337108594,
          0.2978474350433044,
          0.13147834776815456,
          0.0007648234510326448,
          0.5871079280479681,
          0.32383744170552964,
          0.17010326449033977,
          0.05552898067954696,
          0.6085502998001332,
          0.4550939373750833,
          0.4209420386409061,
          0.4130179880079946
         ]
        },
        {
         "mode": "markers",
         "name": "100 cm",
         "type": "scatter",
         "x": [
          0.5277841439040639,
          0.1978234510326449,
          0.16444037308461026,
          0.40070019986675554,
          0.6433264490339774,
          0.014931379080612924,
          0.11343037974683545,
          0.1945203197868088,
          0.25022918054630244,
          0.31214057295136577,
          0.3875003331112591,
          0.4567741505662891,
          0.4878447701532312,
          0.6366102598267822,
          0.6892065289806796,
          0.724782145236509,
          0.7327641572285143,
          0.9616342438374417,
          0.9294796802131913,
          0.8891652231845436,
          0.8834910059960026
         ],
         "y": [
          1,
          0.8299640239840106,
          0.6305369753497667,
          0.5056855429713524,
          0.4434350433044637,
          0.5758454363757496,
          0.318800799467022,
          0.16405662891405728,
          0.05031578947368421,
          0.578327781479014,
          0.29961159227181877,
          0.12958227848101264,
          0.0005656229180546303,
          0.5929200532978014,
          0.3293910726182545,
          0.18268820786142573,
          0.0745109926715523,
          0.6211758827448368,
          0.45587141905396406,
          0.4515283144570287,
          0.4754077281812125
         ]
        }
       ],
       "layout": {
        "template": {
         "data": {
          "bar": [
           {
            "error_x": {
             "color": "#2a3f5f"
            },
            "error_y": {
             "color": "#2a3f5f"
            },
            "marker": {
             "line": {
              "color": "#E5ECF6",
              "width": 0.5
             },
             "pattern": {
              "fillmode": "overlay",
              "size": 10,
              "solidity": 0.2
             }
            },
            "type": "bar"
           }
          ],
          "barpolar": [
           {
            "marker": {
             "line": {
              "color": "#E5ECF6",
              "width": 0.5
             },
             "pattern": {
              "fillmode": "overlay",
              "size": 10,
              "solidity": 0.2
             }
            },
            "type": "barpolar"
           }
          ],
          "carpet": [
           {
            "aaxis": {
             "endlinecolor": "#2a3f5f",
             "gridcolor": "white",
             "linecolor": "white",
             "minorgridcolor": "white",
             "startlinecolor": "#2a3f5f"
            },
            "baxis": {
             "endlinecolor": "#2a3f5f",
             "gridcolor": "white",
             "linecolor": "white",
             "minorgridcolor": "white",
             "startlinecolor": "#2a3f5f"
            },
            "type": "carpet"
           }
          ],
          "choropleth": [
           {
            "colorbar": {
             "outlinewidth": 0,
             "ticks": ""
            },
            "type": "choropleth"
           }
          ],
          "contour": [
           {
            "colorbar": {
             "outlinewidth": 0,
             "ticks": ""
            },
            "colorscale": [
             [
              0,
              "#0d0887"
             ],
             [
              0.1111111111111111,
              "#46039f"
             ],
             [
              0.2222222222222222,
              "#7201a8"
             ],
             [
              0.3333333333333333,
              "#9c179e"
             ],
             [
              0.4444444444444444,
              "#bd3786"
             ],
             [
              0.5555555555555556,
              "#d8576b"
             ],
             [
              0.6666666666666666,
              "#ed7953"
             ],
             [
              0.7777777777777778,
              "#fb9f3a"
             ],
             [
              0.8888888888888888,
              "#fdca26"
             ],
             [
              1,
              "#f0f921"
             ]
            ],
            "type": "contour"
           }
          ],
          "contourcarpet": [
           {
            "colorbar": {
             "outlinewidth": 0,
             "ticks": ""
            },
            "type": "contourcarpet"
           }
          ],
          "heatmap": [
           {
            "colorbar": {
             "outlinewidth": 0,
             "ticks": ""
            },
            "colorscale": [
             [
              0,
              "#0d0887"
             ],
             [
              0.1111111111111111,
              "#46039f"
             ],
             [
              0.2222222222222222,
              "#7201a8"
             ],
             [
              0.3333333333333333,
              "#9c179e"
             ],
             [
              0.4444444444444444,
              "#bd3786"
             ],
             [
              0.5555555555555556,
              "#d8576b"
             ],
             [
              0.6666666666666666,
              "#ed7953"
             ],
             [
              0.7777777777777778,
              "#fb9f3a"
             ],
             [
              0.8888888888888888,
              "#fdca26"
             ],
             [
              1,
              "#f0f921"
             ]
            ],
            "type": "heatmap"
           }
          ],
          "heatmapgl": [
           {
            "colorbar": {
             "outlinewidth": 0,
             "ticks": ""
            },
            "colorscale": [
             [
              0,
              "#0d0887"
             ],
             [
              0.1111111111111111,
              "#46039f"
             ],
             [
              0.2222222222222222,
              "#7201a8"
             ],
             [
              0.3333333333333333,
              "#9c179e"
             ],
             [
              0.4444444444444444,
              "#bd3786"
             ],
             [
              0.5555555555555556,
              "#d8576b"
             ],
             [
              0.6666666666666666,
              "#ed7953"
             ],
             [
              0.7777777777777778,
              "#fb9f3a"
             ],
             [
              0.8888888888888888,
              "#fdca26"
             ],
             [
              1,
              "#f0f921"
             ]
            ],
            "type": "heatmapgl"
           }
          ],
          "histogram": [
           {
            "marker": {
             "pattern": {
              "fillmode": "overlay",
              "size": 10,
              "solidity": 0.2
             }
            },
            "type": "histogram"
           }
          ],
          "histogram2d": [
           {
            "colorbar": {
             "outlinewidth": 0,
             "ticks": ""
            },
            "colorscale": [
             [
              0,
              "#0d0887"
             ],
             [
              0.1111111111111111,
              "#46039f"
             ],
             [
              0.2222222222222222,
              "#7201a8"
             ],
             [
              0.3333333333333333,
              "#9c179e"
             ],
             [
              0.4444444444444444,
              "#bd3786"
             ],
             [
              0.5555555555555556,
              "#d8576b"
             ],
             [
              0.6666666666666666,
              "#ed7953"
             ],
             [
              0.7777777777777778,
              "#fb9f3a"
             ],
             [
              0.8888888888888888,
              "#fdca26"
             ],
             [
              1,
              "#f0f921"
             ]
            ],
            "type": "histogram2d"
           }
          ],
          "histogram2dcontour": [
           {
            "colorbar": {
             "outlinewidth": 0,
             "ticks": ""
            },
            "colorscale": [
             [
              0,
              "#0d0887"
             ],
             [
              0.1111111111111111,
              "#46039f"
             ],
             [
              0.2222222222222222,
              "#7201a8"
             ],
             [
              0.3333333333333333,
              "#9c179e"
             ],
             [
              0.4444444444444444,
              "#bd3786"
             ],
             [
              0.5555555555555556,
              "#d8576b"
             ],
             [
              0.6666666666666666,
              "#ed7953"
             ],
             [
              0.7777777777777778,
              "#fb9f3a"
             ],
             [
              0.8888888888888888,
              "#fdca26"
             ],
             [
              1,
              "#f0f921"
             ]
            ],
            "type": "histogram2dcontour"
           }
          ],
          "mesh3d": [
           {
            "colorbar": {
             "outlinewidth": 0,
             "ticks": ""
            },
            "type": "mesh3d"
           }
          ],
          "parcoords": [
           {
            "line": {
             "colorbar": {
              "outlinewidth": 0,
              "ticks": ""
             }
            },
            "type": "parcoords"
           }
          ],
          "pie": [
           {
            "automargin": true,
            "type": "pie"
           }
          ],
          "scatter": [
           {
            "marker": {
             "colorbar": {
              "outlinewidth": 0,
              "ticks": ""
             }
            },
            "type": "scatter"
           }
          ],
          "scatter3d": [
           {
            "line": {
             "colorbar": {
              "outlinewidth": 0,
              "ticks": ""
             }
            },
            "marker": {
             "colorbar": {
              "outlinewidth": 0,
              "ticks": ""
             }
            },
            "type": "scatter3d"
           }
          ],
          "scattercarpet": [
           {
            "marker": {
             "colorbar": {
              "outlinewidth": 0,
              "ticks": ""
             }
            },
            "type": "scattercarpet"
           }
          ],
          "scattergeo": [
           {
            "marker": {
             "colorbar": {
              "outlinewidth": 0,
              "ticks": ""
             }
            },
            "type": "scattergeo"
           }
          ],
          "scattergl": [
           {
            "marker": {
             "colorbar": {
              "outlinewidth": 0,
              "ticks": ""
             }
            },
            "type": "scattergl"
           }
          ],
          "scattermapbox": [
           {
            "marker": {
             "colorbar": {
              "outlinewidth": 0,
              "ticks": ""
             }
            },
            "type": "scattermapbox"
           }
          ],
          "scatterpolar": [
           {
            "marker": {
             "colorbar": {
              "outlinewidth": 0,
              "ticks": ""
             }
            },
            "type": "scatterpolar"
           }
          ],
          "scatterpolargl": [
           {
            "marker": {
             "colorbar": {
              "outlinewidth": 0,
              "ticks": ""
             }
            },
            "type": "scatterpolargl"
           }
          ],
          "scatterternary": [
           {
            "marker": {
             "colorbar": {
              "outlinewidth": 0,
              "ticks": ""
             }
            },
            "type": "scatterternary"
           }
          ],
          "surface": [
           {
            "colorbar": {
             "outlinewidth": 0,
             "ticks": ""
            },
            "colorscale": [
             [
              0,
              "#0d0887"
             ],
             [
              0.1111111111111111,
              "#46039f"
             ],
             [
              0.2222222222222222,
              "#7201a8"
             ],
             [
              0.3333333333333333,
              "#9c179e"
             ],
             [
              0.4444444444444444,
              "#bd3786"
             ],
             [
              0.5555555555555556,
              "#d8576b"
             ],
             [
              0.6666666666666666,
              "#ed7953"
             ],
             [
              0.7777777777777778,
              "#fb9f3a"
             ],
             [
              0.8888888888888888,
              "#fdca26"
             ],
             [
              1,
              "#f0f921"
             ]
            ],
            "type": "surface"
           }
          ],
          "table": [
           {
            "cells": {
             "fill": {
              "color": "#EBF0F8"
             },
             "line": {
              "color": "white"
             }
            },
            "header": {
             "fill": {
              "color": "#C8D4E3"
             },
             "line": {
              "color": "white"
             }
            },
            "type": "table"
           }
          ]
         },
         "layout": {
          "annotationdefaults": {
           "arrowcolor": "#2a3f5f",
           "arrowhead": 0,
           "arrowwidth": 1
          },
          "autotypenumbers": "strict",
          "coloraxis": {
           "colorbar": {
            "outlinewidth": 0,
            "ticks": ""
           }
          },
          "colorscale": {
           "diverging": [
            [
             0,
             "#8e0152"
            ],
            [
             0.1,
             "#c51b7d"
            ],
            [
             0.2,
             "#de77ae"
            ],
            [
             0.3,
             "#f1b6da"
            ],
            [
             0.4,
             "#fde0ef"
            ],
            [
             0.5,
             "#f7f7f7"
            ],
            [
             0.6,
             "#e6f5d0"
            ],
            [
             0.7,
             "#b8e186"
            ],
            [
             0.8,
             "#7fbc41"
            ],
            [
             0.9,
             "#4d9221"
            ],
            [
             1,
             "#276419"
            ]
           ],
           "sequential": [
            [
             0,
             "#0d0887"
            ],
            [
             0.1111111111111111,
             "#46039f"
            ],
            [
             0.2222222222222222,
             "#7201a8"
            ],
            [
             0.3333333333333333,
             "#9c179e"
            ],
            [
             0.4444444444444444,
             "#bd3786"
            ],
            [
             0.5555555555555556,
             "#d8576b"
            ],
            [
             0.6666666666666666,
             "#ed7953"
            ],
            [
             0.7777777777777778,
             "#fb9f3a"
            ],
            [
             0.8888888888888888,
             "#fdca26"
            ],
            [
             1,
             "#f0f921"
            ]
           ],
           "sequentialminus": [
            [
             0,
             "#0d0887"
            ],
            [
             0.1111111111111111,
             "#46039f"
            ],
            [
             0.2222222222222222,
             "#7201a8"
            ],
            [
             0.3333333333333333,
             "#9c179e"
            ],
            [
             0.4444444444444444,
             "#bd3786"
            ],
            [
             0.5555555555555556,
             "#d8576b"
            ],
            [
             0.6666666666666666,
             "#ed7953"
            ],
            [
             0.7777777777777778,
             "#fb9f3a"
            ],
            [
             0.8888888888888888,
             "#fdca26"
            ],
            [
             1,
             "#f0f921"
            ]
           ]
          },
          "colorway": [
           "#636efa",
           "#EF553B",
           "#00cc96",
           "#ab63fa",
           "#FFA15A",
           "#19d3f3",
           "#FF6692",
           "#B6E880",
           "#FF97FF",
           "#FECB52"
          ],
          "font": {
           "color": "#2a3f5f"
          },
          "geo": {
           "bgcolor": "white",
           "lakecolor": "white",
           "landcolor": "#E5ECF6",
           "showlakes": true,
           "showland": true,
           "subunitcolor": "white"
          },
          "hoverlabel": {
           "align": "left"
          },
          "hovermode": "closest",
          "mapbox": {
           "style": "light"
          },
          "paper_bgcolor": "white",
          "plot_bgcolor": "#E5ECF6",
          "polar": {
           "angularaxis": {
            "gridcolor": "white",
            "linecolor": "white",
            "ticks": ""
           },
           "bgcolor": "#E5ECF6",
           "radialaxis": {
            "gridcolor": "white",
            "linecolor": "white",
            "ticks": ""
           }
          },
          "scene": {
           "xaxis": {
            "backgroundcolor": "#E5ECF6",
            "gridcolor": "white",
            "gridwidth": 2,
            "linecolor": "white",
            "showbackground": true,
            "ticks": "",
            "zerolinecolor": "white"
           },
           "yaxis": {
            "backgroundcolor": "#E5ECF6",
            "gridcolor": "white",
            "gridwidth": 2,
            "linecolor": "white",
            "showbackground": true,
            "ticks": "",
            "zerolinecolor": "white"
           },
           "zaxis": {
            "backgroundcolor": "#E5ECF6",
            "gridcolor": "white",
            "gridwidth": 2,
            "linecolor": "white",
            "showbackground": true,
            "ticks": "",
            "zerolinecolor": "white"
           }
          },
          "shapedefaults": {
           "line": {
            "color": "#2a3f5f"
           }
          },
          "ternary": {
           "aaxis": {
            "gridcolor": "white",
            "linecolor": "white",
            "ticks": ""
           },
           "baxis": {
            "gridcolor": "white",
            "linecolor": "white",
            "ticks": ""
           },
           "bgcolor": "#E5ECF6",
           "caxis": {
            "gridcolor": "white",
            "linecolor": "white",
            "ticks": ""
           }
          },
          "title": {
           "x": 0.05
          },
          "xaxis": {
           "automargin": true,
           "gridcolor": "white",
           "linecolor": "white",
           "ticks": "",
           "title": {
            "standoff": 15
           },
           "zerolinecolor": "white",
           "zerolinewidth": 2
          },
          "yaxis": {
           "automargin": true,
           "gridcolor": "white",
           "linecolor": "white",
           "ticks": "",
           "title": {
            "standoff": 15
           },
           "zerolinecolor": "white",
           "zerolinewidth": 2
          }
         }
        },
        "xaxis": {
         "autorange": "reversed",
         "visible": false
        },
        "yaxis": {
         "autorange": "reversed",
         "visible": false
        }
       }
      }
     },
     "metadata": {},
     "output_type": "display_data"
    }
   ],
   "source": [
    "gesture_name = \"up\"\n",
    "subjects = [f\"Subject{i}\" for i in range(1, 6)]\n",
    "\n",
    "\n",
    "with open(f\"data/express//50cm/{gesture_name}\", \"rb\") as file:\n",
    "    data_50 = pickle.load(file)\n",
    "\n",
    "with open(f\"data/express//75cm/{gesture_name}\", \"rb\") as file:\n",
    "    data_75 = pickle.load(file)\n",
    "\n",
    "with open(f\"data/express//100cm/{gesture_name}\", \"rb\") as file:\n",
    "    data_100 = pickle.load(file)\n",
    "    \n",
    "def normalize(z: float, max: float, min: float) -> float:\n",
    "    norm = (z - min)/(max - min)\n",
    "    round_norm = round(norm, 3)\n",
    "    \n",
    "    return round_norm\n",
    "def normalize_landmarks(landmarks: list) -> list:\n",
    "    norm_landmarks = list()\n",
    "\n",
    "    for landmark in landmarks:\n",
    "        xs = [landmark[i][0] for i in range(len(landmark))]\n",
    "        ys = [landmark[i][1] for i in range(len(landmark))]\n",
    "\n",
    "        xmax = max(xs)\n",
    "        ymax = max(ys)\n",
    "        xmin = min(xs)\n",
    "        ymin = min(ys)\n",
    "\n",
    "        norm_landmark = list()\n",
    "\n",
    "        for x, y in zip(xs, ys):\n",
    "            norm = [normalize(z=x, max=xmax, min=xmin), normalize(z=y, max=ymax, min=ymin)]\n",
    "\n",
    "            norm_landmark.append(norm)\n",
    "\n",
    "        norm_landmarks.append(norm_landmark)\n",
    "\n",
    "    return norm_landmarks\n",
    "norm_50  = normalize_landmarks(landmarks=data_50)\n",
    "norm_75  = normalize_landmarks(landmarks=data_75)\n",
    "norm_100 = normalize_landmarks(landmarks=data_100)\n",
    "def get_mean_gesture(samples: list):\n",
    "    points_x = {}\n",
    "    points_y = {}\n",
    "\n",
    "    for i in range(21):\n",
    "        xs = [sample[i][0] for sample in samples]\n",
    "        ys = [sample[i][1] for sample in samples]\n",
    "\n",
    "        points_x[i] = xs\n",
    "        points_y[i] = ys\n",
    "\n",
    "    mean_gesture = list()\n",
    "\n",
    "    for i in range(21):\n",
    "        x_mean = np.mean(points_x.get(i))\n",
    "        y_mean = np.mean(points_y.get(i))\n",
    "\n",
    "        mean_gesture.append([x_mean, y_mean])\n",
    "\n",
    "    return mean_gesture\n",
    "mean_gesture_50cm  = get_mean_gesture(samples=norm_50)\n",
    "mean_gesture_75cm  = get_mean_gesture(samples=norm_75)\n",
    "mean_gesture_100cm = get_mean_gesture(samples=norm_100)\n",
    "\n",
    "xs_50 = [mean_gesture_50cm[i][0] for i in range(len(mean_gesture_50cm))]\n",
    "ys_50 = [mean_gesture_50cm[i][1] for i in range(len(mean_gesture_50cm))]\n",
    "\n",
    "xs_75 = [mean_gesture_75cm[i][0] for i in range(len(mean_gesture_75cm))]\n",
    "ys_75 = [mean_gesture_75cm[i][1] for i in range(len(mean_gesture_75cm))]\n",
    "\n",
    "xs_100 = [mean_gesture_100cm[i][0] for i in range(len(mean_gesture_100cm))]\n",
    "ys_100 = [mean_gesture_100cm[i][1] for i in range(len(mean_gesture_100cm))]\n",
    "\n",
    "fig = go.Figure()\n",
    "\n",
    "fig.add_trace(go.Scatter(x=xs_50, y=ys_50, mode=\"markers\", name=\"50 cm\"))\n",
    "fig.add_trace(go.Scatter(x=xs_75, y=ys_75, mode=\"markers\", name=\"75 cm\"))\n",
    "fig.add_trace(go.Scatter(x=xs_100, y=ys_100, mode=\"markers\", name=\"100 cm\"))\n",
    "\n",
    "fig.update_layout(\n",
    "    xaxis = dict(autorange=\"reversed\"),\n",
    "    yaxis = dict(autorange=\"reversed\"),\n",
    ")\n",
    "\n",
    "fig.update_xaxes(visible=False)\n",
    "fig.update_yaxes(visible=False)\n",
    "\n",
    "fig.show()"
   ]
  },
  {
   "cell_type": "markdown",
   "metadata": {},
   "source": [
    "## 50 cm data"
   ]
  },
  {
   "cell_type": "code",
   "execution_count": 5,
   "metadata": {},
   "outputs": [],
   "source": [
    "data_50 = list()\n",
    "\n",
    "for subject in subjects:\n",
    "    with open(f\"data/randomized/{subject}/50cm/{gesture_name}\", \"rb\") as file:\n",
    "        temp = pickle.load(file)\n",
    "        data_50 += temp"
   ]
  },
  {
   "cell_type": "markdown",
   "metadata": {},
   "source": [
    "## 75 cm data"
   ]
  },
  {
   "cell_type": "code",
   "execution_count": 6,
   "metadata": {},
   "outputs": [],
   "source": [
    "data_75 = list()\n",
    "\n",
    "for subject in subjects:\n",
    "    with open(f\"data/randomized/{subject}/75cm/{gesture_name}\", \"rb\") as file:\n",
    "        temp = pickle.load(file)\n",
    "        data_75 += temp"
   ]
  },
  {
   "cell_type": "markdown",
   "metadata": {},
   "source": [
    "## 100 cm data"
   ]
  },
  {
   "cell_type": "code",
   "execution_count": 7,
   "metadata": {},
   "outputs": [],
   "source": [
    "data_100 = list()\n",
    "\n",
    "for subject in subjects:\n",
    "    with open(f\"data/randomized/{subject}/100cm/{gesture_name}\", \"rb\") as file:\n",
    "        temp = pickle.load(file)\n",
    "        data_100 += temp"
   ]
  },
  {
   "cell_type": "markdown",
   "metadata": {},
   "source": [
    "# Normalizing the landmarks using MinMax Scaling"
   ]
  },
  {
   "cell_type": "code",
   "execution_count": 8,
   "metadata": {},
   "outputs": [],
   "source": [
    "def normalize(z: float, max: float, min: float) -> float:\n",
    "    norm = (z - min)/(max - min)\n",
    "    round_norm = round(norm, 3)\n",
    "    \n",
    "    return round_norm"
   ]
  },
  {
   "cell_type": "code",
   "execution_count": 9,
   "metadata": {},
   "outputs": [],
   "source": [
    "def normalize_landmarks(landmarks: list) -> list:\n",
    "    norm_landmarks = list()\n",
    "\n",
    "    for landmark in landmarks:\n",
    "        xs = [landmark[i][0] for i in range(len(landmark))]\n",
    "        ys = [landmark[i][1] for i in range(len(landmark))]\n",
    "\n",
    "        xmax = max(xs)\n",
    "        ymax = max(ys)\n",
    "        xmin = min(xs)\n",
    "        ymin = min(ys)\n",
    "\n",
    "        norm_landmark = list()\n",
    "\n",
    "        for x, y in zip(xs, ys):\n",
    "            norm = [normalize(z=x, max=xmax, min=xmin), normalize(z=y, max=ymax, min=ymin)]\n",
    "\n",
    "            norm_landmark.append(norm)\n",
    "\n",
    "        norm_landmarks.append(norm_landmark)\n",
    "\n",
    "    return norm_landmarks"
   ]
  },
  {
   "cell_type": "code",
   "execution_count": 10,
   "metadata": {},
   "outputs": [],
   "source": [
    "norm_50  = normalize_landmarks(landmarks=data_50)\n",
    "norm_75  = normalize_landmarks(landmarks=data_75)\n",
    "norm_100 = normalize_landmarks(landmarks=data_100)"
   ]
  },
  {
   "cell_type": "markdown",
   "metadata": {},
   "source": [
    "# Checking the \"mean\" gesture for each gesture"
   ]
  },
  {
   "cell_type": "code",
   "execution_count": 11,
   "metadata": {},
   "outputs": [],
   "source": [
    "def get_mean_gesture(samples: list):\n",
    "    points_x = {}\n",
    "    points_y = {}\n",
    "\n",
    "    for i in range(21):\n",
    "        xs = [sample[i][0] for sample in samples]\n",
    "        ys = [sample[i][1] for sample in samples]\n",
    "\n",
    "        points_x[i] = xs\n",
    "        points_y[i] = ys\n",
    "\n",
    "    mean_gesture = list()\n",
    "\n",
    "    for i in range(21):\n",
    "        x_mean = np.mean(points_x.get(i))\n",
    "        y_mean = np.mean(points_y.get(i))\n",
    "\n",
    "        mean_gesture.append([x_mean, y_mean])\n",
    "\n",
    "    return mean_gesture"
   ]
  },
  {
   "cell_type": "code",
   "execution_count": 12,
   "metadata": {},
   "outputs": [
    {
     "data": {
      "application/vnd.plotly.v1+json": {
       "config": {
        "plotlyServerURL": "https://plot.ly"
       },
       "data": [
        {
         "mode": "markers",
         "name": "50 cm",
         "type": "scatter",
         "x": [
          0.26542,
          0.51492,
          0.6962733333333333,
          0.8550866666666666,
          0.99838,
          0.44111333333333336,
          0.4415266666666667,
          0.42680666666666667,
          0.40334666666666663,
          0.28554,
          0.28613333333333335,
          0.29228,
          0.28788,
          0.13843333333333332,
          0.11839333333333334,
          0.20296,
          0.26065333333333335,
          0.008146666666666667,
          0.01990666666666667,
          0.11782666666666666,
          0.18621333333333331
         ],
         "y": [
          0.9933333333333333,
          0.8976133333333333,
          0.7434666666666667,
          0.6435133333333334,
          0.5911333333333333,
          0.4946199999999999,
          0.29855333333333334,
          0.1789333333333333,
          0.07191333333333334,
          0.5003733333333334,
          0.27296000000000004,
          0.12991333333333333,
          0.006666666666666667,
          0.5604866666666667,
          0.42456,
          0.5604600000000001,
          0.6705333333333333,
          0.6583,
          0.5930333333333333,
          0.68952,
          0.77496
         ]
        },
        {
         "mode": "markers",
         "name": "75 cm",
         "type": "scatter",
         "x": [
          0.2571533333333333,
          0.4974866666666666,
          0.6836066666666667,
          0.8503533333333333,
          1,
          0.44644666666666666,
          0.4584599999999999,
          0.45222666666666667,
          0.4368133333333333,
          0.29494666666666663,
          0.30824,
          0.32034666666666667,
          0.32241333333333333,
          0.14672,
          0.13315333333333332,
          0.2060933333333333,
          0.2552066666666667,
          0.011113333333333333,
          0.01884,
          0.10487333333333333,
          0.16589333333333334
         ],
         "y": [
          1,
          0.9092466666666666,
          0.7634733333333333,
          0.6722133333333334,
          0.6322933333333334,
          0.4969599999999999,
          0.29932000000000003,
          0.1782133333333333,
          0.07053333333333332,
          0.49944,
          0.26892,
          0.12410000000000002,
          0,
          0.5565333333333334,
          0.4121866666666666,
          0.54,
          0.6478666666666667,
          0.6505733333333334,
          0.5783,
          0.6669266666666667,
          0.7494733333333333
         ]
        },
        {
         "mode": "markers",
         "name": "100 cm",
         "type": "scatter",
         "x": [
          0.29462,
          0.5342399999999999,
          0.7121466666666667,
          0.8627400000000001,
          1,
          0.44908000000000003,
          0.44614666666666664,
          0.43166666666666664,
          0.4096533333333333,
          0.29302,
          0.28868000000000005,
          0.2922266666666667,
          0.28725333333333336,
          0.14530666666666667,
          0.12226666666666666,
          0.20215333333333332,
          0.2576133333333333,
          0.012860000000000002,
          0.013466666666666667,
          0.10305333333333333,
          0.16776000000000002
         ],
         "y": [
          1,
          0.8977933333333332,
          0.7472333333333334,
          0.6471600000000001,
          0.5954,
          0.4833733333333333,
          0.286,
          0.16480666666666666,
          0.05867333333333332,
          0.49332666666666675,
          0.26368,
          0.12137333333333335,
          0,
          0.5572866666666666,
          0.4116066666666667,
          0.5327466666666667,
          0.6365466666666667,
          0.6592466666666666,
          0.5825266666666667,
          0.6652866666666666,
          0.7442066666666667
         ]
        }
       ],
       "layout": {
        "template": {
         "data": {
          "bar": [
           {
            "error_x": {
             "color": "#2a3f5f"
            },
            "error_y": {
             "color": "#2a3f5f"
            },
            "marker": {
             "line": {
              "color": "#E5ECF6",
              "width": 0.5
             },
             "pattern": {
              "fillmode": "overlay",
              "size": 10,
              "solidity": 0.2
             }
            },
            "type": "bar"
           }
          ],
          "barpolar": [
           {
            "marker": {
             "line": {
              "color": "#E5ECF6",
              "width": 0.5
             },
             "pattern": {
              "fillmode": "overlay",
              "size": 10,
              "solidity": 0.2
             }
            },
            "type": "barpolar"
           }
          ],
          "carpet": [
           {
            "aaxis": {
             "endlinecolor": "#2a3f5f",
             "gridcolor": "white",
             "linecolor": "white",
             "minorgridcolor": "white",
             "startlinecolor": "#2a3f5f"
            },
            "baxis": {
             "endlinecolor": "#2a3f5f",
             "gridcolor": "white",
             "linecolor": "white",
             "minorgridcolor": "white",
             "startlinecolor": "#2a3f5f"
            },
            "type": "carpet"
           }
          ],
          "choropleth": [
           {
            "colorbar": {
             "outlinewidth": 0,
             "ticks": ""
            },
            "type": "choropleth"
           }
          ],
          "contour": [
           {
            "colorbar": {
             "outlinewidth": 0,
             "ticks": ""
            },
            "colorscale": [
             [
              0,
              "#0d0887"
             ],
             [
              0.1111111111111111,
              "#46039f"
             ],
             [
              0.2222222222222222,
              "#7201a8"
             ],
             [
              0.3333333333333333,
              "#9c179e"
             ],
             [
              0.4444444444444444,
              "#bd3786"
             ],
             [
              0.5555555555555556,
              "#d8576b"
             ],
             [
              0.6666666666666666,
              "#ed7953"
             ],
             [
              0.7777777777777778,
              "#fb9f3a"
             ],
             [
              0.8888888888888888,
              "#fdca26"
             ],
             [
              1,
              "#f0f921"
             ]
            ],
            "type": "contour"
           }
          ],
          "contourcarpet": [
           {
            "colorbar": {
             "outlinewidth": 0,
             "ticks": ""
            },
            "type": "contourcarpet"
           }
          ],
          "heatmap": [
           {
            "colorbar": {
             "outlinewidth": 0,
             "ticks": ""
            },
            "colorscale": [
             [
              0,
              "#0d0887"
             ],
             [
              0.1111111111111111,
              "#46039f"
             ],
             [
              0.2222222222222222,
              "#7201a8"
             ],
             [
              0.3333333333333333,
              "#9c179e"
             ],
             [
              0.4444444444444444,
              "#bd3786"
             ],
             [
              0.5555555555555556,
              "#d8576b"
             ],
             [
              0.6666666666666666,
              "#ed7953"
             ],
             [
              0.7777777777777778,
              "#fb9f3a"
             ],
             [
              0.8888888888888888,
              "#fdca26"
             ],
             [
              1,
              "#f0f921"
             ]
            ],
            "type": "heatmap"
           }
          ],
          "heatmapgl": [
           {
            "colorbar": {
             "outlinewidth": 0,
             "ticks": ""
            },
            "colorscale": [
             [
              0,
              "#0d0887"
             ],
             [
              0.1111111111111111,
              "#46039f"
             ],
             [
              0.2222222222222222,
              "#7201a8"
             ],
             [
              0.3333333333333333,
              "#9c179e"
             ],
             [
              0.4444444444444444,
              "#bd3786"
             ],
             [
              0.5555555555555556,
              "#d8576b"
             ],
             [
              0.6666666666666666,
              "#ed7953"
             ],
             [
              0.7777777777777778,
              "#fb9f3a"
             ],
             [
              0.8888888888888888,
              "#fdca26"
             ],
             [
              1,
              "#f0f921"
             ]
            ],
            "type": "heatmapgl"
           }
          ],
          "histogram": [
           {
            "marker": {
             "pattern": {
              "fillmode": "overlay",
              "size": 10,
              "solidity": 0.2
             }
            },
            "type": "histogram"
           }
          ],
          "histogram2d": [
           {
            "colorbar": {
             "outlinewidth": 0,
             "ticks": ""
            },
            "colorscale": [
             [
              0,
              "#0d0887"
             ],
             [
              0.1111111111111111,
              "#46039f"
             ],
             [
              0.2222222222222222,
              "#7201a8"
             ],
             [
              0.3333333333333333,
              "#9c179e"
             ],
             [
              0.4444444444444444,
              "#bd3786"
             ],
             [
              0.5555555555555556,
              "#d8576b"
             ],
             [
              0.6666666666666666,
              "#ed7953"
             ],
             [
              0.7777777777777778,
              "#fb9f3a"
             ],
             [
              0.8888888888888888,
              "#fdca26"
             ],
             [
              1,
              "#f0f921"
             ]
            ],
            "type": "histogram2d"
           }
          ],
          "histogram2dcontour": [
           {
            "colorbar": {
             "outlinewidth": 0,
             "ticks": ""
            },
            "colorscale": [
             [
              0,
              "#0d0887"
             ],
             [
              0.1111111111111111,
              "#46039f"
             ],
             [
              0.2222222222222222,
              "#7201a8"
             ],
             [
              0.3333333333333333,
              "#9c179e"
             ],
             [
              0.4444444444444444,
              "#bd3786"
             ],
             [
              0.5555555555555556,
              "#d8576b"
             ],
             [
              0.6666666666666666,
              "#ed7953"
             ],
             [
              0.7777777777777778,
              "#fb9f3a"
             ],
             [
              0.8888888888888888,
              "#fdca26"
             ],
             [
              1,
              "#f0f921"
             ]
            ],
            "type": "histogram2dcontour"
           }
          ],
          "mesh3d": [
           {
            "colorbar": {
             "outlinewidth": 0,
             "ticks": ""
            },
            "type": "mesh3d"
           }
          ],
          "parcoords": [
           {
            "line": {
             "colorbar": {
              "outlinewidth": 0,
              "ticks": ""
             }
            },
            "type": "parcoords"
           }
          ],
          "pie": [
           {
            "automargin": true,
            "type": "pie"
           }
          ],
          "scatter": [
           {
            "marker": {
             "colorbar": {
              "outlinewidth": 0,
              "ticks": ""
             }
            },
            "type": "scatter"
           }
          ],
          "scatter3d": [
           {
            "line": {
             "colorbar": {
              "outlinewidth": 0,
              "ticks": ""
             }
            },
            "marker": {
             "colorbar": {
              "outlinewidth": 0,
              "ticks": ""
             }
            },
            "type": "scatter3d"
           }
          ],
          "scattercarpet": [
           {
            "marker": {
             "colorbar": {
              "outlinewidth": 0,
              "ticks": ""
             }
            },
            "type": "scattercarpet"
           }
          ],
          "scattergeo": [
           {
            "marker": {
             "colorbar": {
              "outlinewidth": 0,
              "ticks": ""
             }
            },
            "type": "scattergeo"
           }
          ],
          "scattergl": [
           {
            "marker": {
             "colorbar": {
              "outlinewidth": 0,
              "ticks": ""
             }
            },
            "type": "scattergl"
           }
          ],
          "scattermapbox": [
           {
            "marker": {
             "colorbar": {
              "outlinewidth": 0,
              "ticks": ""
             }
            },
            "type": "scattermapbox"
           }
          ],
          "scatterpolar": [
           {
            "marker": {
             "colorbar": {
              "outlinewidth": 0,
              "ticks": ""
             }
            },
            "type": "scatterpolar"
           }
          ],
          "scatterpolargl": [
           {
            "marker": {
             "colorbar": {
              "outlinewidth": 0,
              "ticks": ""
             }
            },
            "type": "scatterpolargl"
           }
          ],
          "scatterternary": [
           {
            "marker": {
             "colorbar": {
              "outlinewidth": 0,
              "ticks": ""
             }
            },
            "type": "scatterternary"
           }
          ],
          "surface": [
           {
            "colorbar": {
             "outlinewidth": 0,
             "ticks": ""
            },
            "colorscale": [
             [
              0,
              "#0d0887"
             ],
             [
              0.1111111111111111,
              "#46039f"
             ],
             [
              0.2222222222222222,
              "#7201a8"
             ],
             [
              0.3333333333333333,
              "#9c179e"
             ],
             [
              0.4444444444444444,
              "#bd3786"
             ],
             [
              0.5555555555555556,
              "#d8576b"
             ],
             [
              0.6666666666666666,
              "#ed7953"
             ],
             [
              0.7777777777777778,
              "#fb9f3a"
             ],
             [
              0.8888888888888888,
              "#fdca26"
             ],
             [
              1,
              "#f0f921"
             ]
            ],
            "type": "surface"
           }
          ],
          "table": [
           {
            "cells": {
             "fill": {
              "color": "#EBF0F8"
             },
             "line": {
              "color": "white"
             }
            },
            "header": {
             "fill": {
              "color": "#C8D4E3"
             },
             "line": {
              "color": "white"
             }
            },
            "type": "table"
           }
          ]
         },
         "layout": {
          "annotationdefaults": {
           "arrowcolor": "#2a3f5f",
           "arrowhead": 0,
           "arrowwidth": 1
          },
          "autotypenumbers": "strict",
          "coloraxis": {
           "colorbar": {
            "outlinewidth": 0,
            "ticks": ""
           }
          },
          "colorscale": {
           "diverging": [
            [
             0,
             "#8e0152"
            ],
            [
             0.1,
             "#c51b7d"
            ],
            [
             0.2,
             "#de77ae"
            ],
            [
             0.3,
             "#f1b6da"
            ],
            [
             0.4,
             "#fde0ef"
            ],
            [
             0.5,
             "#f7f7f7"
            ],
            [
             0.6,
             "#e6f5d0"
            ],
            [
             0.7,
             "#b8e186"
            ],
            [
             0.8,
             "#7fbc41"
            ],
            [
             0.9,
             "#4d9221"
            ],
            [
             1,
             "#276419"
            ]
           ],
           "sequential": [
            [
             0,
             "#0d0887"
            ],
            [
             0.1111111111111111,
             "#46039f"
            ],
            [
             0.2222222222222222,
             "#7201a8"
            ],
            [
             0.3333333333333333,
             "#9c179e"
            ],
            [
             0.4444444444444444,
             "#bd3786"
            ],
            [
             0.5555555555555556,
             "#d8576b"
            ],
            [
             0.6666666666666666,
             "#ed7953"
            ],
            [
             0.7777777777777778,
             "#fb9f3a"
            ],
            [
             0.8888888888888888,
             "#fdca26"
            ],
            [
             1,
             "#f0f921"
            ]
           ],
           "sequentialminus": [
            [
             0,
             "#0d0887"
            ],
            [
             0.1111111111111111,
             "#46039f"
            ],
            [
             0.2222222222222222,
             "#7201a8"
            ],
            [
             0.3333333333333333,
             "#9c179e"
            ],
            [
             0.4444444444444444,
             "#bd3786"
            ],
            [
             0.5555555555555556,
             "#d8576b"
            ],
            [
             0.6666666666666666,
             "#ed7953"
            ],
            [
             0.7777777777777778,
             "#fb9f3a"
            ],
            [
             0.8888888888888888,
             "#fdca26"
            ],
            [
             1,
             "#f0f921"
            ]
           ]
          },
          "colorway": [
           "#636efa",
           "#EF553B",
           "#00cc96",
           "#ab63fa",
           "#FFA15A",
           "#19d3f3",
           "#FF6692",
           "#B6E880",
           "#FF97FF",
           "#FECB52"
          ],
          "font": {
           "color": "#2a3f5f"
          },
          "geo": {
           "bgcolor": "white",
           "lakecolor": "white",
           "landcolor": "#E5ECF6",
           "showlakes": true,
           "showland": true,
           "subunitcolor": "white"
          },
          "hoverlabel": {
           "align": "left"
          },
          "hovermode": "closest",
          "mapbox": {
           "style": "light"
          },
          "paper_bgcolor": "white",
          "plot_bgcolor": "#E5ECF6",
          "polar": {
           "angularaxis": {
            "gridcolor": "white",
            "linecolor": "white",
            "ticks": ""
           },
           "bgcolor": "#E5ECF6",
           "radialaxis": {
            "gridcolor": "white",
            "linecolor": "white",
            "ticks": ""
           }
          },
          "scene": {
           "xaxis": {
            "backgroundcolor": "#E5ECF6",
            "gridcolor": "white",
            "gridwidth": 2,
            "linecolor": "white",
            "showbackground": true,
            "ticks": "",
            "zerolinecolor": "white"
           },
           "yaxis": {
            "backgroundcolor": "#E5ECF6",
            "gridcolor": "white",
            "gridwidth": 2,
            "linecolor": "white",
            "showbackground": true,
            "ticks": "",
            "zerolinecolor": "white"
           },
           "zaxis": {
            "backgroundcolor": "#E5ECF6",
            "gridcolor": "white",
            "gridwidth": 2,
            "linecolor": "white",
            "showbackground": true,
            "ticks": "",
            "zerolinecolor": "white"
           }
          },
          "shapedefaults": {
           "line": {
            "color": "#2a3f5f"
           }
          },
          "ternary": {
           "aaxis": {
            "gridcolor": "white",
            "linecolor": "white",
            "ticks": ""
           },
           "baxis": {
            "gridcolor": "white",
            "linecolor": "white",
            "ticks": ""
           },
           "bgcolor": "#E5ECF6",
           "caxis": {
            "gridcolor": "white",
            "linecolor": "white",
            "ticks": ""
           }
          },
          "title": {
           "x": 0.05
          },
          "xaxis": {
           "automargin": true,
           "gridcolor": "white",
           "linecolor": "white",
           "ticks": "",
           "title": {
            "standoff": 15
           },
           "zerolinecolor": "white",
           "zerolinewidth": 2
          },
          "yaxis": {
           "automargin": true,
           "gridcolor": "white",
           "linecolor": "white",
           "ticks": "",
           "title": {
            "standoff": 15
           },
           "zerolinecolor": "white",
           "zerolinewidth": 2
          }
         }
        },
        "xaxis": {
         "autorange": "reversed",
         "visible": false
        },
        "yaxis": {
         "autorange": "reversed",
         "visible": false
        }
       }
      }
     },
     "metadata": {},
     "output_type": "display_data"
    }
   ],
   "source": [
    "mean_gesture_50cm  = get_mean_gesture(samples=norm_50)\n",
    "mean_gesture_75cm  = get_mean_gesture(samples=norm_75)\n",
    "mean_gesture_100cm = get_mean_gesture(samples=norm_100)\n",
    "\n",
    "xs_50 = [mean_gesture_50cm[i][0] for i in range(len(mean_gesture_50cm))]\n",
    "ys_50 = [mean_gesture_50cm[i][1] for i in range(len(mean_gesture_50cm))]\n",
    "\n",
    "xs_75 = [mean_gesture_75cm[i][0] for i in range(len(mean_gesture_75cm))]\n",
    "ys_75 = [mean_gesture_75cm[i][1] for i in range(len(mean_gesture_75cm))]\n",
    "\n",
    "xs_100 = [mean_gesture_100cm[i][0] for i in range(len(mean_gesture_100cm))]\n",
    "ys_100 = [mean_gesture_100cm[i][1] for i in range(len(mean_gesture_100cm))]\n",
    "\n",
    "fig = go.Figure()\n",
    "\n",
    "fig.add_trace(go.Scatter(x=xs_50, y=ys_50, mode=\"markers\", name=\"50 cm\"))\n",
    "fig.add_trace(go.Scatter(x=xs_75, y=ys_75, mode=\"markers\", name=\"75 cm\"))\n",
    "fig.add_trace(go.Scatter(x=xs_100, y=ys_100, mode=\"markers\", name=\"100 cm\"))\n",
    "\n",
    "fig.update_layout(\n",
    "    xaxis = dict(autorange=\"reversed\"),\n",
    "    yaxis = dict(autorange=\"reversed\"),\n",
    ")\n",
    "\n",
    "fig.update_xaxes(visible=False)\n",
    "fig.update_yaxes(visible=False)\n",
    "\n",
    "fig.show()"
   ]
  },
  {
   "cell_type": "markdown",
   "metadata": {},
   "source": [
    "# Calculating the distances of each point to the center"
   ]
  },
  {
   "cell_type": "code",
   "execution_count": 83,
   "metadata": {},
   "outputs": [],
   "source": [
    "def get_distance_of_points_to_center(landmark: list) -> list:\n",
    "    distances = list()\n",
    "\n",
    "    xs = [landmark[i][0] for i in range(len(landmark))]\n",
    "    ys = [landmark[i][1] for i in range(len(landmark))]\n",
    "\n",
    "    xmean = np.mean(xs)\n",
    "    ymean = np.mean(ys)\n",
    "\n",
    "    for point in landmark:\n",
    "        x = point[0]\n",
    "        y = point[1]\n",
    "\n",
    "        distance = pow(pow(x - xmean, 2) + pow(y - ymean, 2), 0.5)\n",
    "\n",
    "        distances.append(distance)\n",
    "    \n",
    "    return distances"
   ]
  },
  {
   "cell_type": "code",
   "execution_count": 84,
   "metadata": {},
   "outputs": [],
   "source": [
    "def get_landmarks_distances(landmarks: list) -> list:\n",
    "    distances = list()\n",
    "\n",
    "    for landmark in landmarks:\n",
    "        lm_distances = get_distance_of_points_to_center(landmark=landmark)\n",
    "\n",
    "        distances.append(lm_distances)\n",
    "\n",
    "    return distances"
   ]
  },
  {
   "cell_type": "code",
   "execution_count": 85,
   "metadata": {},
   "outputs": [],
   "source": [
    "def get_mean_distances_for_subset(landmarks: list) -> float:\n",
    "    distances = get_landmarks_distances(landmarks=landmarks)\n",
    "\n",
    "    mean_distances = [np.mean(dist) for dist in distances]\n",
    "\n",
    "    return mean_distances\n",
    "\n",
    "def get_mean_var_for_subset(landmarks: list) -> float:\n",
    "    distances = get_landmarks_distances(landmarks=landmarks)\n",
    "\n",
    "    mean_distances = [np.var(dist) for dist in distances]\n",
    "\n",
    "    return mean_distances"
   ]
  },
  {
   "cell_type": "code",
   "execution_count": 86,
   "metadata": {},
   "outputs": [],
   "source": [
    "means_50 = get_mean_distances_for_subset(landmarks=norm_50)\n",
    "vars_50  = get_mean_var_for_subset(landmarks=norm_50)\n",
    "\n",
    "means_75 = get_mean_distances_for_subset(landmarks=norm_75)\n",
    "vars_75  = get_mean_var_for_subset(landmarks=norm_75)\n",
    "\n",
    "means_100 = get_mean_distances_for_subset(landmarks=norm_100)\n",
    "vars_100  = get_mean_var_for_subset(landmarks=norm_100)"
   ]
  },
  {
   "cell_type": "code",
   "execution_count": 87,
   "metadata": {},
   "outputs": [],
   "source": [
    "means_df = pd.DataFrame([means_50, means_75, means_100]).T\n",
    "vars_df  = pd.DataFrame([vars_50, vars_75, vars_100]).T"
   ]
  },
  {
   "cell_type": "code",
   "execution_count": 88,
   "metadata": {},
   "outputs": [
    {
     "data": {
      "application/vnd.plotly.v1+json": {
       "config": {
        "plotlyServerURL": "https://plot.ly"
       },
       "data": [
        {
         "hovertemplate": "variable=0<br>index=%{x}<br>value=%{y}<extra></extra>",
         "legendgroup": "0",
         "marker": {
          "color": "#636efa",
          "symbol": "circle"
         },
         "mode": "markers",
         "name": "0",
         "orientation": "v",
         "showlegend": true,
         "type": "scatter",
         "x": [
          0,
          1,
          2,
          3,
          4,
          5,
          6,
          7,
          8,
          9,
          10,
          11,
          12,
          13,
          14,
          15,
          16,
          17,
          18,
          19,
          20,
          21,
          22,
          23,
          24,
          25,
          26,
          27,
          28,
          29,
          30,
          31,
          32,
          33,
          34,
          35,
          36,
          37,
          38,
          39,
          40,
          41,
          42,
          43,
          44,
          45,
          46,
          47,
          48,
          49,
          50,
          51,
          52,
          53,
          54,
          55,
          56,
          57,
          58,
          59,
          60,
          61,
          62,
          63,
          64,
          65,
          66,
          67,
          68,
          69,
          70,
          71,
          72,
          73,
          74,
          75,
          76,
          77,
          78,
          79,
          80,
          81,
          82,
          83,
          84,
          85,
          86,
          87,
          88,
          89,
          90,
          91,
          92,
          93,
          94,
          95,
          96,
          97,
          98,
          99,
          100,
          101,
          102,
          103,
          104,
          105,
          106,
          107,
          108,
          109,
          110,
          111,
          112,
          113,
          114,
          115,
          116,
          117,
          118,
          119,
          120,
          121,
          122,
          123,
          124,
          125,
          126,
          127,
          128,
          129,
          130,
          131,
          132,
          133,
          134,
          135,
          136,
          137,
          138,
          139,
          140,
          141,
          142,
          143,
          144,
          145,
          146,
          147,
          148,
          149
         ],
         "xaxis": "x",
         "y": [
          0.33889362803748685,
          0.3424193180508144,
          0.32532586513887296,
          0.34352064732407106,
          0.33688400585294975,
          0.3480961851876308,
          0.32533889167461366,
          0.33520835998306947,
          0.3255846384564255,
          0.327167218218436,
          0.3327817019488494,
          0.33733580067835733,
          0.3336254944107561,
          0.3342454679606089,
          0.332158480453124,
          0.34340764329722995,
          0.3514472192085479,
          0.34732741569369213,
          0.33631024939595955,
          0.334906820432734,
          0.34566521189122407,
          0.3427498938283433,
          0.3361813707471994,
          0.33345095267965513,
          0.3450519376609579,
          0.34226246979466407,
          0.34441274932360544,
          0.3559997054204017,
          0.34604785668132476,
          0.34494342108473885,
          0.3307945108077436,
          0.33471617707366114,
          0.3350075971658719,
          0.3181222641233177,
          0.3325626862384212,
          0.32485263554792615,
          0.32985178361517586,
          0.3291959417280854,
          0.3437618085446499,
          0.3423753531655671,
          0.3349174413575578,
          0.3525847900040461,
          0.350183397701178,
          0.35243139548769997,
          0.3363266572508291,
          0.32784750207777075,
          0.3182366327856964,
          0.32670933273351704,
          0.35117017005341467,
          0.32325307126789743,
          0.321805395831752,
          0.32691069173263426,
          0.3382089444385857,
          0.32701623638157024,
          0.325641741994578,
          0.3362023049562497,
          0.32829522228305497,
          0.3356815333554244,
          0.3296051099916632,
          0.3464327125988178,
          0.3216373727707249,
          0.31640606382498354,
          0.33017267974696746,
          0.3286992513136798,
          0.32226654343432337,
          0.3267672497300441,
          0.3326682851567415,
          0.3251673751186099,
          0.32772605015838413,
          0.3165705500596952,
          0.3165541133588147,
          0.3210251634418571,
          0.3298559951124658,
          0.32988890129157017,
          0.32031050126968463,
          0.3165025648534388,
          0.32519786269855555,
          0.31405647981981516,
          0.3225176238869284,
          0.3282210263451259,
          0.3237238067024,
          0.3284998835916305,
          0.333538812645669,
          0.3260424069834726,
          0.3237899778541641,
          0.32637043867974613,
          0.3193715573556431,
          0.33662710774315574,
          0.33099053131293454,
          0.32844165750669346,
          0.33620170507826863,
          0.3212485267644237,
          0.33236476198941967,
          0.316270210704062,
          0.3181967274380339,
          0.3269274884371609,
          0.32164304863665605,
          0.3353200893895593,
          0.3173557788611254,
          0.3367757746726622,
          0.322680243679405,
          0.31112328626435326,
          0.3214370158179795,
          0.3154431452286086,
          0.31987152558505044,
          0.32202438451931353,
          0.34081398652741285,
          0.32856569095672183,
          0.32467444727158173,
          0.3191108595196931,
          0.3289169318451841,
          0.3141577994422616,
          0.3242109854143641,
          0.3220462392789485,
          0.32745313662729536,
          0.32388545092652354,
          0.3369713337415598,
          0.3291847915430884,
          0.3209708622071252,
          0.32252835610853225,
          0.31522044839049956,
          0.32004252435754765,
          0.31864215761395037,
          0.32493869791966995,
          0.32246478592191813,
          0.3227200510984553,
          0.3320117247119093,
          0.31738823837655133,
          0.3261874567491431,
          0.32574508737997887,
          0.3155144903665805,
          0.3130386685302277,
          0.3267978291033431,
          0.3225919339813075,
          0.31992718789494096,
          0.3196496547708971,
          0.31973382458535415,
          0.3138381258511726,
          0.3160489826389791,
          0.32526278540583153,
          0.3218021827538077,
          0.31829833964801535,
          0.32812776322206205,
          0.32448359786085496,
          0.3160318605497304,
          0.3188811287197164,
          0.3232774975679207,
          0.3378587496872088,
          0.33292318126840686,
          0.31578532886093247
         ],
         "yaxis": "y"
        },
        {
         "hovertemplate": "variable=1<br>index=%{x}<br>value=%{y}<extra></extra>",
         "legendgroup": "1",
         "marker": {
          "color": "#EF553B",
          "symbol": "circle"
         },
         "mode": "markers",
         "name": "1",
         "orientation": "v",
         "showlegend": true,
         "type": "scatter",
         "x": [
          0,
          1,
          2,
          3,
          4,
          5,
          6,
          7,
          8,
          9,
          10,
          11,
          12,
          13,
          14,
          15,
          16,
          17,
          18,
          19,
          20,
          21,
          22,
          23,
          24,
          25,
          26,
          27,
          28,
          29,
          30,
          31,
          32,
          33,
          34,
          35,
          36,
          37,
          38,
          39,
          40,
          41,
          42,
          43,
          44,
          45,
          46,
          47,
          48,
          49,
          50,
          51,
          52,
          53,
          54,
          55,
          56,
          57,
          58,
          59,
          60,
          61,
          62,
          63,
          64,
          65,
          66,
          67,
          68,
          69,
          70,
          71,
          72,
          73,
          74,
          75,
          76,
          77,
          78,
          79,
          80,
          81,
          82,
          83,
          84,
          85,
          86,
          87,
          88,
          89,
          90,
          91,
          92,
          93,
          94,
          95,
          96,
          97,
          98,
          99,
          100,
          101,
          102,
          103,
          104,
          105,
          106,
          107,
          108,
          109,
          110,
          111,
          112,
          113,
          114,
          115,
          116,
          117,
          118,
          119,
          120,
          121,
          122,
          123,
          124,
          125,
          126,
          127,
          128,
          129,
          130,
          131,
          132,
          133,
          134,
          135,
          136,
          137,
          138,
          139,
          140,
          141,
          142,
          143,
          144,
          145,
          146,
          147,
          148,
          149
         ],
         "xaxis": "x",
         "y": [
          0.3241304469291453,
          0.33045652191368075,
          0.3253206032237922,
          0.31773681596794534,
          0.33040406156647567,
          0.3247171022030364,
          0.3254999890142447,
          0.32814946977211584,
          0.320155970195362,
          0.32260022943538824,
          0.31785936267040443,
          0.3206312454336894,
          0.32483886835181036,
          0.3328379162037354,
          0.33445657176921556,
          0.33204620513740374,
          0.3231055043884979,
          0.3229060457559101,
          0.3364750390716792,
          0.32484142022241447,
          0.3303055909530261,
          0.3317537145387779,
          0.33005665327185046,
          0.33675824028081347,
          0.32763395556289376,
          0.3312403785846535,
          0.320447773512615,
          0.3173312580223817,
          0.33105375424201544,
          0.33385420267035704,
          0.32869952536860364,
          0.3236933098865133,
          0.3410331003291716,
          0.3356019700499044,
          0.32502131255785705,
          0.33448263196808387,
          0.3351244212175538,
          0.33668808632675845,
          0.33353059441538324,
          0.32434974882044365,
          0.34065400128902457,
          0.32301949927002865,
          0.3278074195644874,
          0.3401863050632049,
          0.33770438433628047,
          0.3335046830165153,
          0.33908917058775634,
          0.3386368767271035,
          0.33730041371361674,
          0.3287778484198613,
          0.3245326991602275,
          0.33706566133010296,
          0.3389165075459967,
          0.3334628213463877,
          0.3235316580440182,
          0.33078794631623154,
          0.3339621247636472,
          0.33298028617274494,
          0.339854503323442,
          0.34417597830771085,
          0.3622171444357999,
          0.32370467847359813,
          0.3395354488056479,
          0.32503105816093447,
          0.314897943820038,
          0.3147243603019335,
          0.31164831217982053,
          0.31935678395129263,
          0.32676916722360094,
          0.320321564823172,
          0.32453683547706746,
          0.31947850834087116,
          0.328228554240817,
          0.32290677965093917,
          0.3250525834927299,
          0.32410652633343034,
          0.3225958062203522,
          0.3246718476504039,
          0.3225796119533156,
          0.3293005270486335,
          0.3208536561696479,
          0.335217705030828,
          0.33117948987819584,
          0.33242249067184515,
          0.3228169588069416,
          0.3153257198772324,
          0.3268876987769752,
          0.32419036985635435,
          0.3190902412932822,
          0.3196001120425823,
          0.32087926810012746,
          0.3440970637862512,
          0.32810827114898666,
          0.3376189266006858,
          0.3396179545318324,
          0.3318397796642897,
          0.3409800904579319,
          0.3380997358200493,
          0.33938431832737415,
          0.3318739653785537,
          0.3297860380671509,
          0.3527682098196043,
          0.33604323862522373,
          0.33563042443569086,
          0.33130680941489843,
          0.34061048684777107,
          0.33773287275858555,
          0.3357445813063769,
          0.32739246552679724,
          0.32800645225314656,
          0.3228479275400907,
          0.33217776565025287,
          0.3361941873564785,
          0.33392960668960947,
          0.3313672895401873,
          0.3282224832338153,
          0.3293137405705294,
          0.32945275667070595,
          0.3349187036141241,
          0.33180825951576076,
          0.33334019958095823,
          0.3306852014739158,
          0.34344727294995603,
          0.3301482758770212,
          0.34322091592512727,
          0.3457160195449008,
          0.32753722885232706,
          0.3259248610400427,
          0.31197499461829475,
          0.3447720580520685,
          0.33626590440420573,
          0.33560050140602965,
          0.33100168669430524,
          0.3225979296918837,
          0.3366135709783865,
          0.3399161086294771,
          0.33458999021499763,
          0.33004910777092833,
          0.3417528343835138,
          0.32622577432297484,
          0.3256367319641682,
          0.3241701481682678,
          0.32664364310006244,
          0.32804439636464267,
          0.3324697835028833,
          0.3358986788359064,
          0.33867936376330715,
          0.3220362940137591,
          0.3188087232452848,
          0.32697502445862336
         ],
         "yaxis": "y"
        },
        {
         "hovertemplate": "variable=2<br>index=%{x}<br>value=%{y}<extra></extra>",
         "legendgroup": "2",
         "marker": {
          "color": "#00cc96",
          "symbol": "circle"
         },
         "mode": "markers",
         "name": "2",
         "orientation": "v",
         "showlegend": true,
         "type": "scatter",
         "x": [
          0,
          1,
          2,
          3,
          4,
          5,
          6,
          7,
          8,
          9,
          10,
          11,
          12,
          13,
          14,
          15,
          16,
          17,
          18,
          19,
          20,
          21,
          22,
          23,
          24,
          25,
          26,
          27,
          28,
          29,
          30,
          31,
          32,
          33,
          34,
          35,
          36,
          37,
          38,
          39,
          40,
          41,
          42,
          43,
          44,
          45,
          46,
          47,
          48,
          49,
          50,
          51,
          52,
          53,
          54,
          55,
          56,
          57,
          58,
          59,
          60,
          61,
          62,
          63,
          64,
          65,
          66,
          67,
          68,
          69,
          70,
          71,
          72,
          73,
          74,
          75,
          76,
          77,
          78,
          79,
          80,
          81,
          82,
          83,
          84,
          85,
          86,
          87,
          88,
          89,
          90,
          91,
          92,
          93,
          94,
          95,
          96,
          97,
          98,
          99,
          100,
          101,
          102,
          103,
          104,
          105,
          106,
          107,
          108,
          109,
          110,
          111,
          112,
          113,
          114,
          115,
          116,
          117,
          118,
          119,
          120,
          121,
          122,
          123,
          124,
          125,
          126,
          127,
          128,
          129,
          130,
          131,
          132,
          133,
          134,
          135,
          136,
          137,
          138,
          139,
          140,
          141,
          142,
          143,
          144,
          145,
          146,
          147,
          148,
          149
         ],
         "xaxis": "x",
         "y": [
          0.32856131745732914,
          0.32618796264371025,
          0.3102770553679151,
          0.3249541528365236,
          0.31345196069550796,
          0.3253035146839205,
          0.3266123432647943,
          0.32157419461803016,
          0.3162646860197229,
          0.31088649115324957,
          0.3159597201705884,
          0.3279396544229848,
          0.3284252646172593,
          0.3261466640198705,
          0.3247840844858557,
          0.3199220666884224,
          0.3207150993683797,
          0.3251146745494141,
          0.3229530228487688,
          0.31338480351632536,
          0.3258877386093265,
          0.32155427013703114,
          0.3187744956954229,
          0.3215510152675094,
          0.34074271458446576,
          0.33154617837646055,
          0.3163988706883553,
          0.3128932590457262,
          0.30932194125124945,
          0.30827544893485886,
          0.3199407470164285,
          0.3304904784154543,
          0.32143116707573405,
          0.33221598714889145,
          0.3350956825566557,
          0.33513965042802496,
          0.3320537329766164,
          0.3465391791474428,
          0.33133084181165334,
          0.33485072626041457,
          0.3358639867375396,
          0.33494878411756407,
          0.3304451278588343,
          0.3415977269051752,
          0.3410002710250915,
          0.3303779723025653,
          0.3454025938848548,
          0.33162896565447,
          0.3289980549725978,
          0.3295456484922865,
          0.3343619863735815,
          0.342319075394787,
          0.3430078921277401,
          0.3316308364684303,
          0.3305925401923682,
          0.3309076319871094,
          0.3348633846925464,
          0.34461406339531486,
          0.3386948715574237,
          0.32539167157428406,
          0.3356164442111488,
          0.33086355781433624,
          0.32334654530150697,
          0.3172998529469987,
          0.340522799886494,
          0.32459601826650275,
          0.3242526982230039,
          0.32428367592086726,
          0.32325056754538606,
          0.3411350103017448,
          0.34332536086129023,
          0.33598229862050166,
          0.33660847066845895,
          0.32389757068294284,
          0.34340103378231884,
          0.32250824901885033,
          0.3195648133332107,
          0.3244645060601714,
          0.331576029052403,
          0.3331897362138187,
          0.31085423229780523,
          0.3319683211574735,
          0.3230211354446049,
          0.3259418807814322,
          0.33017945124019477,
          0.33930672694641306,
          0.3251097254976372,
          0.33075458340793545,
          0.3422427708383993,
          0.3364034576539276,
          0.33730848320753676,
          0.3438488088810348,
          0.3263707979742676,
          0.3319679007999791,
          0.33029944983060244,
          0.3419360709620171,
          0.32509974649005824,
          0.33149065994100985,
          0.332884627268659,
          0.33495624001022195,
          0.3384388450264706,
          0.32324858722087724,
          0.33855670033959157,
          0.33647113492890934,
          0.33849528477379826,
          0.3381428269293907,
          0.3381073439479111,
          0.340919199729453,
          0.3284768939602899,
          0.3311106187329919,
          0.3330627129336463,
          0.33144238659553193,
          0.33679935618365103,
          0.34762899939658654,
          0.3414038183784215,
          0.33176660224535054,
          0.3364926026330342,
          0.3332848318204471,
          0.323572378579892,
          0.3264032107143075,
          0.3328262252537663,
          0.32605782318612486,
          0.32113169571346106,
          0.3286668331628708,
          0.3358815411506629,
          0.3232048742362747,
          0.31931534952742896,
          0.3287899905100301,
          0.33497514892016167,
          0.32933305968296656,
          0.32904484732557904,
          0.319071919937414,
          0.3236130639967546,
          0.32704174211335474,
          0.32634034554767516,
          0.328750027299551,
          0.34726005417927874,
          0.327837447464167,
          0.34407538317769515,
          0.32241852633239276,
          0.3210396049304692,
          0.3291280453312979,
          0.3304523776003634,
          0.3162903375247528,
          0.34400221076886256,
          0.3419964074701886,
          0.3467992475557443,
          0.33249018340542125,
          0.3286665926950841,
          0.3354356954097181
         ],
         "yaxis": "y"
        }
       ],
       "layout": {
        "legend": {
         "title": {
          "text": "variable"
         },
         "tracegroupgap": 0
        },
        "margin": {
         "t": 60
        },
        "template": {
         "data": {
          "bar": [
           {
            "error_x": {
             "color": "#2a3f5f"
            },
            "error_y": {
             "color": "#2a3f5f"
            },
            "marker": {
             "line": {
              "color": "#E5ECF6",
              "width": 0.5
             },
             "pattern": {
              "fillmode": "overlay",
              "size": 10,
              "solidity": 0.2
             }
            },
            "type": "bar"
           }
          ],
          "barpolar": [
           {
            "marker": {
             "line": {
              "color": "#E5ECF6",
              "width": 0.5
             },
             "pattern": {
              "fillmode": "overlay",
              "size": 10,
              "solidity": 0.2
             }
            },
            "type": "barpolar"
           }
          ],
          "carpet": [
           {
            "aaxis": {
             "endlinecolor": "#2a3f5f",
             "gridcolor": "white",
             "linecolor": "white",
             "minorgridcolor": "white",
             "startlinecolor": "#2a3f5f"
            },
            "baxis": {
             "endlinecolor": "#2a3f5f",
             "gridcolor": "white",
             "linecolor": "white",
             "minorgridcolor": "white",
             "startlinecolor": "#2a3f5f"
            },
            "type": "carpet"
           }
          ],
          "choropleth": [
           {
            "colorbar": {
             "outlinewidth": 0,
             "ticks": ""
            },
            "type": "choropleth"
           }
          ],
          "contour": [
           {
            "colorbar": {
             "outlinewidth": 0,
             "ticks": ""
            },
            "colorscale": [
             [
              0,
              "#0d0887"
             ],
             [
              0.1111111111111111,
              "#46039f"
             ],
             [
              0.2222222222222222,
              "#7201a8"
             ],
             [
              0.3333333333333333,
              "#9c179e"
             ],
             [
              0.4444444444444444,
              "#bd3786"
             ],
             [
              0.5555555555555556,
              "#d8576b"
             ],
             [
              0.6666666666666666,
              "#ed7953"
             ],
             [
              0.7777777777777778,
              "#fb9f3a"
             ],
             [
              0.8888888888888888,
              "#fdca26"
             ],
             [
              1,
              "#f0f921"
             ]
            ],
            "type": "contour"
           }
          ],
          "contourcarpet": [
           {
            "colorbar": {
             "outlinewidth": 0,
             "ticks": ""
            },
            "type": "contourcarpet"
           }
          ],
          "heatmap": [
           {
            "colorbar": {
             "outlinewidth": 0,
             "ticks": ""
            },
            "colorscale": [
             [
              0,
              "#0d0887"
             ],
             [
              0.1111111111111111,
              "#46039f"
             ],
             [
              0.2222222222222222,
              "#7201a8"
             ],
             [
              0.3333333333333333,
              "#9c179e"
             ],
             [
              0.4444444444444444,
              "#bd3786"
             ],
             [
              0.5555555555555556,
              "#d8576b"
             ],
             [
              0.6666666666666666,
              "#ed7953"
             ],
             [
              0.7777777777777778,
              "#fb9f3a"
             ],
             [
              0.8888888888888888,
              "#fdca26"
             ],
             [
              1,
              "#f0f921"
             ]
            ],
            "type": "heatmap"
           }
          ],
          "heatmapgl": [
           {
            "colorbar": {
             "outlinewidth": 0,
             "ticks": ""
            },
            "colorscale": [
             [
              0,
              "#0d0887"
             ],
             [
              0.1111111111111111,
              "#46039f"
             ],
             [
              0.2222222222222222,
              "#7201a8"
             ],
             [
              0.3333333333333333,
              "#9c179e"
             ],
             [
              0.4444444444444444,
              "#bd3786"
             ],
             [
              0.5555555555555556,
              "#d8576b"
             ],
             [
              0.6666666666666666,
              "#ed7953"
             ],
             [
              0.7777777777777778,
              "#fb9f3a"
             ],
             [
              0.8888888888888888,
              "#fdca26"
             ],
             [
              1,
              "#f0f921"
             ]
            ],
            "type": "heatmapgl"
           }
          ],
          "histogram": [
           {
            "marker": {
             "pattern": {
              "fillmode": "overlay",
              "size": 10,
              "solidity": 0.2
             }
            },
            "type": "histogram"
           }
          ],
          "histogram2d": [
           {
            "colorbar": {
             "outlinewidth": 0,
             "ticks": ""
            },
            "colorscale": [
             [
              0,
              "#0d0887"
             ],
             [
              0.1111111111111111,
              "#46039f"
             ],
             [
              0.2222222222222222,
              "#7201a8"
             ],
             [
              0.3333333333333333,
              "#9c179e"
             ],
             [
              0.4444444444444444,
              "#bd3786"
             ],
             [
              0.5555555555555556,
              "#d8576b"
             ],
             [
              0.6666666666666666,
              "#ed7953"
             ],
             [
              0.7777777777777778,
              "#fb9f3a"
             ],
             [
              0.8888888888888888,
              "#fdca26"
             ],
             [
              1,
              "#f0f921"
             ]
            ],
            "type": "histogram2d"
           }
          ],
          "histogram2dcontour": [
           {
            "colorbar": {
             "outlinewidth": 0,
             "ticks": ""
            },
            "colorscale": [
             [
              0,
              "#0d0887"
             ],
             [
              0.1111111111111111,
              "#46039f"
             ],
             [
              0.2222222222222222,
              "#7201a8"
             ],
             [
              0.3333333333333333,
              "#9c179e"
             ],
             [
              0.4444444444444444,
              "#bd3786"
             ],
             [
              0.5555555555555556,
              "#d8576b"
             ],
             [
              0.6666666666666666,
              "#ed7953"
             ],
             [
              0.7777777777777778,
              "#fb9f3a"
             ],
             [
              0.8888888888888888,
              "#fdca26"
             ],
             [
              1,
              "#f0f921"
             ]
            ],
            "type": "histogram2dcontour"
           }
          ],
          "mesh3d": [
           {
            "colorbar": {
             "outlinewidth": 0,
             "ticks": ""
            },
            "type": "mesh3d"
           }
          ],
          "parcoords": [
           {
            "line": {
             "colorbar": {
              "outlinewidth": 0,
              "ticks": ""
             }
            },
            "type": "parcoords"
           }
          ],
          "pie": [
           {
            "automargin": true,
            "type": "pie"
           }
          ],
          "scatter": [
           {
            "marker": {
             "colorbar": {
              "outlinewidth": 0,
              "ticks": ""
             }
            },
            "type": "scatter"
           }
          ],
          "scatter3d": [
           {
            "line": {
             "colorbar": {
              "outlinewidth": 0,
              "ticks": ""
             }
            },
            "marker": {
             "colorbar": {
              "outlinewidth": 0,
              "ticks": ""
             }
            },
            "type": "scatter3d"
           }
          ],
          "scattercarpet": [
           {
            "marker": {
             "colorbar": {
              "outlinewidth": 0,
              "ticks": ""
             }
            },
            "type": "scattercarpet"
           }
          ],
          "scattergeo": [
           {
            "marker": {
             "colorbar": {
              "outlinewidth": 0,
              "ticks": ""
             }
            },
            "type": "scattergeo"
           }
          ],
          "scattergl": [
           {
            "marker": {
             "colorbar": {
              "outlinewidth": 0,
              "ticks": ""
             }
            },
            "type": "scattergl"
           }
          ],
          "scattermapbox": [
           {
            "marker": {
             "colorbar": {
              "outlinewidth": 0,
              "ticks": ""
             }
            },
            "type": "scattermapbox"
           }
          ],
          "scatterpolar": [
           {
            "marker": {
             "colorbar": {
              "outlinewidth": 0,
              "ticks": ""
             }
            },
            "type": "scatterpolar"
           }
          ],
          "scatterpolargl": [
           {
            "marker": {
             "colorbar": {
              "outlinewidth": 0,
              "ticks": ""
             }
            },
            "type": "scatterpolargl"
           }
          ],
          "scatterternary": [
           {
            "marker": {
             "colorbar": {
              "outlinewidth": 0,
              "ticks": ""
             }
            },
            "type": "scatterternary"
           }
          ],
          "surface": [
           {
            "colorbar": {
             "outlinewidth": 0,
             "ticks": ""
            },
            "colorscale": [
             [
              0,
              "#0d0887"
             ],
             [
              0.1111111111111111,
              "#46039f"
             ],
             [
              0.2222222222222222,
              "#7201a8"
             ],
             [
              0.3333333333333333,
              "#9c179e"
             ],
             [
              0.4444444444444444,
              "#bd3786"
             ],
             [
              0.5555555555555556,
              "#d8576b"
             ],
             [
              0.6666666666666666,
              "#ed7953"
             ],
             [
              0.7777777777777778,
              "#fb9f3a"
             ],
             [
              0.8888888888888888,
              "#fdca26"
             ],
             [
              1,
              "#f0f921"
             ]
            ],
            "type": "surface"
           }
          ],
          "table": [
           {
            "cells": {
             "fill": {
              "color": "#EBF0F8"
             },
             "line": {
              "color": "white"
             }
            },
            "header": {
             "fill": {
              "color": "#C8D4E3"
             },
             "line": {
              "color": "white"
             }
            },
            "type": "table"
           }
          ]
         },
         "layout": {
          "annotationdefaults": {
           "arrowcolor": "#2a3f5f",
           "arrowhead": 0,
           "arrowwidth": 1
          },
          "autotypenumbers": "strict",
          "coloraxis": {
           "colorbar": {
            "outlinewidth": 0,
            "ticks": ""
           }
          },
          "colorscale": {
           "diverging": [
            [
             0,
             "#8e0152"
            ],
            [
             0.1,
             "#c51b7d"
            ],
            [
             0.2,
             "#de77ae"
            ],
            [
             0.3,
             "#f1b6da"
            ],
            [
             0.4,
             "#fde0ef"
            ],
            [
             0.5,
             "#f7f7f7"
            ],
            [
             0.6,
             "#e6f5d0"
            ],
            [
             0.7,
             "#b8e186"
            ],
            [
             0.8,
             "#7fbc41"
            ],
            [
             0.9,
             "#4d9221"
            ],
            [
             1,
             "#276419"
            ]
           ],
           "sequential": [
            [
             0,
             "#0d0887"
            ],
            [
             0.1111111111111111,
             "#46039f"
            ],
            [
             0.2222222222222222,
             "#7201a8"
            ],
            [
             0.3333333333333333,
             "#9c179e"
            ],
            [
             0.4444444444444444,
             "#bd3786"
            ],
            [
             0.5555555555555556,
             "#d8576b"
            ],
            [
             0.6666666666666666,
             "#ed7953"
            ],
            [
             0.7777777777777778,
             "#fb9f3a"
            ],
            [
             0.8888888888888888,
             "#fdca26"
            ],
            [
             1,
             "#f0f921"
            ]
           ],
           "sequentialminus": [
            [
             0,
             "#0d0887"
            ],
            [
             0.1111111111111111,
             "#46039f"
            ],
            [
             0.2222222222222222,
             "#7201a8"
            ],
            [
             0.3333333333333333,
             "#9c179e"
            ],
            [
             0.4444444444444444,
             "#bd3786"
            ],
            [
             0.5555555555555556,
             "#d8576b"
            ],
            [
             0.6666666666666666,
             "#ed7953"
            ],
            [
             0.7777777777777778,
             "#fb9f3a"
            ],
            [
             0.8888888888888888,
             "#fdca26"
            ],
            [
             1,
             "#f0f921"
            ]
           ]
          },
          "colorway": [
           "#636efa",
           "#EF553B",
           "#00cc96",
           "#ab63fa",
           "#FFA15A",
           "#19d3f3",
           "#FF6692",
           "#B6E880",
           "#FF97FF",
           "#FECB52"
          ],
          "font": {
           "color": "#2a3f5f"
          },
          "geo": {
           "bgcolor": "white",
           "lakecolor": "white",
           "landcolor": "#E5ECF6",
           "showlakes": true,
           "showland": true,
           "subunitcolor": "white"
          },
          "hoverlabel": {
           "align": "left"
          },
          "hovermode": "closest",
          "mapbox": {
           "style": "light"
          },
          "paper_bgcolor": "white",
          "plot_bgcolor": "#E5ECF6",
          "polar": {
           "angularaxis": {
            "gridcolor": "white",
            "linecolor": "white",
            "ticks": ""
           },
           "bgcolor": "#E5ECF6",
           "radialaxis": {
            "gridcolor": "white",
            "linecolor": "white",
            "ticks": ""
           }
          },
          "scene": {
           "xaxis": {
            "backgroundcolor": "#E5ECF6",
            "gridcolor": "white",
            "gridwidth": 2,
            "linecolor": "white",
            "showbackground": true,
            "ticks": "",
            "zerolinecolor": "white"
           },
           "yaxis": {
            "backgroundcolor": "#E5ECF6",
            "gridcolor": "white",
            "gridwidth": 2,
            "linecolor": "white",
            "showbackground": true,
            "ticks": "",
            "zerolinecolor": "white"
           },
           "zaxis": {
            "backgroundcolor": "#E5ECF6",
            "gridcolor": "white",
            "gridwidth": 2,
            "linecolor": "white",
            "showbackground": true,
            "ticks": "",
            "zerolinecolor": "white"
           }
          },
          "shapedefaults": {
           "line": {
            "color": "#2a3f5f"
           }
          },
          "ternary": {
           "aaxis": {
            "gridcolor": "white",
            "linecolor": "white",
            "ticks": ""
           },
           "baxis": {
            "gridcolor": "white",
            "linecolor": "white",
            "ticks": ""
           },
           "bgcolor": "#E5ECF6",
           "caxis": {
            "gridcolor": "white",
            "linecolor": "white",
            "ticks": ""
           }
          },
          "title": {
           "x": 0.05
          },
          "xaxis": {
           "automargin": true,
           "gridcolor": "white",
           "linecolor": "white",
           "ticks": "",
           "title": {
            "standoff": 15
           },
           "zerolinecolor": "white",
           "zerolinewidth": 2
          },
          "yaxis": {
           "automargin": true,
           "gridcolor": "white",
           "linecolor": "white",
           "ticks": "",
           "title": {
            "standoff": 15
           },
           "zerolinecolor": "white",
           "zerolinewidth": 2
          }
         }
        },
        "xaxis": {
         "anchor": "y",
         "domain": [
          0,
          1
         ],
         "title": {
          "text": "index"
         }
        },
        "yaxis": {
         "anchor": "x",
         "domain": [
          0,
          1
         ],
         "title": {
          "text": "value"
         }
        }
       }
      }
     },
     "metadata": {},
     "output_type": "display_data"
    }
   ],
   "source": [
    "px.scatter(means_df)"
   ]
  },
  {
   "cell_type": "markdown",
   "metadata": {},
   "source": [
    "# Hypothesis testing. First we check if the three variances follow a normal distribution. If all of them do, we perfom an ANOVA One Way test, if one is not normal, we perfom a Kruskal test. Both tests test a null hypothesis that the variances are similar. If a p-value is found to be less than 0.05, we can reject this hypothesis. We can test the normality of the variances using a Shapiro Wick test. It's null hypothesis is that the data is drown from a normal distribution."
   ]
  },
  {
   "cell_type": "code",
   "execution_count": 89,
   "metadata": {},
   "outputs": [
    {
     "name": "stdout",
     "output_type": "stream",
     "text": [
      "One or more of the variances is NOT drown from a normal distribution. Their p-values are:\n",
      "    50cm: 6.109580681368243e-07    75cm: 9.115692955674604e-05    100cm: 0.024790799245238304\n",
      "\n",
      "Using the Kruskal test...\n",
      "\n",
      "The test p-value is: 0.0023383716495778218\n",
      "\n",
      "They are NOT the same!\n"
     ]
    }
   ],
   "source": [
    "shapiro_results = {\n",
    "    \"50cm\": stats.shapiro(vars_50),\n",
    "    \"75cm\": stats.shapiro(vars_75),\n",
    "    \"100cm\": stats.shapiro(vars_100)\n",
    "}\n",
    "\n",
    "p_values = [results.pvalue for results in shapiro_results.values()]\n",
    "\n",
    "significant_pvalues = [p_value > 0.05 for p_value in p_values]\n",
    "\n",
    "is_normal = all(significant_pvalues)\n",
    "\n",
    "if is_normal:\n",
    "    print(\"All variances are drown from a normal distribution! Their p-values ares:\")\n",
    "    print(f\"    50cm: {p_values[0]}    75cm: {p_values[1]}    100cm: {p_values[2]}\\n\")\n",
    "\n",
    "    print(\"Using the ANOVA One Way test...\\n\")\n",
    "\n",
    "    result = stats.f_oneway(means_50, means_75, means_100)\n",
    "\n",
    "else:\n",
    "    print(\"One or more of the variances is NOT drown from a normal distribution. Their p-values are:\")\n",
    "    print(f\"    50cm: {p_values[0]}    75cm: {p_values[1]}    100cm: {p_values[2]}\\n\")\n",
    "\n",
    "    print(\"Using the Kruskal test...\\n\")\n",
    "\n",
    "    result = stats.kruskal(vars_50, vars_75, vars_100)\n",
    "\n",
    "print(f\"The test p-value is: {result.pvalue}\\n\")\n",
    "\n",
    "if result.pvalue > 0.05:\n",
    "    print(\"They are the same!\")\n",
    "\n",
    "else:\n",
    "    print(\"They are NOT the same!\")"
   ]
  },
  {
   "cell_type": "code",
   "execution_count": 90,
   "metadata": {},
   "outputs": [],
   "source": [
    "vars = {\n",
    "    \"50cm\": vars_50,\n",
    "    \"75cm\": vars_75,\n",
    "    \"100cm\": vars_100\n",
    "}"
   ]
  },
  {
   "cell_type": "code",
   "execution_count": 91,
   "metadata": {},
   "outputs": [],
   "source": [
    "def u_test_dataframe(vars: dict) -> pd.DataFrame:\n",
    "    df = pd.DataFrame(columns=list(vars.keys()), index=list(vars.keys()))\n",
    "\n",
    "    for var in list(vars.keys()):\n",
    "        for pair in list(vars.keys()):\n",
    "            if var == pair:\n",
    "                result = 1\n",
    "            \n",
    "            else:\n",
    "                result = stats.mannwhitneyu(vars.get(var), vars.get(pair))\n",
    "                result = result.pvalue\n",
    "            df[var].loc[pair] = result\n",
    "\n",
    "    return df"
   ]
  },
  {
   "cell_type": "code",
   "execution_count": 92,
   "metadata": {},
   "outputs": [],
   "source": [
    "import plotly.figure_factory as ff"
   ]
  },
  {
   "cell_type": "code",
   "execution_count": 93,
   "metadata": {},
   "outputs": [
    {
     "data": {
      "application/vnd.plotly.v1+json": {
       "config": {
        "plotlyServerURL": "https://plot.ly"
       },
       "data": [
        {
         "autobinx": false,
         "histnorm": "probability density",
         "legendgroup": "50cm",
         "marker": {
          "color": "rgb(31, 119, 180)"
         },
         "name": "50cm",
         "opacity": 0.7,
         "type": "histogram",
         "x": [
          0.028285231324569067,
          0.029253559378449645,
          0.029740500972777584,
          0.028275936744137368,
          0.026284291317022982,
          0.02987817964466676,
          0.029872283568469167,
          0.02994350959247229,
          0.02609689716945268,
          0.030244146470602574,
          0.02929405766888888,
          0.030260516764365024,
          0.03548863265378169,
          0.029380370775911508,
          0.02894170077917137,
          0.028521462633886028,
          0.029609999502869154,
          0.03527144408531894,
          0.028582091888188936,
          0.030593013464371193,
          0.02845958396393213,
          0.03252621096093149,
          0.028716199341218877,
          0.028836593676304756,
          0.0278762442166452,
          0.02914306390157599,
          0.032004542910611604,
          0.028730758493421698,
          0.03003369267764453,
          0.03362701584219328,
          0.025851458739647077,
          0.024969697585238888,
          0.028714295328677208,
          0.029087617359303552,
          0.028738531377214202,
          0.027227953386183043,
          0.024196893816408698,
          0.024178580702593478,
          0.029383651185657982,
          0.02987087718194142,
          0.026526887973373055,
          0.028173657467779993,
          0.027793624255637767,
          0.028457780408832727,
          0.02355505082429741,
          0.02988744848794204,
          0.028700311766373714,
          0.025714104875341575,
          0.027153139782569655,
          0.025350345339907855,
          0.025559146624000235,
          0.026142057227262393,
          0.025419925321238785,
          0.028379614702923744,
          0.026367011426292206,
          0.027341030550268153,
          0.02530693636852314,
          0.024636139456668132,
          0.026269178950376816,
          0.027043214643692543,
          0.02902494238725912,
          0.02568857238929296,
          0.027743053702901484,
          0.025013033478343424,
          0.025970075436408075,
          0.027660361782774513,
          0.02577765785586157,
          0.02317408745552542,
          0.027830497725588814,
          0.026177612911999472,
          0.026013180390444576,
          0.025822839901981583,
          0.024627099585870577,
          0.02675694999284927,
          0.025909282549605978,
          0.025192239819879596,
          0.025196690232345772,
          0.025501706621507997,
          0.026473915162148403,
          0.025183356957922638,
          0.024596856157780664,
          0.02572405323765479,
          0.024054318508803955,
          0.025322883995815917,
          0.02722087110287791,
          0.02505342972651161,
          0.025599323091460163,
          0.026184403484405226,
          0.028962624190251633,
          0.024625569677747903,
          0.027767057493394604,
          0.02639178314465779,
          0.026793891745086014,
          0.02418404271009709,
          0.02545596282913146,
          0.027048807326845708,
          0.02653826173537305,
          0.028548106586018314,
          0.025771495564491494,
          0.022659986890680443,
          0.025064947867344468,
          0.02513502636765204,
          0.025567120145478683,
          0.02437803936184301,
          0.027233495101751833,
          0.02780191935772374,
          0.026489019331056667,
          0.024585620739737375,
          0.02405823571519674,
          0.02677498042503804,
          0.026094880970493808,
          0.025613947344380335,
          0.027184738070433808,
          0.02561807917671705,
          0.027424837870768923,
          0.024917298578349296,
          0.02403188032713726,
          0.02410090136140461,
          0.026110472053923948,
          0.02694267492542897,
          0.025305157351866548,
          0.02540111366860813,
          0.026453542738065168,
          0.025326017197444116,
          0.02711134165892563,
          0.026838448891119235,
          0.028554287216181595,
          0.02521070160508204,
          0.02643405144954856,
          0.02505484099565577,
          0.025879799112481103,
          0.026269372503688458,
          0.025414707238013354,
          0.025807695830880023,
          0.024994481066950316,
          0.026034905461082142,
          0.02474281656341425,
          0.024334274753153244,
          0.024811961207786937,
          0.02730697757289715,
          0.026078978757651406,
          0.025824189653053616,
          0.02738095558338522,
          0.027523605603628674,
          0.026389287153756942,
          0.026279787197686845,
          0.025909537117243437,
          0.026967932379977372,
          0.028621565804962487,
          0.025419512697507914
         ],
         "xaxis": "x",
         "xbins": {
          "end": 0.03548863265378169,
          "size": 1,
          "start": 0.022659986890680443
         },
         "yaxis": "y"
        },
        {
         "autobinx": false,
         "histnorm": "probability density",
         "legendgroup": "75cm",
         "marker": {
          "color": "rgb(255, 127, 14)"
         },
         "name": "75cm",
         "opacity": 0.7,
         "type": "histogram",
         "x": [
          0.02943368920117693,
          0.029232278507932995,
          0.02788021033352743,
          0.028995089021182426,
          0.028479573333936643,
          0.028400445260218805,
          0.029741992979390973,
          0.02869915451322253,
          0.027919723909264164,
          0.03015137314737316,
          0.029793216945984274,
          0.030059989939169553,
          0.02871429010678143,
          0.028652776412438703,
          0.027134053301063804,
          0.03015299565838438,
          0.02836190332863894,
          0.0279551096505633,
          0.02643151860325388,
          0.026668156016274775,
          0.029194729056827556,
          0.028295001234394282,
          0.02851665098245942,
          0.028487828646053866,
          0.02739218617354963,
          0.027366918171059136,
          0.0264758684417375,
          0.02547908129871266,
          0.028695960555101766,
          0.02799250968133562,
          0.0272150165802778,
          0.0265897930621513,
          0.026458823572843692,
          0.03223719524964351,
          0.027117998990877565,
          0.028106207913970893,
          0.025600334321740154,
          0.03262339556417406,
          0.025890385672821335,
          0.027354691687280653,
          0.027413427369496077,
          0.026431586764809337,
          0.02569351563312064,
          0.026846456985766095,
          0.025205454015473257,
          0.024382032301745304,
          0.027507967496683453,
          0.027614571389446743,
          0.029036013675062883,
          0.026863480129903344,
          0.027999742595278404,
          0.02745054040561506,
          0.02882421769286967,
          0.02522935857109032,
          0.026812105245556075,
          0.025388903732887654,
          0.025668147295912463,
          0.026854228793559497,
          0.026316308861025962,
          0.02748964879039728,
          0.03256760195477943,
          0.027789507891674052,
          0.02633266766647875,
          0.02641431236457012,
          0.028039715816914463,
          0.026019221023468424,
          0.02640019119347361,
          0.026067865859480194,
          0.026146718608230167,
          0.028822104179529247,
          0.02812478119404103,
          0.027222888603983527,
          0.029201630693454717,
          0.025952622086298865,
          0.02613953451798981,
          0.027066723760413042,
          0.026504952611762073,
          0.02631842717093731,
          0.027628212546152664,
          0.028912827284585156,
          0.02687700388492764,
          0.027318845335905624,
          0.028303546844562176,
          0.026511759350855806,
          0.025620789337929904,
          0.02516126408005026,
          0.027947312206887592,
          0.02784439547562015,
          0.026603322673299706,
          0.02478283867715341,
          0.026155062196950567,
          0.02764169595445153,
          0.026616082585028893,
          0.027858217770615215,
          0.02809566763535118,
          0.026847739317162937,
          0.029025489475926466,
          0.02820036909192761,
          0.027404942069835438,
          0.02767119037829101,
          0.02807755911864743,
          0.027935424607791838,
          0.02648672862234347,
          0.027401474428945687,
          0.02572972093781455,
          0.026922976974947964,
          0.025561218676373683,
          0.026105730318417,
          0.026644137235105687,
          0.029292642563750988,
          0.025690354005063847,
          0.029049437676539953,
          0.028137563625812306,
          0.02749330802555581,
          0.025363823731179666,
          0.026156046851301715,
          0.028125145078702302,
          0.025610817630009136,
          0.026620967638368753,
          0.025108730164287094,
          0.028546256921558263,
          0.0276079687279698,
          0.028345594286004833,
          0.02731670550459128,
          0.028416214662899904,
          0.02741055174386201,
          0.026974007706668045,
          0.026293184502514125,
          0.027432219512960286,
          0.027471048848219076,
          0.02637788552615126,
          0.027482085768946656,
          0.027312164584663356,
          0.027441233354882324,
          0.026979063470366937,
          0.027612662676959932,
          0.02727116203069425,
          0.02577767716256199,
          0.02715614758312484,
          0.029282195414541055,
          0.027658596346716875,
          0.027897615263320744,
          0.027202388472205605,
          0.02642332299334906,
          0.027180609497455165,
          0.02666359229552163,
          0.025905014184464246,
          0.02780514687983382,
          0.025532485511056083,
          0.0269925351943416
         ],
         "xaxis": "x",
         "xbins": {
          "end": 0.03262339556417406,
          "size": 1,
          "start": 0.024382032301745304
         },
         "yaxis": "y"
        },
        {
         "autobinx": false,
         "histnorm": "probability density",
         "legendgroup": "100cm",
         "marker": {
          "color": "rgb(44, 160, 44)"
         },
         "name": "100cm",
         "opacity": 0.7,
         "type": "histogram",
         "x": [
          0.028001125069797177,
          0.025418315520676554,
          0.024569745284097822,
          0.02794956952935392,
          0.02711527423183338,
          0.025672339887576324,
          0.025773130061547262,
          0.02477412352356571,
          0.027563351324691857,
          0.02697320413089213,
          0.027590657043782416,
          0.027001125007046687,
          0.028287888644983432,
          0.02754635808385712,
          0.027601906174435083,
          0.02619943587165895,
          0.02757469125028224,
          0.02697883388015688,
          0.02736300036164075,
          0.026076704154059088,
          0.026674764590539208,
          0.025429645007434894,
          0.026189945610682087,
          0.02567904435367658,
          0.02811816209479748,
          0.026714378769497043,
          0.026255541475206007,
          0.0250552778314992,
          0.024739260923597118,
          0.02699794372913595,
          0.027479968285191017,
          0.025503748892143612,
          0.027513224786980078,
          0.026008311125317967,
          0.027780865391299443,
          0.027517940788078704,
          0.025042155150987833,
          0.02717064266729046,
          0.029254367595446883,
          0.023651294977748167,
          0.025760833659931332,
          0.024039706575988577,
          0.024530076431274736,
          0.027397478233988356,
          0.029073332167616855,
          0.024271710609989096,
          0.03186975562060725,
          0.02824958061286929,
          0.02761761769272821,
          0.0256185181675081,
          0.02958228882568248,
          0.02857134223083546,
          0.02859661541654266,
          0.026608924811185788,
          0.030089470328341073,
          0.0238812592740897,
          0.023877787968668907,
          0.024856680189988486,
          0.02959752547729882,
          0.025221924469186273,
          0.028028400561005903,
          0.027513786836062974,
          0.026798571732283435,
          0.028405483591921906,
          0.029234104843630565,
          0.027505307011700005,
          0.029815457536371423,
          0.032320469413336085,
          0.026758957202901,
          0.03001939454234681,
          0.027153497042979577,
          0.02615243016107637,
          0.02610692341528429,
          0.02720412334287627,
          0.029983163103810693,
          0.028131490539285004,
          0.02748957724484308,
          0.029102058683546234,
          0.029316126073486215,
          0.02834230489718544,
          0.03188573696548994,
          0.02807301107215158,
          0.0273268517250124,
          0.02742068853860366,
          0.027895457416365566,
          0.03016893597861751,
          0.027838001987758026,
          0.0288160495455728,
          0.028614552475521533,
          0.029251752227234983,
          0.03034042026280689,
          0.025517651959891724,
          0.026231548941657953,
          0.025246968167253386,
          0.024664092035705684,
          0.028503972808164985,
          0.025131819231192804,
          0.025845348267565342,
          0.02702834193500874,
          0.028066163083203217,
          0.025549710535425277,
          0.02637547104111277,
          0.027985691720927623,
          0.026938336357384116,
          0.026141822004499327,
          0.029528494355837365,
          0.028389931904996918,
          0.029154489278505075,
          0.025361043512885272,
          0.026859236620305146,
          0.02502860793808675,
          0.025426824186452066,
          0.0275147560325548,
          0.026724083313675415,
          0.025939196968969392,
          0.027525230024598096,
          0.028920261253065523,
          0.026760490719686152,
          0.02554638067275875,
          0.026366662856253026,
          0.024814014440925607,
          0.027241801608059942,
          0.025717554189602945,
          0.027609545885265582,
          0.0263812275024642,
          0.026464754394630374,
          0.026616895764792696,
          0.02566782694767052,
          0.025562279991403078,
          0.025275400198948573,
          0.02439115284757936,
          0.02445886047434591,
          0.027203900003376125,
          0.025823122951743178,
          0.025227421044694703,
          0.025094952430363093,
          0.02718470420451098,
          0.026811057019771396,
          0.02753274747116759,
          0.025298965079462186,
          0.025989100410759476,
          0.025788693495220002,
          0.026661176251645498,
          0.0269204042478884,
          0.027222596899967293,
          0.027356099000840774,
          0.028115760352819465,
          0.027626082927691458,
          0.024598316197677623,
          0.02835015048082648
         ],
         "xaxis": "x",
         "xbins": {
          "end": 0.032320469413336085,
          "size": 1,
          "start": 0.023651294977748167
         },
         "yaxis": "y"
        },
        {
         "legendgroup": "50cm",
         "marker": {
          "color": "rgb(31, 119, 180)"
         },
         "mode": "lines",
         "name": "50cm",
         "showlegend": false,
         "type": "scatter",
         "x": [
          0.022659986890680443,
          0.022685644182206643,
          0.022711301473732848,
          0.02273695876525905,
          0.022762616056785253,
          0.022788273348311454,
          0.022813930639837658,
          0.02283958793136386,
          0.022865245222890063,
          0.022890902514416264,
          0.02291655980594247,
          0.02294221709746867,
          0.022967874388994874,
          0.022993531680521075,
          0.02301918897204728,
          0.02304484626357348,
          0.023070503555099684,
          0.023096160846625885,
          0.023121818138152086,
          0.02314747542967829,
          0.02317313272120449,
          0.023198790012730695,
          0.023224447304256896,
          0.0232501045957831,
          0.0232757618873093,
          0.023301419178835506,
          0.023327076470361707,
          0.02335273376188791,
          0.023378391053414112,
          0.023404048344940316,
          0.023429705636466517,
          0.02345536292799272,
          0.023481020219518922,
          0.023506677511045126,
          0.023532334802571327,
          0.023557992094097528,
          0.023583649385623733,
          0.023609306677149933,
          0.023634963968676138,
          0.02366062126020234,
          0.023686278551728543,
          0.023711935843254744,
          0.023737593134780948,
          0.02376325042630715,
          0.023788907717833353,
          0.023814565009359554,
          0.02384022230088576,
          0.02386587959241196,
          0.023891536883938164,
          0.023917194175464365,
          0.023942851466990565,
          0.02396850875851677,
          0.02399416605004297,
          0.024019823341569175,
          0.024045480633095376,
          0.02407113792462158,
          0.02409679521614778,
          0.024122452507673985,
          0.024148109799200186,
          0.02417376709072639,
          0.02419942438225259,
          0.024225081673778796,
          0.024250738965304997,
          0.0242763962568312,
          0.0243020535483574,
          0.024327710839883606,
          0.024353368131409807,
          0.02437902542293601,
          0.024404682714462212,
          0.024430340005988413,
          0.024455997297514617,
          0.024481654589040818,
          0.024507311880567022,
          0.024532969172093223,
          0.024558626463619428,
          0.02458428375514563,
          0.024609941046671833,
          0.024635598338198034,
          0.024661255629724238,
          0.02468691292125044,
          0.024712570212776643,
          0.024738227504302844,
          0.02476388479582905,
          0.02478954208735525,
          0.02481519937888145,
          0.024840856670407654,
          0.024866513961933855,
          0.02489217125346006,
          0.02491782854498626,
          0.024943485836512465,
          0.024969143128038666,
          0.02499480041956487,
          0.02502045771109107,
          0.025046115002617275,
          0.025071772294143476,
          0.02509742958566968,
          0.02512308687719588,
          0.025148744168722086,
          0.025174401460248286,
          0.025200058751774487,
          0.02522571604330069,
          0.025251373334826896,
          0.025277030626353097,
          0.025302687917879298,
          0.025328345209405502,
          0.025354002500931703,
          0.025379659792457907,
          0.025405317083984108,
          0.025430974375510312,
          0.025456631667036513,
          0.025482288958562718,
          0.02550794625008892,
          0.025533603541615123,
          0.025559260833141324,
          0.025584918124667528,
          0.02561057541619373,
          0.025636232707719933,
          0.025661889999246134,
          0.025687547290772335,
          0.02571320458229854,
          0.02573886187382474,
          0.025764519165350944,
          0.025790176456877145,
          0.02581583374840335,
          0.02584149103992955,
          0.025867148331455755,
          0.025892805622981956,
          0.02591846291450816,
          0.02594412020603436,
          0.025969777497560565,
          0.025995434789086766,
          0.02602109208061297,
          0.02604674937213917,
          0.026072406663665372,
          0.026098063955191576,
          0.02612372124671778,
          0.02614937853824398,
          0.026175035829770182,
          0.026200693121296387,
          0.026226350412822588,
          0.026252007704348792,
          0.026277664995874993,
          0.026303322287401197,
          0.026328979578927398,
          0.026354636870453602,
          0.026380294161979803,
          0.026405951453506007,
          0.02643160874503221,
          0.02645726603655841,
          0.026482923328084614,
          0.026508580619610818,
          0.02653423791113702,
          0.02655989520266322,
          0.026585552494189424,
          0.026611209785715625,
          0.02663686707724183,
          0.02666252436876803,
          0.026688181660294234,
          0.026713838951820435,
          0.02673949624334664,
          0.02676515353487284,
          0.026790810826399045,
          0.026816468117925246,
          0.026842125409451446,
          0.02686778270097765,
          0.026893439992503855,
          0.026919097284030056,
          0.026944754575556257,
          0.02697041186708246,
          0.026996069158608665,
          0.027021726450134866,
          0.027047383741661067,
          0.02707304103318727,
          0.027098698324713472,
          0.027124355616239677,
          0.027150012907765878,
          0.027175670199292082,
          0.027201327490818283,
          0.027226984782344484,
          0.027252642073870688,
          0.027278299365396892,
          0.027303956656923093,
          0.027329613948449294,
          0.027355271239975498,
          0.027380928531501703,
          0.027406585823027903,
          0.027432243114554104,
          0.02745790040608031,
          0.027483557697606513,
          0.027509214989132714,
          0.027534872280658915,
          0.02756052957218512,
          0.02758618686371132,
          0.027611844155237524,
          0.027637501446763725,
          0.02766315873828993,
          0.02768881602981613,
          0.027714473321342335,
          0.027740130612868535,
          0.02776578790439474,
          0.02779144519592094,
          0.02781710248744714,
          0.027842759778973346,
          0.027868417070499547,
          0.02789407436202575,
          0.027919731653551952,
          0.027945388945078156,
          0.027971046236604357,
          0.02799670352813056,
          0.028022360819656762,
          0.028048018111182967,
          0.028073675402709167,
          0.02809933269423537,
          0.028124989985761573,
          0.028150647277287777,
          0.028176304568813978,
          0.02820196186034018,
          0.028227619151866383,
          0.028253276443392587,
          0.028278933734918788,
          0.02830459102644499,
          0.028330248317971193,
          0.028355905609497394,
          0.0283815629010236,
          0.0284072201925498,
          0.028432877484076004,
          0.028458534775602205,
          0.02848419206712841,
          0.02850984935865461,
          0.028535506650180814,
          0.028561163941707015,
          0.028586821233233216,
          0.02861247852475942,
          0.028638135816285624,
          0.028663793107811825,
          0.028689450399338026,
          0.02871510769086423,
          0.028740764982390435,
          0.028766422273916636,
          0.028792079565442837,
          0.02881773685696904,
          0.028843394148495245,
          0.028869051440021446,
          0.028894708731547647,
          0.02892036602307385,
          0.028946023314600052,
          0.028971680606126256,
          0.028997337897652457,
          0.02902299518917866,
          0.029048652480704863,
          0.029074309772231063,
          0.029099967063757268,
          0.02912562435528347,
          0.029151281646809673,
          0.029176938938335874,
          0.029202596229862078,
          0.02922825352138828,
          0.029253910812914483,
          0.029279568104440684,
          0.02930522539596689,
          0.02933088268749309,
          0.029356539979019294,
          0.029382197270545495,
          0.0294078545620717,
          0.0294335118535979,
          0.0294591691451241,
          0.029484826436650305,
          0.02951048372817651,
          0.02953614101970271,
          0.02956179831122891,
          0.029587455602755115,
          0.029613112894281316,
          0.02963877018580752,
          0.02966442747733372,
          0.029690084768859926,
          0.029715742060386127,
          0.02974139935191233,
          0.02976705664343853,
          0.029792713934964736,
          0.029818371226490937,
          0.029844028518017138,
          0.029869685809543342,
          0.029895343101069546,
          0.029921000392595747,
          0.029946657684121948,
          0.029972314975648152,
          0.029997972267174357,
          0.030023629558700558,
          0.03004928685022676,
          0.030074944141752963,
          0.030100601433279167,
          0.030126258724805368,
          0.03015191601633157,
          0.030177573307857773,
          0.030203230599383974,
          0.03022888789091018,
          0.03025454518243638,
          0.030280202473962584,
          0.030305859765488784,
          0.030331517057014985,
          0.03035717434854119,
          0.030382831640067394,
          0.030408488931593595,
          0.030434146223119796,
          0.030459803514646,
          0.030485460806172204,
          0.0305111180976984,
          0.030536775389224606,
          0.03056243268075081,
          0.030588089972277015,
          0.030613747263803212,
          0.030639404555329416,
          0.03066506184685562,
          0.03069071913838182,
          0.030716376429908022,
          0.030742033721434227,
          0.03076769101296043,
          0.030793348304486632,
          0.030819005596012833,
          0.030844662887539037,
          0.03087032017906524,
          0.03089597747059144,
          0.030921634762117643,
          0.030947292053643848,
          0.030972949345170052,
          0.03099860663669625,
          0.031024263928222454,
          0.031049921219748658,
          0.03107557851127486,
          0.03110123580280106,
          0.031126893094327264,
          0.03115255038585347,
          0.03117820767737967,
          0.03120386496890587,
          0.031229522260432074,
          0.03125517955195828,
          0.03128083684348448,
          0.03130649413501068,
          0.031332151426536885,
          0.03135780871806308,
          0.031383466009589286,
          0.03140912330111549,
          0.031434780592641695,
          0.0314604378841679,
          0.0314860951756941,
          0.0315117524672203,
          0.031537409758746505,
          0.0315630670502727,
          0.03158872434179891,
          0.03161438163332511,
          0.031640038924851316,
          0.03166569621637752,
          0.03169135350790372,
          0.03171701079942992,
          0.031742668090956126,
          0.031768325382482324,
          0.03179398267400853,
          0.03181963996553473,
          0.03184529725706094,
          0.03187095454858714,
          0.03189661184011334,
          0.03192226913163954,
          0.03194792642316575,
          0.031973583714691944,
          0.03199924100621815,
          0.03202489829774435,
          0.03205055558927056,
          0.032076212880796755,
          0.03210187017232296,
          0.03212752746384916,
          0.03215318475537536,
          0.032178842046901565,
          0.03220449933842777,
          0.032230156629953974,
          0.03225581392148017,
          0.032281471213006376,
          0.03230712850453258,
          0.03233278579605878,
          0.03235844308758498,
          0.032384100379111186,
          0.03240975767063739,
          0.032435414962163595,
          0.03246107225368979,
          0.032486729545215996,
          0.032512386836742194,
          0.0325380441282684,
          0.0325637014197946,
          0.03258935871132081,
          0.03261501600284701,
          0.032640673294373215,
          0.03266633058589941,
          0.03269198787742562,
          0.032717645168951814,
          0.03274330246047802,
          0.03276895975200422,
          0.03279461704353043,
          0.03282027433505663,
          0.03284593162658283,
          0.03287158891810903,
          0.03289724620963524,
          0.032922903501161435,
          0.03294856079268764,
          0.032974218084213844,
          0.03299987537574005,
          0.03302553266726625,
          0.03305118995879245,
          0.033076847250318654,
          0.03310250454184486,
          0.033128161833371056,
          0.03315381912489726,
          0.033179476416423465,
          0.03320513370794967,
          0.03323079099947587,
          0.03325644829100207,
          0.033282105582528275,
          0.03330776287405447,
          0.03333342016558068,
          0.03335907745710688,
          0.033384734748633085,
          0.03341039204015929,
          0.03343604933168549,
          0.03346170662321169,
          0.033487363914737896,
          0.03351302120626409,
          0.0335386784977903,
          0.0335643357893165,
          0.033589993080842706,
          0.0336156503723689,
          0.03364130766389511,
          0.03366696495542131,
          0.03369262224694751,
          0.033718279538473714,
          0.03374393682999992,
          0.03376959412152612,
          0.03379525141305233,
          0.033820908704578524,
          0.03384656599610473,
          0.033872223287630926,
          0.03389788057915713,
          0.033923537870683335,
          0.03394919516220954,
          0.03397485245373574,
          0.03400050974526195,
          0.034026167036788145,
          0.03405182432831435,
          0.03407748161984055,
          0.03410313891136675,
          0.034128796202892955,
          0.03415445349441916,
          0.034180110785945364,
          0.03420576807747156,
          0.034231425368997766,
          0.03425708266052397,
          0.03428273995205017,
          0.03430839724357637,
          0.034334054535102576,
          0.03435971182662878,
          0.034385369118154985,
          0.03441102640968118,
          0.034436683701207386,
          0.03446234099273359,
          0.03448799828425979,
          0.03451365557578599,
          0.0345393128673122,
          0.0345649701588384,
          0.0345906274503646,
          0.0346162847418908,
          0.03464194203341701,
          0.034667599324943205,
          0.03469325661646941,
          0.03471891390799561,
          0.03474457119952182,
          0.034770228491048015,
          0.03479588578257422,
          0.034821543074100424,
          0.03484720036562663,
          0.034872857657152825,
          0.03489851494867903,
          0.034924172240205234,
          0.03494982953173144,
          0.034975486823257636,
          0.03500114411478384,
          0.035026801406310044,
          0.03505245869783624,
          0.035078115989362446,
          0.03510377328088865,
          0.035129430572414855,
          0.03515508786394106,
          0.035180745155467257,
          0.03520640244699346,
          0.03523205973851966,
          0.03525771703004586,
          0.03528337432157207,
          0.03530903161309827,
          0.035334688904624476,
          0.03536034619615067,
          0.03538600348767688,
          0.03541166077920308,
          0.03543731807072928,
          0.03546297536225548
         ],
         "xaxis": "x",
         "y": [
          14.484172879691172,
          15.058863912390075,
          15.653397452730944,
          16.268377666623156,
          16.90441589125673,
          17.5621293708099,
          18.24213990919049,
          18.94507244462875,
          19.67155355157003,
          20.422209875903185,
          21.197666510099353,
          21.998545315316452,
          22.825463197943165,
          23.679030348403717,
          24.559848450320587,
          25.46850886832102,
          26.40559082289398,
          27.371659560718044,
          28.367264528832962,
          29.392937560866525,
          30.449191083300654,
          31.53651634943994,
          32.65538170833506,
          33.80623091544436,
          34.98948149125208,
          36.20552313344907,
          37.45471618759869,
          38.73739018048294,
          40.0538424195515,
          41.40433666109501,
          42.789101848940994,
          44.20833092463897,
          45.66217970927182,
          47.15076585621631,
          48.67416787338684,
          50.23242421274599,
          51.82553242416811,
          53.4534483700976,
          55.116085496888566,
          56.81331415821062,
          58.54496098553344,
          60.3108083003835,
          62.110593562902764,
          63.94400885113469,
          65.81070036552397,
          67.71026795324599,
          69.64226464727759,
          71.60619621548513,
          73.60152071553208,
          75.62764805200396,
          77.68393953287698,
          79.76970742327099,
          81.88421449532447,
          84.02667357402332,
          86.19624707984205,
          88.3920465701812,
          90.61313228269246,
          92.85851268477613,
          95.12714403467157,
          97.41792996075534,
          99.72972106676151,
          102.0613145717687,
          104.41145399479691,
          106.77882889485306,
          109.16207467810156,
          111.55977248463341,
          113.97044916792416,
          116.39257738061777,
          118.82457578061273,
          121.2648093716846,
          123.71158999289993,
          126.16317697100546,
          128.61777794967142,
          131.07354990902726,
          133.52860038830266,
          135.98098892357157,
          138.4287287116494,
          140.86978851003119,
          143.3020947814959,
          145.72353409053096,
          148.1319557571879,
          150.52517477224663,
          152.9009749757851,
          155.25711249931933,
          157.59131946972195,
          159.901307971058,
          162.184774258415,
          164.43940321568238,
          166.66287304712782,
          168.85286019052842,
          171.00704443754697,
          173.12311424504935,
          175.19877221912188,
          177.23174075171625,
          179.21976778811802,
          181.16063270184003,
          183.05215225207544,
          184.89218659755255,
          186.6786453394916,
          188.4094935654201,
          190.08275786483276,
          191.69653228712124,
          193.2489842118465,
          194.73836010126894,
          196.16299110511676,
          197.52129848785648,
          198.81179884921968,
          200.03310910943284,
          201.18395123152607,
          202.26315665419045,
          203.26967040997326,
          204.20255490508652,
          205.06099333877782,
          205.84429274204504,
          206.5518866174586,
          207.18333716398573,
          207.73833707295248,
          208.21671088363527,
          208.618415889419,
          208.9435425879744,
          209.19231467148367,
          209.36508855554965,
          209.4623524480489,
          209.48472496182103,
          209.43295327768425,
          209.30791086683251,
          209.1105947841812,
          208.84212254664746,
          208.50372861268775,
          208.09676048163243,
          207.62267443344342,
          207.0830309314613,
          206.4794897124835,
          205.81380459012257,
          205.08781799879546,
          204.30345530692014,
          203.46271892888194,
          202.5676822661266,
          201.62048350828584,
          200.6233193255735,
          199.57843848377698,
          198.4881354130374,
          197.35474376122988,
          196.18062996215735,
          194.968186847945,
          193.71982733397576,
          192.43797820345952,
          191.12507401728038,
          189.78355117313967,
          188.41584213621397,
          187.02436986161416,
          185.6115424268369,
          184.17974789024,
          182.73134938927961,
          181.26868048992642,
          179.79404079627702,
          178.30969182700917,
          176.81785316290208,
          175.32069886732543,
          173.8203541792587,
          172.31889247622036,
          170.81833250233387,
          169.32063585480293,
          167.8277047201929,
          166.3413798502697,
          164.863438765642,
          163.39559417416467,
          161.93949258999618,
          160.49671313834267,
          159.06876653031426,
          157.65709419192638,
          156.26306753115892,
          154.88798732706934,
          153.5330832253108,
          152.19951332495012,
          150.8883638422971,
          149.60064883841514,
          148.33730999820307,
          147.09921645026085,
          145.8871646182955,
          144.70187809643963,
          143.54400754261962,
          142.41413058592317,
          141.3127517458167,
          140.24030236294215,
          139.19714054314505,
          138.1835511182403,
          137.19974562883556,
          136.24586233624126,
          135.3219662720982,
          134.42804933581644,
          133.56403045119794,
          132.72975579473197,
          131.92499910893517,
          131.14946211479443,
          130.40277503779012,
          129.68449726218319,
          128.9941181281598,
          128.33105788612798,
          127.69466882184948,
          127.08423656527604,
          126.49898159485416,
          125.93806094775331,
          125.40057014491757,
          124.88554533809805,
          124.39196568407904,
          123.91875594922469,
          123.46478934522891,
          123.02889059461839,
          122.60983922213319,
          122.20637306564598,
          121.81719199779513,
          121.44096184704287,
          121.07631850445274,
          120.72187220014513,
          120.37621193117246,
          120.0379100204725,
          119.70552678466485,
          119.37761528673649,
          119.0527261481975,
          118.72941239403781,
          118.40623430285898,
          118.08176423385034,
          117.75459140188808,
          117.4233265719294,
          117.08660664407864,
          116.74309910120894,
          116.39150629183028,
          116.03056952199577,
          115.65907293142313,
          115.27584713065944,
          114.87977257801693,
          114.46978267714218,
          114.04486657841314,
          113.60407166986994,
          113.1465057460531,
          112.67133884589522,
          112.17780475368355,
          111.66520216003009,
          111.13289548271474,
          110.58031535020517,
          110.00695875351232,
          109.41238887484894,
          108.79623460422371,
          108.15818975765123,
          107.49801201300889,
          106.81552158174658,
          106.11059963659461,
          105.38318651712115,
          104.6332797364306,
          103.8609318134719,
          103.06624795630852,
          102.24938362230532,
          101.4105419814907,
          100.54997130936546,
          99.66796233515713,
          98.76484557095954,
          97.84098864637075,
          96.89679367216362,
          95.93269465519711,
          94.94915498523902,
          93.94666501263315,
          92.92573973383053,
          91.88691659975079,
          90.83075345975885,
          89.75782665177762,
          88.668729246723,
          87.5640694530887,
          86.44446918513518,
          85.31056279580174,
          84.1629959731623,
          83.0024247970418,
          81.8295149503001,
          80.64494107730678,
          79.44938628030737,
          78.24354174271008,
          77.02810646684702,
          75.80378711247839,
          74.57129792123992,
          73.3313607113709,
          72.08470492643352,
          70.83206772132013,
          69.57419406866676,
          68.31183686882332,
          67.04575704679233,
          65.77672362000607,
          64.50551372147491,
          63.23291256368405,
          61.959713329634454,
          60.68671697859346,
          59.414731955429104,
          58.144573793830325,
          56.877064605237926,
          55.61303244691813,
          54.35331056426988,
          53.09873650415621,
          51.85015109776681,
          50.608397313228345,
          49.37431897986901,
          48.14875938769101,
          46.932559767188614,
          45.72655765617025,
          44.5315851616476,
          43.348467126191295,
          42.178019209335666,
          41.021045895704866,
          39.87833844245532,
          38.7506727794439,
          37.638807376177326,
          36.543481090091774,
          35.46541101108297,
          34.405290317389685,
          33.363786158003705,
          32.34153757667011,
          31.33915349232953,
          30.357210750470994,
          29.396252259386117,
          28.4567852246892,
          27.539279494763548,
          26.644166028960917,
          25.771835499483647,
          24.92263703687947,
          24.09687712803808,
          23.29481867446221,
          22.5166802174322,
          21.762635335499443,
          21.03281221853646,
          20.3272934213521,
          19.646115798659856,
          18.989270621978957,
          18.356703877861023,
          17.74831674566572,
          17.16396625198552,
          16.603466097738288,
          16.066587652907025,
          15.553061112935344,
          15.062576809862739,
          14.594786670441888,
          14.14930581269163,
          13.725714271636818,
          13.323558844346184,
          12.942355043831064,
          12.581589150881443,
          12.240720352521446,
          11.919182955441348,
          11.61638866252284,
          11.331728900407214,
          11.064577185965652,
          10.814291519515642,
          10.580216792686503,
          10.361687198959268,
          10.158028635104623,
          9.96856108199791,
          9.792600953612881,
          9.62946340337297,
          9.478464577472595,
          9.338923805266182,
          9.21016571735619,
          9.091522282587112,
          8.982334755770585,
          8.881955528620662,
          8.789749877063812,
          8.705097598802832,
          8.627394535752039,
          8.556053976719786,
          8.490507936487935,
          8.430208308222873,
          8.374627886944465,
          8.323261262573855,
          8.275625581872603,
          8.231261179371122,
          8.189732078158455,
          8.150626362164274,
          8.113556422301796,
          8.07815907955432,
          8.044095588772972,
          8.011051527604723,
          7.978736575584123,
          7.946884188995299,
          7.915251177638686,
          7.88361719011665,
          7.851784114679374,
          7.819575403045571,
          7.786835324927362,
          7.753428161244396,
          7.719237344205701,
          7.684164552568359,
          7.648128770448049,
          7.611065318058062,
          7.572924862689675,
          7.533672418118705,
          7.493286340431709,
          7.4517573280118246,
          7.4090874331104795,
          7.365289092061048,
          7.320384180764799,
          7.274403101604481,
          7.227383907418061,
          7.179371467601329,
          7.13041668080671,
          7.080575738072695,
          7.029909439559746,
          6.978482567389736,
          6.92636331639412,
          6.873622783876273,
          6.820334518794244,
          6.7665741300756865,
          6.712418953096807,
          6.657947772694883,
          6.6032406004484345,
          6.548378503356235,
          6.493443480479871,
          6.43851838359372,
          6.383686877413173,
          6.329033434553056,
          6.274643360007814,
          6.220602839645562,
          6.166999006975066,
          6.1139200222774095,
          6.0614551580980915,
          6.009694885068059,
          5.958730952066668,
          5.908656454854869,
          5.8595658874908985,
          5.811555171093179,
          5.764721654833085,
          5.719164084419237,
          5.674982533773876,
          5.632278296093402,
          5.5911537310263375,
          5.551712065286166,
          5.514057144638194,
          5.47829313585221,
          5.4445241778889715,
          5.412853982282656,
          5.38338538338438,
          5.356219839837459,
          5.3314568893558505,
          5.309193559564205,
          5.289523738326112,
          5.2725375076268515,
          5.258320445682871,
          5.2469529025151065,
          5.238509254740609,
          5.2330571458010855,
          5.23065671825289,
          5.23135984508517,
          5.235209367307821,
          5.242238345254838,
          5.25246933117844,
          5.26591367076371,
          5.282570841169964,
          5.30242783310435,
          5.325458584254142,
          5.351623471149023,
          5.380868866194197,
          5.413126766212505,
          5.44831449836166,
          5.486334508755602,
          5.527074238521207,
          5.570406091368099,
          5.616187496046984,
          5.6642610663255635,
          5.714454860328683,
          5.766582740278302,
          5.820444832834757,
          5.875828089394576,
          5.932506944846163,
          5.990244072434882,
          6.048791231547468,
          6.107890204404035,
          6.167273816849821,
          6.226667037676597,
          6.2857881501826505,
          6.344349989007802,
          6.402061234662165,
          6.458627757610616,
          6.513754003284267,
          6.567144408971309,
          6.618504843196238,
          6.667544057931078,
          6.71397514379985,
          6.75751697833733,
          6.7978956573490095,
          6.834845899488333,
          6.868112414322332,
          6.897451224393877,
          6.922630932107138,
          6.94343392265881,
          6.959657494708037,
          6.971114911017872,
          6.977636361905876,
          6.97906983500474,
          6.975281885550271,
          6.96615830217588,
          6.951604663993761,
          6.931546785574719,
          6.905931047294247,
          6.8747246093833025,
          6.837915508900547
         ],
         "yaxis": "y"
        },
        {
         "legendgroup": "75cm",
         "marker": {
          "color": "rgb(255, 127, 14)"
         },
         "mode": "lines",
         "name": "75cm",
         "showlegend": false,
         "type": "scatter",
         "x": [
          0.024382032301745304,
          0.02439851502827016,
          0.02441499775479502,
          0.024431480481319875,
          0.024447963207844734,
          0.02446444593436959,
          0.02448092866089445,
          0.024497411387419305,
          0.024513894113944164,
          0.02453037684046902,
          0.02454685956699388,
          0.024563342293518736,
          0.024579825020043595,
          0.02459630774656845,
          0.02461279047309331,
          0.024629273199618166,
          0.024645755926143025,
          0.02466223865266788,
          0.02467872137919274,
          0.024695204105717596,
          0.024711686832242456,
          0.02472816955876731,
          0.02474465228529217,
          0.024761135011817027,
          0.024777617738341882,
          0.024794100464866742,
          0.024810583191391598,
          0.024827065917916457,
          0.024843548644441313,
          0.024860031370966172,
          0.024876514097491028,
          0.024892996824015887,
          0.024909479550540743,
          0.024925962277065603,
          0.02494244500359046,
          0.024958927730115318,
          0.024975410456640174,
          0.024991893183165033,
          0.02500837590968989,
          0.025024858636214748,
          0.025041341362739604,
          0.025057824089264463,
          0.02507430681578932,
          0.02509078954231418,
          0.025107272268839034,
          0.025123754995363894,
          0.02514023772188875,
          0.025156720448413605,
          0.025173203174938465,
          0.02518968590146332,
          0.02520616862798818,
          0.025222651354513036,
          0.025239134081037895,
          0.02525561680756275,
          0.02527209953408761,
          0.025288582260612466,
          0.025305064987137325,
          0.02532154771366218,
          0.02533803044018704,
          0.025354513166711896,
          0.025370995893236756,
          0.02538747861976161,
          0.02540396134628647,
          0.025420444072811327,
          0.025436926799336186,
          0.025453409525861042,
          0.0254698922523859,
          0.025486374978910757,
          0.025502857705435616,
          0.025519340431960472,
          0.025535823158485328,
          0.025552305885010188,
          0.025568788611535043,
          0.025585271338059903,
          0.02560175406458476,
          0.025618236791109618,
          0.025634719517634474,
          0.025651202244159333,
          0.02566768497068419,
          0.025684167697209048,
          0.025700650423733904,
          0.025717133150258763,
          0.02573361587678362,
          0.02575009860330848,
          0.025766581329833334,
          0.025783064056358194,
          0.02579954678288305,
          0.02581602950940791,
          0.025832512235932765,
          0.02584899496245762,
          0.02586547768898248,
          0.02588196041550734,
          0.025898443142032195,
          0.02591492586855705,
          0.02593140859508191,
          0.025947891321606766,
          0.025964374048131626,
          0.02598085677465648,
          0.02599733950118134,
          0.026013822227706197,
          0.026030304954231056,
          0.026046787680755912,
          0.02606327040728077,
          0.026079753133805627,
          0.026096235860330486,
          0.026112718586855342,
          0.0261292013133802,
          0.026145684039905057,
          0.026162166766429917,
          0.026178649492954773,
          0.026195132219479632,
          0.026211614946004488,
          0.026228097672529344,
          0.026244580399054203,
          0.026261063125579062,
          0.026277545852103918,
          0.026294028578628774,
          0.026310511305153633,
          0.02632699403167849,
          0.02634347675820335,
          0.026359959484728204,
          0.026376442211253064,
          0.02639292493777792,
          0.02640940766430278,
          0.026425890390827635,
          0.026442373117352494,
          0.02645885584387735,
          0.02647533857040221,
          0.026491821296927065,
          0.026508304023451924,
          0.02652478674997678,
          0.02654126947650164,
          0.026557752203026495,
          0.026574234929551355,
          0.02659071765607621,
          0.026607200382601066,
          0.026623683109125926,
          0.02664016583565078,
          0.02665664856217564,
          0.026673131288700497,
          0.026689614015225356,
          0.026706096741750215,
          0.02672257946827507,
          0.026739062194799927,
          0.026755544921324786,
          0.026772027647849642,
          0.0267885103743745,
          0.026804993100899357,
          0.026821475827424217,
          0.026837958553949073,
          0.026854441280473932,
          0.026870924006998788,
          0.026887406733523647,
          0.026903889460048503,
          0.026920372186573362,
          0.026936854913098218,
          0.026953337639623078,
          0.026969820366147933,
          0.02698630309267279,
          0.02700278581919765,
          0.027019268545722508,
          0.027035751272247364,
          0.02705223399877222,
          0.02706871672529708,
          0.027085199451821935,
          0.027101682178346794,
          0.02711816490487165,
          0.02713464763139651,
          0.027151130357921365,
          0.027167613084446224,
          0.02718409581097108,
          0.02720057853749594,
          0.027217061264020796,
          0.027233543990545655,
          0.02725002671707051,
          0.02726650944359537,
          0.027282992170120226,
          0.027299474896645085,
          0.02731595762316994,
          0.0273324403496948,
          0.027348923076219656,
          0.027365405802744512,
          0.02738188852926937,
          0.02739837125579423,
          0.027414853982319087,
          0.027431336708843942,
          0.027447819435368802,
          0.027464302161893658,
          0.027480784888418517,
          0.027497267614943373,
          0.027513750341468232,
          0.027530233067993088,
          0.027546715794517947,
          0.027563198521042803,
          0.027579681247567663,
          0.02759616397409252,
          0.027612646700617378,
          0.027629129427142234,
          0.027645612153667093,
          0.02766209488019195,
          0.027678577606716805,
          0.027695060333241664,
          0.027711543059766523,
          0.02772802578629138,
          0.02774450851281624,
          0.027760991239341094,
          0.027777473965865954,
          0.02779395669239081,
          0.027810439418915665,
          0.027826922145440525,
          0.02784340487196538,
          0.02785988759849024,
          0.027876370325015096,
          0.027892853051539955,
          0.02790933577806481,
          0.02792581850458967,
          0.027942301231114526,
          0.027958783957639385,
          0.02797526668416424,
          0.0279917494106891,
          0.028008232137213956,
          0.028024714863738816,
          0.02804119759026367,
          0.028057680316788527,
          0.028074163043313387,
          0.028090645769838246,
          0.028107128496363102,
          0.028123611222887958,
          0.028140093949412817,
          0.028156576675937676,
          0.028173059402462532,
          0.028189542128987388,
          0.028206024855512248,
          0.028222507582037103,
          0.028238990308561963,
          0.02825547303508682,
          0.028271955761611678,
          0.028288438488136534,
          0.028304921214661393,
          0.02832140394118625,
          0.028337886667711108,
          0.028354369394235964,
          0.028370852120760823,
          0.02838733484728568,
          0.02840381757381054,
          0.028420300300335394,
          0.028436783026860254,
          0.02845326575338511,
          0.02846974847990997,
          0.028486231206434825,
          0.02850271393295968,
          0.02851919665948454,
          0.0285356793860094,
          0.028552162112534255,
          0.02856864483905911,
          0.02858512756558397,
          0.028601610292108826,
          0.028618093018633686,
          0.02863457574515854,
          0.0286510584716834,
          0.028667541198208257,
          0.028684023924733116,
          0.028700506651257972,
          0.02871698937778283,
          0.028733472104307687,
          0.028749954830832546,
          0.028766437557357402,
          0.02878292028388226,
          0.028799403010407117,
          0.028815885736931977,
          0.028832368463456833,
          0.028848851189981692,
          0.028865333916506548,
          0.028881816643031404,
          0.028898299369556263,
          0.028914782096081122,
          0.028931264822605978,
          0.028947747549130834,
          0.028964230275655693,
          0.02898071300218055,
          0.02899719572870541,
          0.029013678455230264,
          0.029030161181755124,
          0.02904664390827998,
          0.02906312663480484,
          0.029079609361329695,
          0.029096092087854554,
          0.02911257481437941,
          0.02912905754090427,
          0.029145540267429125,
          0.029162022993953984,
          0.02917850572047884,
          0.029194988447003696,
          0.029211471173528555,
          0.029227953900053415,
          0.02924443662657827,
          0.029260919353103126,
          0.029277402079627986,
          0.029293884806152845,
          0.0293103675326777,
          0.029326850259202557,
          0.029343332985727416,
          0.029359815712252272,
          0.02937629843877713,
          0.029392781165301987,
          0.029409263891826846,
          0.029425746618351702,
          0.02944222934487656,
          0.029458712071401418,
          0.029475194797926277,
          0.029491677524451133,
          0.029508160250975992,
          0.029524642977500848,
          0.029541125704025707,
          0.029557608430550563,
          0.02957409115707542,
          0.029590573883600278,
          0.029607056610125138,
          0.029623539336649993,
          0.02964002206317485,
          0.02965650478969971,
          0.029672987516224568,
          0.029689470242749424,
          0.02970595296927428,
          0.02972243569579914,
          0.029738918422323995,
          0.029755401148848854,
          0.02977188387537371,
          0.02978836660189857,
          0.029804849328423425,
          0.029821332054948285,
          0.02983781478147314,
          0.029854297507998,
          0.029870780234522856,
          0.029887262961047715,
          0.02990374568757257,
          0.02992022841409743,
          0.029936711140622286,
          0.029953193867147142,
          0.029969676593672,
          0.02998615932019686,
          0.030002642046721716,
          0.030019124773246572,
          0.03003560749977143,
          0.03005209022629629,
          0.030068572952821147,
          0.030085055679346002,
          0.030101538405870862,
          0.030118021132395718,
          0.030134503858920577,
          0.030150986585445433,
          0.030167469311970292,
          0.030183952038495148,
          0.030200434765020007,
          0.030216917491544863,
          0.030233400218069723,
          0.03024988294459458,
          0.030266365671119438,
          0.030282848397644294,
          0.030299331124169153,
          0.03031581385069401,
          0.030332296577218865,
          0.030348779303743724,
          0.030365262030268583,
          0.03038174475679344,
          0.030398227483318295,
          0.030414710209843154,
          0.030431192936368014,
          0.03044767566289287,
          0.030464158389417725,
          0.030480641115942585,
          0.03049712384246744,
          0.0305136065689923,
          0.030530089295517156,
          0.030546572022042015,
          0.03056305474856687,
          0.03057953747509173,
          0.030596020201616586,
          0.030612502928141445,
          0.0306289856546663,
          0.03064546838119116,
          0.030661951107716016,
          0.030678433834240876,
          0.03069491656076573,
          0.030711399287290587,
          0.030727882013815447,
          0.030744364740340306,
          0.030760847466865162,
          0.030777330193390018,
          0.030793812919914877,
          0.030810295646439737,
          0.030826778372964592,
          0.030843261099489448,
          0.030859743826014308,
          0.030876226552539163,
          0.030892709279064023,
          0.03090919200558888,
          0.030925674732113738,
          0.030942157458638594,
          0.030958640185163453,
          0.03097512291168831,
          0.03099160563821317,
          0.031008088364738024,
          0.031024571091262883,
          0.03104105381778774,
          0.0310575365443126,
          0.031074019270837454,
          0.03109050199736231,
          0.03110698472388717,
          0.03112346745041203,
          0.031139950176936885,
          0.03115643290346174,
          0.0311729156299866,
          0.031189398356511456,
          0.031205881083036315,
          0.03122236380956117,
          0.03123884653608603,
          0.03125532926261089,
          0.03127181198913574,
          0.0312882947156606,
          0.03130477744218546,
          0.03132126016871032,
          0.03133774289523517,
          0.03135422562176003,
          0.03137070834828489,
          0.03138719107480975,
          0.0314036738013346,
          0.03142015652785946,
          0.03143663925438432,
          0.03145312198090918,
          0.03146960470743403,
          0.03148608743395889,
          0.03150257016048375,
          0.03151905288700861,
          0.031535535613533464,
          0.03155201834005832,
          0.03156850106658318,
          0.031584983793108035,
          0.031601466519632894,
          0.03161794924615775,
          0.03163443197268261,
          0.031650914699207465,
          0.031667397425732324,
          0.031683880152257184,
          0.03170036287878204,
          0.031716845605306895,
          0.031733328331831755,
          0.031749811058356614,
          0.031766293784881466,
          0.031782776511406326,
          0.031799259237931185,
          0.031815741964456044,
          0.031832224690980904,
          0.031848707417505756,
          0.031865190144030615,
          0.031881672870555475,
          0.03189815559708033,
          0.031914638323605186,
          0.031931121050130046,
          0.031947603776654905,
          0.031964086503179764,
          0.03198056922970462,
          0.031997051956229476,
          0.032013534682754335,
          0.03203001740927919,
          0.03204650013580405,
          0.032062982862328906,
          0.03207946558885376,
          0.03209594831537862,
          0.03211243104190348,
          0.03212891376842834,
          0.032145396494953196,
          0.03216187922147805,
          0.03217836194800291,
          0.03219484467452777,
          0.03221132740105262,
          0.03222781012757748,
          0.03224429285410234,
          0.0322607755806272,
          0.03227725830715206,
          0.03229374103367691,
          0.03231022376020177,
          0.03232670648672663,
          0.03234318921325148,
          0.03235967193977634,
          0.0323761546663012,
          0.03239263739282605,
          0.03240912011935092,
          0.03242560284587577,
          0.03244208557240063,
          0.03245856829892549,
          0.03247505102545034,
          0.0324915337519752,
          0.03250801647850006,
          0.03252449920502491,
          0.03254098193154977,
          0.03255746465807463,
          0.03257394738459949,
          0.03259043011112435,
          0.0326069128376492
         ],
         "xaxis": "x",
         "y": [
          20.386250558876593,
          21.17815768921542,
          21.995499346518,
          22.838852895196375,
          23.708785955844906,
          24.60585405243885,
          25.530598188628694,
          26.483542365062956,
          27.465191050667737,
          28.476026621703557,
          29.51650678327746,
          30.587061988721885,
          31.688092872922514,
          32.819967716213235,
          33.98301995590507,
          35.17754576282053,
          36.403801700397175,
          37.66200248396401,
          38.952318857716584,
          40.27487560666191,
          41.62974972043749,
          43.01696872535257,
          44.43650920033704,
          45.88829549161696,
          47.372198639979324,
          48.888035533334495,
          50.43556829602799,
          52.01450392494515,
          53.62449418091859,
          55.26513574230758,
          56.93597062585513,
          58.63648687809447,
          60.36611953862822,
          62.124251874627994,
          63.91021688382802,
          65.72329906123294,
          67.5627364226206,
          69.42772277585584,
          71.31741022891289,
          73.23091192148804,
          75.16730496506683,
          77.12563357442245,
          79.10491237168948,
          81.10412984246553,
          83.12225192182026,
          85.15822568669411,
          87.21098312990371,
          89.27944498994464,
          91.36252460989822,
          93.45913179814127,
          95.56817666312968,
          97.68857339435672,
          99.81924396167925,
          101.95912170550805,
          104.10715479096734,
          106.26230949995468,
          108.42357333614271,
          110.58995791930444,
          112.7605016469648,
          114.93427210318667,
          117.11036819639888,
          119.2879220104071,
          121.46610035524107,
          123.64410600708224,
          125.82117862936073,
          127.9965953699857,
          130.16967113273517,
          132.33975852388815,
          134.50624747835343,
          136.6685645726706,
          138.8261720354046,
          140.9785664685119,
          143.12527729625305,
          145.26586496109024,
          147.39991888869918,
          149.52705524677233,
          151.64691452457566,
          153.75915896228162,
          155.8634698608828,
          157.95954480497633,
          160.04709483184718,
          162.12584158111363,
          164.19551445963268,
          166.25584785645626,
          168.30657844231445,
          170.34744258743257,
          172.3781739303959,
          174.39850112933598,
          176.408145824861,
          178.40682084198897,
          180.3942286557665,
          182.3700601424258,
          184.3339936347612,
          186.28569429698055,
          188.22481383062427,
          190.1509905192906,
          192.06384961589936,
          193.96300407207326,
          195.84805560504628,
          197.71859609326052,
          199.57420928764412,
          201.41447282140953,
          203.23896049724095,
          205.04724482688758,
          206.8388997945845,
          208.6135038123604,
          210.37064283226727,
          212.10991357785522,
          213.83092685492613,
          215.53331089969075,
          217.2167147210316,
          218.8808113925789,
          220.52530124985606,
          222.14991494775055,
          223.75441633412234,
          225.33860509641534,
          226.9023191397056,
          228.44543665668644,
          229.96787785266133,
          231.46960629163925,
          232.95062983308543,
          234.4110011327716,
          235.85081768538697,
          237.2702213911738,
          238.66939763366412,
          240.04857386070762,
          241.40801766620575,
          242.74803437536704,
          244.06896414170438,
          245.37117856945508,
          246.65507688046011,
          247.92108164979868,
          249.16963413954673,
          250.40118926486238,
          251.61621023113585,
          252.81516288513822,
          253.9985098268975,
          255.16670433237235,
          256.3201841398756,
          257.45936515553296,
          258.5846351348749,
          259.69634739887437,
          260.79481464338596,
          261.8803029009771,
          262.95302571356433,
          264.0131385731011,
          265.06073368579854,
          266.095835113009,
          267.11839433901565,
          268.12828631253905,
          269.1253060048744,
          270.109165523191,
          271.0794918127841,
          272.0358249769327,
          272.97761723760965,
          273.9042325546238,
          274.81494691493964,
          275.70894929794713,
          276.585343316448,
          277.4431495270948,
          278.28130839809046,
          279.09868391613327,
          279.8940678089701,
          280.66618435455416,
          281.41369574272045,
          282.1352079505927,
          282.82927708860143,
          283.4944161701316,
          284.1291022544086,
          284.73178390935556,
          285.30088893877456,
          285.8348323164211,
          286.332024268268,
          286.7908784435935,
          287.209820115398,
          287.5872943511,
          287.9217740954463,
          288.2117681090752,
          288.4558287081789,
          288.6525592531888,
          288.80062133730337,
          288.89874162899156,
          288.9457183262425,
          288.94042718429165,
          288.88182708276383,
          288.7689651025858,
          288.60098108759274,
          288.3771116704195,
          288.0966937469952,
          287.7591673886792,
          287.36407818574054,
          286.9110790204695,
          286.3999312726349,
          285.8305054642516,
          285.20278135464787,
          284.5168475006,
          283.7729002997779,
          282.9712425389275,
          282.11228147104845,
          281.19652644832627,
          280.2245861397008,
          279.19716536372573,
          278.11506156876754,
          276.9791609936239,
          275.79043454231135,
          274.54993340711303,
          273.2587844739502,
          271.9181855438463,
          270.52940040362597,
          269.093753778133,
          267.61262619512644,
          266.08744879268755,
          264.5196980974847,
          262.910890800552,
          261.2625785555023,
          259.5763428221934,
          257.8537897769737,
          256.0965453086579,
          254.30625011745454,
          252.48455493211364,
          250.63311585871486,
          248.7535898726816,
          246.84763046391706,
          244.91688344333468,
          242.96298291757677,
          240.98754743736714,
          238.9921763237242,
          236.978446175195,
          234.94790755836314,
          232.9020818831036,
          230.8424584634225,
          228.77049176425112,
          226.68759883418272,
          224.59515692391136,
          222.49450128998782,
          220.3869231834782,
          218.27366802313696,
          216.15593375281125,
          214.03486938293617,
          211.911573716164,
          209.78709425733476,
          207.66242630821276,
          205.53851224753612,
          203.41624099709375,
          201.29644767457705,
          199.1799134340163,
          197.06736549450864,
          194.95947735783542,
          192.85686921530666,
          190.76010854387067,
          188.66971089106104,
          186.58614084784816,
          184.5098132078223,
          182.4410943103837,
          180.3803035648112,
          178.32771515114953,
          176.28355989286587,
          174.2480272951459,
          172.22126774160762,
          170.20339484100614,
          168.19448791433942,
          166.19459461152374,
          164.20373364563028,
          162.22189763145528,
          160.2490560140649,
          158.2851580718454,
          156.33013597757397,
          154.3839079000688,
          152.44638112816682,
          150.51745519803967,
          148.59702500430657,
          146.68498387493636,
          144.78122658970258,
          142.88565232180707,
          140.99816748240082,
          139.11868844796203,
          137.24714415094587,
          135.38347851476055,
          133.5276527149311,
          131.67964724934458,
          129.83946380163488,
          128.007126883156,
          126.18268524050133,
          124.36621301723305,
          122.55781066028065,
          120.75760556345503,
          118.96575244254312,
          117.18243343862932,
          115.40785794847818,
          113.64226218310363,
          111.8859084579199,
          110.13908422018024,
          108.40210082167796,
          106.67529204692458,
          104.9590124091842,
          103.25363522882263,
          101.55955051040628,
          99.87716263682296,
          98.20688790037954,
          96.54915189235538,
          94.90438677381826,
          93.27302845163999,
          91.655513684563,
          90.0522771448508,
          88.46374846151755,
          86.8903492713355,
          85.33249030379521,
          83.79056852590116,
          82.26496437218346,
          80.7560390845198,
          79.26413218539552,
          77.78955910697589,
          76.33260899697308,
          74.89354272062108,
          73.47259107629502,
          72.06995324030689,
          70.68579545430975,
          69.32024996649128,
          67.97341423538595,
          66.64535040273043,
          65.3360850393018,
          64.04560916518102,
          62.7738785433805,
          61.52081424329523,
          60.28630346800834,
          59.07020063711091,
          57.87232871444042,
          56.692480767991505,
          55.5304217472331,
          54.38589046122797,
          53.25860173925401,
          52.148248754151744,
          51.054505487323695,
          49.97702931324998,
          48.91546368051998,
          47.869440865775026,
          46.8385847765485,
          45.82251377885489,
          44.820843525431826,
          43.83318976086658,
          42.8591710803501,
          41.89841161954605,
          40.95054365400865,
          40.01521008771852,
          39.09206681161494,
          38.180784914472376,
          37.281052730093755,
          36.39257770652435,
          35.515088084839576,
          34.64833437698501,
          33.792090634149474,
          32.94615549917624,
          32.11035303858559,
          31.284533351831435,
          30.46857295746112,
          29.662374957834846,
          28.86586898601275,
          28.0790109402671,
          27.30178251345509,
          26.53419052614012,
          25.776266073891218,
          25.02806350058251,
          24.28965921077907,
          23.56115033538794,
          22.8426532656946,
          22.13430207167451,
          21.436246821076608,
          20.748651816199057,
          20.071693765541443,
          19.405559907608247,
          18.750446104065762,
          18.10655491922118,
          17.474093702404527,
          16.853272689314945,
          16.244303137716667,
          15.647395512094842,
          15.062757730971681,
          14.49059348959201,
          13.931100669592766,
          13.384469846114584,
          12.850882901588205,
          12.330511754162904,
          11.82351720743612,
          11.330047926829266,
          10.850239546618,
          10.384213910308146,
          9.932078445743302,
          9.493925675053232,
          9.069832858321766,
          8.659861768668895,
          8.264058595318518,
          7.882453970168012,
          7.5150631123956835,
          7.161886084745629,
          6.822908154313795,
          6.49810024993861,
          6.1874195076733205,
          5.890809895280522,
          5.608202906258645,
          5.339518313566082,
          5.084664972972594,
          4.8435416658145805,
          4.616037970881232,
          4.402035155190035,
          4.20140707353532,
          4.014021066894087,
          3.8397388500573117,
          3.6784173792072847,
          3.5299096905839282,
          3.3940657018651246,
          3.270732968425001,
          3.1597573872231433,
          3.0609838417094517,
          2.9742567818002943,
          2.8994207336823625,
          2.8363207349295885,
          2.784802691164431,
          2.7447136512576202,
          2.7159019988294864,
          2.698217558589661,
          2.691511616823246,
          2.6956368560952497,
          2.7104472049983763,
          2.735797604505577,
          2.771543693205219,
          2.817541414389206,
          2.873646548628825,
          2.939714176106426,
          3.015598073569686,
          3.1011500513374584,
          3.196219236306814,
          3.300651307390747,
          3.4142876902491612,
          3.5369647185641626,
          3.6685127694481365,
          3.8087553808622108,
          3.957508359157573,
          4.114578885037277,
          4.279764626363538,
          4.452852866309865,
          4.633619655376695,
          4.82182899575024,
          5.017232066391602,
          5.219566497091053,
          5.428555699519236,
          5.643908263042123,
          5.865317422753727,
          6.092460606806676,
          6.324999069703574,
          6.5625776177361566,
          6.804824432238133,
          7.051350995753357,
          7.3017521256061,
          7.555606118711346,
          7.812475010772449,
          8.071904952289744,
          8.333426703053624,
          8.596556246014242,
          8.860795520619561,
          9.125633274902272,
          9.390546034762151,
          9.65499918806252,
          9.918448180323912,
          10.180339817968633,
          10.440113674256844,
          10.697203592251615,
          10.951039278375484,
          11.201047979375186,
          11.446656234798574,
          11.687291696416438,
          11.922385005402097,
          12.15137171750736,
          12.373694265962426,
          12.58880395137878,
          12.796162947547902,
          12.995246311723417,
          13.185543987735386,
          13.366562790129597,
          13.537828357452344,
          13.698887062806001,
          13.84930786989664,
          13.988684122971868,
          14.11663525931113,
          14.23280843328089,
          14.336880041397306,
          14.428557138352318,
          14.507578734551975,
          14.573716966379227,
          14.626778131130234,
          14.666603579375478,
          14.693070458354944,
          14.706092300932866,
          14.70561945559636,
          14.691639353982003,
          14.66417661344571,
          14.623292973244922,
          14.56908706397219,
          14.50169401095464,
          14.421284873407952,
          14.32806592219652
         ],
         "yaxis": "y"
        },
        {
         "legendgroup": "100cm",
         "marker": {
          "color": "rgb(44, 160, 44)"
         },
         "mode": "lines",
         "name": "100cm",
         "showlegend": false,
         "type": "scatter",
         "x": [
          0.023651294977748167,
          0.023668633326619344,
          0.023685971675490518,
          0.023703310024361695,
          0.02372064837323287,
          0.023737986722104046,
          0.023755325070975223,
          0.023772663419846397,
          0.023790001768717574,
          0.02380734011758875,
          0.023824678466459925,
          0.023842016815331102,
          0.023859355164202276,
          0.023876693513073453,
          0.02389403186194463,
          0.023911370210815804,
          0.02392870855968698,
          0.023946046908558158,
          0.02396338525742933,
          0.02398072360630051,
          0.023998061955171682,
          0.02401540030404286,
          0.024032738652914037,
          0.02405007700178521,
          0.024067415350656388,
          0.02408475369952756,
          0.02410209204839874,
          0.024119430397269916,
          0.02413676874614109,
          0.024154107095012266,
          0.024171445443883444,
          0.024188783792754617,
          0.024206122141625794,
          0.024223460490496968,
          0.024240798839368145,
          0.024258137188239322,
          0.024275475537110496,
          0.024292813885981673,
          0.024310152234852847,
          0.024327490583724024,
          0.0243448289325952,
          0.024362167281466375,
          0.024379505630337552,
          0.02439684397920873,
          0.024414182328079903,
          0.02443152067695108,
          0.024448859025822254,
          0.02446619737469343,
          0.024483535723564608,
          0.024500874072435782,
          0.02451821242130696,
          0.024535550770178136,
          0.02455288911904931,
          0.024570227467920487,
          0.02458756581679166,
          0.024604904165662838,
          0.024622242514534015,
          0.02463958086340519,
          0.024656919212276366,
          0.02467425756114754,
          0.024691595910018717,
          0.024708934258889894,
          0.024726272607761068,
          0.024743610956632245,
          0.024760949305503422,
          0.024778287654374596,
          0.024795626003245773,
          0.024812964352116947,
          0.024830302700988124,
          0.0248476410498593,
          0.024864979398730475,
          0.024882317747601652,
          0.02489965609647283,
          0.024916994445344003,
          0.02493433279421518,
          0.024951671143086353,
          0.02496900949195753,
          0.024986347840828708,
          0.02500368618969988,
          0.02502102453857106,
          0.025038362887442232,
          0.02505570123631341,
          0.025073039585184587,
          0.02509037793405576,
          0.025107716282926937,
          0.025125054631798115,
          0.02514239298066929,
          0.025159731329540466,
          0.02517706967841164,
          0.025194408027282816,
          0.025211746376153994,
          0.025229084725025167,
          0.025246423073896344,
          0.025263761422767518,
          0.025281099771638695,
          0.025298438120509872,
          0.025315776469381046,
          0.025333114818252223,
          0.0253504531671234,
          0.025367791515994574,
          0.02538512986486575,
          0.025402468213736925,
          0.025419806562608102,
          0.02543714491147928,
          0.025454483260350453,
          0.02547182160922163,
          0.025489159958092807,
          0.02550649830696398,
          0.025523836655835158,
          0.025541175004706332,
          0.02555851335357751,
          0.025575851702448686,
          0.02559319005131986,
          0.025610528400191037,
          0.025627866749062214,
          0.025645205097933388,
          0.025662543446804565,
          0.02567988179567574,
          0.025697220144546916,
          0.025714558493418093,
          0.025731896842289267,
          0.025749235191160444,
          0.025766573540031618,
          0.025783911888902795,
          0.025801250237773972,
          0.025818588586645146,
          0.025835926935516323,
          0.025853265284387496,
          0.025870603633258674,
          0.02588794198212985,
          0.025905280331001024,
          0.0259226186798722,
          0.025939957028743375,
          0.025957295377614552,
          0.02597463372648573,
          0.025991972075356903,
          0.02600931042422808,
          0.026026648773099258,
          0.02604398712197043,
          0.02606132547084161,
          0.026078663819712786,
          0.02609600216858396,
          0.026113340517455137,
          0.02613067886632631,
          0.026148017215197487,
          0.026165355564068665,
          0.026182693912939838,
          0.026200032261811015,
          0.02621737061068219,
          0.026234708959553366,
          0.026252047308424543,
          0.026269385657295717,
          0.026286724006166894,
          0.02630406235503807,
          0.026321400703909245,
          0.026338739052780422,
          0.026356077401651596,
          0.026373415750522773,
          0.02639075409939395,
          0.026408092448265124,
          0.0264254307971363,
          0.026442769146007475,
          0.026460107494878652,
          0.02647744584374983,
          0.026494784192621003,
          0.02651212254149218,
          0.026529460890363357,
          0.02654679923923453,
          0.026564137588105708,
          0.026581475936976885,
          0.02659881428584806,
          0.026616152634719236,
          0.02663349098359041,
          0.026650829332461587,
          0.026668167681332764,
          0.026685506030203938,
          0.026702844379075115,
          0.02672018272794629,
          0.026737521076817466,
          0.026754859425688643,
          0.026772197774559817,
          0.026789536123430994,
          0.02680687447230217,
          0.026824212821173345,
          0.026841551170044522,
          0.026858889518915696,
          0.026876227867786873,
          0.026893566216658046,
          0.026910904565529224,
          0.0269282429144004,
          0.026945581263271574,
          0.02696291961214275,
          0.02698025796101393,
          0.026997596309885102,
          0.02701493465875628,
          0.027032273007627457,
          0.02704961135649863,
          0.027066949705369808,
          0.02708428805424098,
          0.02710162640311216,
          0.027118964751983336,
          0.02713630310085451,
          0.027153641449725686,
          0.02717097979859686,
          0.027188318147468037,
          0.027205656496339214,
          0.027222994845210388,
          0.027240333194081565,
          0.027257671542952742,
          0.027275009891823916,
          0.027292348240695093,
          0.027309686589566267,
          0.027327024938437444,
          0.02734436328730862,
          0.027361701636179795,
          0.027379039985050972,
          0.027396378333922146,
          0.027413716682793323,
          0.0274310550316645,
          0.027448393380535674,
          0.02746573172940685,
          0.027483070078278028,
          0.027500408427149202,
          0.02751774677602038,
          0.027535085124891556,
          0.02755242347376273,
          0.027569761822633907,
          0.02758710017150508,
          0.027604438520376258,
          0.02762177686924743,
          0.02763911521811861,
          0.027656453566989786,
          0.02767379191586096,
          0.027691130264732137,
          0.027708468613603314,
          0.027725806962474488,
          0.027743145311345665,
          0.027760483660216842,
          0.027777822009088016,
          0.027795160357959193,
          0.027812498706830367,
          0.027829837055701544,
          0.027847175404572717,
          0.027864513753443895,
          0.02788185210231507,
          0.027899190451186245,
          0.027916528800057423,
          0.0279338671489286,
          0.027951205497799773,
          0.02796854384667095,
          0.027985882195542128,
          0.0280032205444133,
          0.02802055889328448,
          0.028037897242155656,
          0.02805523559102683,
          0.028072573939898003,
          0.02808991228876918,
          0.028107250637640357,
          0.02812458898651153,
          0.02814192733538271,
          0.028159265684253885,
          0.02817660403312506,
          0.028193942381996236,
          0.028211280730867414,
          0.028228619079738587,
          0.028245957428609764,
          0.02826329577748094,
          0.028280634126352115,
          0.02829797247522329,
          0.028315310824094466,
          0.028332649172965643,
          0.028349987521836817,
          0.028367325870707994,
          0.02838466421957917,
          0.028402002568450345,
          0.028419340917321522,
          0.0284366792661927,
          0.028454017615063873,
          0.02847135596393505,
          0.028488694312806227,
          0.0285060326616774,
          0.028523371010548578,
          0.028540709359419755,
          0.02855804770829093,
          0.028575386057162103,
          0.02859272440603328,
          0.028610062754904457,
          0.02862740110377563,
          0.028644739452646808,
          0.028662077801517985,
          0.02867941615038916,
          0.028696754499260336,
          0.02871409284813151,
          0.028731431197002687,
          0.028748769545873864,
          0.028766107894745038,
          0.028783446243616215,
          0.02880078459248739,
          0.028818122941358566,
          0.028835461290229743,
          0.028852799639100916,
          0.028870137987972094,
          0.02888747633684327,
          0.028904814685714444,
          0.02892215303458562,
          0.0289394913834568,
          0.028956829732327972,
          0.02897416808119915,
          0.028991506430070323,
          0.0290088447789415,
          0.029026183127812678,
          0.02904352147668385,
          0.02906085982555503,
          0.029078198174426202,
          0.02909553652329738,
          0.029112874872168557,
          0.02913021322103973,
          0.029147551569910907,
          0.029164889918782085,
          0.029182228267653258,
          0.029199566616524435,
          0.02921690496539561,
          0.029234243314266786,
          0.029251581663137963,
          0.029268920012009137,
          0.029286258360880314,
          0.029303596709751488,
          0.029320935058622665,
          0.029338273407493842,
          0.029355611756365016,
          0.029372950105236193,
          0.02939028845410737,
          0.029407626802978544,
          0.02942496515184972,
          0.0294423035007209,
          0.029459641849592072,
          0.029476980198463246,
          0.029494318547334423,
          0.0295116568962056,
          0.029528995245076774,
          0.02954633359394795,
          0.029563671942819128,
          0.0295810102916903,
          0.02959834864056148,
          0.029615686989432656,
          0.02963302533830383,
          0.029650363687175007,
          0.029667702036046184,
          0.029685040384917358,
          0.02970237873378853,
          0.02971971708265971,
          0.029737055431530886,
          0.02975439378040206,
          0.029771732129273237,
          0.029789070478144414,
          0.029806408827015587,
          0.029823747175886765,
          0.029841085524757942,
          0.029858423873629115,
          0.029875762222500293,
          0.02989310057137147,
          0.029910438920242644,
          0.02992777726911382,
          0.029945115617984994,
          0.02996245396685617,
          0.029979792315727345,
          0.029997130664598522,
          0.0300144690134697,
          0.030031807362340873,
          0.03004914571121205,
          0.030066484060083228,
          0.0300838224089544,
          0.03010116075782558,
          0.030118499106696756,
          0.03013583745556793,
          0.030153175804439106,
          0.030170514153310284,
          0.030187852502181457,
          0.03020519085105263,
          0.030222529199923808,
          0.030239867548794985,
          0.03025720589766616,
          0.030274544246537336,
          0.030291882595408513,
          0.030309220944279687,
          0.030326559293150864,
          0.03034389764202204,
          0.030361235990893215,
          0.030378574339764392,
          0.03039591268863557,
          0.030413251037506743,
          0.03043058938637792,
          0.030447927735249094,
          0.03046526608412027,
          0.030482604432991445,
          0.030499942781862622,
          0.0305172811307338,
          0.030534619479604973,
          0.03055195782847615,
          0.030569296177347327,
          0.0305866345262185,
          0.030603972875089678,
          0.030621311223960855,
          0.03063864957283203,
          0.030655987921703206,
          0.030673326270574383,
          0.030690664619445557,
          0.03070800296831673,
          0.030725341317187908,
          0.030742679666059085,
          0.03076001801493026,
          0.030777356363801436,
          0.030794694712672613,
          0.030812033061543787,
          0.030829371410414964,
          0.030846709759286137,
          0.030864048108157315,
          0.03088138645702849,
          0.030898724805899665,
          0.030916063154770843,
          0.030933401503642016,
          0.030950739852513193,
          0.03096807820138437,
          0.030985416550255544,
          0.03100275489912672,
          0.0310200932479979,
          0.031037431596869072,
          0.03105476994574025,
          0.031072108294611427,
          0.0310894466434826,
          0.031106784992353777,
          0.03112412334122495,
          0.03114146169009613,
          0.031158800038967305,
          0.03117613838783848,
          0.031193476736709656,
          0.03121081508558083,
          0.031228153434452007,
          0.031245491783323184,
          0.03126283013219436,
          0.03128016848106553,
          0.03129750682993671,
          0.031314845178807886,
          0.03133218352767907,
          0.03134952187655024,
          0.031366860225421414,
          0.03138419857429259,
          0.03140153692316377,
          0.03141887527203494,
          0.031436213620906116,
          0.031453551969777296,
          0.03147089031864847,
          0.031488228667519644,
          0.03150556701639082,
          0.031522905365262,
          0.03154024371413317,
          0.03155758206300435,
          0.031574920411875526,
          0.0315922587607467,
          0.031609597109617874,
          0.031626935458489054,
          0.03164427380736023,
          0.0316616121562314,
          0.03167895050510258,
          0.031696288853973756,
          0.03171362720284493,
          0.0317309655517161,
          0.031748303900587284,
          0.03176564224945846,
          0.03178298059832964,
          0.03180031894720081,
          0.031817657296071986,
          0.03183499564494316,
          0.03185233399381434,
          0.031869672342685514,
          0.03188701069155669,
          0.03190434904042787,
          0.03192168738929904,
          0.031939025738170215,
          0.03195636408704139,
          0.03197370243591257,
          0.03199104078478374,
          0.032008379133654924,
          0.0320257174825261,
          0.03204305583139727,
          0.032060394180268445,
          0.032077732529139626,
          0.0320950708780108,
          0.03211240922688198,
          0.032129747575753154,
          0.03214708592462433,
          0.0321644242734955,
          0.032181762622366675,
          0.032199100971237855,
          0.03221643932010903,
          0.03223377766898021,
          0.03225111601785138,
          0.03226845436672256,
          0.03228579271559373,
          0.032303131064464904
         ],
         "xaxis": "x",
         "y": [
          33.831686143436606,
          34.80113295571784,
          35.78626714528893,
          36.787058077919426,
          37.80347236678482,
          38.835473903348195,
          39.88302386031736,
          40.94608066571909,
          42.02459994728092,
          43.11853444648354,
          44.22783390181486,
          45.352444900919124,
          46.49231070150165,
          47.64737102102283,
          48.8175617953632,
          50.002814906815864,
          51.203057881908634,
          52.4182135597071,
          53.64819973140769,
          54.89292875215673,
          56.15230712617346,
          57.42623506638473,
          58.71460602989834,
          60.01730623076642,
          61.334214131597776,
          62.665199915683914,
          64.01012494141868,
          65.36884118087131,
          66.74119064448604,
          68.1270047939621,
          69.52610394545545,
          70.9382966653434,
          72.36337916085822,
          73.80113466800057,
          75.25133283920829,
          76.71372913334787,
          78.18806421067904,
          79.67406333551907,
          81.17143578941274,
          82.67987429771084,
          84.1990544725186,
          85.72863427507505,
          87.26825350069524,
          88.817533289477,
          90.37607566606901,
          91.94346311183962,
          93.51925817287919,
          95.10300310730594,
          96.69421957540814,
          98.29240837620146,
          99.89704923400238,
          101.50760063864318,
          103.1234997429659,
          104.74416232121425,
          106.36898279191574,
          107.99733430881,
          109.62856892329341,
          111.26201782178211,
          112.89699164125479,
          114.53278086612454,
          116.16865630939465,
          117.80386968087569,
          119.4376542450108,
          121.0692255706021,
          122.69778237443863,
          124.32250746052951,
          125.94256875628344,
          127.55712044660311,
          129.16530420647462,
          130.76625053217276,
          132.3590801707742,
          133.94290564715797,
          135.51683288719158,
          137.0799629352506,
          138.63139376369452,
          140.17022217134232,
          141.69554576743545,
          143.20646503697972,
          144.70208548278322,
          146.18151983891767,
          147.64389034973678,
          149.08833110803036,
          150.51399044530154,
          151.92003336663188,
          153.3056440220476,
          154.67002820581223,
          156.01241587458966,
          157.33206367498013,
          158.6282574705225,
          159.9003148579098,
          161.1475876618165,
          162.36946439750145,
          163.56537269010138,
          164.73478163937975,
          165.87720411859084,
          166.99219899605782,
          168.07937326808965,
          169.13838409192445,
          170.16894070753116,
          171.17080623729976,
          172.14379935291754,
          173.08779579904626,
          174.00272976382522,
          174.88859508665064,
          175.7454462942162,
          176.5733994563513,
          177.37263285382056,
          178.14338745092775,
          178.88596716647865,
          179.60073893743595,
          180.28813257039783,
          180.94864037688527,
          181.5828165892902,
          182.19127655525165,
          182.7746957091432,
          183.33380832030622,
          183.86940601861954,
          184.38233609895246,
          184.87349960702983,
          185.34384921017866,
          185.7943868574043,
          186.22616123416404,
          186.64026501814487,
          187.03783194324234,
          187.42003367981363,
          187.7880765401203,
          188.1431980186751,
          188.48666317797506,
          188.8197608908248,
          189.14379995112319,
          189.46010506561453,
          189.77001273967466,
          190.07486707071766,
          190.37601546327053,
          190.67480428016205,
          190.97257444461337,
          191.27065700829698,
          191.5703687006519,
          191.8730074748948,
          192.17984806626708,
          192.4921375780849,
          192.81109111113753,
          193.13788745188725,
          193.47366483477722,
          193.81951679375203,
          194.17648811783104,
          194.54557092526326,
          194.9277008704188,
          195.3237534971637,
          195.73454075198555,
          196.16080766963574,
          196.60322924349333,
          197.06240749226052,
          197.53886873395876,
          198.03306107753238,
          198.54535214165375,
          199.07602700959052,
          199.62528642823432,
          200.1932452585946,
          200.77993118425817,
          201.38528368346948,
          202.0091532696484,
          202.65130100428576,
          203.31139828528356,
          203.98902691291212,
          204.68367943466419,
          205.39475976937015,
          206.12158411004788,
          206.8633821040332,
          207.61929830804286,
          208.3883939149115,
          209.1696487478456,
          209.96196351714852,
          210.7641623334884,
          211.57499547091854,
          212.39314237200057,
          213.21721488655695,
          214.04576073475172,
          214.87726718442707,
          215.710164931838,
          216.54283217420664,
          217.37359886180636,
          218.20075111660873,
          219.02253580390297,
          219.83716524269323,
          220.64282204012576,
          221.43766403469635,
          222.21982933252167,
          222.98744142054997,
          223.73861434023613,
          224.47145790489523,
          225.18408294372108,
          225.8746065552604,
          226.54115735303205,
          227.1818806859142,
          227.79494381594472,
          228.37854103626574,
          228.93089871208335,
          229.45028022775358,
          229.93499082338326,
          230.3833823047123,
          230.79385761047058,
          231.16487522191676,
          231.4949533998325,
          231.78267423489777,
          232.0266874980733,
          232.22571427839424,
          232.37855039640417,
          232.48406958235162,
          232.54122640920926,
          232.5490589715681,
          232.5066913024864,
          232.41333552145434,
          232.26829370772532,
          232.07095949441705,
          231.82081937991396,
          231.5174537542941,
          231.16053763965957,
          230.7498411444399,
          230.2852296329008,
          229.76666361225296,
          229.19419834089433,
          228.56798316243308,
          227.8882605712143,
          227.1553650161228,
          226.36972145042117,
          225.53184363632855,
          224.64233221393926,
          223.70187254489144,
          222.71123234197114,
          221.67125909650687,
          220.5828773160396,
          219.44708558527563,
          218.26495346379428,
          217.03761823435784,
          215.76628151595563,
          214.45220575593783,
          213.0967106157116,
          211.70116926453,
          210.2670045958599,
          208.79568538072226,
          207.28872237219662,
          205.74766437504823,
          204.1740942940929,
          202.56962517455833,
          200.9358962472337,
          199.2745689907278,
          197.58732322261105,
          195.87585323063462,
          194.1418639546076,
          192.38706722888136,
          190.61317809471456,
          188.82191119111334,
          187.01497723206782,
          185.19407957738989,
          183.3609109036844,
          181.51714998129515,
          179.66445856239875,
          177.80447838475664,
          175.93882829501766,
          174.06910149485145,
          172.19686291260425,
          170.32364670264633,
          168.45095387404314,
          166.58025004973,
          164.712963356913,
          162.8504824490347,
          160.9941546592694,
          159.1452842851944,
          157.30513100400015,
          155.47490841734685,
          153.6557827247546,
          151.84887152424116,
          150.05524273876023,
          148.27591366685954,
          146.51185015588956,
          144.76396589599292,
          143.03312183305889,
          141.3201256987568,
          139.62573165574486,
          137.95064005609822,
          136.29549731098692,
          134.66089586961192,
          133.04737430536366,
          131.45541750715603,
          129.885456973845,
          128.3378712095945,
          126.81298621799513,
          125.31107609268915,
          123.83236370215401,
          122.37702146622999,
          120.94517222184686,
          119.53689017531376,
          118.15220193837736,
          116.7910876451378,
          115.45348214673562,
          114.13927628057816,
          112.84831821069542,
          111.5804148356416,
          110.33533326018726,
          109.1128023268582,
          107.91251420321701,
          106.73412602059413,
          105.57726155983116,
          104.44151297942864,
          103.32644258136624,
          102.23158460972512,
          101.15644707714544,
          100.10051361406344,
          99.06324533560088,
          98.04408272095483,
          97.04244750010344,
          96.05774454266708,
          95.0893637438037,
          94.13668190207476,
          93.19906458432813,
          92.27586797275522,
          91.36644068943959,
          90.47012559389088,
          89.5862615492575,
          88.7141851531419,
          87.85323242919488,
          87.00274047592232,
          86.16204906944174,
          85.33050221720829,
          84.50744966005605,
          83.69224832021679,
          82.88426369330327,
          82.08287118257952,
          81.28745737416298,
          80.49742125213362,
          79.71217535284275,
          78.93114685801794,
          78.1537786265607,
          77.37953016521199,
          76.60787853851988,
          75.83831921878597,
          75.07036687688765,
          74.30355611506687,
          73.53744214293911,
          72.77160139813301,
          72.00563211307036,
          71.23915482949474,
          70.47181286241243,
          69.703272715146,
          68.93322444720081,
          68.16138199663243,
          67.38748345855583,
          66.61129132137124,
          65.83259266219436,
          65.05119930287692,
          64.26694792787585,
          63.47970016509802,
          62.68934263070016,
          61.89578693866846,
          61.0989696758405,
          60.29885234287008,
          59.4954212614762,
          58.68868744814949,
          57.878686454342294,
          57.065478173023465,
          56.249146611336435,
          55.429799628986274,
          54.60756864187271,
          53.78260829039209,
          52.955096071769646,
          52.12523193572699,
          51.29323784276375,
          50.459357284324454,
          49.623854764138294,
          48.787015240061166,
          47.94914352580288,
          47.1105636520138,
          46.271618186309055,
          45.432667511928585,
          44.59408906488357,
          43.75627652960139,
          42.91963899325568,
          42.08460005917107,
          41.251596919891306,
          40.42107939072083,
          39.59350890477314,
          38.76935747079055,
          37.949106595237524,
          37.13324617039874,
          36.322273330452724,
          35.51669127772226,
          34.71700808152165,
          33.923735452242674,
          33.13738749352491,
          32.35847943554958,
          31.587526352671695,
          30.825041868778335,
          30.071536853894308,
          29.327518115697632,
          28.59348708970298,
          27.869938531971137,
          27.15735921825918,
          26.456226653578213,
          25.767007796148857,
          25.09015779974285,
          24.426118778384694,
          23.77531859734593,
          23.13816969430345,
          22.515067934451707,
          21.906391503265116,
          21.312499840482786,
          20.73373261875968,
          20.17040877027811,
          19.622825564449148,
          19.091257739658168,
          18.575956691822043,
          18.077149722329757,
          17.595039347728175,
          17.129802673306013,
          16.681590832509826,
          16.250528493901474,
          15.836713437140356,
          15.440216199250013,
          15.061079792193524,
          14.69931949256125,
          14.354922703941002,
          14.027848892322389,
          13.71802959466013,
          13.42536850050696,
          13.14974160641245,
          12.890997442573523,
          12.64895737102088,
          12.423415954426831,
          12.214141394427127,
          12.02087603816244,
          11.843336951566599,
          11.681216557751194,
          11.534183338670406,
          11.401882598085233,
          11.283937283691168,
          11.179948866122306,
          11.089498272399437,
          11.012146871252083,
          10.947437507609585,
          10.89489558343019,
          10.854030181914563,
          10.824335232034784,
          10.805290710199317,
          10.796363875771327,
          10.797010537059453,
          10.806676344309524,
          10.824798106141158,
          10.850805125796265,
          10.884120553497018,
          10.924162751149147,
          10.970346665573523,
          11.022085206404912,
          11.078790624762323,
          11.13987588877057,
          11.204756051999151,
          11.272849610881579,
          11.343579847187044,
          11.416376151638088,
          11.490675324800684,
          11.565922851421046,
          11.641574144443132,
          11.717095755015844,
          11.791966544886087,
          11.86567881767737,
          11.937739405670298,
          12.007670708832078,
          12.07501168298807,
          12.139318774187615,
          12.20016679648988,
          12.25714975058119,
          12.309881580835624,
          12.357996868640745,
          12.401151460034034,
          12.439023025928064,
          12.47131155344601,
          12.497739767139228,
          12.518053479118553,
          12.532021867394905,
          12.539437681994857,
          12.540117378690105,
          12.533901180455038,
          12.520653067042717,
          12.50026069334522,
          12.472635237476643,
          12.437711179787375,
          12.395446014281564,
          12.34581989416761,
          12.288835213520343,
          12.224516127274141,
          12.152908011994178,
          12.07407687009087,
          11.988108680345118,
          11.895108697802012,
          11.795200706263698,
          11.688526226769557,
          11.575243685592696,
          11.455527545402639,
          11.32956740335012,
          11.197567059913005
         ],
         "yaxis": "y"
        },
        {
         "legendgroup": "50cm",
         "marker": {
          "color": "rgb(31, 119, 180)",
          "symbol": "line-ns-open"
         },
         "mode": "markers",
         "name": "50cm",
         "showlegend": false,
         "type": "scatter",
         "x": [
          0.028285231324569067,
          0.029253559378449645,
          0.029740500972777584,
          0.028275936744137368,
          0.026284291317022982,
          0.02987817964466676,
          0.029872283568469167,
          0.02994350959247229,
          0.02609689716945268,
          0.030244146470602574,
          0.02929405766888888,
          0.030260516764365024,
          0.03548863265378169,
          0.029380370775911508,
          0.02894170077917137,
          0.028521462633886028,
          0.029609999502869154,
          0.03527144408531894,
          0.028582091888188936,
          0.030593013464371193,
          0.02845958396393213,
          0.03252621096093149,
          0.028716199341218877,
          0.028836593676304756,
          0.0278762442166452,
          0.02914306390157599,
          0.032004542910611604,
          0.028730758493421698,
          0.03003369267764453,
          0.03362701584219328,
          0.025851458739647077,
          0.024969697585238888,
          0.028714295328677208,
          0.029087617359303552,
          0.028738531377214202,
          0.027227953386183043,
          0.024196893816408698,
          0.024178580702593478,
          0.029383651185657982,
          0.02987087718194142,
          0.026526887973373055,
          0.028173657467779993,
          0.027793624255637767,
          0.028457780408832727,
          0.02355505082429741,
          0.02988744848794204,
          0.028700311766373714,
          0.025714104875341575,
          0.027153139782569655,
          0.025350345339907855,
          0.025559146624000235,
          0.026142057227262393,
          0.025419925321238785,
          0.028379614702923744,
          0.026367011426292206,
          0.027341030550268153,
          0.02530693636852314,
          0.024636139456668132,
          0.026269178950376816,
          0.027043214643692543,
          0.02902494238725912,
          0.02568857238929296,
          0.027743053702901484,
          0.025013033478343424,
          0.025970075436408075,
          0.027660361782774513,
          0.02577765785586157,
          0.02317408745552542,
          0.027830497725588814,
          0.026177612911999472,
          0.026013180390444576,
          0.025822839901981583,
          0.024627099585870577,
          0.02675694999284927,
          0.025909282549605978,
          0.025192239819879596,
          0.025196690232345772,
          0.025501706621507997,
          0.026473915162148403,
          0.025183356957922638,
          0.024596856157780664,
          0.02572405323765479,
          0.024054318508803955,
          0.025322883995815917,
          0.02722087110287791,
          0.02505342972651161,
          0.025599323091460163,
          0.026184403484405226,
          0.028962624190251633,
          0.024625569677747903,
          0.027767057493394604,
          0.02639178314465779,
          0.026793891745086014,
          0.02418404271009709,
          0.02545596282913146,
          0.027048807326845708,
          0.02653826173537305,
          0.028548106586018314,
          0.025771495564491494,
          0.022659986890680443,
          0.025064947867344468,
          0.02513502636765204,
          0.025567120145478683,
          0.02437803936184301,
          0.027233495101751833,
          0.02780191935772374,
          0.026489019331056667,
          0.024585620739737375,
          0.02405823571519674,
          0.02677498042503804,
          0.026094880970493808,
          0.025613947344380335,
          0.027184738070433808,
          0.02561807917671705,
          0.027424837870768923,
          0.024917298578349296,
          0.02403188032713726,
          0.02410090136140461,
          0.026110472053923948,
          0.02694267492542897,
          0.025305157351866548,
          0.02540111366860813,
          0.026453542738065168,
          0.025326017197444116,
          0.02711134165892563,
          0.026838448891119235,
          0.028554287216181595,
          0.02521070160508204,
          0.02643405144954856,
          0.02505484099565577,
          0.025879799112481103,
          0.026269372503688458,
          0.025414707238013354,
          0.025807695830880023,
          0.024994481066950316,
          0.026034905461082142,
          0.02474281656341425,
          0.024334274753153244,
          0.024811961207786937,
          0.02730697757289715,
          0.026078978757651406,
          0.025824189653053616,
          0.02738095558338522,
          0.027523605603628674,
          0.026389287153756942,
          0.026279787197686845,
          0.025909537117243437,
          0.026967932379977372,
          0.028621565804962487,
          0.025419512697507914
         ],
         "xaxis": "x",
         "y": [
          "50cm",
          "50cm",
          "50cm",
          "50cm",
          "50cm",
          "50cm",
          "50cm",
          "50cm",
          "50cm",
          "50cm",
          "50cm",
          "50cm",
          "50cm",
          "50cm",
          "50cm",
          "50cm",
          "50cm",
          "50cm",
          "50cm",
          "50cm",
          "50cm",
          "50cm",
          "50cm",
          "50cm",
          "50cm",
          "50cm",
          "50cm",
          "50cm",
          "50cm",
          "50cm",
          "50cm",
          "50cm",
          "50cm",
          "50cm",
          "50cm",
          "50cm",
          "50cm",
          "50cm",
          "50cm",
          "50cm",
          "50cm",
          "50cm",
          "50cm",
          "50cm",
          "50cm",
          "50cm",
          "50cm",
          "50cm",
          "50cm",
          "50cm",
          "50cm",
          "50cm",
          "50cm",
          "50cm",
          "50cm",
          "50cm",
          "50cm",
          "50cm",
          "50cm",
          "50cm",
          "50cm",
          "50cm",
          "50cm",
          "50cm",
          "50cm",
          "50cm",
          "50cm",
          "50cm",
          "50cm",
          "50cm",
          "50cm",
          "50cm",
          "50cm",
          "50cm",
          "50cm",
          "50cm",
          "50cm",
          "50cm",
          "50cm",
          "50cm",
          "50cm",
          "50cm",
          "50cm",
          "50cm",
          "50cm",
          "50cm",
          "50cm",
          "50cm",
          "50cm",
          "50cm",
          "50cm",
          "50cm",
          "50cm",
          "50cm",
          "50cm",
          "50cm",
          "50cm",
          "50cm",
          "50cm",
          "50cm",
          "50cm",
          "50cm",
          "50cm",
          "50cm",
          "50cm",
          "50cm",
          "50cm",
          "50cm",
          "50cm",
          "50cm",
          "50cm",
          "50cm",
          "50cm",
          "50cm",
          "50cm",
          "50cm",
          "50cm",
          "50cm",
          "50cm",
          "50cm",
          "50cm",
          "50cm",
          "50cm",
          "50cm",
          "50cm",
          "50cm",
          "50cm",
          "50cm",
          "50cm",
          "50cm",
          "50cm",
          "50cm",
          "50cm",
          "50cm",
          "50cm",
          "50cm",
          "50cm",
          "50cm",
          "50cm",
          "50cm",
          "50cm",
          "50cm",
          "50cm",
          "50cm",
          "50cm",
          "50cm",
          "50cm",
          "50cm",
          "50cm",
          "50cm"
         ],
         "yaxis": "y2"
        },
        {
         "legendgroup": "75cm",
         "marker": {
          "color": "rgb(255, 127, 14)",
          "symbol": "line-ns-open"
         },
         "mode": "markers",
         "name": "75cm",
         "showlegend": false,
         "type": "scatter",
         "x": [
          0.02943368920117693,
          0.029232278507932995,
          0.02788021033352743,
          0.028995089021182426,
          0.028479573333936643,
          0.028400445260218805,
          0.029741992979390973,
          0.02869915451322253,
          0.027919723909264164,
          0.03015137314737316,
          0.029793216945984274,
          0.030059989939169553,
          0.02871429010678143,
          0.028652776412438703,
          0.027134053301063804,
          0.03015299565838438,
          0.02836190332863894,
          0.0279551096505633,
          0.02643151860325388,
          0.026668156016274775,
          0.029194729056827556,
          0.028295001234394282,
          0.02851665098245942,
          0.028487828646053866,
          0.02739218617354963,
          0.027366918171059136,
          0.0264758684417375,
          0.02547908129871266,
          0.028695960555101766,
          0.02799250968133562,
          0.0272150165802778,
          0.0265897930621513,
          0.026458823572843692,
          0.03223719524964351,
          0.027117998990877565,
          0.028106207913970893,
          0.025600334321740154,
          0.03262339556417406,
          0.025890385672821335,
          0.027354691687280653,
          0.027413427369496077,
          0.026431586764809337,
          0.02569351563312064,
          0.026846456985766095,
          0.025205454015473257,
          0.024382032301745304,
          0.027507967496683453,
          0.027614571389446743,
          0.029036013675062883,
          0.026863480129903344,
          0.027999742595278404,
          0.02745054040561506,
          0.02882421769286967,
          0.02522935857109032,
          0.026812105245556075,
          0.025388903732887654,
          0.025668147295912463,
          0.026854228793559497,
          0.026316308861025962,
          0.02748964879039728,
          0.03256760195477943,
          0.027789507891674052,
          0.02633266766647875,
          0.02641431236457012,
          0.028039715816914463,
          0.026019221023468424,
          0.02640019119347361,
          0.026067865859480194,
          0.026146718608230167,
          0.028822104179529247,
          0.02812478119404103,
          0.027222888603983527,
          0.029201630693454717,
          0.025952622086298865,
          0.02613953451798981,
          0.027066723760413042,
          0.026504952611762073,
          0.02631842717093731,
          0.027628212546152664,
          0.028912827284585156,
          0.02687700388492764,
          0.027318845335905624,
          0.028303546844562176,
          0.026511759350855806,
          0.025620789337929904,
          0.02516126408005026,
          0.027947312206887592,
          0.02784439547562015,
          0.026603322673299706,
          0.02478283867715341,
          0.026155062196950567,
          0.02764169595445153,
          0.026616082585028893,
          0.027858217770615215,
          0.02809566763535118,
          0.026847739317162937,
          0.029025489475926466,
          0.02820036909192761,
          0.027404942069835438,
          0.02767119037829101,
          0.02807755911864743,
          0.027935424607791838,
          0.02648672862234347,
          0.027401474428945687,
          0.02572972093781455,
          0.026922976974947964,
          0.025561218676373683,
          0.026105730318417,
          0.026644137235105687,
          0.029292642563750988,
          0.025690354005063847,
          0.029049437676539953,
          0.028137563625812306,
          0.02749330802555581,
          0.025363823731179666,
          0.026156046851301715,
          0.028125145078702302,
          0.025610817630009136,
          0.026620967638368753,
          0.025108730164287094,
          0.028546256921558263,
          0.0276079687279698,
          0.028345594286004833,
          0.02731670550459128,
          0.028416214662899904,
          0.02741055174386201,
          0.026974007706668045,
          0.026293184502514125,
          0.027432219512960286,
          0.027471048848219076,
          0.02637788552615126,
          0.027482085768946656,
          0.027312164584663356,
          0.027441233354882324,
          0.026979063470366937,
          0.027612662676959932,
          0.02727116203069425,
          0.02577767716256199,
          0.02715614758312484,
          0.029282195414541055,
          0.027658596346716875,
          0.027897615263320744,
          0.027202388472205605,
          0.02642332299334906,
          0.027180609497455165,
          0.02666359229552163,
          0.025905014184464246,
          0.02780514687983382,
          0.025532485511056083,
          0.0269925351943416
         ],
         "xaxis": "x",
         "y": [
          "75cm",
          "75cm",
          "75cm",
          "75cm",
          "75cm",
          "75cm",
          "75cm",
          "75cm",
          "75cm",
          "75cm",
          "75cm",
          "75cm",
          "75cm",
          "75cm",
          "75cm",
          "75cm",
          "75cm",
          "75cm",
          "75cm",
          "75cm",
          "75cm",
          "75cm",
          "75cm",
          "75cm",
          "75cm",
          "75cm",
          "75cm",
          "75cm",
          "75cm",
          "75cm",
          "75cm",
          "75cm",
          "75cm",
          "75cm",
          "75cm",
          "75cm",
          "75cm",
          "75cm",
          "75cm",
          "75cm",
          "75cm",
          "75cm",
          "75cm",
          "75cm",
          "75cm",
          "75cm",
          "75cm",
          "75cm",
          "75cm",
          "75cm",
          "75cm",
          "75cm",
          "75cm",
          "75cm",
          "75cm",
          "75cm",
          "75cm",
          "75cm",
          "75cm",
          "75cm",
          "75cm",
          "75cm",
          "75cm",
          "75cm",
          "75cm",
          "75cm",
          "75cm",
          "75cm",
          "75cm",
          "75cm",
          "75cm",
          "75cm",
          "75cm",
          "75cm",
          "75cm",
          "75cm",
          "75cm",
          "75cm",
          "75cm",
          "75cm",
          "75cm",
          "75cm",
          "75cm",
          "75cm",
          "75cm",
          "75cm",
          "75cm",
          "75cm",
          "75cm",
          "75cm",
          "75cm",
          "75cm",
          "75cm",
          "75cm",
          "75cm",
          "75cm",
          "75cm",
          "75cm",
          "75cm",
          "75cm",
          "75cm",
          "75cm",
          "75cm",
          "75cm",
          "75cm",
          "75cm",
          "75cm",
          "75cm",
          "75cm",
          "75cm",
          "75cm",
          "75cm",
          "75cm",
          "75cm",
          "75cm",
          "75cm",
          "75cm",
          "75cm",
          "75cm",
          "75cm",
          "75cm",
          "75cm",
          "75cm",
          "75cm",
          "75cm",
          "75cm",
          "75cm",
          "75cm",
          "75cm",
          "75cm",
          "75cm",
          "75cm",
          "75cm",
          "75cm",
          "75cm",
          "75cm",
          "75cm",
          "75cm",
          "75cm",
          "75cm",
          "75cm",
          "75cm",
          "75cm",
          "75cm",
          "75cm",
          "75cm",
          "75cm",
          "75cm",
          "75cm",
          "75cm"
         ],
         "yaxis": "y2"
        },
        {
         "legendgroup": "100cm",
         "marker": {
          "color": "rgb(44, 160, 44)",
          "symbol": "line-ns-open"
         },
         "mode": "markers",
         "name": "100cm",
         "showlegend": false,
         "type": "scatter",
         "x": [
          0.028001125069797177,
          0.025418315520676554,
          0.024569745284097822,
          0.02794956952935392,
          0.02711527423183338,
          0.025672339887576324,
          0.025773130061547262,
          0.02477412352356571,
          0.027563351324691857,
          0.02697320413089213,
          0.027590657043782416,
          0.027001125007046687,
          0.028287888644983432,
          0.02754635808385712,
          0.027601906174435083,
          0.02619943587165895,
          0.02757469125028224,
          0.02697883388015688,
          0.02736300036164075,
          0.026076704154059088,
          0.026674764590539208,
          0.025429645007434894,
          0.026189945610682087,
          0.02567904435367658,
          0.02811816209479748,
          0.026714378769497043,
          0.026255541475206007,
          0.0250552778314992,
          0.024739260923597118,
          0.02699794372913595,
          0.027479968285191017,
          0.025503748892143612,
          0.027513224786980078,
          0.026008311125317967,
          0.027780865391299443,
          0.027517940788078704,
          0.025042155150987833,
          0.02717064266729046,
          0.029254367595446883,
          0.023651294977748167,
          0.025760833659931332,
          0.024039706575988577,
          0.024530076431274736,
          0.027397478233988356,
          0.029073332167616855,
          0.024271710609989096,
          0.03186975562060725,
          0.02824958061286929,
          0.02761761769272821,
          0.0256185181675081,
          0.02958228882568248,
          0.02857134223083546,
          0.02859661541654266,
          0.026608924811185788,
          0.030089470328341073,
          0.0238812592740897,
          0.023877787968668907,
          0.024856680189988486,
          0.02959752547729882,
          0.025221924469186273,
          0.028028400561005903,
          0.027513786836062974,
          0.026798571732283435,
          0.028405483591921906,
          0.029234104843630565,
          0.027505307011700005,
          0.029815457536371423,
          0.032320469413336085,
          0.026758957202901,
          0.03001939454234681,
          0.027153497042979577,
          0.02615243016107637,
          0.02610692341528429,
          0.02720412334287627,
          0.029983163103810693,
          0.028131490539285004,
          0.02748957724484308,
          0.029102058683546234,
          0.029316126073486215,
          0.02834230489718544,
          0.03188573696548994,
          0.02807301107215158,
          0.0273268517250124,
          0.02742068853860366,
          0.027895457416365566,
          0.03016893597861751,
          0.027838001987758026,
          0.0288160495455728,
          0.028614552475521533,
          0.029251752227234983,
          0.03034042026280689,
          0.025517651959891724,
          0.026231548941657953,
          0.025246968167253386,
          0.024664092035705684,
          0.028503972808164985,
          0.025131819231192804,
          0.025845348267565342,
          0.02702834193500874,
          0.028066163083203217,
          0.025549710535425277,
          0.02637547104111277,
          0.027985691720927623,
          0.026938336357384116,
          0.026141822004499327,
          0.029528494355837365,
          0.028389931904996918,
          0.029154489278505075,
          0.025361043512885272,
          0.026859236620305146,
          0.02502860793808675,
          0.025426824186452066,
          0.0275147560325548,
          0.026724083313675415,
          0.025939196968969392,
          0.027525230024598096,
          0.028920261253065523,
          0.026760490719686152,
          0.02554638067275875,
          0.026366662856253026,
          0.024814014440925607,
          0.027241801608059942,
          0.025717554189602945,
          0.027609545885265582,
          0.0263812275024642,
          0.026464754394630374,
          0.026616895764792696,
          0.02566782694767052,
          0.025562279991403078,
          0.025275400198948573,
          0.02439115284757936,
          0.02445886047434591,
          0.027203900003376125,
          0.025823122951743178,
          0.025227421044694703,
          0.025094952430363093,
          0.02718470420451098,
          0.026811057019771396,
          0.02753274747116759,
          0.025298965079462186,
          0.025989100410759476,
          0.025788693495220002,
          0.026661176251645498,
          0.0269204042478884,
          0.027222596899967293,
          0.027356099000840774,
          0.028115760352819465,
          0.027626082927691458,
          0.024598316197677623,
          0.02835015048082648
         ],
         "xaxis": "x",
         "y": [
          "100cm",
          "100cm",
          "100cm",
          "100cm",
          "100cm",
          "100cm",
          "100cm",
          "100cm",
          "100cm",
          "100cm",
          "100cm",
          "100cm",
          "100cm",
          "100cm",
          "100cm",
          "100cm",
          "100cm",
          "100cm",
          "100cm",
          "100cm",
          "100cm",
          "100cm",
          "100cm",
          "100cm",
          "100cm",
          "100cm",
          "100cm",
          "100cm",
          "100cm",
          "100cm",
          "100cm",
          "100cm",
          "100cm",
          "100cm",
          "100cm",
          "100cm",
          "100cm",
          "100cm",
          "100cm",
          "100cm",
          "100cm",
          "100cm",
          "100cm",
          "100cm",
          "100cm",
          "100cm",
          "100cm",
          "100cm",
          "100cm",
          "100cm",
          "100cm",
          "100cm",
          "100cm",
          "100cm",
          "100cm",
          "100cm",
          "100cm",
          "100cm",
          "100cm",
          "100cm",
          "100cm",
          "100cm",
          "100cm",
          "100cm",
          "100cm",
          "100cm",
          "100cm",
          "100cm",
          "100cm",
          "100cm",
          "100cm",
          "100cm",
          "100cm",
          "100cm",
          "100cm",
          "100cm",
          "100cm",
          "100cm",
          "100cm",
          "100cm",
          "100cm",
          "100cm",
          "100cm",
          "100cm",
          "100cm",
          "100cm",
          "100cm",
          "100cm",
          "100cm",
          "100cm",
          "100cm",
          "100cm",
          "100cm",
          "100cm",
          "100cm",
          "100cm",
          "100cm",
          "100cm",
          "100cm",
          "100cm",
          "100cm",
          "100cm",
          "100cm",
          "100cm",
          "100cm",
          "100cm",
          "100cm",
          "100cm",
          "100cm",
          "100cm",
          "100cm",
          "100cm",
          "100cm",
          "100cm",
          "100cm",
          "100cm",
          "100cm",
          "100cm",
          "100cm",
          "100cm",
          "100cm",
          "100cm",
          "100cm",
          "100cm",
          "100cm",
          "100cm",
          "100cm",
          "100cm",
          "100cm",
          "100cm",
          "100cm",
          "100cm",
          "100cm",
          "100cm",
          "100cm",
          "100cm",
          "100cm",
          "100cm",
          "100cm",
          "100cm",
          "100cm",
          "100cm",
          "100cm",
          "100cm",
          "100cm",
          "100cm",
          "100cm",
          "100cm",
          "100cm",
          "100cm"
         ],
         "yaxis": "y2"
        }
       ],
       "layout": {
        "barmode": "overlay",
        "hovermode": "closest",
        "legend": {
         "traceorder": "reversed"
        },
        "template": {
         "data": {
          "bar": [
           {
            "error_x": {
             "color": "#2a3f5f"
            },
            "error_y": {
             "color": "#2a3f5f"
            },
            "marker": {
             "line": {
              "color": "#E5ECF6",
              "width": 0.5
             },
             "pattern": {
              "fillmode": "overlay",
              "size": 10,
              "solidity": 0.2
             }
            },
            "type": "bar"
           }
          ],
          "barpolar": [
           {
            "marker": {
             "line": {
              "color": "#E5ECF6",
              "width": 0.5
             },
             "pattern": {
              "fillmode": "overlay",
              "size": 10,
              "solidity": 0.2
             }
            },
            "type": "barpolar"
           }
          ],
          "carpet": [
           {
            "aaxis": {
             "endlinecolor": "#2a3f5f",
             "gridcolor": "white",
             "linecolor": "white",
             "minorgridcolor": "white",
             "startlinecolor": "#2a3f5f"
            },
            "baxis": {
             "endlinecolor": "#2a3f5f",
             "gridcolor": "white",
             "linecolor": "white",
             "minorgridcolor": "white",
             "startlinecolor": "#2a3f5f"
            },
            "type": "carpet"
           }
          ],
          "choropleth": [
           {
            "colorbar": {
             "outlinewidth": 0,
             "ticks": ""
            },
            "type": "choropleth"
           }
          ],
          "contour": [
           {
            "colorbar": {
             "outlinewidth": 0,
             "ticks": ""
            },
            "colorscale": [
             [
              0,
              "#0d0887"
             ],
             [
              0.1111111111111111,
              "#46039f"
             ],
             [
              0.2222222222222222,
              "#7201a8"
             ],
             [
              0.3333333333333333,
              "#9c179e"
             ],
             [
              0.4444444444444444,
              "#bd3786"
             ],
             [
              0.5555555555555556,
              "#d8576b"
             ],
             [
              0.6666666666666666,
              "#ed7953"
             ],
             [
              0.7777777777777778,
              "#fb9f3a"
             ],
             [
              0.8888888888888888,
              "#fdca26"
             ],
             [
              1,
              "#f0f921"
             ]
            ],
            "type": "contour"
           }
          ],
          "contourcarpet": [
           {
            "colorbar": {
             "outlinewidth": 0,
             "ticks": ""
            },
            "type": "contourcarpet"
           }
          ],
          "heatmap": [
           {
            "colorbar": {
             "outlinewidth": 0,
             "ticks": ""
            },
            "colorscale": [
             [
              0,
              "#0d0887"
             ],
             [
              0.1111111111111111,
              "#46039f"
             ],
             [
              0.2222222222222222,
              "#7201a8"
             ],
             [
              0.3333333333333333,
              "#9c179e"
             ],
             [
              0.4444444444444444,
              "#bd3786"
             ],
             [
              0.5555555555555556,
              "#d8576b"
             ],
             [
              0.6666666666666666,
              "#ed7953"
             ],
             [
              0.7777777777777778,
              "#fb9f3a"
             ],
             [
              0.8888888888888888,
              "#fdca26"
             ],
             [
              1,
              "#f0f921"
             ]
            ],
            "type": "heatmap"
           }
          ],
          "heatmapgl": [
           {
            "colorbar": {
             "outlinewidth": 0,
             "ticks": ""
            },
            "colorscale": [
             [
              0,
              "#0d0887"
             ],
             [
              0.1111111111111111,
              "#46039f"
             ],
             [
              0.2222222222222222,
              "#7201a8"
             ],
             [
              0.3333333333333333,
              "#9c179e"
             ],
             [
              0.4444444444444444,
              "#bd3786"
             ],
             [
              0.5555555555555556,
              "#d8576b"
             ],
             [
              0.6666666666666666,
              "#ed7953"
             ],
             [
              0.7777777777777778,
              "#fb9f3a"
             ],
             [
              0.8888888888888888,
              "#fdca26"
             ],
             [
              1,
              "#f0f921"
             ]
            ],
            "type": "heatmapgl"
           }
          ],
          "histogram": [
           {
            "marker": {
             "pattern": {
              "fillmode": "overlay",
              "size": 10,
              "solidity": 0.2
             }
            },
            "type": "histogram"
           }
          ],
          "histogram2d": [
           {
            "colorbar": {
             "outlinewidth": 0,
             "ticks": ""
            },
            "colorscale": [
             [
              0,
              "#0d0887"
             ],
             [
              0.1111111111111111,
              "#46039f"
             ],
             [
              0.2222222222222222,
              "#7201a8"
             ],
             [
              0.3333333333333333,
              "#9c179e"
             ],
             [
              0.4444444444444444,
              "#bd3786"
             ],
             [
              0.5555555555555556,
              "#d8576b"
             ],
             [
              0.6666666666666666,
              "#ed7953"
             ],
             [
              0.7777777777777778,
              "#fb9f3a"
             ],
             [
              0.8888888888888888,
              "#fdca26"
             ],
             [
              1,
              "#f0f921"
             ]
            ],
            "type": "histogram2d"
           }
          ],
          "histogram2dcontour": [
           {
            "colorbar": {
             "outlinewidth": 0,
             "ticks": ""
            },
            "colorscale": [
             [
              0,
              "#0d0887"
             ],
             [
              0.1111111111111111,
              "#46039f"
             ],
             [
              0.2222222222222222,
              "#7201a8"
             ],
             [
              0.3333333333333333,
              "#9c179e"
             ],
             [
              0.4444444444444444,
              "#bd3786"
             ],
             [
              0.5555555555555556,
              "#d8576b"
             ],
             [
              0.6666666666666666,
              "#ed7953"
             ],
             [
              0.7777777777777778,
              "#fb9f3a"
             ],
             [
              0.8888888888888888,
              "#fdca26"
             ],
             [
              1,
              "#f0f921"
             ]
            ],
            "type": "histogram2dcontour"
           }
          ],
          "mesh3d": [
           {
            "colorbar": {
             "outlinewidth": 0,
             "ticks": ""
            },
            "type": "mesh3d"
           }
          ],
          "parcoords": [
           {
            "line": {
             "colorbar": {
              "outlinewidth": 0,
              "ticks": ""
             }
            },
            "type": "parcoords"
           }
          ],
          "pie": [
           {
            "automargin": true,
            "type": "pie"
           }
          ],
          "scatter": [
           {
            "marker": {
             "colorbar": {
              "outlinewidth": 0,
              "ticks": ""
             }
            },
            "type": "scatter"
           }
          ],
          "scatter3d": [
           {
            "line": {
             "colorbar": {
              "outlinewidth": 0,
              "ticks": ""
             }
            },
            "marker": {
             "colorbar": {
              "outlinewidth": 0,
              "ticks": ""
             }
            },
            "type": "scatter3d"
           }
          ],
          "scattercarpet": [
           {
            "marker": {
             "colorbar": {
              "outlinewidth": 0,
              "ticks": ""
             }
            },
            "type": "scattercarpet"
           }
          ],
          "scattergeo": [
           {
            "marker": {
             "colorbar": {
              "outlinewidth": 0,
              "ticks": ""
             }
            },
            "type": "scattergeo"
           }
          ],
          "scattergl": [
           {
            "marker": {
             "colorbar": {
              "outlinewidth": 0,
              "ticks": ""
             }
            },
            "type": "scattergl"
           }
          ],
          "scattermapbox": [
           {
            "marker": {
             "colorbar": {
              "outlinewidth": 0,
              "ticks": ""
             }
            },
            "type": "scattermapbox"
           }
          ],
          "scatterpolar": [
           {
            "marker": {
             "colorbar": {
              "outlinewidth": 0,
              "ticks": ""
             }
            },
            "type": "scatterpolar"
           }
          ],
          "scatterpolargl": [
           {
            "marker": {
             "colorbar": {
              "outlinewidth": 0,
              "ticks": ""
             }
            },
            "type": "scatterpolargl"
           }
          ],
          "scatterternary": [
           {
            "marker": {
             "colorbar": {
              "outlinewidth": 0,
              "ticks": ""
             }
            },
            "type": "scatterternary"
           }
          ],
          "surface": [
           {
            "colorbar": {
             "outlinewidth": 0,
             "ticks": ""
            },
            "colorscale": [
             [
              0,
              "#0d0887"
             ],
             [
              0.1111111111111111,
              "#46039f"
             ],
             [
              0.2222222222222222,
              "#7201a8"
             ],
             [
              0.3333333333333333,
              "#9c179e"
             ],
             [
              0.4444444444444444,
              "#bd3786"
             ],
             [
              0.5555555555555556,
              "#d8576b"
             ],
             [
              0.6666666666666666,
              "#ed7953"
             ],
             [
              0.7777777777777778,
              "#fb9f3a"
             ],
             [
              0.8888888888888888,
              "#fdca26"
             ],
             [
              1,
              "#f0f921"
             ]
            ],
            "type": "surface"
           }
          ],
          "table": [
           {
            "cells": {
             "fill": {
              "color": "#EBF0F8"
             },
             "line": {
              "color": "white"
             }
            },
            "header": {
             "fill": {
              "color": "#C8D4E3"
             },
             "line": {
              "color": "white"
             }
            },
            "type": "table"
           }
          ]
         },
         "layout": {
          "annotationdefaults": {
           "arrowcolor": "#2a3f5f",
           "arrowhead": 0,
           "arrowwidth": 1
          },
          "autotypenumbers": "strict",
          "coloraxis": {
           "colorbar": {
            "outlinewidth": 0,
            "ticks": ""
           }
          },
          "colorscale": {
           "diverging": [
            [
             0,
             "#8e0152"
            ],
            [
             0.1,
             "#c51b7d"
            ],
            [
             0.2,
             "#de77ae"
            ],
            [
             0.3,
             "#f1b6da"
            ],
            [
             0.4,
             "#fde0ef"
            ],
            [
             0.5,
             "#f7f7f7"
            ],
            [
             0.6,
             "#e6f5d0"
            ],
            [
             0.7,
             "#b8e186"
            ],
            [
             0.8,
             "#7fbc41"
            ],
            [
             0.9,
             "#4d9221"
            ],
            [
             1,
             "#276419"
            ]
           ],
           "sequential": [
            [
             0,
             "#0d0887"
            ],
            [
             0.1111111111111111,
             "#46039f"
            ],
            [
             0.2222222222222222,
             "#7201a8"
            ],
            [
             0.3333333333333333,
             "#9c179e"
            ],
            [
             0.4444444444444444,
             "#bd3786"
            ],
            [
             0.5555555555555556,
             "#d8576b"
            ],
            [
             0.6666666666666666,
             "#ed7953"
            ],
            [
             0.7777777777777778,
             "#fb9f3a"
            ],
            [
             0.8888888888888888,
             "#fdca26"
            ],
            [
             1,
             "#f0f921"
            ]
           ],
           "sequentialminus": [
            [
             0,
             "#0d0887"
            ],
            [
             0.1111111111111111,
             "#46039f"
            ],
            [
             0.2222222222222222,
             "#7201a8"
            ],
            [
             0.3333333333333333,
             "#9c179e"
            ],
            [
             0.4444444444444444,
             "#bd3786"
            ],
            [
             0.5555555555555556,
             "#d8576b"
            ],
            [
             0.6666666666666666,
             "#ed7953"
            ],
            [
             0.7777777777777778,
             "#fb9f3a"
            ],
            [
             0.8888888888888888,
             "#fdca26"
            ],
            [
             1,
             "#f0f921"
            ]
           ]
          },
          "colorway": [
           "#636efa",
           "#EF553B",
           "#00cc96",
           "#ab63fa",
           "#FFA15A",
           "#19d3f3",
           "#FF6692",
           "#B6E880",
           "#FF97FF",
           "#FECB52"
          ],
          "font": {
           "color": "#2a3f5f"
          },
          "geo": {
           "bgcolor": "white",
           "lakecolor": "white",
           "landcolor": "#E5ECF6",
           "showlakes": true,
           "showland": true,
           "subunitcolor": "white"
          },
          "hoverlabel": {
           "align": "left"
          },
          "hovermode": "closest",
          "mapbox": {
           "style": "light"
          },
          "paper_bgcolor": "white",
          "plot_bgcolor": "#E5ECF6",
          "polar": {
           "angularaxis": {
            "gridcolor": "white",
            "linecolor": "white",
            "ticks": ""
           },
           "bgcolor": "#E5ECF6",
           "radialaxis": {
            "gridcolor": "white",
            "linecolor": "white",
            "ticks": ""
           }
          },
          "scene": {
           "xaxis": {
            "backgroundcolor": "#E5ECF6",
            "gridcolor": "white",
            "gridwidth": 2,
            "linecolor": "white",
            "showbackground": true,
            "ticks": "",
            "zerolinecolor": "white"
           },
           "yaxis": {
            "backgroundcolor": "#E5ECF6",
            "gridcolor": "white",
            "gridwidth": 2,
            "linecolor": "white",
            "showbackground": true,
            "ticks": "",
            "zerolinecolor": "white"
           },
           "zaxis": {
            "backgroundcolor": "#E5ECF6",
            "gridcolor": "white",
            "gridwidth": 2,
            "linecolor": "white",
            "showbackground": true,
            "ticks": "",
            "zerolinecolor": "white"
           }
          },
          "shapedefaults": {
           "line": {
            "color": "#2a3f5f"
           }
          },
          "ternary": {
           "aaxis": {
            "gridcolor": "white",
            "linecolor": "white",
            "ticks": ""
           },
           "baxis": {
            "gridcolor": "white",
            "linecolor": "white",
            "ticks": ""
           },
           "bgcolor": "#E5ECF6",
           "caxis": {
            "gridcolor": "white",
            "linecolor": "white",
            "ticks": ""
           }
          },
          "title": {
           "x": 0.05
          },
          "xaxis": {
           "automargin": true,
           "gridcolor": "white",
           "linecolor": "white",
           "ticks": "",
           "title": {
            "standoff": 15
           },
           "zerolinecolor": "white",
           "zerolinewidth": 2
          },
          "yaxis": {
           "automargin": true,
           "gridcolor": "white",
           "linecolor": "white",
           "ticks": "",
           "title": {
            "standoff": 15
           },
           "zerolinecolor": "white",
           "zerolinewidth": 2
          }
         }
        },
        "xaxis": {
         "anchor": "y2",
         "domain": [
          0,
          1
         ],
         "zeroline": false
        },
        "yaxis": {
         "anchor": "free",
         "domain": [
          0.35,
          1
         ],
         "position": 0
        },
        "yaxis2": {
         "anchor": "x",
         "domain": [
          0,
          0.25
         ],
         "dtick": 1,
         "showticklabels": false
        }
       }
      }
     },
     "metadata": {},
     "output_type": "display_data"
    }
   ],
   "source": [
    "fig = ff.create_distplot([vars_50, vars_75, vars_100], [\"50cm\", \"75cm\", \"100cm\"])\n",
    "fig.show()"
   ]
  },
  {
   "cell_type": "code",
   "execution_count": 94,
   "metadata": {},
   "outputs": [],
   "source": [
    "def main(gesture_name: str) -> None:\n",
    "    print(f\"------------- Gesture: {gesture_name} -------------\\n\")\n",
    "\n",
    "    data_50 = list()\n",
    "    \n",
    "    subjects = [f\"Subject{i}\" for i in range(1, 6)]\n",
    "\n",
    "    for subject in subjects:\n",
    "        with open(f\"data/randomized/{subject}/50cm/{gesture_name}\", \"rb\") as file:\n",
    "            temp = pickle.load(file)\n",
    "            data_50 += temp\n",
    "\n",
    "    data_75 = list()\n",
    "\n",
    "    for subject in subjects:\n",
    "        with open(f\"data/randomized/{subject}/75cm/{gesture_name}\", \"rb\") as file:\n",
    "            temp = pickle.load(file)\n",
    "            data_75 += temp\n",
    "\n",
    "    data_100 = list()\n",
    "\n",
    "    for subject in subjects:\n",
    "        with open(f\"data/randomized/{subject}/100cm/{gesture_name}\", \"rb\") as file:\n",
    "            temp = pickle.load(file)\n",
    "            data_100 += temp\n",
    "\n",
    "\n",
    "    norm_50  = normalize_landmarks(landmarks=data_50)\n",
    "    norm_75  = normalize_landmarks(landmarks=data_75)\n",
    "    norm_100 = normalize_landmarks(landmarks=data_100)\n",
    "\n",
    "\n",
    "    means_50 = get_mean_distances_for_subset(landmarks=norm_50)\n",
    "    vars_50  = get_mean_var_for_subset(landmarks=norm_50)\n",
    "\n",
    "    means_75 = get_mean_distances_for_subset(landmarks=norm_75)\n",
    "    vars_75  = get_mean_var_for_subset(landmarks=norm_75)\n",
    "\n",
    "    means_100 = get_mean_distances_for_subset(landmarks=norm_100)\n",
    "    vars_100  = get_mean_var_for_subset(landmarks=norm_100)\n",
    "\n",
    "    shapiro_results = {\n",
    "        \"50cm\": stats.shapiro(vars_50),\n",
    "        \"75cm\": stats.shapiro(vars_75),\n",
    "        \"100cm\": stats.shapiro(vars_100)\n",
    "    }\n",
    "\n",
    "    p_values = [results.pvalue for results in shapiro_results.values()]\n",
    "\n",
    "    significant_pvalues = [p_value > 0.05 for p_value in p_values]\n",
    "\n",
    "    is_normal = all(significant_pvalues)\n",
    "\n",
    "    if is_normal:\n",
    "        print(\"All variances are drown from a normal distribution! Their p-values ares:\")\n",
    "        print(f\"    50cm: {p_values[0]}    75cm: {p_values[1]}    100cm: {p_values[2]}\\n\")\n",
    "\n",
    "        print(\"Using the ANOVA One Way test...\\n\")\n",
    "\n",
    "        result = stats.f_oneway(vars_50, vars_75, vars_100)\n",
    "        # result = stats.f_oneway(means_50, means_75, means_100)\n",
    "        \n",
    "        print(f\"The test p-value is: {result.pvalue}\\n\")\n",
    "\n",
    "        if result.pvalue > 0.05:\n",
    "            print(\"They are the same!\\n\")\n",
    "\n",
    "        else:\n",
    "            print(\"They are NOT the same!\\n\")\n",
    "\n",
    "    else:\n",
    "        kruskal = True\n",
    "\n",
    "        if kruskal:\n",
    "            print(\"One or more of the variances is NOT drown from a normal distribution. Their p-values are:\")\n",
    "            print(f\"    50cm: {p_values[0]}    75cm: {p_values[1]}    100cm: {p_values[2]}\\n\")\n",
    "\n",
    "            print(\"Using the Kruskal test...\\n\")\n",
    "\n",
    "            result = stats.kruskal(vars_50, vars_75, vars_100)\n",
    "            # result = stats.kruskal(means_50, means_75, means_100)\n",
    "\n",
    "            print(f\"The test p-value is: {result.pvalue}\\n\")\n",
    "\n",
    "            if result.pvalue > 0.05:\n",
    "                print(\"They are the same!\\n\")\n",
    "\n",
    "            else:\n",
    "                print(\"They are NOT the same!\\n\")\n",
    "\n",
    "        else:\n",
    "            vars = {\n",
    "                \"50cm\": vars_50,\n",
    "                \"75cm\": vars_75,\n",
    "                \"100cm\": vars_100\n",
    "            }\n",
    "\n",
    "            u_test_df = u_test_dataframe(vars=vars)\n",
    "            print(u_test_df)"
   ]
  },
  {
   "cell_type": "code",
   "execution_count": 95,
   "metadata": {},
   "outputs": [
    {
     "name": "stdout",
     "output_type": "stream",
     "text": [
      "------------- Gesture: click -------------\n",
      "\n",
      "One or more of the variances is NOT drown from a normal distribution. Their p-values are:\n",
      "    50cm: 4.46857484348584e-06    75cm: 0.19721846282482147    100cm: 0.09293413162231445\n",
      "\n",
      "Using the Kruskal test...\n",
      "\n",
      "The test p-value is: 0.46609401180454746\n",
      "\n",
      "They are the same!\n",
      "\n",
      "------------- Gesture: closed -------------\n",
      "\n",
      "One or more of the variances is NOT drown from a normal distribution. Their p-values are:\n",
      "    50cm: 6.109580681368243e-07    75cm: 9.115692955674604e-05    100cm: 0.024790799245238304\n",
      "\n",
      "Using the Kruskal test...\n",
      "\n",
      "The test p-value is: 0.0023383716495778218\n",
      "\n",
      "They are NOT the same!\n",
      "\n",
      "------------- Gesture: down -------------\n",
      "\n",
      "One or more of the variances is NOT drown from a normal distribution. Their p-values are:\n",
      "    50cm: 0.010509276762604713    75cm: 0.02868175506591797    100cm: 0.07596052438020706\n",
      "\n",
      "Using the Kruskal test...\n",
      "\n",
      "The test p-value is: 0.22041090177349035\n",
      "\n",
      "They are the same!\n",
      "\n",
      "------------- Gesture: mouse_tracking -------------\n",
      "\n",
      "One or more of the variances is NOT drown from a normal distribution. Their p-values are:\n",
      "    50cm: 0.00017956228111870587    75cm: 8.136621909216046e-05    100cm: 1.09232312084373e-08\n",
      "\n",
      "Using the Kruskal test...\n",
      "\n",
      "The test p-value is: 0.0009810220761080717\n",
      "\n",
      "They are NOT the same!\n",
      "\n",
      "------------- Gesture: negative_closed -------------\n",
      "\n",
      "One or more of the variances is NOT drown from a normal distribution. Their p-values are:\n",
      "    50cm: 0.014956874772906303    75cm: 0.00048577002598904073    100cm: 1.1262032417747037e-09\n",
      "\n",
      "Using the Kruskal test...\n",
      "\n",
      "The test p-value is: 0.1595458563402525\n",
      "\n",
      "They are the same!\n",
      "\n",
      "------------- Gesture: negative_mouse_tracking -------------\n",
      "\n",
      "One or more of the variances is NOT drown from a normal distribution. Their p-values are:\n",
      "    50cm: 5.1306882868770373e-14    75cm: 1.2787327620389366e-12    100cm: 1.3795251607717773e-09\n",
      "\n",
      "Using the Kruskal test...\n",
      "\n",
      "The test p-value is: 0.04225363710504704\n",
      "\n",
      "They are NOT the same!\n",
      "\n",
      "------------- Gesture: negative_side -------------\n",
      "\n",
      "One or more of the variances is NOT drown from a normal distribution. Their p-values are:\n",
      "    50cm: 0.003456207923591137    75cm: 0.09172298014163971    100cm: 0.7003165483474731\n",
      "\n",
      "Using the Kruskal test...\n",
      "\n",
      "The test p-value is: 0.01551528306900169\n",
      "\n",
      "They are NOT the same!\n",
      "\n",
      "------------- Gesture: negative_up -------------\n",
      "\n",
      "One or more of the variances is NOT drown from a normal distribution. Their p-values are:\n",
      "    50cm: 1.5661996144444856e-08    75cm: 1.3282771584022246e-11    100cm: 6.267044661001364e-10\n",
      "\n",
      "Using the Kruskal test...\n",
      "\n",
      "The test p-value is: 0.3170075894426281\n",
      "\n",
      "They are the same!\n",
      "\n",
      "------------- Gesture: side -------------\n",
      "\n",
      "One or more of the variances is NOT drown from a normal distribution. Their p-values are:\n",
      "    50cm: 0.1658756285905838    75cm: 1.4120504245040966e-11    100cm: 4.101450770122028e-07\n",
      "\n",
      "Using the Kruskal test...\n",
      "\n",
      "The test p-value is: 0.0002215189728717911\n",
      "\n",
      "They are NOT the same!\n",
      "\n",
      "------------- Gesture: up -------------\n",
      "\n",
      "One or more of the variances is NOT drown from a normal distribution. Their p-values are:\n",
      "    50cm: 2.1460864769312638e-12    75cm: 2.7954778791285106e-13    100cm: 2.3577486629733357e-09\n",
      "\n",
      "Using the Kruskal test...\n",
      "\n",
      "The test p-value is: 0.6003382485768215\n",
      "\n",
      "They are the same!\n",
      "\n"
     ]
    }
   ],
   "source": [
    "gesture_names = [\"click\", \"closed\", \"down\", \"mouse_tracking\", \"negative_closed\", \"negative_mouse_tracking\",\n",
    "                 \"negative_side\", \"negative_up\", \"side\", \"up\"]\n",
    "\n",
    "for gesture_name in gesture_names:\n",
    "    main(gesture_name=gesture_name)"
   ]
  }
 ],
 "metadata": {
  "kernelspec": {
   "display_name": "Python 3.8.8 ('kotoamatsukami-T53X9OZe-py3.8')",
   "language": "python",
   "name": "python3"
  },
  "language_info": {
   "codemirror_mode": {
    "name": "ipython",
    "version": 3
   },
   "file_extension": ".py",
   "mimetype": "text/x-python",
   "name": "python",
   "nbconvert_exporter": "python",
   "pygments_lexer": "ipython3",
   "version": "3.8.8"
  },
  "orig_nbformat": 4,
  "vscode": {
   "interpreter": {
    "hash": "a51161d7ba46dd3dbd9fc8c6bd348fb23b578d1cf3ae09598f24443a1428645a"
   }
  }
 },
 "nbformat": 4,
 "nbformat_minor": 2
}

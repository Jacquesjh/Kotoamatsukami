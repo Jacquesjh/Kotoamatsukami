{
 "cells": [
  {
   "cell_type": "code",
   "execution_count": 1,
   "metadata": {},
   "outputs": [],
   "source": [
    "import numpy as np\n",
    "import pandas as pd\n",
    "import pickle\n",
    "import plotly.graph_objects as go\n",
    "import plotly.express as px\n",
    "from scipy import stats\n",
    "\n",
    "import numpy"
   ]
  },
  {
   "cell_type": "markdown",
   "metadata": {},
   "source": [
    "# Loading the data"
   ]
  },
  {
   "cell_type": "markdown",
   "metadata": {},
   "source": [
    "## Specifying gesture"
   ]
  },
  {
   "cell_type": "code",
   "execution_count": 74,
   "metadata": {},
   "outputs": [],
   "source": [
    "gesture_name = \"click\"\n",
    "subjects = [f\"Subject{i}\" for i in range(1, 6)]"
   ]
  },
  {
   "cell_type": "code",
   "execution_count": 75,
   "metadata": {},
   "outputs": [],
   "source": [
    "express = False"
   ]
  },
  {
   "cell_type": "code",
   "execution_count": 79,
   "metadata": {},
   "outputs": [],
   "source": [
    "def get_data(gesture_name):\n",
    "    subjects = [f\"Subject{i}\" for i in range(1, 6)]\n",
    "\n",
    "    data = list()\n",
    "\n",
    "    for subject in subjects:\n",
    "        with open(f\"data/randomized/{subject}/50cm/{gesture_name}\", \"rb\") as file:\n",
    "            temp = pickle.load(file)\n",
    "            data += temp\n",
    "\n",
    "        with open(f\"data/randomized/{subject}/75cm/{gesture_name}\", \"rb\") as file:\n",
    "            temp = pickle.load(file)\n",
    "            data += temp\n",
    "    \n",
    "        with open(f\"data/randomized/{subject}/100cm/{gesture_name}\", \"rb\") as file:\n",
    "            temp = pickle.load(file)\n",
    "            data += temp\n",
    "\n",
    "    def normalize(z: float, max: float, min: float) -> float:\n",
    "        norm = (z - min)/(max - min)\n",
    "        round_norm = round(norm, 3)\n",
    "        \n",
    "        return round_norm\n",
    "\n",
    "    def normalize_landmarks(landmarks: list) -> list:\n",
    "        norm_landmarks = list()\n",
    "\n",
    "        for landmark in landmarks:\n",
    "            xs = [landmark[i][0] for i in range(len(landmark))]\n",
    "            ys = [landmark[i][1] for i in range(len(landmark))]\n",
    "\n",
    "            xmax = max(xs)\n",
    "            ymax = max(ys)\n",
    "            xmin = min(xs)\n",
    "            ymin = min(ys)\n",
    "\n",
    "            norm_landmark = list()\n",
    "\n",
    "            for x, y in zip(xs, ys):\n",
    "                norm = [normalize(z=x, max=xmax, min=xmin), normalize(z=y, max=ymax, min=ymin)]\n",
    "                norm_landmark.append(norm)\n",
    "\n",
    "            norm_landmarks.append(norm_landmark)\n",
    "\n",
    "        return norm_landmarks\n",
    "\n",
    "    norm_data = normalize_landmarks(landmarks=data)\n",
    "\n",
    "    return norm_data"
   ]
  },
  {
   "cell_type": "code",
   "execution_count": 82,
   "metadata": {},
   "outputs": [],
   "source": [
    "gesture_names = [\"click\", \"closed\", \"down\", \"mouse_tracking\", \"negative_closed\", \"negative_mouse_tracking\",\n",
    "                 \"negative_side\", \"negative_up\", \"side\", \"up\"]\n",
    "\n",
    "gestures_data = {id: get_data(gesture_name=gesture) for id, gesture in enumerate(gesture_names)}"
   ]
  },
  {
   "cell_type": "code",
   "execution_count": 85,
   "metadata": {},
   "outputs": [],
   "source": [
    "df = pd.DataFrame(\n",
    "    columns=[\"x médio\", \"y médio\", \"x std\", \"y std\", \"gesto\"],\n",
    "    index=[i for i in range(10*21)]\n",
    "    )"
   ]
  },
  {
   "cell_type": "code",
   "execution_count": 92,
   "metadata": {},
   "outputs": [],
   "source": [
    "i = 0\n",
    "for gesture, norm_data in gestures_data.items():\n",
    "    xs = dict({i: list() for i in range(21)})\n",
    "    ys = dict({i: list() for i in range(21)})\n",
    "\n",
    "    for landmarks in norm_data:\n",
    "        for point, marks in enumerate(landmarks):\n",
    "            xs[point].append(marks[0])\n",
    "            ys[point].append(marks[1])\n",
    "    \n",
    "    for point in range(21):\n",
    "        x_mean = np.mean(xs[point])\n",
    "        y_mean = np.mean(ys[point])\n",
    "\n",
    "        x_max = np.max(xs[point])\n",
    "        y_max = np.max(ys[point])\n",
    "\n",
    "        x_min = np.min(xs[point])\n",
    "        y_min = np.min(ys[point])\n",
    "\n",
    "        x_std = np.std(xs[point])\n",
    "        y_std = np.std(ys[point])\n",
    "\n",
    "        df.loc[i][\"x médio\"] = x_mean\n",
    "        df.loc[i][\"y médio\"] = y_mean\n",
    "        df.loc[i][\"x std\"] = x_std\n",
    "        df.loc[i][\"y std\"] = y_std\n",
    "        df.loc[i][\"gesto\"] = gesture\n",
    "        \n",
    "        i += 1"
   ]
  },
  {
   "cell_type": "code",
   "execution_count": 93,
   "metadata": {},
   "outputs": [
    {
     "data": {
      "text/html": [
       "<div>\n",
       "<style scoped>\n",
       "    .dataframe tbody tr th:only-of-type {\n",
       "        vertical-align: middle;\n",
       "    }\n",
       "\n",
       "    .dataframe tbody tr th {\n",
       "        vertical-align: top;\n",
       "    }\n",
       "\n",
       "    .dataframe thead th {\n",
       "        text-align: right;\n",
       "    }\n",
       "</style>\n",
       "<table border=\"1\" class=\"dataframe\">\n",
       "  <thead>\n",
       "    <tr style=\"text-align: right;\">\n",
       "      <th></th>\n",
       "      <th>x médio</th>\n",
       "      <th>y médio</th>\n",
       "      <th>x std</th>\n",
       "      <th>y std</th>\n",
       "      <th>gesto</th>\n",
       "    </tr>\n",
       "  </thead>\n",
       "  <tbody>\n",
       "    <tr>\n",
       "      <th>0</th>\n",
       "      <td>0.272398</td>\n",
       "      <td>0.997778</td>\n",
       "      <td>0.070862</td>\n",
       "      <td>0.047088</td>\n",
       "      <td>0</td>\n",
       "    </tr>\n",
       "    <tr>\n",
       "      <th>1</th>\n",
       "      <td>0.515549</td>\n",
       "      <td>0.901551</td>\n",
       "      <td>0.062449</td>\n",
       "      <td>0.044404</td>\n",
       "      <td>0</td>\n",
       "    </tr>\n",
       "    <tr>\n",
       "      <th>2</th>\n",
       "      <td>0.697342</td>\n",
       "      <td>0.751391</td>\n",
       "      <td>0.048294</td>\n",
       "      <td>0.042961</td>\n",
       "      <td>0</td>\n",
       "    </tr>\n",
       "    <tr>\n",
       "      <th>3</th>\n",
       "      <td>0.85606</td>\n",
       "      <td>0.654296</td>\n",
       "      <td>0.022941</td>\n",
       "      <td>0.05534</td>\n",
       "      <td>0</td>\n",
       "    </tr>\n",
       "    <tr>\n",
       "      <th>4</th>\n",
       "      <td>0.99946</td>\n",
       "      <td>0.606276</td>\n",
       "      <td>0.011442</td>\n",
       "      <td>0.077569</td>\n",
       "      <td>0</td>\n",
       "    </tr>\n",
       "    <tr>\n",
       "      <th>...</th>\n",
       "      <td>...</td>\n",
       "      <td>...</td>\n",
       "      <td>...</td>\n",
       "      <td>...</td>\n",
       "      <td>...</td>\n",
       "    </tr>\n",
       "    <tr>\n",
       "      <th>205</th>\n",
       "      <td>0.756836</td>\n",
       "      <td>0.075653</td>\n",
       "      <td>0.158542</td>\n",
       "      <td>0.046731</td>\n",
       "      <td>9</td>\n",
       "    </tr>\n",
       "    <tr>\n",
       "      <th>206</th>\n",
       "      <td>0.926993</td>\n",
       "      <td>0.633002</td>\n",
       "      <td>0.097259</td>\n",
       "      <td>0.026673</td>\n",
       "      <td>9</td>\n",
       "    </tr>\n",
       "    <tr>\n",
       "      <th>207</th>\n",
       "      <td>0.904689</td>\n",
       "      <td>0.461867</td>\n",
       "      <td>0.071787</td>\n",
       "      <td>0.031344</td>\n",
       "      <td>9</td>\n",
       "    </tr>\n",
       "    <tr>\n",
       "      <th>208</th>\n",
       "      <td>0.876496</td>\n",
       "      <td>0.467324</td>\n",
       "      <td>0.10241</td>\n",
       "      <td>0.049927</td>\n",
       "      <td>9</td>\n",
       "    </tr>\n",
       "    <tr>\n",
       "      <th>209</th>\n",
       "      <td>0.885451</td>\n",
       "      <td>0.497336</td>\n",
       "      <td>0.134797</td>\n",
       "      <td>0.086136</td>\n",
       "      <td>9</td>\n",
       "    </tr>\n",
       "  </tbody>\n",
       "</table>\n",
       "<p>210 rows × 5 columns</p>\n",
       "</div>"
      ],
      "text/plain": [
       "      x médio   y médio     x std     y std gesto\n",
       "0    0.272398  0.997778  0.070862  0.047088     0\n",
       "1    0.515549  0.901551  0.062449  0.044404     0\n",
       "2    0.697342  0.751391  0.048294  0.042961     0\n",
       "3     0.85606  0.654296  0.022941   0.05534     0\n",
       "4     0.99946  0.606276  0.011442  0.077569     0\n",
       "..        ...       ...       ...       ...   ...\n",
       "205  0.756836  0.075653  0.158542  0.046731     9\n",
       "206  0.926993  0.633002  0.097259  0.026673     9\n",
       "207  0.904689  0.461867  0.071787  0.031344     9\n",
       "208  0.876496  0.467324   0.10241  0.049927     9\n",
       "209  0.885451  0.497336  0.134797  0.086136     9\n",
       "\n",
       "[210 rows x 5 columns]"
      ]
     },
     "execution_count": 93,
     "metadata": {},
     "output_type": "execute_result"
    }
   ],
   "source": [
    "df"
   ]
  },
  {
   "cell_type": "code",
   "execution_count": 60,
   "metadata": {},
   "outputs": [],
   "source": [
    "for point in range(21):\n",
    "    x_mean = np.mean(xs[point])\n",
    "    y_mean = np.mean(ys[point])\n",
    "\n",
    "    x_max = np.max(xs[point])\n",
    "    y_max = np.max(ys[point])\n",
    "\n",
    "    x_min = np.min(xs[point])\n",
    "    y_min = np.min(ys[point])\n",
    "\n",
    "    x_std = np.std(xs[point])\n",
    "    y_std = np.std(ys[point])\n",
    "\n",
    "    df.loc[point][\"x médio\"] = x_mean\n",
    "    df.loc[point][\"y médio\"] = y_mean\n",
    "    df.loc[point][\"x std\"] = x_std\n",
    "    df.loc[point][\"y std\"] = y_std"
   ]
  },
  {
   "cell_type": "code",
   "execution_count": 61,
   "metadata": {},
   "outputs": [
    {
     "data": {
      "text/html": [
       "<div>\n",
       "<style scoped>\n",
       "    .dataframe tbody tr th:only-of-type {\n",
       "        vertical-align: middle;\n",
       "    }\n",
       "\n",
       "    .dataframe tbody tr th {\n",
       "        vertical-align: top;\n",
       "    }\n",
       "\n",
       "    .dataframe thead th {\n",
       "        text-align: right;\n",
       "    }\n",
       "</style>\n",
       "<table border=\"1\" class=\"dataframe\">\n",
       "  <thead>\n",
       "    <tr style=\"text-align: right;\">\n",
       "      <th></th>\n",
       "      <th>x médio</th>\n",
       "      <th>y médio</th>\n",
       "      <th>x std</th>\n",
       "      <th>y std</th>\n",
       "    </tr>\n",
       "  </thead>\n",
       "  <tbody>\n",
       "    <tr>\n",
       "      <th>0</th>\n",
       "      <td>0.272398</td>\n",
       "      <td>0.997778</td>\n",
       "      <td>0.070862</td>\n",
       "      <td>0.047088</td>\n",
       "    </tr>\n",
       "    <tr>\n",
       "      <th>1</th>\n",
       "      <td>0.515549</td>\n",
       "      <td>0.901551</td>\n",
       "      <td>0.062449</td>\n",
       "      <td>0.044404</td>\n",
       "    </tr>\n",
       "    <tr>\n",
       "      <th>2</th>\n",
       "      <td>0.697342</td>\n",
       "      <td>0.751391</td>\n",
       "      <td>0.048294</td>\n",
       "      <td>0.042961</td>\n",
       "    </tr>\n",
       "    <tr>\n",
       "      <th>3</th>\n",
       "      <td>0.85606</td>\n",
       "      <td>0.654296</td>\n",
       "      <td>0.022941</td>\n",
       "      <td>0.05534</td>\n",
       "    </tr>\n",
       "    <tr>\n",
       "      <th>4</th>\n",
       "      <td>0.99946</td>\n",
       "      <td>0.606276</td>\n",
       "      <td>0.011442</td>\n",
       "      <td>0.077569</td>\n",
       "    </tr>\n",
       "    <tr>\n",
       "      <th>5</th>\n",
       "      <td>0.445547</td>\n",
       "      <td>0.491651</td>\n",
       "      <td>0.046967</td>\n",
       "      <td>0.019051</td>\n",
       "    </tr>\n",
       "    <tr>\n",
       "      <th>6</th>\n",
       "      <td>0.448711</td>\n",
       "      <td>0.294624</td>\n",
       "      <td>0.07695</td>\n",
       "      <td>0.019734</td>\n",
       "    </tr>\n",
       "    <tr>\n",
       "      <th>7</th>\n",
       "      <td>0.4369</td>\n",
       "      <td>0.173984</td>\n",
       "      <td>0.101034</td>\n",
       "      <td>0.031546</td>\n",
       "    </tr>\n",
       "    <tr>\n",
       "      <th>8</th>\n",
       "      <td>0.416604</td>\n",
       "      <td>0.06704</td>\n",
       "      <td>0.120657</td>\n",
       "      <td>0.042593</td>\n",
       "    </tr>\n",
       "    <tr>\n",
       "      <th>9</th>\n",
       "      <td>0.291169</td>\n",
       "      <td>0.497713</td>\n",
       "      <td>0.036529</td>\n",
       "      <td>0.01423</td>\n",
       "    </tr>\n",
       "    <tr>\n",
       "      <th>10</th>\n",
       "      <td>0.294351</td>\n",
       "      <td>0.26852</td>\n",
       "      <td>0.077224</td>\n",
       "      <td>0.020097</td>\n",
       "    </tr>\n",
       "    <tr>\n",
       "      <th>11</th>\n",
       "      <td>0.301618</td>\n",
       "      <td>0.125129</td>\n",
       "      <td>0.104092</td>\n",
       "      <td>0.034968</td>\n",
       "    </tr>\n",
       "    <tr>\n",
       "      <th>12</th>\n",
       "      <td>0.299182</td>\n",
       "      <td>0.002222</td>\n",
       "      <td>0.12609</td>\n",
       "      <td>0.047088</td>\n",
       "    </tr>\n",
       "    <tr>\n",
       "      <th>13</th>\n",
       "      <td>0.143487</td>\n",
       "      <td>0.558102</td>\n",
       "      <td>0.023146</td>\n",
       "      <td>0.019672</td>\n",
       "    </tr>\n",
       "    <tr>\n",
       "      <th>14</th>\n",
       "      <td>0.124604</td>\n",
       "      <td>0.416118</td>\n",
       "      <td>0.040662</td>\n",
       "      <td>0.033323</td>\n",
       "    </tr>\n",
       "    <tr>\n",
       "      <th>15</th>\n",
       "      <td>0.203736</td>\n",
       "      <td>0.544402</td>\n",
       "      <td>0.041602</td>\n",
       "      <td>0.045949</td>\n",
       "    </tr>\n",
       "    <tr>\n",
       "      <th>16</th>\n",
       "      <td>0.257824</td>\n",
       "      <td>0.651649</td>\n",
       "      <td>0.046324</td>\n",
       "      <td>0.051813</td>\n",
       "    </tr>\n",
       "    <tr>\n",
       "      <th>17</th>\n",
       "      <td>0.010707</td>\n",
       "      <td>0.65604</td>\n",
       "      <td>0.017789</td>\n",
       "      <td>0.028449</td>\n",
       "    </tr>\n",
       "    <tr>\n",
       "      <th>18</th>\n",
       "      <td>0.017404</td>\n",
       "      <td>0.58462</td>\n",
       "      <td>0.026105</td>\n",
       "      <td>0.029565</td>\n",
       "    </tr>\n",
       "    <tr>\n",
       "      <th>19</th>\n",
       "      <td>0.108584</td>\n",
       "      <td>0.673911</td>\n",
       "      <td>0.040452</td>\n",
       "      <td>0.035052</td>\n",
       "    </tr>\n",
       "    <tr>\n",
       "      <th>20</th>\n",
       "      <td>0.173289</td>\n",
       "      <td>0.756213</td>\n",
       "      <td>0.049844</td>\n",
       "      <td>0.039383</td>\n",
       "    </tr>\n",
       "  </tbody>\n",
       "</table>\n",
       "</div>"
      ],
      "text/plain": [
       "     x médio   y médio     x std     y std\n",
       "0   0.272398  0.997778  0.070862  0.047088\n",
       "1   0.515549  0.901551  0.062449  0.044404\n",
       "2   0.697342  0.751391  0.048294  0.042961\n",
       "3    0.85606  0.654296  0.022941   0.05534\n",
       "4    0.99946  0.606276  0.011442  0.077569\n",
       "5   0.445547  0.491651  0.046967  0.019051\n",
       "6   0.448711  0.294624   0.07695  0.019734\n",
       "7     0.4369  0.173984  0.101034  0.031546\n",
       "8   0.416604   0.06704  0.120657  0.042593\n",
       "9   0.291169  0.497713  0.036529   0.01423\n",
       "10  0.294351   0.26852  0.077224  0.020097\n",
       "11  0.301618  0.125129  0.104092  0.034968\n",
       "12  0.299182  0.002222   0.12609  0.047088\n",
       "13  0.143487  0.558102  0.023146  0.019672\n",
       "14  0.124604  0.416118  0.040662  0.033323\n",
       "15  0.203736  0.544402  0.041602  0.045949\n",
       "16  0.257824  0.651649  0.046324  0.051813\n",
       "17  0.010707   0.65604  0.017789  0.028449\n",
       "18  0.017404   0.58462  0.026105  0.029565\n",
       "19  0.108584  0.673911  0.040452  0.035052\n",
       "20  0.173289  0.756213  0.049844  0.039383"
      ]
     },
     "execution_count": 61,
     "metadata": {},
     "output_type": "execute_result"
    }
   ],
   "source": [
    "df"
   ]
  },
  {
   "cell_type": "code",
   "execution_count": null,
   "metadata": {},
   "outputs": [],
   "source": [
    "from plotly.subplots import make_subplots\n",
    "\n",
    "fig = make_subplots(2, 5)\n",
    "\n",
    "\n",
    "fig.add_trace(go.Scatter(\n",
    "    x=df[\"x médio\"],\n",
    "    y=df[\"y médio\"],\n",
    "    mode=\"markers\",\n",
    "    error_y=dict(\n",
    "        type=\"data\",\n",
    "        array=df[\"y std\"],\n",
    "        color=\"red\"\n",
    "    ),    \n",
    "    error_x=dict(\n",
    "        type=\"data\",\n",
    "        array=df[\"x std\"],\n",
    "        color=\"red\"\n",
    "    ),\n",
    "    marker=dict(color=\"blue\", size=10),\n",
    "    facet_col=\n",
    "    )\n",
    ")\n",
    "\n",
    "fig.update_layout(\n",
    "    xaxis = dict(autorange=\"reversed\"),\n",
    "    yaxis = dict(autorange=\"reversed\"),\n",
    "    yaxis_title=\"y médio [pixel normalizado]\",\n",
    "    xaxis_title=\"x médio [pixel normalizado]\",\n",
    ")\n",
    "\n",
    "fig.show()"
   ]
  },
  {
   "cell_type": "code",
   "execution_count": 73,
   "metadata": {},
   "outputs": [
    {
     "data": {
      "application/vnd.plotly.v1+json": {
       "config": {
        "plotlyServerURL": "https://plot.ly"
       },
       "data": [
        {
         "error_x": {
          "array": [
           0.07086161471139486,
           0.062448831044027014,
           0.04829371474581983,
           0.02294066646324336,
           0.01144239485422523,
           0.0469672585720923,
           0.0769501778850654,
           0.10103353128760988,
           0.12065664406912986,
           0.03652929309911413,
           0.07722412582785604,
           0.10409156500972036,
           0.12609045305104302,
           0.023145934128193373,
           0.040662065070560166,
           0.041601536593178626,
           0.04632410294415043,
           0.017788840446876925,
           0.026105103422345562,
           0.04045209213408735,
           0.04984372120147006
          ],
          "color": "red",
          "type": "data"
         },
         "error_y": {
          "array": [
           0.04708804466759354,
           0.044403636598930464,
           0.042961201215475156,
           0.05533967214919372,
           0.0775687197996591,
           0.01905117228498286,
           0.019734207813456594,
           0.03154569493822893,
           0.042592990555306694,
           0.014230485273212268,
           0.020097225900329845,
           0.03496755716833803,
           0.04708804466759354,
           0.019671598126220078,
           0.033322556850603896,
           0.04594944559640827,
           0.051813394330990956,
           0.028449303057270923,
           0.02956544604770913,
           0.03505197551714197,
           0.039382610939911605
          ],
          "color": "red",
          "type": "data"
         },
         "marker": {
          "color": "blue",
          "size": 10
         },
         "mode": "markers",
         "type": "scatter",
         "x": [
          0.2723977777777778,
          0.515548888888889,
          0.6973422222222224,
          0.8560599999999999,
          0.99946,
          0.44554666666666665,
          0.44871111111111106,
          0.43690000000000007,
          0.4166044444444444,
          0.29116888888888887,
          0.2943511111111111,
          0.3016177777777778,
          0.29918222222222224,
          0.14348666666666668,
          0.12460444444444445,
          0.20373555555555553,
          0.25782444444444447,
          0.010706666666666666,
          0.017404444444444445,
          0.10858444444444444,
          0.17328888888888885
         ],
         "y": [
          0.9977777777777778,
          0.9015511111111111,
          0.751391111111111,
          0.6542955555555556,
          0.6062755555555556,
          0.4916511111111111,
          0.29462444444444447,
          0.17398444444444447,
          0.06704,
          0.49771333333333334,
          0.26852,
          0.1251288888888889,
          0.0022222222222222222,
          0.5581022222222223,
          0.41611777777777775,
          0.5444022222222222,
          0.6516488888888888,
          0.6560400000000001,
          0.58462,
          0.6739111111111111,
          0.7562133333333333
         ]
        }
       ],
       "layout": {
        "template": {
         "data": {
          "bar": [
           {
            "error_x": {
             "color": "#2a3f5f"
            },
            "error_y": {
             "color": "#2a3f5f"
            },
            "marker": {
             "line": {
              "color": "#E5ECF6",
              "width": 0.5
             },
             "pattern": {
              "fillmode": "overlay",
              "size": 10,
              "solidity": 0.2
             }
            },
            "type": "bar"
           }
          ],
          "barpolar": [
           {
            "marker": {
             "line": {
              "color": "#E5ECF6",
              "width": 0.5
             },
             "pattern": {
              "fillmode": "overlay",
              "size": 10,
              "solidity": 0.2
             }
            },
            "type": "barpolar"
           }
          ],
          "carpet": [
           {
            "aaxis": {
             "endlinecolor": "#2a3f5f",
             "gridcolor": "white",
             "linecolor": "white",
             "minorgridcolor": "white",
             "startlinecolor": "#2a3f5f"
            },
            "baxis": {
             "endlinecolor": "#2a3f5f",
             "gridcolor": "white",
             "linecolor": "white",
             "minorgridcolor": "white",
             "startlinecolor": "#2a3f5f"
            },
            "type": "carpet"
           }
          ],
          "choropleth": [
           {
            "colorbar": {
             "outlinewidth": 0,
             "ticks": ""
            },
            "type": "choropleth"
           }
          ],
          "contour": [
           {
            "colorbar": {
             "outlinewidth": 0,
             "ticks": ""
            },
            "colorscale": [
             [
              0,
              "#0d0887"
             ],
             [
              0.1111111111111111,
              "#46039f"
             ],
             [
              0.2222222222222222,
              "#7201a8"
             ],
             [
              0.3333333333333333,
              "#9c179e"
             ],
             [
              0.4444444444444444,
              "#bd3786"
             ],
             [
              0.5555555555555556,
              "#d8576b"
             ],
             [
              0.6666666666666666,
              "#ed7953"
             ],
             [
              0.7777777777777778,
              "#fb9f3a"
             ],
             [
              0.8888888888888888,
              "#fdca26"
             ],
             [
              1,
              "#f0f921"
             ]
            ],
            "type": "contour"
           }
          ],
          "contourcarpet": [
           {
            "colorbar": {
             "outlinewidth": 0,
             "ticks": ""
            },
            "type": "contourcarpet"
           }
          ],
          "heatmap": [
           {
            "colorbar": {
             "outlinewidth": 0,
             "ticks": ""
            },
            "colorscale": [
             [
              0,
              "#0d0887"
             ],
             [
              0.1111111111111111,
              "#46039f"
             ],
             [
              0.2222222222222222,
              "#7201a8"
             ],
             [
              0.3333333333333333,
              "#9c179e"
             ],
             [
              0.4444444444444444,
              "#bd3786"
             ],
             [
              0.5555555555555556,
              "#d8576b"
             ],
             [
              0.6666666666666666,
              "#ed7953"
             ],
             [
              0.7777777777777778,
              "#fb9f3a"
             ],
             [
              0.8888888888888888,
              "#fdca26"
             ],
             [
              1,
              "#f0f921"
             ]
            ],
            "type": "heatmap"
           }
          ],
          "heatmapgl": [
           {
            "colorbar": {
             "outlinewidth": 0,
             "ticks": ""
            },
            "colorscale": [
             [
              0,
              "#0d0887"
             ],
             [
              0.1111111111111111,
              "#46039f"
             ],
             [
              0.2222222222222222,
              "#7201a8"
             ],
             [
              0.3333333333333333,
              "#9c179e"
             ],
             [
              0.4444444444444444,
              "#bd3786"
             ],
             [
              0.5555555555555556,
              "#d8576b"
             ],
             [
              0.6666666666666666,
              "#ed7953"
             ],
             [
              0.7777777777777778,
              "#fb9f3a"
             ],
             [
              0.8888888888888888,
              "#fdca26"
             ],
             [
              1,
              "#f0f921"
             ]
            ],
            "type": "heatmapgl"
           }
          ],
          "histogram": [
           {
            "marker": {
             "pattern": {
              "fillmode": "overlay",
              "size": 10,
              "solidity": 0.2
             }
            },
            "type": "histogram"
           }
          ],
          "histogram2d": [
           {
            "colorbar": {
             "outlinewidth": 0,
             "ticks": ""
            },
            "colorscale": [
             [
              0,
              "#0d0887"
             ],
             [
              0.1111111111111111,
              "#46039f"
             ],
             [
              0.2222222222222222,
              "#7201a8"
             ],
             [
              0.3333333333333333,
              "#9c179e"
             ],
             [
              0.4444444444444444,
              "#bd3786"
             ],
             [
              0.5555555555555556,
              "#d8576b"
             ],
             [
              0.6666666666666666,
              "#ed7953"
             ],
             [
              0.7777777777777778,
              "#fb9f3a"
             ],
             [
              0.8888888888888888,
              "#fdca26"
             ],
             [
              1,
              "#f0f921"
             ]
            ],
            "type": "histogram2d"
           }
          ],
          "histogram2dcontour": [
           {
            "colorbar": {
             "outlinewidth": 0,
             "ticks": ""
            },
            "colorscale": [
             [
              0,
              "#0d0887"
             ],
             [
              0.1111111111111111,
              "#46039f"
             ],
             [
              0.2222222222222222,
              "#7201a8"
             ],
             [
              0.3333333333333333,
              "#9c179e"
             ],
             [
              0.4444444444444444,
              "#bd3786"
             ],
             [
              0.5555555555555556,
              "#d8576b"
             ],
             [
              0.6666666666666666,
              "#ed7953"
             ],
             [
              0.7777777777777778,
              "#fb9f3a"
             ],
             [
              0.8888888888888888,
              "#fdca26"
             ],
             [
              1,
              "#f0f921"
             ]
            ],
            "type": "histogram2dcontour"
           }
          ],
          "mesh3d": [
           {
            "colorbar": {
             "outlinewidth": 0,
             "ticks": ""
            },
            "type": "mesh3d"
           }
          ],
          "parcoords": [
           {
            "line": {
             "colorbar": {
              "outlinewidth": 0,
              "ticks": ""
             }
            },
            "type": "parcoords"
           }
          ],
          "pie": [
           {
            "automargin": true,
            "type": "pie"
           }
          ],
          "scatter": [
           {
            "marker": {
             "colorbar": {
              "outlinewidth": 0,
              "ticks": ""
             }
            },
            "type": "scatter"
           }
          ],
          "scatter3d": [
           {
            "line": {
             "colorbar": {
              "outlinewidth": 0,
              "ticks": ""
             }
            },
            "marker": {
             "colorbar": {
              "outlinewidth": 0,
              "ticks": ""
             }
            },
            "type": "scatter3d"
           }
          ],
          "scattercarpet": [
           {
            "marker": {
             "colorbar": {
              "outlinewidth": 0,
              "ticks": ""
             }
            },
            "type": "scattercarpet"
           }
          ],
          "scattergeo": [
           {
            "marker": {
             "colorbar": {
              "outlinewidth": 0,
              "ticks": ""
             }
            },
            "type": "scattergeo"
           }
          ],
          "scattergl": [
           {
            "marker": {
             "colorbar": {
              "outlinewidth": 0,
              "ticks": ""
             }
            },
            "type": "scattergl"
           }
          ],
          "scattermapbox": [
           {
            "marker": {
             "colorbar": {
              "outlinewidth": 0,
              "ticks": ""
             }
            },
            "type": "scattermapbox"
           }
          ],
          "scatterpolar": [
           {
            "marker": {
             "colorbar": {
              "outlinewidth": 0,
              "ticks": ""
             }
            },
            "type": "scatterpolar"
           }
          ],
          "scatterpolargl": [
           {
            "marker": {
             "colorbar": {
              "outlinewidth": 0,
              "ticks": ""
             }
            },
            "type": "scatterpolargl"
           }
          ],
          "scatterternary": [
           {
            "marker": {
             "colorbar": {
              "outlinewidth": 0,
              "ticks": ""
             }
            },
            "type": "scatterternary"
           }
          ],
          "surface": [
           {
            "colorbar": {
             "outlinewidth": 0,
             "ticks": ""
            },
            "colorscale": [
             [
              0,
              "#0d0887"
             ],
             [
              0.1111111111111111,
              "#46039f"
             ],
             [
              0.2222222222222222,
              "#7201a8"
             ],
             [
              0.3333333333333333,
              "#9c179e"
             ],
             [
              0.4444444444444444,
              "#bd3786"
             ],
             [
              0.5555555555555556,
              "#d8576b"
             ],
             [
              0.6666666666666666,
              "#ed7953"
             ],
             [
              0.7777777777777778,
              "#fb9f3a"
             ],
             [
              0.8888888888888888,
              "#fdca26"
             ],
             [
              1,
              "#f0f921"
             ]
            ],
            "type": "surface"
           }
          ],
          "table": [
           {
            "cells": {
             "fill": {
              "color": "#EBF0F8"
             },
             "line": {
              "color": "white"
             }
            },
            "header": {
             "fill": {
              "color": "#C8D4E3"
             },
             "line": {
              "color": "white"
             }
            },
            "type": "table"
           }
          ]
         },
         "layout": {
          "annotationdefaults": {
           "arrowcolor": "#2a3f5f",
           "arrowhead": 0,
           "arrowwidth": 1
          },
          "autotypenumbers": "strict",
          "coloraxis": {
           "colorbar": {
            "outlinewidth": 0,
            "ticks": ""
           }
          },
          "colorscale": {
           "diverging": [
            [
             0,
             "#8e0152"
            ],
            [
             0.1,
             "#c51b7d"
            ],
            [
             0.2,
             "#de77ae"
            ],
            [
             0.3,
             "#f1b6da"
            ],
            [
             0.4,
             "#fde0ef"
            ],
            [
             0.5,
             "#f7f7f7"
            ],
            [
             0.6,
             "#e6f5d0"
            ],
            [
             0.7,
             "#b8e186"
            ],
            [
             0.8,
             "#7fbc41"
            ],
            [
             0.9,
             "#4d9221"
            ],
            [
             1,
             "#276419"
            ]
           ],
           "sequential": [
            [
             0,
             "#0d0887"
            ],
            [
             0.1111111111111111,
             "#46039f"
            ],
            [
             0.2222222222222222,
             "#7201a8"
            ],
            [
             0.3333333333333333,
             "#9c179e"
            ],
            [
             0.4444444444444444,
             "#bd3786"
            ],
            [
             0.5555555555555556,
             "#d8576b"
            ],
            [
             0.6666666666666666,
             "#ed7953"
            ],
            [
             0.7777777777777778,
             "#fb9f3a"
            ],
            [
             0.8888888888888888,
             "#fdca26"
            ],
            [
             1,
             "#f0f921"
            ]
           ],
           "sequentialminus": [
            [
             0,
             "#0d0887"
            ],
            [
             0.1111111111111111,
             "#46039f"
            ],
            [
             0.2222222222222222,
             "#7201a8"
            ],
            [
             0.3333333333333333,
             "#9c179e"
            ],
            [
             0.4444444444444444,
             "#bd3786"
            ],
            [
             0.5555555555555556,
             "#d8576b"
            ],
            [
             0.6666666666666666,
             "#ed7953"
            ],
            [
             0.7777777777777778,
             "#fb9f3a"
            ],
            [
             0.8888888888888888,
             "#fdca26"
            ],
            [
             1,
             "#f0f921"
            ]
           ]
          },
          "colorway": [
           "#636efa",
           "#EF553B",
           "#00cc96",
           "#ab63fa",
           "#FFA15A",
           "#19d3f3",
           "#FF6692",
           "#B6E880",
           "#FF97FF",
           "#FECB52"
          ],
          "font": {
           "color": "#2a3f5f"
          },
          "geo": {
           "bgcolor": "white",
           "lakecolor": "white",
           "landcolor": "#E5ECF6",
           "showlakes": true,
           "showland": true,
           "subunitcolor": "white"
          },
          "hoverlabel": {
           "align": "left"
          },
          "hovermode": "closest",
          "mapbox": {
           "style": "light"
          },
          "paper_bgcolor": "white",
          "plot_bgcolor": "#E5ECF6",
          "polar": {
           "angularaxis": {
            "gridcolor": "white",
            "linecolor": "white",
            "ticks": ""
           },
           "bgcolor": "#E5ECF6",
           "radialaxis": {
            "gridcolor": "white",
            "linecolor": "white",
            "ticks": ""
           }
          },
          "scene": {
           "xaxis": {
            "backgroundcolor": "#E5ECF6",
            "gridcolor": "white",
            "gridwidth": 2,
            "linecolor": "white",
            "showbackground": true,
            "ticks": "",
            "zerolinecolor": "white"
           },
           "yaxis": {
            "backgroundcolor": "#E5ECF6",
            "gridcolor": "white",
            "gridwidth": 2,
            "linecolor": "white",
            "showbackground": true,
            "ticks": "",
            "zerolinecolor": "white"
           },
           "zaxis": {
            "backgroundcolor": "#E5ECF6",
            "gridcolor": "white",
            "gridwidth": 2,
            "linecolor": "white",
            "showbackground": true,
            "ticks": "",
            "zerolinecolor": "white"
           }
          },
          "shapedefaults": {
           "line": {
            "color": "#2a3f5f"
           }
          },
          "ternary": {
           "aaxis": {
            "gridcolor": "white",
            "linecolor": "white",
            "ticks": ""
           },
           "baxis": {
            "gridcolor": "white",
            "linecolor": "white",
            "ticks": ""
           },
           "bgcolor": "#E5ECF6",
           "caxis": {
            "gridcolor": "white",
            "linecolor": "white",
            "ticks": ""
           }
          },
          "title": {
           "x": 0.05
          },
          "xaxis": {
           "automargin": true,
           "gridcolor": "white",
           "linecolor": "white",
           "ticks": "",
           "title": {
            "standoff": 15
           },
           "zerolinecolor": "white",
           "zerolinewidth": 2
          },
          "yaxis": {
           "automargin": true,
           "gridcolor": "white",
           "linecolor": "white",
           "ticks": "",
           "title": {
            "standoff": 15
           },
           "zerolinecolor": "white",
           "zerolinewidth": 2
          }
         }
        },
        "xaxis": {
         "autorange": "reversed",
         "title": {
          "text": "x médio [pixel normalizado]"
         }
        },
        "yaxis": {
         "autorange": "reversed",
         "title": {
          "text": "y médio [pixel normalizado]"
         }
        }
       }
      }
     },
     "metadata": {},
     "output_type": "display_data"
    }
   ],
   "source": [
    "fig = go.Figure()\n",
    "\n",
    "fig.add_trace(go.Scatter(\n",
    "    x=df[\"x médio\"],\n",
    "    y=df[\"y médio\"],\n",
    "    mode=\"markers\",\n",
    "    error_y=dict(\n",
    "        type=\"data\",\n",
    "        array=df[\"y std\"],\n",
    "        color=\"red\"\n",
    "    ),    \n",
    "    error_x=dict(\n",
    "        type=\"data\",\n",
    "        array=df[\"x std\"],\n",
    "        color=\"red\"\n",
    "    ),\n",
    "    marker=dict(color=\"blue\", size=10),\n",
    "    facet_col=\n",
    "    )\n",
    ")\n",
    "\n",
    "fig.update_layout(\n",
    "    xaxis = dict(autorange=\"reversed\"),\n",
    "    yaxis = dict(autorange=\"reversed\"),\n",
    "    yaxis_title=\"y médio [pixel normalizado]\",\n",
    "    xaxis_title=\"x médio [pixel normalizado]\",\n",
    ")\n",
    "\n",
    "fig.show()"
   ]
  },
  {
   "cell_type": "code",
   "execution_count": 56,
   "metadata": {},
   "outputs": [
    {
     "data": {
      "text/html": [
       "<div>\n",
       "<style scoped>\n",
       "    .dataframe tbody tr th:only-of-type {\n",
       "        vertical-align: middle;\n",
       "    }\n",
       "\n",
       "    .dataframe tbody tr th {\n",
       "        vertical-align: top;\n",
       "    }\n",
       "\n",
       "    .dataframe thead th {\n",
       "        text-align: right;\n",
       "    }\n",
       "</style>\n",
       "<table border=\"1\" class=\"dataframe\">\n",
       "  <thead>\n",
       "    <tr style=\"text-align: right;\">\n",
       "      <th></th>\n",
       "      <th>total_bill</th>\n",
       "      <th>tip</th>\n",
       "      <th>sex</th>\n",
       "      <th>smoker</th>\n",
       "      <th>day</th>\n",
       "      <th>time</th>\n",
       "      <th>size</th>\n",
       "    </tr>\n",
       "  </thead>\n",
       "  <tbody>\n",
       "    <tr>\n",
       "      <th>0</th>\n",
       "      <td>16.99</td>\n",
       "      <td>1.01</td>\n",
       "      <td>Female</td>\n",
       "      <td>No</td>\n",
       "      <td>Sun</td>\n",
       "      <td>Dinner</td>\n",
       "      <td>2</td>\n",
       "    </tr>\n",
       "    <tr>\n",
       "      <th>1</th>\n",
       "      <td>10.34</td>\n",
       "      <td>1.66</td>\n",
       "      <td>Male</td>\n",
       "      <td>No</td>\n",
       "      <td>Sun</td>\n",
       "      <td>Dinner</td>\n",
       "      <td>3</td>\n",
       "    </tr>\n",
       "    <tr>\n",
       "      <th>2</th>\n",
       "      <td>21.01</td>\n",
       "      <td>3.50</td>\n",
       "      <td>Male</td>\n",
       "      <td>No</td>\n",
       "      <td>Sun</td>\n",
       "      <td>Dinner</td>\n",
       "      <td>3</td>\n",
       "    </tr>\n",
       "    <tr>\n",
       "      <th>3</th>\n",
       "      <td>23.68</td>\n",
       "      <td>3.31</td>\n",
       "      <td>Male</td>\n",
       "      <td>No</td>\n",
       "      <td>Sun</td>\n",
       "      <td>Dinner</td>\n",
       "      <td>2</td>\n",
       "    </tr>\n",
       "    <tr>\n",
       "      <th>4</th>\n",
       "      <td>24.59</td>\n",
       "      <td>3.61</td>\n",
       "      <td>Female</td>\n",
       "      <td>No</td>\n",
       "      <td>Sun</td>\n",
       "      <td>Dinner</td>\n",
       "      <td>4</td>\n",
       "    </tr>\n",
       "    <tr>\n",
       "      <th>...</th>\n",
       "      <td>...</td>\n",
       "      <td>...</td>\n",
       "      <td>...</td>\n",
       "      <td>...</td>\n",
       "      <td>...</td>\n",
       "      <td>...</td>\n",
       "      <td>...</td>\n",
       "    </tr>\n",
       "    <tr>\n",
       "      <th>239</th>\n",
       "      <td>29.03</td>\n",
       "      <td>5.92</td>\n",
       "      <td>Male</td>\n",
       "      <td>No</td>\n",
       "      <td>Sat</td>\n",
       "      <td>Dinner</td>\n",
       "      <td>3</td>\n",
       "    </tr>\n",
       "    <tr>\n",
       "      <th>240</th>\n",
       "      <td>27.18</td>\n",
       "      <td>2.00</td>\n",
       "      <td>Female</td>\n",
       "      <td>Yes</td>\n",
       "      <td>Sat</td>\n",
       "      <td>Dinner</td>\n",
       "      <td>2</td>\n",
       "    </tr>\n",
       "    <tr>\n",
       "      <th>241</th>\n",
       "      <td>22.67</td>\n",
       "      <td>2.00</td>\n",
       "      <td>Male</td>\n",
       "      <td>Yes</td>\n",
       "      <td>Sat</td>\n",
       "      <td>Dinner</td>\n",
       "      <td>2</td>\n",
       "    </tr>\n",
       "    <tr>\n",
       "      <th>242</th>\n",
       "      <td>17.82</td>\n",
       "      <td>1.75</td>\n",
       "      <td>Male</td>\n",
       "      <td>No</td>\n",
       "      <td>Sat</td>\n",
       "      <td>Dinner</td>\n",
       "      <td>2</td>\n",
       "    </tr>\n",
       "    <tr>\n",
       "      <th>243</th>\n",
       "      <td>18.78</td>\n",
       "      <td>3.00</td>\n",
       "      <td>Female</td>\n",
       "      <td>No</td>\n",
       "      <td>Thur</td>\n",
       "      <td>Dinner</td>\n",
       "      <td>2</td>\n",
       "    </tr>\n",
       "  </tbody>\n",
       "</table>\n",
       "<p>244 rows × 7 columns</p>\n",
       "</div>"
      ],
      "text/plain": [
       "     total_bill   tip     sex smoker   day    time  size\n",
       "0         16.99  1.01  Female     No   Sun  Dinner     2\n",
       "1         10.34  1.66    Male     No   Sun  Dinner     3\n",
       "2         21.01  3.50    Male     No   Sun  Dinner     3\n",
       "3         23.68  3.31    Male     No   Sun  Dinner     2\n",
       "4         24.59  3.61  Female     No   Sun  Dinner     4\n",
       "..          ...   ...     ...    ...   ...     ...   ...\n",
       "239       29.03  5.92    Male     No   Sat  Dinner     3\n",
       "240       27.18  2.00  Female    Yes   Sat  Dinner     2\n",
       "241       22.67  2.00    Male    Yes   Sat  Dinner     2\n",
       "242       17.82  1.75    Male     No   Sat  Dinner     2\n",
       "243       18.78  3.00  Female     No  Thur  Dinner     2\n",
       "\n",
       "[244 rows x 7 columns]"
      ]
     },
     "execution_count": 56,
     "metadata": {},
     "output_type": "execute_result"
    }
   ],
   "source": [
    "import plotly.express as px\n",
    "df = px.data.tips()\n",
    "fig = px.scatter(df, x=\"total_bill\", y=\"tip\", color=\"smoker\", facet_col=\"sex\", facet_row=\"time\")\n",
    "df"
   ]
  },
  {
   "cell_type": "markdown",
   "metadata": {},
   "source": [
    "# Using the Reference"
   ]
  },
  {
   "cell_type": "code",
   "execution_count": 9,
   "metadata": {},
   "outputs": [
    {
     "data": {
      "text/plain": [
       "[[0.43, 1.0],\n",
       " [0.609, 0.927],\n",
       " [0.754, 0.808],\n",
       " [0.877, 0.706],\n",
       " [1.0, 0.65],\n",
       " [0.559, 0.497],\n",
       " [0.592, 0.299],\n",
       " [0.609, 0.175],\n",
       " [0.609, 0.056],\n",
       " [0.436, 0.486],\n",
       " [0.43, 0.266],\n",
       " [0.419, 0.124],\n",
       " [0.402, 0.0],\n",
       " [0.324, 0.531],\n",
       " [0.251, 0.339],\n",
       " [0.207, 0.215],\n",
       " [0.173, 0.102],\n",
       " [0.229, 0.621],\n",
       " [0.123, 0.492],\n",
       " [0.056, 0.412],\n",
       " [0.0, 0.328]]"
      ]
     },
     "execution_count": 9,
     "metadata": {},
     "output_type": "execute_result"
    }
   ],
   "source": [
    "with open(\"reference\", \"rb\") as file:\n",
    "    reference = pickle.load(file)\n",
    "\n",
    "norm_reference = normalize_landmarks(landmarks=[reference])[0]\n",
    "norm_reference"
   ]
  }
 ],
 "metadata": {
  "kernelspec": {
   "display_name": "Python 3.10.5 64-bit",
   "language": "python",
   "name": "python3"
  },
  "language_info": {
   "codemirror_mode": {
    "name": "ipython",
    "version": 3
   },
   "file_extension": ".py",
   "mimetype": "text/x-python",
   "name": "python",
   "nbconvert_exporter": "python",
   "pygments_lexer": "ipython3",
   "version": "3.10.5"
  },
  "orig_nbformat": 4,
  "vscode": {
   "interpreter": {
    "hash": "7e9faed0a362066945672d7963e23eb96b1d5d912bb023daf61f93d0f28cdb5f"
   }
  }
 },
 "nbformat": 4,
 "nbformat_minor": 2
}

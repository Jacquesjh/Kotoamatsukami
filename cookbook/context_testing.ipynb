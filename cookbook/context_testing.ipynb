{
 "cells": [
  {
   "cell_type": "markdown",
   "metadata": {},
   "source": [
    "# Getting the name of the Current Active Window"
   ]
  },
  {
   "cell_type": "code",
   "execution_count": null,
   "metadata": {},
   "outputs": [],
   "source": [
    "from typing import Optional\n",
    "from ctypes import wintypes, windll, create_unicode_buffer\n",
    "\n",
    "def getForegroundWindowTitle() -> Optional[str]:\n",
    "    hWnd = windll.user32.GetForegroundWindow()\n",
    "    length = windll.user32.GetWindowTextLengthW(hWnd)\n",
    "    buf = create_unicode_buffer(length + 1)\n",
    "    windll.user32.GetWindowTextW(hWnd, buf, length + 1)\n",
    "    \n",
    "    # 1-liner alternative: return buf.value if buf.value else None\n",
    "    if buf.value:\n",
    "        return buf.value\n",
    "    else:\n",
    "        return None"
   ]
  },
  {
   "cell_type": "code",
   "execution_count": null,
   "metadata": {},
   "outputs": [],
   "source": [
    "from win32gui import GetWindowText, GetForegroundWindow\n",
    "window = GetForegroundWindow()\n",
    "text = GetWindowText(window)\n",
    "print(text)"
   ]
  },
  {
   "cell_type": "markdown",
   "metadata": {},
   "source": [
    "# Check if anything is playing with audio"
   ]
  },
  {
   "cell_type": "code",
   "execution_count": 4,
   "metadata": {},
   "outputs": [
    {
     "name": "stdout",
     "output_type": "stream",
     "text": [
      "psutil.Process(pid=13024, name='taskhostw.exe', status='running', started='14:06:37')\n",
      "psutil.Process(pid=12972, name='audiodg.exe', status='running', started='2022-05-19 10:12:02')\n",
      "psutil.Process(pid=22560, name='Teams.exe', status='running', started='14:06:56')\n",
      "psutil.Process(pid=10952, name='msedge.exe', status='running', started='14:32:54')\n"
     ]
    }
   ],
   "source": [
    "from pycaw.pycaw import AudioUtilities\n",
    "\n",
    "sessions = AudioUtilities.GetAllSessions()\n",
    "\n",
    "for session in sessions:\n",
    "    print(session.Process)"
   ]
  },
  {
   "cell_type": "code",
   "execution_count": null,
   "metadata": {},
   "outputs": [],
   "source": []
  }
 ],
 "metadata": {
  "interpreter": {
   "hash": "36e694ef7c3cc3ea9fcbe33622def963131e2f8f250b2d91c3914ff84d9031bf"
  },
  "kernelspec": {
   "display_name": "Python 3.8.8 ('kotoamatsukami-Hq7iVI3N-py3.8')",
   "language": "python",
   "name": "python3"
  },
  "language_info": {
   "codemirror_mode": {
    "name": "ipython",
    "version": 3
   },
   "file_extension": ".py",
   "mimetype": "text/x-python",
   "name": "python",
   "nbconvert_exporter": "python",
   "pygments_lexer": "ipython3",
   "version": "3.8.8"
  },
  "orig_nbformat": 4
 },
 "nbformat": 4,
 "nbformat_minor": 2
}

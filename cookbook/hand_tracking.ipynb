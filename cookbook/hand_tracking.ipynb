{
 "cells": [
  {
   "cell_type": "code",
   "execution_count": 1,
   "metadata": {},
   "outputs": [],
   "source": [
    "import mediapipe as mp"
   ]
  },
  {
   "cell_type": "code",
   "execution_count": 4,
   "metadata": {},
   "outputs": [
    {
     "data": {
      "text/plain": [
       "<module 'mediapipe.python.solutions.hands' from 'C:\\\\Users\\\\Joao\\\\AppData\\\\Local\\\\pypoetry\\\\Cache\\\\virtualenvs\\\\kotoamatsukami-T53X9OZe-py3.8\\\\lib\\\\site-packages\\\\mediapipe\\\\python\\\\solutions\\\\hands.py'>"
      ]
     },
     "execution_count": 4,
     "metadata": {},
     "output_type": "execute_result"
    }
   ],
   "source": [
    "mp.solutions.hands"
   ]
  },
  {
   "cell_type": "code",
   "execution_count": 2,
   "metadata": {},
   "outputs": [],
   "source": [
    "mp_hands = mp.solutions.hands"
   ]
  },
  {
   "cell_type": "code",
   "execution_count": 6,
   "metadata": {},
   "outputs": [],
   "source": [
    "hands = mp_hands.Hands(max_num_hands = 2, min_detection_confidence = 0.5, min_tracking_confidence = 0.5)"
   ]
  }
 ],
 "metadata": {
  "interpreter": {
   "hash": "e3f2ef64853cb8e4cd4f7badb03b7637b6184dbffe732edc3115cca741e62b84"
  },
  "kernelspec": {
   "display_name": "Python 3.8.8 64-bit ('kotoamatsukami-T53X9OZe-py3.8': poetry)",
   "language": "python",
   "name": "python3"
  },
  "language_info": {
   "codemirror_mode": {
    "name": "ipython",
    "version": 3
   },
   "file_extension": ".py",
   "mimetype": "text/x-python",
   "name": "python",
   "nbconvert_exporter": "python",
   "pygments_lexer": "ipython3",
   "version": "3.8.8"
  },
  "orig_nbformat": 4
 },
 "nbformat": 4,
 "nbformat_minor": 2
}

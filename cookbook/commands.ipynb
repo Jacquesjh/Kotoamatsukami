{
 "cells": [
  {
   "cell_type": "markdown",
   "metadata": {},
   "source": [
    "# Proposed Commands of Control"
   ]
  },
  {
   "cell_type": "markdown",
   "metadata": {},
   "source": [
    "- Left Click;\n",
    "- Middle Click;\n",
    "- Righ Click;\n",
    "- Zoom In;\n",
    "- Zoom Out;\n",
    "- Scrool Up - Single stroke, not a continuous scroll;\n",
    "- Scrool Down - Single stroke, not a continuous scroll;\n",
    "- Back;\n",
    "- Foward;\n",
    "- Crtl+Tab;\n",
    "- Win+L;\n",
    "- Volume Up;\n",
    "- Volume Down;\n",
    "- Mute;\n",
    "- Unmute;"
   ]
  },
  {
   "cell_type": "markdown",
   "metadata": {},
   "source": [
    "## Tracking mouse: Uses the {INDEX+MIDDLE} gesture. Only for the {RIGHT} hand."
   ]
  },
  {
   "cell_type": "markdown",
   "metadata": {},
   "source": [
    "## Holding the Left Button: Uses the {THUMB+INDEX+MIDDLE} gesture. Only for the {RIGHT} hand."
   ]
  },
  {
   "cell_type": "markdown",
   "metadata": {},
   "source": [
    "## Back: Uses the {SWIPE} gesture. Only for the {LEFT} hand."
   ]
  },
  {
   "cell_type": "markdown",
   "metadata": {},
   "source": [
    "## Foward: Uses the {SWIPE} gesture. Only for the {RIGHT} hand."
   ]
  }
 ],
 "metadata": {
  "interpreter": {
   "hash": "36e694ef7c3cc3ea9fcbe33622def963131e2f8f250b2d91c3914ff84d9031bf"
  },
  "kernelspec": {
   "display_name": "Python 3.8.8 ('kotoamatsukami-Hq7iVI3N-py3.8')",
   "language": "python",
   "name": "python3"
  },
  "language_info": {
   "codemirror_mode": {
    "name": "ipython",
    "version": 3
   },
   "file_extension": ".py",
   "mimetype": "text/x-python",
   "name": "python",
   "nbconvert_exporter": "python",
   "pygments_lexer": "ipython3",
   "version": "3.8.8"
  },
  "orig_nbformat": 4
 },
 "nbformat": 4,
 "nbformat_minor": 2
}

{
 "cells": [
  {
   "cell_type": "markdown",
   "metadata": {},
   "source": [
    "## Library"
   ]
  },
  {
   "cell_type": "code",
   "execution_count": 3,
   "metadata": {},
   "outputs": [
    {
     "ename": "ModuleNotFoundError",
     "evalue": "No module named 'kotoamatsukami'",
     "output_type": "error",
     "traceback": [
      "\u001b[1;31m---------------------------------------------------------------------------\u001b[0m",
      "\u001b[1;31mModuleNotFoundError\u001b[0m                       Traceback (most recent call last)",
      "\u001b[1;32m~\\AppData\\Local\\Temp/ipykernel_8060/2637937723.py\u001b[0m in \u001b[0;36m<module>\u001b[1;34m\u001b[0m\n\u001b[1;32m----> 1\u001b[1;33m \u001b[1;32mfrom\u001b[0m \u001b[0mkotoamatsukami\u001b[0m\u001b[1;33m.\u001b[0m\u001b[0msrc\u001b[0m\u001b[1;33m.\u001b[0m\u001b[0mdomain\u001b[0m\u001b[1;33m.\u001b[0m\u001b[0mpipeline\u001b[0m \u001b[1;32mimport\u001b[0m \u001b[0mPipeline\u001b[0m\u001b[1;33m\u001b[0m\u001b[1;33m\u001b[0m\u001b[0m\n\u001b[0m",
      "\u001b[1;31mModuleNotFoundError\u001b[0m: No module named 'kotoamatsukami'"
     ]
    }
   ],
   "source": [
    "from kotoamatsukami.src.domain.pipeline import Pipeline"
   ]
  },
  {
   "cell_type": "code",
   "execution_count": null,
   "metadata": {},
   "outputs": [],
   "source": [
    "from typing import List\n",
    "import os\n",
    "\n",
    "from tensorflow.keras.models import Sequential, Model\n",
    "from tensorflow.keras.layers import Conv2D, Dense, Flatten, MaxPooling2D, Input\n",
    "from tensorflow.math import confusion_matrix\n",
    "from tensorflow.keras.datasets import fashion_mnist\n",
    "from tensorflow.keras import layers\n",
    "from tensorflow.keras.backend import clear_session\n",
    "from tensorflow.data import Dataset\n",
    "from tensorflow.data import AUTOTUNE\n",
    "from tensorflow.keras.utils import image_dataset_from_directory\n",
    "from tensorflow.autograph.experimental import do_not_convert\n",
    "\n",
    "from PIL import Image\n",
    "import numpy as np\n",
    "import plotly.express as px"
   ]
  },
  {
   "cell_type": "markdown",
   "metadata": {},
   "source": [
    "## Data Pipeline"
   ]
  },
  {
   "cell_type": "code",
   "execution_count": null,
   "metadata": {},
   "outputs": [],
   "source": [
    "class Pipeline:\n",
    "\n",
    "    train_dir: str\n",
    "    test_dir : str\n",
    "\n",
    "    train_data: Dataset\n",
    "    val_data  : Dataset\n",
    "    test_data : Dataset\n",
    "\n",
    "    rescale_layer: Sequential\n",
    "    augmentation : Sequential\n",
    "\n",
    "    classes_names: List[str]\n",
    "    num_classes  : int\n",
    "\n",
    "    image_size : tuple\n",
    "    input_shape: tuple\n",
    "    \n",
    "    \n",
    "    def __init__(self, train_dir: str, test_dir: str) -> None:\n",
    "\n",
    "        self.train_dir = train_dir\n",
    "        self.test_dir  = test_dir\n",
    "\n",
    "        self.rescale_layer = Sequential(layers.Rescaling(1./255))\n",
    "        self.augmentation  = Sequential(layers.RandomFlip(\"horizontal\"))\n",
    "\n",
    "        self.get_data()\n",
    "        self._infer_input_shape()\n",
    "\n",
    "\n",
    "    def _donwload_data(self) -> None:\n",
    "        \n",
    "        print(\"Downloading datasets\")\n",
    "\n",
    "        data = fashion_mnist.load_data()\n",
    "        train_data, test_data = data\n",
    "\n",
    "        self.num_classes = len(np.unique([label for label in test_data[1]]))\n",
    "        self.train_data  = train_data\n",
    "        self.test_data   = test_data\n",
    "    \n",
    "    \n",
    "    def _save_data(self) -> None:\n",
    "\n",
    "        print(\"Saving the dataset to disk\")\n",
    "\n",
    "        labels = {0: \"T-shirt\",\n",
    "                  1: \"Trouser\",\n",
    "                  2: \"Pullover\",\n",
    "                  3: \"Dress\",\n",
    "                  4: \"Coat\",\n",
    "                  5: \"Sandal\",\n",
    "                  6: \"Shirt\",\n",
    "                  7: \"Sneaker\",\n",
    "                  8: \"Bag\",\n",
    "                  9: \"Ankle boot\"}\n",
    "                  \n",
    "        suffix = {i: 0 for i in range(self.num_classes)}\n",
    "\n",
    "        inputs, targets = self.train_data\n",
    "        \n",
    "        for img, label in zip(inputs, targets):            \n",
    "            image     = Image.fromarray(img)\n",
    "            image_dir = f\"{self.train_dir}/{labels[label]}/\"\n",
    "\n",
    "            if not os.path.isdir(image_dir):\n",
    "                os.makedirs(image_dir)\n",
    "            \n",
    "            image.save(f\"{image_dir}/image_{suffix[label]}.png\")        \n",
    "            suffix[label] += 1\n",
    "\n",
    "        suffix = {i: 0 for i in range(self.num_classes)}\n",
    "\n",
    "        inputs, targets = self.test_data\n",
    "        \n",
    "        for img, label in zip(inputs, targets):            \n",
    "            image     = Image.fromarray(img)\n",
    "            image_dir = f\"{self.test_dir}/{labels[label]}/\"\n",
    "            \n",
    "            if not os.path.isdir(image_dir):\n",
    "                os.makedirs(image_dir)\n",
    "            \n",
    "            image.save(f\"{image_dir}/image_{suffix[label]}.png\")\n",
    "            suffix[label] += 1\n",
    "\n",
    "\n",
    "    def _infer_input_shape(self):\n",
    "\n",
    "        item = self.test_data.take(1)\n",
    "        image, label = item.get_single_element()\n",
    "\n",
    "        self.input_shape = image.numpy().shape[1: ]\n",
    "\n",
    "\n",
    "    def _infer_image_size(self, set: str):\n",
    "\n",
    "        folder_path = set + f\"/{self.classes_names[0]}\"\n",
    "        image_path  = os.listdir(folder_path)[0]\n",
    "        image       = Image.open(folder_path + f\"/{image_path}\")\n",
    "\n",
    "        return image.size\n",
    "\n",
    "\n",
    "    def _load_data(self) -> None:\n",
    "        \n",
    "        print(\"Fetching datasets\")\n",
    "        \n",
    "        self.classes_names = os.listdir(train_dir)\n",
    "        self.num_classes   = len(self.classes_names)\n",
    "\n",
    "        train_image_size = self._infer_image_size(set = self.train_dir)\n",
    "\n",
    "        train_ds = image_dataset_from_directory(self.train_dir,\n",
    "                                                image_size = train_image_size,\n",
    "                                                batch_size = 128,\n",
    "                                                color_mode = \"grayscale\",\n",
    "                                                subset = \"training\",\n",
    "                                                seed = 1,\n",
    "                                                validation_split = 0.2)\n",
    "\n",
    "        train_ds = train_ds.map(do_not_convert(lambda x, y: (self.augmentation(x), y)), num_parallel_calls = AUTOTUNE)\n",
    "        train_ds = train_ds.map(do_not_convert(lambda x, y: (self.rescale_layer(x), y)), num_parallel_calls = AUTOTUNE)\n",
    "        train_ds = train_ds.shuffle(len(train_ds)).prefetch(buffer_size = AUTOTUNE).cache()\n",
    "\n",
    "        val_ds = image_dataset_from_directory(self.train_dir,\n",
    "                                              image_size = train_image_size,\n",
    "                                              batch_size = 128,\n",
    "                                              color_mode = \"grayscale\",\n",
    "                                              subset = \"validation\",\n",
    "                                              seed = 1,\n",
    "                                              validation_split = 0.2)\n",
    "\n",
    "        val_ds = val_ds.map(do_not_convert(lambda x, y: (self.rescale_layer(x), y)), num_parallel_calls = AUTOTUNE)\n",
    "        val_ds = val_ds.prefetch(buffer_size = AUTOTUNE).cache()\n",
    "        \n",
    "        train_image_size = self._infer_image_size(set = self.train_dir)\n",
    "        \n",
    "        test_ds = image_dataset_from_directory(self.test_dir,\n",
    "                                               batch_size = 1,\n",
    "                                               image_size = train_image_size,\n",
    "                                               color_mode = \"grayscale\")\n",
    "\n",
    "        self.train_data = train_ds\n",
    "        self.val_data   = val_ds\n",
    "        self.test_data  = test_ds\n",
    "\n",
    "\n",
    "    def get_data(self) -> None:\n",
    "\n",
    "        if not os.path.isdir(self.train_dir):\n",
    "            self._donwload_data()\n",
    "            self._save_data()\n",
    "            self._load_data()\n",
    "        else:\n",
    "            \n",
    "            self._load_data()\n",
    "\n"
   ]
  },
  {
   "cell_type": "code",
   "execution_count": null,
   "metadata": {},
   "outputs": [],
   "source": [
    "train_dir = \"C:/Users/Joao/Kotoamatsukami/Kotoamatsukami/data/fashion_mnist/train\"\n",
    "test_dir  = \"C:/Users/Joao/Kotoamatsukami/Kotoamatsukami/data/fashion_mnist/test\"\n",
    "pipeline  = Pipeline(train_dir = train_dir, test_dir = test_dir)"
   ]
  },
  {
   "cell_type": "code",
   "execution_count": null,
   "metadata": {},
   "outputs": [],
   "source": [
    "input_shape = pipeline.input_shape\n",
    "num_classes = pipeline.num_classes\n",
    "\n",
    "model = Sequential()\n",
    "model.add(Input(shape = input_shape))\n",
    "model.add(Conv2D(32, kernel_size = (3, 3), activation = \"swish\"))\n",
    "model.add(MaxPooling2D(pool_size = (2, 2)))\n",
    "model.add(Conv2D(64, kernel_size = (3, 3), activation = \"swish\"))\n",
    "model.add(MaxPooling2D(pool_size = (2, 2))) \n",
    "model.add(Conv2D(16, kernel_size = (3, 3), activation = \"swish\"))\n",
    "model.add(MaxPooling2D(pool_size = (2, 2))) \n",
    "model.add(Flatten())\n",
    "model.add(Dense(256, activation = \"swish\"))\n",
    "model.add(Dense(128, activation = \"swish\"))\n",
    "model.add(Dense(128, activation = \"swish\"))\n",
    "model.add(Dense(num_classes, activation = \"softmax\"))\n",
    "\n",
    "model.compile(loss = \"sparse_categorical_crossentropy\", optimizer = \"adam\", metrics = [\"accuracy\"])"
   ]
  },
  {
   "cell_type": "code",
   "execution_count": null,
   "metadata": {},
   "outputs": [],
   "source": [
    "history = model.fit(pipeline.train_data,\n",
    "                    epochs = 10,\n",
    "                    validation_data = pipeline.val_data)"
   ]
  },
  {
   "cell_type": "code",
   "execution_count": null,
   "metadata": {},
   "outputs": [],
   "source": [
    "inputs  = Input(shape = input_shape)\n",
    "x       = pipeline.rescale_layer(inputs)\n",
    "outputs = model(x)\n",
    "\n",
    "trained_model = Model(inputs, outputs)\n",
    "trained_model.compile(loss = \"sparse_categorical_crossentropy\", optimizer = \"adam\", metrics = [\"accuracy\"])\n",
    "\n",
    "loss, acc = trained_model.evaluate(pipeline.test_data)"
   ]
  },
  {
   "cell_type": "code",
   "execution_count": null,
   "metadata": {},
   "outputs": [],
   "source": [
    "import pandas as pd\n",
    "pd.options.plotting.backend = \"plotly\"\n",
    "\n",
    "df = pd.DataFrame.from_dict(history.history)\n",
    "df"
   ]
  },
  {
   "cell_type": "code",
   "execution_count": null,
   "metadata": {},
   "outputs": [],
   "source": [
    "df.plot(y = [\"accuracy\", \"val_accuracy\"])"
   ]
  },
  {
   "cell_type": "code",
   "execution_count": null,
   "metadata": {},
   "outputs": [],
   "source": [
    "df.plot(y = [\"loss\", \"val_loss\"])"
   ]
  },
  {
   "cell_type": "code",
   "execution_count": null,
   "metadata": {},
   "outputs": [],
   "source": [
    "def get_confusion_matrix(test_data, model, num_classes):\n",
    "\n",
    "    truth       = [items[1].numpy()[0] for items in test_data]\n",
    "    predictions = model.predict(test_data)\n",
    "\n",
    "    preds = [np.argmax(p) for p in predictions]\n",
    "\n",
    "    confusion = confusion_matrix(labels = truth, predictions = preds, num_classes = num_classes)\n",
    "\n",
    "    fig = px.imshow(confusion, color_continuous_scale = \"viridis\")\n",
    "    fig.show()\n",
    "\n",
    "\n",
    "get_confusion_matrix(test_data = pipeline.test_data, model = trained_model, num_classes = num_classes)"
   ]
  },
  {
   "cell_type": "code",
   "execution_count": null,
   "metadata": {},
   "outputs": [],
   "source": [
    "items = pipeline.test_data.take(1)"
   ]
  },
  {
   "cell_type": "code",
   "execution_count": null,
   "metadata": {},
   "outputs": [],
   "source": [
    "trained_model.predict(pipeline.test_data.take(1))"
   ]
  },
  {
   "cell_type": "code",
   "execution_count": null,
   "metadata": {},
   "outputs": [],
   "source": [
    "predictions = []\n",
    "labels = []\n",
    "\n",
    "for items in pipeline.test_data.take(len(pipeline.test_data)):\n",
    "\n",
    "    predictions.append(np.argmax(trained_model.predict(items[0])))\n",
    "    labels.append(items[1].numpy()[0])"
   ]
  },
  {
   "cell_type": "code",
   "execution_count": null,
   "metadata": {},
   "outputs": [],
   "source": [
    "new = trained_model.predict(pipeline.test_data)\n",
    "preds = [np.argmax(p) for p in new]"
   ]
  },
  {
   "cell_type": "code",
   "execution_count": null,
   "metadata": {},
   "outputs": [],
   "source": [
    "preds"
   ]
  },
  {
   "cell_type": "code",
   "execution_count": null,
   "metadata": {},
   "outputs": [],
   "source": [
    "preds"
   ]
  },
  {
   "cell_type": "code",
   "execution_count": null,
   "metadata": {},
   "outputs": [],
   "source": [
    "confusion = confusion_matrix(labels = labels, predictions = predictions, num_classes = 10)\n",
    "fig = px.imshow(confusion, color_continuous_scale = \"viridis\")\n",
    "fig.show()"
   ]
  },
  {
   "cell_type": "code",
   "execution_count": null,
   "metadata": {},
   "outputs": [],
   "source": [
    "import numpy as np\n",
    "\n",
    "import plotly.express as px\n",
    "\n",
    "\n",
    "y = np.arange(1, 1000)\n",
    "x = pow(1000*(1.05), y)\n",
    "\n",
    "px.line(x = x, y = y)\n"
   ]
  },
  {
   "cell_type": "code",
   "execution_count": null,
   "metadata": {},
   "outputs": [],
   "source": []
  }
 ],
 "metadata": {
  "interpreter": {
   "hash": "f4e66aafef2f3209d9e3ca90354c13aab0a3b38be1c0526108d0371eb8e92006"
  },
  "kernelspec": {
   "display_name": "Python 3.8.8 64-bit ('kotoamatsukami-zEZ6_pwn-py3.8': poetry)",
   "language": "python",
   "name": "python3"
  },
  "language_info": {
   "codemirror_mode": {
    "name": "ipython",
    "version": 3
   },
   "file_extension": ".py",
   "mimetype": "text/x-python",
   "name": "python",
   "nbconvert_exporter": "python",
   "pygments_lexer": "ipython3",
   "version": "3.8.8"
  },
  "orig_nbformat": 4
 },
 "nbformat": 4,
 "nbformat_minor": 2
}

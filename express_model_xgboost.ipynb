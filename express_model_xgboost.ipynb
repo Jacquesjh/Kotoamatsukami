{
 "cells": [
  {
   "cell_type": "code",
   "execution_count": 8,
   "metadata": {},
   "outputs": [],
   "source": [
    "import pickle\n",
    "\n",
    "import numpy as np\n",
    "import pandas as pd\n",
    "import plotly.express as px\n",
    "from sklearn.metrics import accuracy_score, classification_report, confusion_matrix, f1_score\n",
    "from xgboost import XGBClassifier"
   ]
  },
  {
   "cell_type": "markdown",
   "metadata": {},
   "source": [
    "# Loading the data"
   ]
  },
  {
   "cell_type": "code",
   "execution_count": 9,
   "metadata": {},
   "outputs": [],
   "source": [
    "with open(\"data/express/train_data\", \"rb\") as f:\n",
    "    train_data = pickle.load(f)\n",
    "\n",
    "train_features = train_data[0]\n",
    "train_targets  = train_data[1]"
   ]
  },
  {
   "cell_type": "code",
   "execution_count": 10,
   "metadata": {},
   "outputs": [],
   "source": [
    "with open(\"data/express/val_data\", \"rb\") as f:\n",
    "    val_data = pickle.load(f)\n",
    "\n",
    "val_features = val_data[0]\n",
    "val_targets  = val_data[1]"
   ]
  },
  {
   "cell_type": "code",
   "execution_count": 11,
   "metadata": {},
   "outputs": [],
   "source": [
    "with open(\"data/randomized/test_data\", \"rb\") as f:\n",
    "    test_data = pickle.load(f)\n",
    "\n",
    "test_features = test_data[0]\n",
    "test_targets  = test_data[1]"
   ]
  },
  {
   "cell_type": "code",
   "execution_count": 12,
   "metadata": {},
   "outputs": [],
   "source": [
    "def reshape_to_train(unshaped: list) -> np.array:\n",
    "    shaped = np.array([np.array(sample).reshape(-1, 1) for sample in unshaped])\n",
    "    shaped = shaped.reshape(shaped.shape[0], shaped.shape[1])\n",
    "\n",
    "    return shaped"
   ]
  },
  {
   "cell_type": "code",
   "execution_count": 13,
   "metadata": {},
   "outputs": [],
   "source": [
    "shaped_train_features = reshape_to_train(unshaped=train_features)\n",
    "shaped_val_features   = reshape_to_train(unshaped=val_features)\n",
    "shaped_test_features  = reshape_to_train(unshaped=test_features)"
   ]
  },
  {
   "cell_type": "markdown",
   "metadata": {},
   "source": [
    "# Optimzing the Model over the validation data"
   ]
  },
  {
   "cell_type": "code",
   "execution_count": 14,
   "metadata": {},
   "outputs": [],
   "source": [
    "estimatores = [pow(2, i) for i in range(5, 11)]\n",
    "learning_rates = [i/10 for i in range(2, 8)]\n",
    "grows = [\"depthwise\", \"lossguide\"]\n",
    "\n",
    "hps = dict()\n",
    "i = 0\n",
    "\n",
    "for estimator in estimatores:\n",
    "    for lr in learning_rates:\n",
    "        for gp in grows:\n",
    "            hps[i] = {\"estimators\": estimator, \"lr\": lr, \"gp\": gp}\n",
    "            i += 1"
   ]
  },
  {
   "cell_type": "code",
   "execution_count": 19,
   "metadata": {},
   "outputs": [
    {
     "name": "stdout",
     "output_type": "stream",
     "text": [
      "0\n",
      "97.93\n",
      "89.1\n",
      "1\n",
      "97.74\n",
      "88.95\n",
      "2\n",
      "97.93\n",
      "89.12\n",
      "3\n",
      "97.76\n",
      "88.98\n",
      "4\n",
      "97.59\n",
      "88.8\n",
      "5\n",
      "98.03\n",
      "89.19\n",
      "6\n",
      "97.9\n",
      "89.11\n",
      "7\n",
      "97.74\n",
      "88.93\n",
      "8\n",
      "97.93\n",
      "89.12\n",
      "9\n",
      "97.93\n",
      "89.12\n",
      "10\n",
      "97.93\n",
      "89.08\n",
      "11\n",
      "97.63\n",
      "88.87\n",
      "12\n",
      "97.86\n",
      "89.04\n",
      "13\n",
      "97.64\n",
      "88.83\n",
      "14\n",
      "97.91\n",
      "89.1\n",
      "15\n",
      "97.86\n",
      "89.05\n",
      "16\n",
      "97.73\n",
      "88.91\n",
      "17\n",
      "98.04\n",
      "89.21\n",
      "18\n",
      "97.86\n",
      "89.04\n",
      "19\n",
      "97.83\n",
      "89.02\n",
      "20\n",
      "97.8\n",
      "88.98\n",
      "21\n",
      "97.84\n",
      "89.04\n",
      "22\n",
      "97.8\n",
      "88.99\n",
      "23\n",
      "97.69\n",
      "88.88\n",
      "24\n",
      "97.96\n",
      "89.12\n",
      "25\n",
      "97.81\n",
      "88.99\n",
      "26\n",
      "97.9\n",
      "89.05\n",
      "27\n",
      "97.77\n",
      "88.98\n",
      "28\n",
      "97.8\n",
      "89.0\n",
      "29\n",
      "97.86\n",
      "89.04\n",
      "30\n",
      "98.19\n",
      "89.33\n",
      "31\n",
      "97.82\n",
      "89.01\n",
      "32\n",
      "97.82\n",
      "89.02\n",
      "33\n",
      "97.74\n",
      "88.92\n",
      "34\n",
      "97.79\n",
      "89.02\n",
      "35\n",
      "97.68\n",
      "88.89\n",
      "36\n",
      "97.52\n",
      "88.77\n",
      "37\n",
      "97.66\n",
      "88.81\n",
      "38\n",
      "97.86\n",
      "89.04\n",
      "39\n",
      "98.1\n",
      "89.24\n",
      "40\n",
      "97.83\n",
      "89.02\n",
      "41\n",
      "97.66\n",
      "88.87\n",
      "42\n",
      "98.01\n",
      "89.17\n",
      "43\n",
      "97.81\n",
      "89.0\n",
      "44\n",
      "97.72\n",
      "88.92\n",
      "45\n",
      "97.87\n",
      "89.04\n",
      "46\n",
      "98.14\n",
      "89.31\n",
      "47\n",
      "97.77\n",
      "89.02\n",
      "48\n",
      "98.03\n",
      "89.21\n",
      "49\n",
      "97.86\n",
      "89.04\n",
      "50\n",
      "97.67\n",
      "88.89\n",
      "51\n",
      "97.91\n",
      "89.1\n",
      "52\n",
      "97.81\n",
      "89.01\n",
      "53\n",
      "97.7\n",
      "88.9\n",
      "54\n",
      "97.61\n",
      "88.83\n",
      "55\n",
      "97.6\n",
      "88.82\n",
      "56\n",
      "97.74\n",
      "88.96\n",
      "57\n",
      "97.89\n",
      "89.04\n",
      "58\n",
      "98.07\n",
      "89.25\n",
      "59\n",
      "97.7\n",
      "88.89\n",
      "60\n",
      "97.69\n",
      "88.89\n",
      "61\n",
      "98.0\n",
      "89.16\n",
      "62\n",
      "98.08\n",
      "89.26\n",
      "63\n",
      "97.91\n",
      "89.12\n",
      "64\n",
      "97.96\n",
      "89.13\n",
      "65\n",
      "97.87\n",
      "89.03\n",
      "66\n",
      "97.84\n",
      "89.04\n",
      "67\n",
      "97.8\n",
      "88.99\n",
      "68\n",
      "97.99\n",
      "89.16\n",
      "69\n",
      "97.92\n",
      "89.11\n",
      "70\n",
      "97.9\n",
      "89.09\n",
      "71\n",
      "97.77\n",
      "88.95\n",
      "   accuracy F1-score\n",
      "0     97.93     89.1\n",
      "1     97.74    88.95\n",
      "2     97.93    89.12\n",
      "3     97.76    88.98\n",
      "4     97.59     88.8\n",
      "..      ...      ...\n",
      "67     97.8    88.99\n",
      "68    97.99    89.16\n",
      "69    97.92    89.11\n",
      "70     97.9    89.09\n",
      "71    97.77    88.95\n",
      "\n",
      "[72 rows x 2 columns]\n",
      "{0: {'estimators': 32, 'lr': 0.2, 'gp': 'depthwise'}, 1: {'estimators': 32, 'lr': 0.2, 'gp': 'lossguide'}, 2: {'estimators': 32, 'lr': 0.3, 'gp': 'depthwise'}, 3: {'estimators': 32, 'lr': 0.3, 'gp': 'lossguide'}, 4: {'estimators': 32, 'lr': 0.4, 'gp': 'depthwise'}, 5: {'estimators': 32, 'lr': 0.4, 'gp': 'lossguide'}, 6: {'estimators': 32, 'lr': 0.5, 'gp': 'depthwise'}, 7: {'estimators': 32, 'lr': 0.5, 'gp': 'lossguide'}, 8: {'estimators': 32, 'lr': 0.6, 'gp': 'depthwise'}, 9: {'estimators': 32, 'lr': 0.6, 'gp': 'lossguide'}, 10: {'estimators': 32, 'lr': 0.7, 'gp': 'depthwise'}, 11: {'estimators': 32, 'lr': 0.7, 'gp': 'lossguide'}, 12: {'estimators': 64, 'lr': 0.2, 'gp': 'depthwise'}, 13: {'estimators': 64, 'lr': 0.2, 'gp': 'lossguide'}, 14: {'estimators': 64, 'lr': 0.3, 'gp': 'depthwise'}, 15: {'estimators': 64, 'lr': 0.3, 'gp': 'lossguide'}, 16: {'estimators': 64, 'lr': 0.4, 'gp': 'depthwise'}, 17: {'estimators': 64, 'lr': 0.4, 'gp': 'lossguide'}, 18: {'estimators': 64, 'lr': 0.5, 'gp': 'depthwise'}, 19: {'estimators': 64, 'lr': 0.5, 'gp': 'lossguide'}, 20: {'estimators': 64, 'lr': 0.6, 'gp': 'depthwise'}, 21: {'estimators': 64, 'lr': 0.6, 'gp': 'lossguide'}, 22: {'estimators': 64, 'lr': 0.7, 'gp': 'depthwise'}, 23: {'estimators': 64, 'lr': 0.7, 'gp': 'lossguide'}, 24: {'estimators': 128, 'lr': 0.2, 'gp': 'depthwise'}, 25: {'estimators': 128, 'lr': 0.2, 'gp': 'lossguide'}, 26: {'estimators': 128, 'lr': 0.3, 'gp': 'depthwise'}, 27: {'estimators': 128, 'lr': 0.3, 'gp': 'lossguide'}, 28: {'estimators': 128, 'lr': 0.4, 'gp': 'depthwise'}, 29: {'estimators': 128, 'lr': 0.4, 'gp': 'lossguide'}, 30: {'estimators': 128, 'lr': 0.5, 'gp': 'depthwise'}, 31: {'estimators': 128, 'lr': 0.5, 'gp': 'lossguide'}, 32: {'estimators': 128, 'lr': 0.6, 'gp': 'depthwise'}, 33: {'estimators': 128, 'lr': 0.6, 'gp': 'lossguide'}, 34: {'estimators': 128, 'lr': 0.7, 'gp': 'depthwise'}, 35: {'estimators': 128, 'lr': 0.7, 'gp': 'lossguide'}, 36: {'estimators': 256, 'lr': 0.2, 'gp': 'depthwise'}, 37: {'estimators': 256, 'lr': 0.2, 'gp': 'lossguide'}, 38: {'estimators': 256, 'lr': 0.3, 'gp': 'depthwise'}, 39: {'estimators': 256, 'lr': 0.3, 'gp': 'lossguide'}, 40: {'estimators': 256, 'lr': 0.4, 'gp': 'depthwise'}, 41: {'estimators': 256, 'lr': 0.4, 'gp': 'lossguide'}, 42: {'estimators': 256, 'lr': 0.5, 'gp': 'depthwise'}, 43: {'estimators': 256, 'lr': 0.5, 'gp': 'lossguide'}, 44: {'estimators': 256, 'lr': 0.6, 'gp': 'depthwise'}, 45: {'estimators': 256, 'lr': 0.6, 'gp': 'lossguide'}, 46: {'estimators': 256, 'lr': 0.7, 'gp': 'depthwise'}, 47: {'estimators': 256, 'lr': 0.7, 'gp': 'lossguide'}, 48: {'estimators': 512, 'lr': 0.2, 'gp': 'depthwise'}, 49: {'estimators': 512, 'lr': 0.2, 'gp': 'lossguide'}, 50: {'estimators': 512, 'lr': 0.3, 'gp': 'depthwise'}, 51: {'estimators': 512, 'lr': 0.3, 'gp': 'lossguide'}, 52: {'estimators': 512, 'lr': 0.4, 'gp': 'depthwise'}, 53: {'estimators': 512, 'lr': 0.4, 'gp': 'lossguide'}, 54: {'estimators': 512, 'lr': 0.5, 'gp': 'depthwise'}, 55: {'estimators': 512, 'lr': 0.5, 'gp': 'lossguide'}, 56: {'estimators': 512, 'lr': 0.6, 'gp': 'depthwise'}, 57: {'estimators': 512, 'lr': 0.6, 'gp': 'lossguide'}, 58: {'estimators': 512, 'lr': 0.7, 'gp': 'depthwise'}, 59: {'estimators': 512, 'lr': 0.7, 'gp': 'lossguide'}, 60: {'estimators': 1024, 'lr': 0.2, 'gp': 'depthwise'}, 61: {'estimators': 1024, 'lr': 0.2, 'gp': 'lossguide'}, 62: {'estimators': 1024, 'lr': 0.3, 'gp': 'depthwise'}, 63: {'estimators': 1024, 'lr': 0.3, 'gp': 'lossguide'}, 64: {'estimators': 1024, 'lr': 0.4, 'gp': 'depthwise'}, 65: {'estimators': 1024, 'lr': 0.4, 'gp': 'lossguide'}, 66: {'estimators': 1024, 'lr': 0.5, 'gp': 'depthwise'}, 67: {'estimators': 1024, 'lr': 0.5, 'gp': 'lossguide'}, 68: {'estimators': 1024, 'lr': 0.6, 'gp': 'depthwise'}, 69: {'estimators': 1024, 'lr': 0.6, 'gp': 'lossguide'}, 70: {'estimators': 1024, 'lr': 0.7, 'gp': 'depthwise'}, 71: {'estimators': 1024, 'lr': 0.7, 'gp': 'lossguide'}}\n"
     ]
    }
   ],
   "source": [
    "df = pd.DataFrame(columns=[\"accuracy\", \"F1-score\"], index=[i for i in range(len(hps))])\n",
    "\n",
    "for index, hp in hps.items():\n",
    "    print(index)\n",
    "    lr_model = XGBClassifier(objective=\"multi:softprob\", learning_rate=hp[\"lr\"], n_estimators=hp[\"estimators\"], grow_policy=hp[\"gp\"])\n",
    "\n",
    "    lr_model.fit(X=shaped_train_features, y=train_targets)\n",
    "\n",
    "    predictions = lr_model.predict(shaped_val_features)\n",
    "\n",
    "    acc = accuracy_score(y_true=val_targets, y_pred=predictions)\n",
    "    acc = round(acc*100, 2)\n",
    "\n",
    "    f1score = f1_score(y_true=val_targets, y_pred=predictions, average=\"macro\")\n",
    "    f1score = round(f1score*100, 2)\n",
    "    print(acc)\n",
    "    print(f1score)\n",
    "    df[\"accuracy\"].loc[index] = acc\n",
    "    df[\"F1-score\"].loc[index] = f1score\n",
    "\n",
    "print(df)\n",
    "\n",
    "print(hps)"
   ]
  },
  {
   "cell_type": "code",
   "execution_count": 20,
   "metadata": {},
   "outputs": [
    {
     "data": {
      "text/html": [
       "<div>\n",
       "<style scoped>\n",
       "    .dataframe tbody tr th:only-of-type {\n",
       "        vertical-align: middle;\n",
       "    }\n",
       "\n",
       "    .dataframe tbody tr th {\n",
       "        vertical-align: top;\n",
       "    }\n",
       "\n",
       "    .dataframe thead th {\n",
       "        text-align: right;\n",
       "    }\n",
       "</style>\n",
       "<table border=\"1\" class=\"dataframe\">\n",
       "  <thead>\n",
       "    <tr style=\"text-align: right;\">\n",
       "      <th></th>\n",
       "      <th>accuracy</th>\n",
       "      <th>F1-score</th>\n",
       "    </tr>\n",
       "  </thead>\n",
       "  <tbody>\n",
       "    <tr>\n",
       "      <th>30</th>\n",
       "      <td>98.19</td>\n",
       "      <td>89.33</td>\n",
       "    </tr>\n",
       "    <tr>\n",
       "      <th>46</th>\n",
       "      <td>98.14</td>\n",
       "      <td>89.31</td>\n",
       "    </tr>\n",
       "    <tr>\n",
       "      <th>62</th>\n",
       "      <td>98.08</td>\n",
       "      <td>89.26</td>\n",
       "    </tr>\n",
       "    <tr>\n",
       "      <th>58</th>\n",
       "      <td>98.07</td>\n",
       "      <td>89.25</td>\n",
       "    </tr>\n",
       "    <tr>\n",
       "      <th>39</th>\n",
       "      <td>98.1</td>\n",
       "      <td>89.24</td>\n",
       "    </tr>\n",
       "    <tr>\n",
       "      <th>...</th>\n",
       "      <td>...</td>\n",
       "      <td>...</td>\n",
       "    </tr>\n",
       "    <tr>\n",
       "      <th>13</th>\n",
       "      <td>97.64</td>\n",
       "      <td>88.83</td>\n",
       "    </tr>\n",
       "    <tr>\n",
       "      <th>55</th>\n",
       "      <td>97.6</td>\n",
       "      <td>88.82</td>\n",
       "    </tr>\n",
       "    <tr>\n",
       "      <th>37</th>\n",
       "      <td>97.66</td>\n",
       "      <td>88.81</td>\n",
       "    </tr>\n",
       "    <tr>\n",
       "      <th>4</th>\n",
       "      <td>97.59</td>\n",
       "      <td>88.8</td>\n",
       "    </tr>\n",
       "    <tr>\n",
       "      <th>36</th>\n",
       "      <td>97.52</td>\n",
       "      <td>88.77</td>\n",
       "    </tr>\n",
       "  </tbody>\n",
       "</table>\n",
       "<p>72 rows × 2 columns</p>\n",
       "</div>"
      ],
      "text/plain": [
       "   accuracy F1-score\n",
       "30    98.19    89.33\n",
       "46    98.14    89.31\n",
       "62    98.08    89.26\n",
       "58    98.07    89.25\n",
       "39     98.1    89.24\n",
       "..      ...      ...\n",
       "13    97.64    88.83\n",
       "55     97.6    88.82\n",
       "37    97.66    88.81\n",
       "4     97.59     88.8\n",
       "36    97.52    88.77\n",
       "\n",
       "[72 rows x 2 columns]"
      ]
     },
     "execution_count": 20,
     "metadata": {},
     "output_type": "execute_result"
    }
   ],
   "source": [
    "df.sort_values(by=\"F1-score\", ascending=False)"
   ]
  },
  {
   "cell_type": "code",
   "execution_count": 21,
   "metadata": {},
   "outputs": [
    {
     "name": "stdout",
     "output_type": "stream",
     "text": [
      "{'estimators': 128, 'lr': 0.5, 'gp': 'depthwise'}\n",
      "{'estimators': 256, 'lr': 0.7, 'gp': 'depthwise'}\n",
      "{'estimators': 1024, 'lr': 0.3, 'gp': 'depthwise'}\n"
     ]
    }
   ],
   "source": [
    "print(hps[30])\n",
    "print(hps[46])\n",
    "print(hps[62])"
   ]
  },
  {
   "cell_type": "markdown",
   "metadata": {},
   "source": [
    "# Training the model"
   ]
  },
  {
   "cell_type": "code",
   "execution_count": 23,
   "metadata": {},
   "outputs": [
    {
     "data": {
      "text/plain": [
       "XGBClassifier(base_score=0.5, booster='gbtree', callbacks=None,\n",
       "              colsample_bylevel=1, colsample_bynode=1, colsample_bytree=1,\n",
       "              early_stopping_rounds=None, enable_categorical=False,\n",
       "              eval_metric=None, gamma=0, gpu_id=-1, grow_policy='depthwise',\n",
       "              importance_type=None, interaction_constraints='',\n",
       "              learning_rate=0.5, max_bin=256, max_cat_to_onehot=4,\n",
       "              max_delta_step=0, max_depth=6, max_leaves=0, min_child_weight=1,\n",
       "              missing=nan, monotone_constraints='()', n_estimators=128,\n",
       "              n_jobs=0, num_parallel_tree=1, objective='multi:softprob',\n",
       "              predictor='auto', random_state=0, reg_alpha=0, ...)"
      ]
     },
     "execution_count": 23,
     "metadata": {},
     "output_type": "execute_result"
    }
   ],
   "source": [
    "xgb_model = XGBClassifier(objective=\"multi:softprob\", learning_rate=0.5, n_estimators=128, grow_policy=\"depthwise\")\n",
    "\n",
    "xgb_model.fit(shaped_train_features, train_targets)"
   ]
  },
  {
   "cell_type": "markdown",
   "metadata": {},
   "source": [
    "# Testing the model"
   ]
  },
  {
   "cell_type": "code",
   "execution_count": 24,
   "metadata": {},
   "outputs": [],
   "source": [
    "predictions = xgb_model.predict(shaped_test_features)"
   ]
  },
  {
   "cell_type": "markdown",
   "metadata": {},
   "source": [
    "# Metrics"
   ]
  },
  {
   "cell_type": "code",
   "execution_count": 25,
   "metadata": {},
   "outputs": [
    {
     "name": "stdout",
     "output_type": "stream",
     "text": [
      "The accuracy is 99.47%\n",
      "The F1-Score is 99.43%\n",
      "              precision    recall  f1-score   support\n",
      "\n",
      "           0     1.0000    0.9907    0.9953       107\n",
      "           1     0.9916    1.0000    0.9958       118\n",
      "           2     0.9821    1.0000    0.9910       110\n",
      "           3     0.9899    0.9899    0.9899        99\n",
      "           4     1.0000    0.9922    0.9961       128\n",
      "           5     0.9894    0.9789    0.9841        95\n",
      "           6     1.0000    1.0000    1.0000       145\n",
      "           7     1.0000    1.0000    1.0000       111\n",
      "           8     0.9914    1.0000    0.9957       115\n",
      "           9     1.0000    0.9897    0.9948        97\n",
      "\n",
      "    accuracy                         0.9947      1125\n",
      "   macro avg     0.9944    0.9941    0.9943      1125\n",
      "weighted avg     0.9947    0.9947    0.9947      1125\n",
      "\n"
     ]
    },
    {
     "data": {
      "application/vnd.plotly.v1+json": {
       "config": {
        "plotlyServerURL": "https://plot.ly"
       },
       "data": [
        {
         "coloraxis": "coloraxis",
         "hovertemplate": "x: %{x}<br>y: %{y}<br>color: %{z}<extra></extra>",
         "name": "0",
         "type": "heatmap",
         "xaxis": "x",
         "yaxis": "y",
         "z": [
          [
           106,
           0,
           1,
           0,
           0,
           0,
           0,
           0,
           0,
           0
          ],
          [
           0,
           118,
           0,
           0,
           0,
           0,
           0,
           0,
           0,
           0
          ],
          [
           0,
           0,
           110,
           0,
           0,
           0,
           0,
           0,
           0,
           0
          ],
          [
           0,
           0,
           0,
           98,
           0,
           0,
           0,
           0,
           1,
           0
          ],
          [
           0,
           0,
           1,
           0,
           127,
           0,
           0,
           0,
           0,
           0
          ],
          [
           0,
           1,
           0,
           1,
           0,
           93,
           0,
           0,
           0,
           0
          ],
          [
           0,
           0,
           0,
           0,
           0,
           0,
           145,
           0,
           0,
           0
          ],
          [
           0,
           0,
           0,
           0,
           0,
           0,
           0,
           111,
           0,
           0
          ],
          [
           0,
           0,
           0,
           0,
           0,
           0,
           0,
           0,
           115,
           0
          ],
          [
           0,
           0,
           0,
           0,
           0,
           1,
           0,
           0,
           0,
           96
          ]
         ]
        }
       ],
       "layout": {
        "coloraxis": {
         "colorscale": [
          [
           0,
           "#30123b"
          ],
          [
           0.07142857142857142,
           "#4145ab"
          ],
          [
           0.14285714285714285,
           "#4675ed"
          ],
          [
           0.21428571428571427,
           "#39a2fc"
          ],
          [
           0.2857142857142857,
           "#1bcfd4"
          ],
          [
           0.35714285714285715,
           "#24eca6"
          ],
          [
           0.42857142857142855,
           "#61fc6c"
          ],
          [
           0.5,
           "#a4fc3b"
          ],
          [
           0.5714285714285714,
           "#d1e834"
          ],
          [
           0.6428571428571429,
           "#f3c63a"
          ],
          [
           0.7142857142857143,
           "#fe9b2d"
          ],
          [
           0.7857142857142857,
           "#f36315"
          ],
          [
           0.8571428571428571,
           "#d93806"
          ],
          [
           0.9285714285714286,
           "#b11901"
          ],
          [
           1,
           "#7a0402"
          ]
         ]
        },
        "margin": {
         "t": 60
        },
        "template": {
         "data": {
          "bar": [
           {
            "error_x": {
             "color": "#2a3f5f"
            },
            "error_y": {
             "color": "#2a3f5f"
            },
            "marker": {
             "line": {
              "color": "#E5ECF6",
              "width": 0.5
             },
             "pattern": {
              "fillmode": "overlay",
              "size": 10,
              "solidity": 0.2
             }
            },
            "type": "bar"
           }
          ],
          "barpolar": [
           {
            "marker": {
             "line": {
              "color": "#E5ECF6",
              "width": 0.5
             },
             "pattern": {
              "fillmode": "overlay",
              "size": 10,
              "solidity": 0.2
             }
            },
            "type": "barpolar"
           }
          ],
          "carpet": [
           {
            "aaxis": {
             "endlinecolor": "#2a3f5f",
             "gridcolor": "white",
             "linecolor": "white",
             "minorgridcolor": "white",
             "startlinecolor": "#2a3f5f"
            },
            "baxis": {
             "endlinecolor": "#2a3f5f",
             "gridcolor": "white",
             "linecolor": "white",
             "minorgridcolor": "white",
             "startlinecolor": "#2a3f5f"
            },
            "type": "carpet"
           }
          ],
          "choropleth": [
           {
            "colorbar": {
             "outlinewidth": 0,
             "ticks": ""
            },
            "type": "choropleth"
           }
          ],
          "contour": [
           {
            "colorbar": {
             "outlinewidth": 0,
             "ticks": ""
            },
            "colorscale": [
             [
              0,
              "#0d0887"
             ],
             [
              0.1111111111111111,
              "#46039f"
             ],
             [
              0.2222222222222222,
              "#7201a8"
             ],
             [
              0.3333333333333333,
              "#9c179e"
             ],
             [
              0.4444444444444444,
              "#bd3786"
             ],
             [
              0.5555555555555556,
              "#d8576b"
             ],
             [
              0.6666666666666666,
              "#ed7953"
             ],
             [
              0.7777777777777778,
              "#fb9f3a"
             ],
             [
              0.8888888888888888,
              "#fdca26"
             ],
             [
              1,
              "#f0f921"
             ]
            ],
            "type": "contour"
           }
          ],
          "contourcarpet": [
           {
            "colorbar": {
             "outlinewidth": 0,
             "ticks": ""
            },
            "type": "contourcarpet"
           }
          ],
          "heatmap": [
           {
            "colorbar": {
             "outlinewidth": 0,
             "ticks": ""
            },
            "colorscale": [
             [
              0,
              "#0d0887"
             ],
             [
              0.1111111111111111,
              "#46039f"
             ],
             [
              0.2222222222222222,
              "#7201a8"
             ],
             [
              0.3333333333333333,
              "#9c179e"
             ],
             [
              0.4444444444444444,
              "#bd3786"
             ],
             [
              0.5555555555555556,
              "#d8576b"
             ],
             [
              0.6666666666666666,
              "#ed7953"
             ],
             [
              0.7777777777777778,
              "#fb9f3a"
             ],
             [
              0.8888888888888888,
              "#fdca26"
             ],
             [
              1,
              "#f0f921"
             ]
            ],
            "type": "heatmap"
           }
          ],
          "heatmapgl": [
           {
            "colorbar": {
             "outlinewidth": 0,
             "ticks": ""
            },
            "colorscale": [
             [
              0,
              "#0d0887"
             ],
             [
              0.1111111111111111,
              "#46039f"
             ],
             [
              0.2222222222222222,
              "#7201a8"
             ],
             [
              0.3333333333333333,
              "#9c179e"
             ],
             [
              0.4444444444444444,
              "#bd3786"
             ],
             [
              0.5555555555555556,
              "#d8576b"
             ],
             [
              0.6666666666666666,
              "#ed7953"
             ],
             [
              0.7777777777777778,
              "#fb9f3a"
             ],
             [
              0.8888888888888888,
              "#fdca26"
             ],
             [
              1,
              "#f0f921"
             ]
            ],
            "type": "heatmapgl"
           }
          ],
          "histogram": [
           {
            "marker": {
             "pattern": {
              "fillmode": "overlay",
              "size": 10,
              "solidity": 0.2
             }
            },
            "type": "histogram"
           }
          ],
          "histogram2d": [
           {
            "colorbar": {
             "outlinewidth": 0,
             "ticks": ""
            },
            "colorscale": [
             [
              0,
              "#0d0887"
             ],
             [
              0.1111111111111111,
              "#46039f"
             ],
             [
              0.2222222222222222,
              "#7201a8"
             ],
             [
              0.3333333333333333,
              "#9c179e"
             ],
             [
              0.4444444444444444,
              "#bd3786"
             ],
             [
              0.5555555555555556,
              "#d8576b"
             ],
             [
              0.6666666666666666,
              "#ed7953"
             ],
             [
              0.7777777777777778,
              "#fb9f3a"
             ],
             [
              0.8888888888888888,
              "#fdca26"
             ],
             [
              1,
              "#f0f921"
             ]
            ],
            "type": "histogram2d"
           }
          ],
          "histogram2dcontour": [
           {
            "colorbar": {
             "outlinewidth": 0,
             "ticks": ""
            },
            "colorscale": [
             [
              0,
              "#0d0887"
             ],
             [
              0.1111111111111111,
              "#46039f"
             ],
             [
              0.2222222222222222,
              "#7201a8"
             ],
             [
              0.3333333333333333,
              "#9c179e"
             ],
             [
              0.4444444444444444,
              "#bd3786"
             ],
             [
              0.5555555555555556,
              "#d8576b"
             ],
             [
              0.6666666666666666,
              "#ed7953"
             ],
             [
              0.7777777777777778,
              "#fb9f3a"
             ],
             [
              0.8888888888888888,
              "#fdca26"
             ],
             [
              1,
              "#f0f921"
             ]
            ],
            "type": "histogram2dcontour"
           }
          ],
          "mesh3d": [
           {
            "colorbar": {
             "outlinewidth": 0,
             "ticks": ""
            },
            "type": "mesh3d"
           }
          ],
          "parcoords": [
           {
            "line": {
             "colorbar": {
              "outlinewidth": 0,
              "ticks": ""
             }
            },
            "type": "parcoords"
           }
          ],
          "pie": [
           {
            "automargin": true,
            "type": "pie"
           }
          ],
          "scatter": [
           {
            "marker": {
             "colorbar": {
              "outlinewidth": 0,
              "ticks": ""
             }
            },
            "type": "scatter"
           }
          ],
          "scatter3d": [
           {
            "line": {
             "colorbar": {
              "outlinewidth": 0,
              "ticks": ""
             }
            },
            "marker": {
             "colorbar": {
              "outlinewidth": 0,
              "ticks": ""
             }
            },
            "type": "scatter3d"
           }
          ],
          "scattercarpet": [
           {
            "marker": {
             "colorbar": {
              "outlinewidth": 0,
              "ticks": ""
             }
            },
            "type": "scattercarpet"
           }
          ],
          "scattergeo": [
           {
            "marker": {
             "colorbar": {
              "outlinewidth": 0,
              "ticks": ""
             }
            },
            "type": "scattergeo"
           }
          ],
          "scattergl": [
           {
            "marker": {
             "colorbar": {
              "outlinewidth": 0,
              "ticks": ""
             }
            },
            "type": "scattergl"
           }
          ],
          "scattermapbox": [
           {
            "marker": {
             "colorbar": {
              "outlinewidth": 0,
              "ticks": ""
             }
            },
            "type": "scattermapbox"
           }
          ],
          "scatterpolar": [
           {
            "marker": {
             "colorbar": {
              "outlinewidth": 0,
              "ticks": ""
             }
            },
            "type": "scatterpolar"
           }
          ],
          "scatterpolargl": [
           {
            "marker": {
             "colorbar": {
              "outlinewidth": 0,
              "ticks": ""
             }
            },
            "type": "scatterpolargl"
           }
          ],
          "scatterternary": [
           {
            "marker": {
             "colorbar": {
              "outlinewidth": 0,
              "ticks": ""
             }
            },
            "type": "scatterternary"
           }
          ],
          "surface": [
           {
            "colorbar": {
             "outlinewidth": 0,
             "ticks": ""
            },
            "colorscale": [
             [
              0,
              "#0d0887"
             ],
             [
              0.1111111111111111,
              "#46039f"
             ],
             [
              0.2222222222222222,
              "#7201a8"
             ],
             [
              0.3333333333333333,
              "#9c179e"
             ],
             [
              0.4444444444444444,
              "#bd3786"
             ],
             [
              0.5555555555555556,
              "#d8576b"
             ],
             [
              0.6666666666666666,
              "#ed7953"
             ],
             [
              0.7777777777777778,
              "#fb9f3a"
             ],
             [
              0.8888888888888888,
              "#fdca26"
             ],
             [
              1,
              "#f0f921"
             ]
            ],
            "type": "surface"
           }
          ],
          "table": [
           {
            "cells": {
             "fill": {
              "color": "#EBF0F8"
             },
             "line": {
              "color": "white"
             }
            },
            "header": {
             "fill": {
              "color": "#C8D4E3"
             },
             "line": {
              "color": "white"
             }
            },
            "type": "table"
           }
          ]
         },
         "layout": {
          "annotationdefaults": {
           "arrowcolor": "#2a3f5f",
           "arrowhead": 0,
           "arrowwidth": 1
          },
          "autotypenumbers": "strict",
          "coloraxis": {
           "colorbar": {
            "outlinewidth": 0,
            "ticks": ""
           }
          },
          "colorscale": {
           "diverging": [
            [
             0,
             "#8e0152"
            ],
            [
             0.1,
             "#c51b7d"
            ],
            [
             0.2,
             "#de77ae"
            ],
            [
             0.3,
             "#f1b6da"
            ],
            [
             0.4,
             "#fde0ef"
            ],
            [
             0.5,
             "#f7f7f7"
            ],
            [
             0.6,
             "#e6f5d0"
            ],
            [
             0.7,
             "#b8e186"
            ],
            [
             0.8,
             "#7fbc41"
            ],
            [
             0.9,
             "#4d9221"
            ],
            [
             1,
             "#276419"
            ]
           ],
           "sequential": [
            [
             0,
             "#0d0887"
            ],
            [
             0.1111111111111111,
             "#46039f"
            ],
            [
             0.2222222222222222,
             "#7201a8"
            ],
            [
             0.3333333333333333,
             "#9c179e"
            ],
            [
             0.4444444444444444,
             "#bd3786"
            ],
            [
             0.5555555555555556,
             "#d8576b"
            ],
            [
             0.6666666666666666,
             "#ed7953"
            ],
            [
             0.7777777777777778,
             "#fb9f3a"
            ],
            [
             0.8888888888888888,
             "#fdca26"
            ],
            [
             1,
             "#f0f921"
            ]
           ],
           "sequentialminus": [
            [
             0,
             "#0d0887"
            ],
            [
             0.1111111111111111,
             "#46039f"
            ],
            [
             0.2222222222222222,
             "#7201a8"
            ],
            [
             0.3333333333333333,
             "#9c179e"
            ],
            [
             0.4444444444444444,
             "#bd3786"
            ],
            [
             0.5555555555555556,
             "#d8576b"
            ],
            [
             0.6666666666666666,
             "#ed7953"
            ],
            [
             0.7777777777777778,
             "#fb9f3a"
            ],
            [
             0.8888888888888888,
             "#fdca26"
            ],
            [
             1,
             "#f0f921"
            ]
           ]
          },
          "colorway": [
           "#636efa",
           "#EF553B",
           "#00cc96",
           "#ab63fa",
           "#FFA15A",
           "#19d3f3",
           "#FF6692",
           "#B6E880",
           "#FF97FF",
           "#FECB52"
          ],
          "font": {
           "color": "#2a3f5f"
          },
          "geo": {
           "bgcolor": "white",
           "lakecolor": "white",
           "landcolor": "#E5ECF6",
           "showlakes": true,
           "showland": true,
           "subunitcolor": "white"
          },
          "hoverlabel": {
           "align": "left"
          },
          "hovermode": "closest",
          "mapbox": {
           "style": "light"
          },
          "paper_bgcolor": "white",
          "plot_bgcolor": "#E5ECF6",
          "polar": {
           "angularaxis": {
            "gridcolor": "white",
            "linecolor": "white",
            "ticks": ""
           },
           "bgcolor": "#E5ECF6",
           "radialaxis": {
            "gridcolor": "white",
            "linecolor": "white",
            "ticks": ""
           }
          },
          "scene": {
           "xaxis": {
            "backgroundcolor": "#E5ECF6",
            "gridcolor": "white",
            "gridwidth": 2,
            "linecolor": "white",
            "showbackground": true,
            "ticks": "",
            "zerolinecolor": "white"
           },
           "yaxis": {
            "backgroundcolor": "#E5ECF6",
            "gridcolor": "white",
            "gridwidth": 2,
            "linecolor": "white",
            "showbackground": true,
            "ticks": "",
            "zerolinecolor": "white"
           },
           "zaxis": {
            "backgroundcolor": "#E5ECF6",
            "gridcolor": "white",
            "gridwidth": 2,
            "linecolor": "white",
            "showbackground": true,
            "ticks": "",
            "zerolinecolor": "white"
           }
          },
          "shapedefaults": {
           "line": {
            "color": "#2a3f5f"
           }
          },
          "ternary": {
           "aaxis": {
            "gridcolor": "white",
            "linecolor": "white",
            "ticks": ""
           },
           "baxis": {
            "gridcolor": "white",
            "linecolor": "white",
            "ticks": ""
           },
           "bgcolor": "#E5ECF6",
           "caxis": {
            "gridcolor": "white",
            "linecolor": "white",
            "ticks": ""
           }
          },
          "title": {
           "x": 0.05
          },
          "xaxis": {
           "automargin": true,
           "gridcolor": "white",
           "linecolor": "white",
           "ticks": "",
           "title": {
            "standoff": 15
           },
           "zerolinecolor": "white",
           "zerolinewidth": 2
          },
          "yaxis": {
           "automargin": true,
           "gridcolor": "white",
           "linecolor": "white",
           "ticks": "",
           "title": {
            "standoff": 15
           },
           "zerolinecolor": "white",
           "zerolinewidth": 2
          }
         }
        },
        "xaxis": {
         "anchor": "y",
         "constrain": "domain",
         "domain": [
          0,
          1
         ],
         "scaleanchor": "y"
        },
        "yaxis": {
         "anchor": "x",
         "autorange": "reversed",
         "constrain": "domain",
         "domain": [
          0,
          1
         ]
        }
       }
      }
     },
     "metadata": {},
     "output_type": "display_data"
    }
   ],
   "source": [
    "acc = accuracy_score(y_true=test_targets, y_pred=predictions)\n",
    "accuracy = round(acc*100, 2)\n",
    "\n",
    "print(f\"The accuracy is {accuracy}%\")\n",
    "\n",
    "f1 = f1_score(y_true=test_targets, y_pred=predictions, average=\"macro\")\n",
    "f1 = round(f1*100, 2)\n",
    "\n",
    "print(f\"The F1-Score is {f1}%\")\n",
    "\n",
    "print(classification_report(y_true=test_targets, y_pred=predictions, digits=4))\n",
    "\n",
    "conf_matrix = confusion_matrix(y_true=test_targets, y_pred=predictions)\n",
    "px.imshow(conf_matrix, color_continuous_scale=\"turbo\")"
   ]
  },
  {
   "cell_type": "markdown",
   "metadata": {},
   "source": [
    "# Saving the model"
   ]
  },
  {
   "cell_type": "code",
   "execution_count": 9,
   "metadata": {},
   "outputs": [],
   "source": [
    "with open(\"models/express_decision_tree\", \"wb\") as f:\n",
    "    pickle.dump(rf_model, f)"
   ]
  }
 ],
 "metadata": {
  "kernelspec": {
   "display_name": "Python 3.8.8 ('kotoamatsukami-T53X9OZe-py3.8')",
   "language": "python",
   "name": "python3"
  },
  "language_info": {
   "codemirror_mode": {
    "name": "ipython",
    "version": 3
   },
   "file_extension": ".py",
   "mimetype": "text/x-python",
   "name": "python",
   "nbconvert_exporter": "python",
   "pygments_lexer": "ipython3",
   "version": "3.8.8"
  },
  "orig_nbformat": 4,
  "vscode": {
   "interpreter": {
    "hash": "a51161d7ba46dd3dbd9fc8c6bd348fb23b578d1cf3ae09598f24443a1428645a"
   }
  }
 },
 "nbformat": 4,
 "nbformat_minor": 2
}
